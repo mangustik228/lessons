{
 "cells": [
  {
   "cell_type": "markdown",
   "metadata": {},
   "source": [
    "### Замыкания (часть первая)"
   ]
  },
  {
   "cell_type": "markdown",
   "metadata": {},
   "source": [
    "Замыканием называется такая ситуация когда вложенная функция пользуется переменными не объявленными в ее теле  \n",
    "Замыкание — это особый вид функции. Она определена в теле другой функции и создаётся каждый раз во время её выполнения."
   ]
  },
  {
   "cell_type": "code",
   "execution_count": 6,
   "metadata": {},
   "outputs": [
    {
     "name": "stdout",
     "output_type": "stream",
     "text": [
      "hello world\n"
     ]
    },
    {
     "data": {
      "text/plain": [
       "<function __main__.main_func.<locals>.inner_func()>"
      ]
     },
     "execution_count": 6,
     "metadata": {},
     "output_type": "execute_result"
    }
   ],
   "source": [
    "def main_func():\n",
    "\n",
    "    def inner_func():  # Вложенная функция\n",
    "        print('hello world')\n",
    "    # Возвращаем вложенную функцию(важно что не значение которок возвращает а именно функцию)\n",
    "    return inner_func\n",
    "\n",
    "\n",
    "a = main_func()  # После этого ссылается уже на функцию и по сути сама переменная становится функцией\n",
    "a()\n",
    "a\n"
   ]
  },
  {
   "cell_type": "code",
   "execution_count": 14,
   "metadata": {},
   "outputs": [
    {
     "name": "stdout",
     "output_type": "stream",
     "text": [
      "hello world Serega\n",
      "hello world Vasya\n"
     ]
    },
    {
     "data": {
      "text/plain": [
       "<function __main__.main_func.<locals>.inner_func()>"
      ]
     },
     "execution_count": 14,
     "metadata": {},
     "output_type": "execute_result"
    }
   ],
   "source": [
    "def main_func(value):\n",
    "    name = value\n",
    "\n",
    "    def inner_func():\n",
    "        # Тут функция будет находить переменную в родительской функции\n",
    "        print('hello world', name)\n",
    "    return inner_func\n",
    "\n",
    "\n",
    "b = main_func('Serega')\n",
    "b()  # Получается что тут переменная уже связан с именем Серега\n",
    "v = main_func('Vasya')  # Получается что создалось две области видиммости\n",
    "v()\n",
    "b\n"
   ]
  },
  {
   "cell_type": "code",
   "execution_count": 25,
   "metadata": {},
   "outputs": [
    {
     "name": "stdout",
     "output_type": "stream",
     "text": [
      "hello world Leha\n"
     ]
    },
    {
     "data": {
      "text/plain": [
       "<function __main__.main_func.<locals>.inner_func()>"
      ]
     },
     "execution_count": 25,
     "metadata": {},
     "output_type": "execute_result"
    }
   ],
   "source": [
    "def main_func(name):  # Стоит отметить что тут убрали присвоение name в теле функции\n",
    "    def inner_func():\n",
    "        # Тут функция будет находить переменную в родительской функции\n",
    "        print('hello world', name)\n",
    "    return inner_func\n",
    "\n",
    "\n",
    "g = main_func('Leha')\n",
    "g()\n",
    "g\n"
   ]
  },
  {
   "cell_type": "code",
   "execution_count": 27,
   "metadata": {},
   "outputs": [
    {
     "data": {
      "text/plain": [
       "<function __main__.adder.<locals>.inner(a)>"
      ]
     },
     "execution_count": 27,
     "metadata": {},
     "output_type": "execute_result"
    }
   ],
   "source": [
    "def adder(value):\n",
    "    def inner(a):\n",
    "        return value+a\n",
    "    return inner\n",
    "\n",
    "a2 = adder(2)\n",
    "a2"
   ]
  },
  {
   "cell_type": "code",
   "execution_count": 28,
   "metadata": {},
   "outputs": [
    {
     "data": {
      "text/plain": [
       "7"
      ]
     },
     "execution_count": 28,
     "metadata": {},
     "output_type": "execute_result"
    }
   ],
   "source": [
    "a2(5)"
   ]
  },
  {
   "cell_type": "code",
   "execution_count": 30,
   "metadata": {},
   "outputs": [
    {
     "name": "stdout",
     "output_type": "stream",
     "text": [
      "1\n",
      "2\n",
      "3\n",
      "4\n"
     ]
    }
   ],
   "source": [
    "def counter():\n",
    "    count = 0\n",
    "\n",
    "    def inner():\n",
    "        nonlocal count  # nonlocal указывает что ссылаемся не на локальную перенную\n",
    "        count += 1  # Также необходима чтоб переменную можно изменяь в другой области видимости\n",
    "        return count\n",
    "\n",
    "    return inner\n",
    "\n",
    "c = counter()\n",
    "print(c())  # получается каждый раз вызывая одну функцию, мы меняем count\n",
    "print(c())\n",
    "print(c())\n",
    "print(c())\n"
   ]
  },
  {
   "cell_type": "code",
   "execution_count": null,
   "metadata": {},
   "outputs": [],
   "source": []
  },
  {
   "cell_type": "markdown",
   "metadata": {},
   "source": [
    "### Замыкание (часть два)"
   ]
  },
  {
   "cell_type": "code",
   "execution_count": 8,
   "metadata": {},
   "outputs": [
    {
     "name": "stdout",
     "output_type": "stream",
     "text": [
      "[5]\n",
      "5.0\n",
      "[5, 3]\n",
      "4.0\n",
      "[5, 3, 8]\n",
      "5.333333333333333\n"
     ]
    }
   ],
   "source": [
    "def average_numbers():\n",
    "    numbers = []\n",
    "\n",
    "    def inner(number):\n",
    "        numbers.append(number)\n",
    "        print(numbers)\n",
    "        return sum(numbers) / len(numbers)\n",
    "    return inner\n",
    "\n",
    "r1 = average_numbers()\n",
    "print(r1(5))\n",
    "print(r1(3))\n",
    "print(r1(8))\n"
   ]
  },
  {
   "cell_type": "code",
   "execution_count": 38,
   "metadata": {},
   "outputs": [
    {
     "name": "stdout",
     "output_type": "stream",
     "text": [
      "[5, 3, 10]\n",
      "[100]\n"
     ]
    },
    {
     "data": {
      "text/plain": [
       "100.0"
      ]
     },
     "execution_count": 38,
     "metadata": {},
     "output_type": "execute_result"
    }
   ],
   "source": [
    "r1(10)\n",
    "d2 = average_numbers()\n",
    "d2(100)"
   ]
  },
  {
   "cell_type": "code",
   "execution_count": 43,
   "metadata": {},
   "outputs": [
    {
     "name": "stdout",
     "output_type": "stream",
     "text": [
      "summa = 10 | count = 1 | mean = 10.0\n",
      "summa = 15 | count = 2 | mean = 7.5\n",
      "summa = 37 | count = 3 | mean = 12.333333333333334\n"
     ]
    },
    {
     "data": {
      "text/plain": [
       "12.333333333333334"
      ]
     },
     "execution_count": 43,
     "metadata": {},
     "output_type": "execute_result"
    }
   ],
   "source": [
    "def average_numbers_v2():\n",
    "    summa = 0\n",
    "    count = 0\n",
    "\n",
    "    def inner(number):\n",
    "        nonlocal summa\n",
    "        nonlocal count\n",
    "        summa += number\n",
    "        count += 1\n",
    "        print(f'summa = {summa} | count = {count} | mean = {summa/count}')\n",
    "        return summa/count\n",
    "    return inner\n",
    "\n",
    "\n",
    "d1 = average_numbers_v2()\n",
    "d1(10)\n",
    "d1(5)\n",
    "d1(22)\n"
   ]
  },
  {
   "cell_type": "code",
   "execution_count": 24,
   "metadata": {},
   "outputs": [
    {
     "name": "stdout",
     "output_type": "stream",
     "text": [
      "0:00:00\n"
     ]
    }
   ],
   "source": [
    "from datetime import datetime\n",
    "\n",
    "\n",
    "def timer():\n",
    "    start = datetime.now()\n",
    "\n",
    "    def counting():\n",
    "        return (datetime.now() - start)\n",
    "\n",
    "    return counting\n",
    "\n",
    "\n",
    "t1 = timer()\n",
    "c = 0\n",
    "for i in range(5):\n",
    "    c += i\n",
    "print(t1())\n"
   ]
  },
  {
   "cell_type": "code",
   "execution_count": 25,
   "metadata": {},
   "outputs": [
    {
     "name": "stdout",
     "output_type": "stream",
     "text": [
      "0:00:00.730642\n"
     ]
    }
   ],
   "source": [
    "print(t1())"
   ]
  },
  {
   "cell_type": "code",
   "execution_count": 27,
   "metadata": {},
   "outputs": [],
   "source": [
    "from time import perf_counter"
   ]
  },
  {
   "cell_type": "code",
   "execution_count": 28,
   "metadata": {},
   "outputs": [],
   "source": [
    "def timer_v2():\n",
    "    start = perf_counter()\n",
    "\n",
    "    def inner():\n",
    "        return perf_counter() - start\n",
    "    return inner\n",
    "\n",
    "\n",
    "t2 = timer_v2()\n"
   ]
  },
  {
   "cell_type": "code",
   "execution_count": 31,
   "metadata": {},
   "outputs": [
    {
     "data": {
      "text/plain": [
       "3.2743083000000297"
      ]
     },
     "execution_count": 31,
     "metadata": {},
     "output_type": "execute_result"
    }
   ],
   "source": [
    "t2()"
   ]
  },
  {
   "cell_type": "code",
   "execution_count": 34,
   "metadata": {},
   "outputs": [
    {
     "data": {
      "text/plain": [
       "2.9900000072302646e-05"
      ]
     },
     "execution_count": 34,
     "metadata": {},
     "output_type": "execute_result"
    }
   ],
   "source": [
    "def timer_v2():\n",
    "    now = perf_counter()\n",
    "\n",
    "    def inner():\n",
    "        nonlocal now\n",
    "        time = perf_counter() - now\n",
    "        now = perf_counter()\n",
    "        return time\n",
    "    return inner\n",
    "\n",
    "\n",
    "t2 = timer_v2()\n",
    "t2()"
   ]
  },
  {
   "cell_type": "code",
   "execution_count": 38,
   "metadata": {},
   "outputs": [
    {
     "data": {
      "text/plain": [
       "1.9999760000000606"
      ]
     },
     "execution_count": 38,
     "metadata": {},
     "output_type": "execute_result"
    }
   ],
   "source": [
    "t2()"
   ]
  },
  {
   "cell_type": "code",
   "execution_count": 74,
   "metadata": {},
   "outputs": [
    {
     "data": {
      "text/plain": [
       "3.250231600002735"
      ]
     },
     "execution_count": 74,
     "metadata": {},
     "output_type": "execute_result"
    }
   ],
   "source": [
    "t2()\n",
    "c = 1\n",
    "for i in range(1, 100001):\n",
    "    c *= i\n",
    "# print(c)\n",
    "t2()"
   ]
  },
  {
   "cell_type": "code",
   "execution_count": 81,
   "metadata": {},
   "outputs": [
    {
     "name": "stdout",
     "output_type": "stream",
     "text": [
      "функция add вызывалась 1 раз 30\n",
      "функция add вызывалась 2 раз 40\n",
      "функция mult вызывалась 1 раз 6000\n",
      "функция mult вызывалась 2 раз 105\n"
     ]
    },
    {
     "data": {
      "text/plain": [
       "105"
      ]
     },
     "execution_count": 81,
     "metadata": {},
     "output_type": "execute_result"
    }
   ],
   "source": [
    "def add(a, b):\n",
    "    return a+b\n",
    "\n",
    "def mult(a, b, c):\n",
    "    return a*b*c\n",
    "\n",
    "def counter(func):\n",
    "    count = 0\n",
    "\n",
    "    def inner(*args, **kwargs):\n",
    "        nonlocal count\n",
    "        count += 1\n",
    "        print(f'функция {func.__name__} вызывалась {count} раз {func(*args, **kwargs)}')\n",
    "        return func(*args, **kwargs)\n",
    "    return inner\n",
    "\n",
    "\n",
    "c1 = counter(add)\n",
    "c1(10, 20)\n",
    "c1(10, 30)\n",
    "d1 = counter(mult)\n",
    "d1(10, 20, 30)\n",
    "d1(3, 5, 7)\n"
   ]
  },
  {
   "cell_type": "code",
   "execution_count": 75,
   "metadata": {},
   "outputs": [
    {
     "data": {
      "text/plain": [
       "'abs'"
      ]
     },
     "execution_count": 75,
     "metadata": {},
     "output_type": "execute_result"
    }
   ],
   "source": [
    "abs.__name__  # Переменная что получить имя функции"
   ]
  },
  {
   "cell_type": "markdown",
   "metadata": {},
   "source": [
    "### Декораторы"
   ]
  },
  {
   "cell_type": "markdown",
   "metadata": {},
   "source": [
    "Определение декоратора : это функция которое принимает функцию и возращает функцию  \n",
    "Декораторы нужны чтоб функции добавилось новое поведение или новый функционал"
   ]
  },
  {
   "cell_type": "code",
   "execution_count": 97,
   "metadata": {},
   "outputs": [
    {
     "name": "stdout",
     "output_type": "stream",
     "text": [
      "<function decorator.<locals>.inner at 0x000002A290D73E50>\n",
      "start decorator: ...\n",
      "hello world\n",
      "finish decorator: ...\n",
      "\n",
      "А тут мы подменяем уже функцию say но новую!!!:\n",
      "start decorator: ...\n",
      "hello world\n",
      "finish decorator: ...\n"
     ]
    }
   ],
   "source": [
    "def decorator(func):\n",
    "\n",
    "    # при использование декоратора, завести за правило использовать *args & **kwargs\n",
    "    def inner(*args, **kwargs):\n",
    "        print('start decorator: ...')\n",
    "        func(*args, **kwargs)\n",
    "        print('finish decorator: ...')\n",
    "    return inner\n",
    "\n",
    "\n",
    "def say():\n",
    "    print('hello world')\n",
    "\n",
    "\n",
    "d = decorator(say)\n",
    "print(d)\n",
    "d()\n",
    "print()\n",
    "print('А тут мы подменяем уже функцию say но новую!!!:')\n",
    "say = decorator(say)\n",
    "say()\n"
   ]
  },
  {
   "cell_type": "code",
   "execution_count": 89,
   "metadata": {},
   "outputs": [
    {
     "name": "stdout",
     "output_type": "stream",
     "text": [
      "start decorator: ...\n",
      "buy world\n",
      "finish decorator: ...\n"
     ]
    }
   ],
   "source": [
    "def decorator(func):\n",
    "    \n",
    "    def inner():\n",
    "        print('start decorator: ...')\n",
    "        func()\n",
    "        print('finish decorator: ...')\n",
    "    return inner\n",
    "\n",
    "def say():\n",
    "    print('hello world')\n",
    "    \n",
    "def buy():\n",
    "    print('buy world')\n",
    "    \n",
    "new_buy = decorator(buy)\n",
    "new_buy()"
   ]
  },
  {
   "cell_type": "code",
   "execution_count": 95,
   "metadata": {},
   "outputs": [
    {
     "name": "stdout",
     "output_type": "stream",
     "text": [
      "start decorator: ...\n",
      "hello Leha\n",
      "finish decorator: ...\n"
     ]
    }
   ],
   "source": [
    "def decorator(func):\n",
    "    \n",
    "    def inner(*args, **kwargs):\n",
    "        print('start decorator: ...')\n",
    "        func(*args, **kwargs)\n",
    "        print('finish decorator: ...')\n",
    "    return inner\n",
    "\n",
    "def say(name):\n",
    "    print('hello', name)\n",
    "    \n",
    "new_say = decorator(say)\n",
    "new_say('Leha')"
   ]
  },
  {
   "cell_type": "code",
   "execution_count": 4,
   "metadata": {},
   "outputs": [
    {
     "name": "stdout",
     "output_type": "stream",
     "text": [
      "<table>\n",
      "<h1>\n",
      "Здесь какой то текст, который надо обернуть\n",
      "</h1>\n",
      "</table>\n"
     ]
    }
   ],
   "source": [
    "def header(func):\n",
    "    \n",
    "    def inner(*args, **kwargs):\n",
    "        print('<h1>')\n",
    "        func(*args, **kwargs)\n",
    "        print('</h1>')\n",
    "    return inner\n",
    "\n",
    "\n",
    "def table(func):\n",
    "    \n",
    "    def inner(*args, **kwargs):\n",
    "        print('<table>')\n",
    "        func(*args, **kwargs)\n",
    "        print('</table>')\n",
    "    return inner\n",
    "\n",
    "def print_text(text):\n",
    "    print(text)\n",
    "\n",
    "print_text = table(header(print_text))\n",
    "print_text('Здесь какой то текст, который надо обернуть')"
   ]
  },
  {
   "cell_type": "markdown",
   "metadata": {},
   "source": [
    "Но правильнее это записать:"
   ]
  },
  {
   "cell_type": "code",
   "execution_count": null,
   "metadata": {},
   "outputs": [
    {
     "name": "stdout",
     "output_type": "stream",
     "text": [
      "<table>\n",
      "<h1>\n",
      "Новый текст\n",
      "</h1>\n",
      "</table>\n"
     ]
    }
   ],
   "source": [
    "@table\n",
    "@header\n",
    "def print_text(text):\n",
    "    print(text)\n",
    "    \n",
    "print_text('Новый текст')\n"
   ]
  },
  {
   "cell_type": "markdown",
   "metadata": {},
   "source": [
    "Возникает проблема потери оригинальной функции и ее документации  \n",
    "Первый вариант решения проблемы:"
   ]
  },
  {
   "cell_type": "code",
   "execution_count": null,
   "metadata": {},
   "outputs": [],
   "source": [
    "def header(func):\n",
    "    \n",
    "    def inner(*args, **kwargs):\n",
    "        print('<h1>')\n",
    "        func(*args, **kwargs)\n",
    "        print('</h1>')\n",
    "        \n",
    "    inner.__name__ = func.__name__ # подменяем, чтоб сохранить имя и документацию\n",
    "    inner.__func__ = func.__doc__\n",
    "    return inner"
   ]
  },
  {
   "cell_type": "code",
   "execution_count": 41,
   "metadata": {},
   "outputs": [
    {
     "name": "stdout",
     "output_type": "stream",
     "text": [
      "Верх матрёшки 5\n",
      "Верх матрёшки 4\n",
      "Верх матрёшки 3\n",
      "Верх матрёшки 2\n",
      "Матрешка\n",
      "Низ матрёшки 2\n",
      "Низ матрёшки 3\n",
      "Низ матрёшки 4\n",
      "Низ матрёшки 5\n"
     ]
    }
   ],
   "source": [
    "def matreshka(n):\n",
    "    if n == 1:\n",
    "        print('Матрешка')\n",
    "    else:\n",
    "        print(f'Верх матрёшки {n}')\n",
    "        matreshka(n-1)\n",
    "        print(f'Низ матрёшки {n}')\n",
    "        \n",
    "matreshka(5)"
   ]
  },
  {
   "cell_type": "code",
   "execution_count": 48,
   "metadata": {},
   "outputs": [
    {
     "name": "stdout",
     "output_type": "stream",
     "text": [
      "This is name\n",
      "just text\n",
      "it's value: 5\n",
      "Это функция\n"
     ]
    }
   ],
   "source": [
    "class Decorat():\n",
    "    def __init__(self):\n",
    "        self.name = 'This is name'\n",
    "        \n",
    "    def decorat_print(value):\n",
    "        def decor_inside(func):\n",
    "            def inner(*args, **kwargs):\n",
    "                print(args[0].name)\n",
    "                print('just text')\n",
    "                print(\"it's value:\", value)\n",
    "                func(*args, **kwargs)\n",
    "\n",
    "            return inner\n",
    "        return decor_inside\n",
    "    \n",
    "    @decorat_print(5)\n",
    "    def method_first_class(self, text):\n",
    "        print(text)\n",
    "        \n",
    "a = Decorat()\n",
    "a.method_first_class('Это функция')"
   ]
  },
  {
   "cell_type": "code",
   "execution_count": 50,
   "metadata": {},
   "outputs": [
    {
     "name": "stdout",
     "output_type": "stream",
     "text": [
      "B!!!\n",
      "just text\n",
      "it's value: 5\n",
      "Декорированная функция\n"
     ]
    }
   ],
   "source": [
    "class new_class(Decorat):\n",
    "    def __init__(self, name):\n",
    "        self.name = name\n",
    "        \n",
    "b = new_class('B!!!')\n",
    "b.method_first_class('Декорированная функция')"
   ]
  },
  {
   "cell_type": "code",
   "execution_count": null,
   "metadata": {},
   "outputs": [],
   "source": [
    "from functools import wraps # второй вариант решения проблемы. использования декоратора wraps\n",
    "\n",
    "def header(func):\n",
    "    \n",
    "    @wraps(func) # Декорируем декорируемую функцию)\n",
    "    def inner(*args, **kwargs):\n",
    "        print('<h1>')\n",
    "        func(*args, **kwargs)\n",
    "        print('</h1>')\n",
    "\n",
    "    return inner"
   ]
  },
  {
   "cell_type": "markdown",
   "metadata": {},
   "source": [
    "поставил на паузу, пошел смотреть про `args` и `kwargs`  \n",
    "[ссылка на видео 6.47](https://www.youtube.com/watch?v=Va-ovLxHmus)"
   ]
  }
 ],
 "metadata": {
  "interpreter": {
   "hash": "b1a8b63bdf27559490c16144d51d3a6902ecbd7b7872de05b273d065c9a99ab9"
  },
  "kernelspec": {
   "display_name": "Python 3.10.0 64-bit",
   "language": "python",
   "name": "python3"
  },
  "language_info": {
   "codemirror_mode": {
    "name": "ipython",
    "version": 3
   },
   "file_extension": ".py",
   "mimetype": "text/x-python",
   "name": "python",
   "nbconvert_exporter": "python",
   "pygments_lexer": "ipython3",
   "version": "3.9.7"
  },
  "orig_nbformat": 4
 },
 "nbformat": 4,
 "nbformat_minor": 2
}
