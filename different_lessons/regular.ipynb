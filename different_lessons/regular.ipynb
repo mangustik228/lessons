{
 "cells": [
  {
   "cell_type": "markdown",
   "metadata": {},
   "source": [
    "## Дополнительные уроки по Python"
   ]
  },
  {
   "cell_type": "markdown",
   "metadata": {},
   "source": [
    "### Регулярные выражения"
   ]
  },
  {
   "cell_type": "markdown",
   "metadata": {},
   "source": [
    "[урок на ютуб](https://www.youtube.com/watch?v=pXgWcTwECAg) для журналистов)))  \n",
    "надо создать шаблон по которому ищем и передать строчку в которой ищем"
   ]
  },
  {
   "cell_type": "code",
   "execution_count": 3,
   "metadata": {},
   "outputs": [],
   "source": [
    "import re"
   ]
  },
  {
   "cell_type": "code",
   "execution_count": 15,
   "metadata": {},
   "outputs": [
    {
     "name": "stdout",
     "output_type": "stream",
     "text": [
      "<class 're.Match'>\n"
     ]
    },
    {
     "data": {
      "text/plain": [
       "<re.Match object; span=(0, 3), match='суд'>"
      ]
     },
     "execution_count": 15,
     "metadata": {},
     "output_type": "execute_result"
    }
   ],
   "source": [
    "result = re.match(r'суд', s)  # метод которой ищет по заданному шаблону в начале строки (r'суд') - это как раз шаблон, вернет строку\n",
    "print(type(result))\n",
    "result"
   ]
  },
  {
   "cell_type": "code",
   "execution_count": 16,
   "metadata": {},
   "outputs": [
    {
     "name": "stdout",
     "output_type": "stream",
     "text": [
      "суд\n",
      "приговор\n",
      "['суд', 'суд']\n"
     ]
    }
   ],
   "source": [
    "s = 'суд приговор суд приговор выпил' #строчка которую передадим\n",
    "result = re.match(r'суд', s)  # метод которой ищет по заданному шаблону в начале строки (r'суд') - это как раз шаблон, вернет строку\n",
    "print(result.group(0))\n",
    "# result = re.match(r'приговор', s)  # в данном случае не найдет т.к. не начало строки\n",
    "# print(result.group(0))\n",
    "result = re.search(r'приговор', s) # здесь ищет первое вхождение (вернет строку)\n",
    "print(result.group(0))\n",
    "result = re.findall(r'суд', s) # здесь ищет все (вернет список)\n",
    "print(result)"
   ]
  },
  {
   "cell_type": "code",
   "execution_count": 20,
   "metadata": {},
   "outputs": [
    {
     "data": {
      "text/plain": [
       "'Судья по Нагатинскому району Иванова А.А. вынесли обвинительный приговор'"
      ]
     },
     "execution_count": 20,
     "metadata": {},
     "output_type": "execute_result"
    }
   ],
   "source": [
    "s = 'Судья по Нагатинскому району Иванова А.А. вынесли оправдательный приговор'\n",
    "result = re.sub('оправдательный', 'обвинительный', s)  # Замена методом sub\n",
    "result"
   ]
  },
  {
   "cell_type": "code",
   "execution_count": 27,
   "metadata": {},
   "outputs": [
    {
     "data": {
      "text/plain": [
       "['Иванова А.А.']"
      ]
     },
     "execution_count": 27,
     "metadata": {},
     "output_type": "execute_result"
    }
   ],
   "source": [
    "s = 'Судья по Нагатинскому району Иванова А.А. вынесли оправдательный приговор'\n",
    "pattern = r'\\w' # Шаблон для поиска (в данном случае написано для поиска любой буквы)\n",
    "pattern = r'\\w+' # Шаблон для поиска (в данном случае написано для слов целиком, пока не столкнется с пробелом)\n",
    "pattern = r'\\w+\\s'  # \\s слово после которого есть пробел\n",
    "pattern = r'\\w+\\s[А-ЯЁ,а-яё]{1}'  # [А-ЯЁ,а-яё] - указание что идут буквы(ё отдельно0), фигурные скобки - для количества букв\n",
    "pattern = r'\\w+\\s[А-ЯЁ,а-яё]{1}\\.'  # \\. - точка которую надо экранировать \n",
    "pattern = r'\\w+\\s[А-ЯЁ,а-яё]{1}\\.\\s*'  # \\s* - пробел который может присутствовать, а может не присутствовать \n",
    "pattern = r'\\w+\\s[А-ЯЁ,а-яё]{1}\\.\\s*[А-ЯЁ,а-яё]{1}\\.'  # \\s* - точка которую надо экранировать \n",
    "# В идеале заменить в начале \\w на алфавит как в инициалах, чтоб не находило какие то стремные слепные вещи\n",
    "\n",
    "name = re.findall(pattern, s)\n",
    "name"
   ]
  },
  {
   "cell_type": "code",
   "execution_count": 36,
   "metadata": {},
   "outputs": [
    {
     "data": {
      "text/plain": [
       "'сроком на 10 (десять) лет и 6 месяц'"
      ]
     },
     "execution_count": 36,
     "metadata": {},
     "output_type": "execute_result"
    }
   ],
   "source": [
    "s = 'назначить наказания в виде лишения свободы сроком на 10 (десять) лет и 6 месяцев'\n",
    "pattern = r'сроком на\\s*(.+) лет' # (.+) какой то символ(ы)\n",
    "pattern = r'сроком на\\s*(.+) лет.{,10}месяц' # .{,10} - не более 10 символов между \n",
    "pattern = r'сроком на\\s*(.+) (лет)*.{,10}месяц' # (лет)* - может быть а может и не быть \n",
    "pattern = r'сроком на\\s*(.+) (лет)*.({,10}месяц)*' # ( *** )* - добавили, чтоб часть была не обязательной \n",
    "result = re.search(pattern, s)\n",
    "result = result.group(0)\n",
    " "
   ]
  },
  {
   "cell_type": "code",
   "execution_count": 53,
   "metadata": {},
   "outputs": [
    {
     "data": {
      "text/plain": [
       "'df@sdf.com'"
      ]
     },
     "execution_count": 53,
     "metadata": {},
     "output_type": "execute_result"
    }
   ],
   "source": [
    "# Нахождение email адресов в тексте \n",
    "text = 'akdslfj klfdjs df@sdf.com'\n",
    "pattern = r'(([a-z0-9._%-]+))'  # Ищем символы алфавит, нижн.подчеркивание, дефис, процент и т.п.\n",
    "pattern = r'(([a-z0-9._%-]+)@)'  # Добавили собаку\n",
    "pattern = r'([a-z0-9._%-]+)@([a-z0-9._%-]+)'  # Опять какие то символы\n",
    "pattern = r'([a-z0-9._%-]+)@([a-z0-9._%-]+)\\.'  # Добавили точку\n",
    "pattern = r'([a-z0-9._%-]+)@([a-z0-9._%-]+)\\.([a-z]{2,})'  # И опять какие то символы, которых не меньше двух\n",
    "result = re.search(pattern, text)\n",
    "result = result.group(0)\n",
    "result\n",
    "\n"
   ]
  }
 ],
 "metadata": {
  "interpreter": {
   "hash": "19cd9e144062e1d74c30cc190641decf8dc4a282609cf1d935fcd87d48aceed2"
  },
  "kernelspec": {
   "display_name": "Python 3.9.7 64-bit ('base': conda)",
   "language": "python",
   "name": "python3"
  },
  "language_info": {
   "codemirror_mode": {
    "name": "ipython",
    "version": 3
   },
   "file_extension": ".py",
   "mimetype": "text/x-python",
   "name": "python",
   "nbconvert_exporter": "python",
   "pygments_lexer": "ipython3",
   "version": "3.9.7"
  },
  "orig_nbformat": 4
 },
 "nbformat": 4,
 "nbformat_minor": 2
}
