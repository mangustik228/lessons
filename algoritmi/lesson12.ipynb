{
 "cells": [
  {
   "cell_type": "markdown",
   "metadata": {},
   "source": [
    "### Лекция 12"
   ]
  },
  {
   "cell_type": "markdown",
   "metadata": {},
   "source": [
    "Редакционное расстояние между строками - расстояние Ливенштейна  \n",
    "допустим есть:  \n",
    "A = `['к','о','л','о','к','о','л']`   \n",
    "B = `['м','о','л','о','к','о'] `  \n",
    "**Вопрос:** Сколько надо совершить арфаграфических опечаток, чтоб `A -> B ` \n",
    "Ошибки:  \n",
    "1. перепутали символ\n",
    "2. вставили лишний символ\n",
    "3. потеряли нужный символ\n"
   ]
  },
  {
   "cell_type": "markdown",
   "metadata": {},
   "source": [
    "Вводим функцию  \n",
    "$F_{ij}$ - минимальное редакционное расстояние между срезами строк `A[0:i]` и `B[0:j]`  \n",
    "Ответ будет когда узнаем $F_{NM}$"
   ]
  },
  {
   "cell_type": "markdown",
   "metadata": {},
   "source": [
    "Если последние символы совпадают:  \n",
    "$$\n",
    "    A[:i] = \\alpha_{1}, \\alpha_{2}, ... , \\alpha_{n-1}, X \\\\ \n",
    "    B[:j] = \\beta_{1}, \\beta_{2}, ... , \\beta_{n-2}, X \\\\\n",
    "$$\n",
    "\n",
    "Глобально может быть 2 случая:\n",
    "$F_{ij} = \n",
    "    \\begin{cases}\n",
    "        F_{(i-1)(j-1)} \\text{ Если } A_i = B_j \\text{ (Заключительные символы равны) }\\\\\n",
    "        1 + \\min(F_{i(j-1)}, F_{(i-1)j}, F_{(i-1)(j-1)}) \\text{ (Выбираемый минимальное редакционное из посчитанных...)}\\\\\n",
    "    \\end{cases}$\n",
    "Добавляем `1` потому что это ошибка!  \n",
    "Крайний случай, когда \n",
    "$F_{0j} = j, F_{i0} = i$\n",
    "$F_{00} = 0$"
   ]
  },
  {
   "cell_type": "code",
   "execution_count": null,
   "metadata": {},
   "outputs": [],
   "source": []
  },
  {
   "cell_type": "code",
   "execution_count": 82,
   "metadata": {},
   "outputs": [
    {
     "name": "stdout",
     "output_type": "stream",
     "text": [
      "[[0, 1, 2, 3, 4, 5],\n",
      " [1, 0, 0, 0, 0, 0],\n",
      " [2, 0, 0, 0, 0, 0],\n",
      " [3, 0, 0, 0, 0, 0],\n",
      " [4, 0, 0, 0, 0, 0],\n",
      " [5, 0, 0, 0, 0, 0]]\n"
     ]
    },
    {
     "data": {
      "text/plain": [
       "0"
      ]
     },
     "execution_count": 82,
     "metadata": {},
     "output_type": "execute_result"
    }
   ],
   "source": [
    "from pprint import pprint\n",
    "# Вариант Хирьянова, который не фига не работает!\n",
    "def gen_lst(A, B):\n",
    "    for i in range(len(A) + 1):\n",
    "        yield [i+j if i*j == 0 else 0 for j in range(len(B) + 1)]\n",
    "\n",
    "\n",
    "pprint(list(gen_lst('hello', 'world')))\n",
    "\n",
    "def livenstein(A: str, B: str):\n",
    "    # Закомментирован вариант Хирьянова\n",
    "    # F = [[(i+j) if i*j == 0 else 0 for j in range(len(B) + 1)] for i in range(len(A) + 1)]\n",
    "    F = list(gen_lst(A, B))\n",
    "    for i in range(1, len(A) + 1):\n",
    "        for j in range(1, len(B) + 1):\n",
    "            if A[i-1] == B[j-1]: # Если совпадают\n",
    "                F[i][j] = F[i-1][j-1] + 1\n",
    "            else:\n",
    "                F[i][j] = min(F[i][j-1], F[i-1][j], F[i-1][j-1])\n",
    "    return F[len(A)][len(B)]\n",
    "    \n",
    "livenstein('hello', 'world')"
   ]
  },
  {
   "cell_type": "code",
   "execution_count": 83,
   "metadata": {},
   "outputs": [
    {
     "data": {
      "text/plain": [
       "1"
      ]
     },
     "execution_count": 83,
     "metadata": {},
     "output_type": "execute_result"
    }
   ],
   "source": [
    "def my_dist(a, b):\n",
    "    def recursive(i, j):\n",
    "        if i == 0 or j == 0:\n",
    "            # если одна из строк пустая, то расстояние до другой строки - ее длина\n",
    "            # т.е. n вставок\n",
    "            return max(i, j)\n",
    "        elif a[i - 1] == b[j - 1]:\n",
    "            # если оба последних символов одинаковые, то съедаем их оба, не меняя расстояние\n",
    "            return recursive(i - 1, j - 1)\n",
    "        else:\n",
    "            # иначе выбираем минимальный вариант из трех\n",
    "            return 1 + min(\n",
    "                recursive(i, j - 1),  # удаление\n",
    "                recursive(i - 1, j),   # вставка\n",
    "                recursive(i - 1, j - 1)  # замена\n",
    "            )\n",
    "    return recursive(len(a), len(b))\n",
    "\n",
    "my_dist('hello', 'hell1')"
   ]
  },
  {
   "cell_type": "markdown",
   "metadata": {},
   "source": [
    "### Поиск подстроки в строке"
   ]
  },
  {
   "cell_type": "code",
   "execution_count": 84,
   "metadata": {},
   "outputs": [],
   "source": [
    "def search_substring(s, sub):\n",
    "    return [i for i in range(len(s)) if s[i:len(sub)] == sub]"
   ]
  },
  {
   "cell_type": "code",
   "execution_count": 81,
   "metadata": {},
   "outputs": [
    {
     "data": {
      "text/plain": [
       "[0]"
      ]
     },
     "execution_count": 81,
     "metadata": {},
     "output_type": "execute_result"
    }
   ],
   "source": [
    "search_substring('hello world h', 'h')"
   ]
  },
  {
   "cell_type": "code",
   "execution_count": 68,
   "metadata": {},
   "outputs": [
    {
     "name": "stdout",
     "output_type": "stream",
     "text": [
      "{\"id\":3,\"name\":\"Продавец\",\"fineName\":\"Продавец\",\"isUnknown\":true}\n"
     ]
    }
   ],
   "source": [
    "import requests\n",
    "id_seller = 3\n",
    "# id_seller = 277437\n",
    "headers = {\n",
    "'x-requested-with' : 'XMLHttpRequest',\n",
    "}\n",
    "resp_1 = requests.get(f'https://www.wildberries.ru/webapi/seller/data/short/{id_seller}', headers=headers)\n",
    "# resp_2 = requests.get(f'https://catalog.wb.ru/sellers/catalog?appType=1&locale=ru&supplier={id_seller}', headers=headers)\n",
    "# resp_3 = requests.get(f'https://catalog.wb.ru/sellers/v4/filters?appType=1&couponsGeo=2,12,7,3,6,18,22,21&curr=rub&dest=-1075831,-72193,-2725551,12358459&emp=0&lang=ru&locale=ru&pricemarginCoeff=1.0&reg=0&regions=68,64,83,4,38,80,33,70,82,86,30,69,22,66,31,40,1,48&spp=0&supplier={id_seller}')\n",
    "print(resp_1.text)\n",
    "# print(resp_2.text)\n",
    "# print(resp_3.text)\n"
   ]
  },
  {
   "cell_type": "code",
   "execution_count": 50,
   "metadata": {},
   "outputs": [],
   "source": [
    "\n"
   ]
  },
  {
   "cell_type": "code",
   "execution_count": 51,
   "metadata": {},
   "outputs": [
    {
     "name": "stdout",
     "output_type": "stream",
     "text": [
      "{\"id\":553673,\"name\":\"ИП Попов С. В.\",\"fineName\":\"Попов С. В.\",\"ogrn\":\"321435000023075\",\"trademark\":\"ГрадусОК\",\"isUnknown\":false}\n"
     ]
    }
   ],
   "source": [
    "print(resp.text)"
   ]
  },
  {
   "cell_type": "code",
   "execution_count": null,
   "metadata": {},
   "outputs": [],
   "source": []
  }
 ],
 "metadata": {
  "interpreter": {
   "hash": "07b40299ec0395f92dcc48161a1871d4223ab4314b4787c1a801db2d46b400a8"
  },
  "kernelspec": {
   "display_name": "Python 3.10.4 ('py10')",
   "language": "python",
   "name": "python3"
  },
  "language_info": {
   "codemirror_mode": {
    "name": "ipython",
    "version": 3
   },
   "file_extension": ".py",
   "mimetype": "text/x-python",
   "name": "python",
   "nbconvert_exporter": "python",
   "pygments_lexer": "ipython3",
   "version": "3.10.4"
  },
  "orig_nbformat": 4
 },
 "nbformat": 4,
 "nbformat_minor": 2
}
