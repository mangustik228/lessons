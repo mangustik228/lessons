{
 "cells": [
  {
   "attachments": {},
   "cell_type": "markdown",
   "metadata": {},
   "source": [
    "## Базовые комманды"
   ]
  },
  {
   "attachments": {},
   "cell_type": "markdown",
   "metadata": {},
   "source": [
    "**Создание папок**\n",
    "```bash\n",
    "# Создаст файл\n",
    "touch [file_name1 file_name2 file_name3]\n",
    "\n",
    "# Создать директория \n",
    "mkdir [directory_name1]\n",
    "mkdir dir1/dir2\n",
    "mkdir dir1/dir2/dir3\n",
    "\n",
    "# Создать директории сразу \n",
    "mkdir -p dir1/dir2/dir3\n",
    "```"
   ]
  },
  {
   "cell_type": "markdown",
   "metadata": {},
   "source": [
    "### Создание ссылок"
   ]
  },
  {
   "attachments": {},
   "cell_type": "markdown",
   "metadata": {},
   "source": [
    "```bash \n",
    "# Символическая ссылка\n",
    "ln -s [/.../file] [symb_link]\n",
    "# Полная копия файла, причем будет изменяться оригинал\n",
    "ln [file] [new_file]\n",
    "``` "
   ]
  },
  {
   "attachments": {},
   "cell_type": "markdown",
   "metadata": {},
   "source": [
    "### `find`"
   ]
  },
  {
   "attachments": {},
   "cell_type": "markdown",
   "metadata": {},
   "source": [
    "```bash \n",
    "# find [where] -name [what]\n",
    "find ~/ -name \"file.txt\"\n",
    "```"
   ]
  },
  {
   "cell_type": "markdown",
   "metadata": {},
   "source": [
    "### grep"
   ]
  },
  {
   "attachments": {},
   "cell_type": "markdown",
   "metadata": {},
   "source": [
    "```bash \n",
    "# Ищет в файле file.txt строчку file.txt\n",
    "grep hello file.txt\n",
    "\n",
    "# Ищет по регулярному выражению\n",
    "grep -E \"[A-Za-z\\.]@[A-Za-z].[A-Za-z]\" file.txt\n",
    "\n",
    "# Игнорирует регистр букв\n",
    "grep -i hello file.txt\n",
    "```"
   ]
  },
  {
   "cell_type": "markdown",
   "metadata": {},
   "source": [
    "### Потоки"
   ]
  },
  {
   "attachments": {},
   "cell_type": "markdown",
   "metadata": {},
   "source": [
    "```bash\n",
    "# Перенаправляет хорошие и плохие ответы\n",
    "grep something /etc/ > good_response.txt 2> bad_response.txt\n",
    "\n",
    "# Убирет ошибки именно /dev/null !!!\n",
    "grep something [where] 2> /dev/null\n",
    "\n",
    "# Только хорошие ответы в файл\n",
    "grep something [where] > good.txt\n",
    "\n",
    "# Все ответы в файл\n",
    "grep something [where] &> every.txt\n",
    "\n",
    "\n"
   ]
  },
  {
   "attachments": {},
   "cell_type": "markdown",
   "metadata": {},
   "source": [
    "## Права доступа / пользователи"
   ]
  },
  {
   "attachments": {},
   "cell_type": "markdown",
   "metadata": {},
   "source": [
    "**файлы:**\n",
    "\n",
    "- файл `/etc/passwd` - информация о всех пользователях. \n",
    "    - root - super пользователь id = 0, \n",
    "    - служебные пользователи(сервисы: mysql, bin, mail и т.п.)\n",
    "    - обычные (человеки)  \n",
    "  \n",
    "\n",
    "- файл `/etc/group` - информация о группах пользователей\n",
    "\n",
    "\n",
    "- файл  `/etc/shadow` - информация о паролях пользователей (храниться в хэше)\n",
    "\n",
    "- директория `/etc/skel/` - храниться всё что будет скопировано новому user в директорию\n",
    "  "
   ]
  },
  {
   "attachments": {},
   "cell_type": "markdown",
   "metadata": {},
   "source": [
    "**Группы и комманды**\n",
    "Посмотреть к каким группам есть доступ у пользователя:\n",
    "- id [user]\n",
    "\n",
    "Еще полезные команды:   \n",
    "- `who` - кто сейчас на серваке  (можно просто `w`)  \n",
    "- `last` - кто был на серваке не давно   \n",
    "- `su [user]` - зайти под другим user\n",
    "\n",
    "Добавить пользователя в группу: \n",
    "   \n",
    "`sudo usermode -aG [group] [user]`  \n",
    "- флаг `-a` - то что добавить \n",
    "- флаг `G` - то что в группу \n",
    "\n",
    "`chmod 777 file` 4-чтение, 2-запись, 1-редактирование     \n",
    "`chmod o+t file` запрещает стирать файлы не владельцам (добавляется спец. привилегия директории)  \n",
    "`chmod o-t file` убрать запрет (еще вариант `chmod 1777 file`/`chmod 0777 file`)"
   ]
  },
  {
   "attachments": {},
   "cell_type": "markdown",
   "metadata": {},
   "source": [
    "**поменять владельца/группу файла**\n",
    "\n",
    "```bash \n",
    "# поменять владельца файла\n",
    "sudo chown [new_user] [file] \n",
    "\n",
    "# поменять владельца группу \n",
    "sudo chgrp [new_group] [file]\n",
    "```"
   ]
  },
  {
   "attachments": {},
   "cell_type": "markdown",
   "metadata": {},
   "source": [
    "**Создание пользователя**\n",
    "\n",
    "```bash\n",
    "\n",
    "# Запускать с `sudo`\n",
    "adduser [user] -m  # создать пользователя -m(создать ему директорию)\n",
    "passwd [user]      # поставить пароль пользователю\n",
    "userdel -r [user]  # удалить пользователя -r(и его файлы)\n",
    "groupadd [group]   # создать группу\n",
    "groupdel [group]   # удалить группу\n",
    "usermod -aG [group] [user] # добавить пользователя в группу\n",
    "usermod deluser [user] [group] # удалить из группы marketing\n",
    "\n",
    "```"
   ]
  },
  {
   "attachments": {},
   "cell_type": "markdown",
   "metadata": {},
   "source": [
    "## Архивирование"
   ]
  },
  {
   "attachments": {},
   "cell_type": "markdown",
   "metadata": {},
   "source": [
    "**команды**\n",
    "```bash\n",
    "\n",
    "# ВАРИАНТЫ TAR без компрессии\n",
    "# c - create, v-verbose(смотреть что делает/не обязательно), f - file\n",
    "tar cvf [new_tar.tar] [file1 file2 ...]\n",
    "# x - extract, v... , f.... \n",
    "tar xvf [my_tar.tar] [file-1.tar file-2.tar ...]\n",
    "\n",
    "\n",
    "# сжать\n",
    "gzip [file.tar] # .gz \n",
    "bzip [file.tar] # .bz2\n",
    "xz [file.tar]   # .xz\n",
    "\n",
    "# unzip \n",
    "gunzip [file.tar.gz]  # .gz\n",
    "bunzip2 [file.tar.bz] # .bz2\n",
    "unxz [file.tar.xz]    # .xz\n",
    "\n",
    "# `tar` c компрессией xzip\n",
    "tar cvzf [myGZIP.gz] [file1 file2 ...]  # .gz\n",
    "tar cvjf [myBZIP.bz2] [file1 file2 ...] # .bz2\n",
    "tar cvJf [fileXZ.xz] [file1 file2 ...]  # .xz\n",
    "# Посмотреть что внури \n",
    "tar tf [myGZIP.gz]\n",
    "# Распаковать любой скомрессированный\n",
    "tar xvf [file_to_unzip]\n",
    "\n",
    "# zip\n",
    "zip -r [myZip.zip] [  ]\n",
    "# unzip \n",
    "unzip [myZip.zip]\n",
    "\n",
    "```"
   ]
  },
  {
   "attachments": {},
   "cell_type": "markdown",
   "metadata": {},
   "source": [
    "## Память, процессоры, лог-файлы"
   ]
  },
  {
   "attachments": {},
   "cell_type": "markdown",
   "metadata": {},
   "source": [
    "**команды и hotkeys:**\n",
    "когда вызвал `top` :\n",
    "- `shift+P` -> фильтр загрузки проца\n",
    "- `shift+M` -> фильтр по загрузке памяти\n",
    "\n",
    "посмотреть по памяти: `free`  \n",
    "посмотреть активные процессы: `ps`\n",
    "процессы другого пользователя или себя: `ps -u bacek`\n",
    "очень полезная `ps -aux | grep bash` - строки где есть bash"
   ]
  },
  {
   "attachments": {},
   "cell_type": "markdown",
   "metadata": {},
   "source": [
    "## Лог файлы"
   ]
  },
  {
   "attachments": {},
   "cell_type": "markdown",
   "metadata": {},
   "source": [
    "**Где храняться**\n",
    "Храняться все логи `/var/log`  \n",
    "Кроме `dmesg` - лог линуксовского ядра. работает только из командной строки"
   ]
  },
  {
   "attachments": {},
   "cell_type": "markdown",
   "metadata": {},
   "source": [
    "## Сетевые команды"
   ]
  },
  {
   "attachments": {},
   "cell_type": "markdown",
   "metadata": {},
   "source": [
    "**Основные команды**\n",
    "\n",
    "```bash  \n",
    "ifconfig       # Узнать свой ip  \n",
    "ip addr show   # Узнать свой ip (разницы особой нет)\n",
    "route          # Куда пересылать пакеты с разными адресами\n",
    "ping [address] # Пингует(бесконечно)\n",
    "ping [address] -c 4 # Проверить 4 раза \n",
    "host [address] # Информацию по сайту (ip и вроде есть инфа про поддержку ipV6)\n",
    "dig [address]  # Много инфы странной\n",
    "netstat        # Проверить свои порты\n",
    "sudo efw allow 22 # Открыть порт 22 \n",
    "ssh MyLinux    # Подсоединиться к серверу по ssh\n",
    "sudo apt-get install openssh-server # Сервер ssh\n",
    "```"
   ]
  },
  {
   "attachments": {},
   "cell_type": "markdown",
   "metadata": {},
   "source": [
    "## Скачивание файлов / Установка программ"
   ]
  },
  {
   "attachments": {},
   "cell_type": "markdown",
   "metadata": {},
   "source": [
    "**команды** \n",
    "```bash\n",
    "\n",
    "wget [url]      # download file \n",
    "apt-get install # ubuntu/debian\n",
    "apt-get remove  # Удалить\n",
    "dpkg -i [pack]  # i - install,  dpkg-(dep package)\n",
    "dpkg -r [pack]  # remove\n",
    "\n",
    "# На CentOs, rat hot: \n",
    "yum install [file] \n",
    "yum remove [file]\n",
    "rpm -i [pack]\n",
    "rpm -e [pack] # e - erase \n",
    "```"
   ]
  },
  {
   "attachments": {},
   "cell_type": "markdown",
   "metadata": {},
   "source": [
    "**Список репозиториев**  \n",
    "Можно посмотреть разрешенные репозитории по адресу `/ept/apt/sources.list`"
   ]
  },
  {
   "attachments": {},
   "cell_type": "markdown",
   "metadata": {},
   "source": [
    "**мегокрутая команда** \n",
    "```bash     \n",
    "whereis [file] # Где файл"
   ]
  },
  {
   "cell_type": "markdown",
   "metadata": {},
   "source": [
    "## Скрипты bash"
   ]
  },
  {
   "attachments": {},
   "cell_type": "markdown",
   "metadata": {},
   "source": [
    "**Примеры**  \n",
    "Первая строка `#!/bin/bash`  \n",
    "Не забываем поставить `sudo chmode 7... [file]`\n",
    "```bash\n",
    "\n",
    "#!/bin/bash\n",
    "\n",
    "```"
   ]
  },
  {
   "attachments": {},
   "cell_type": "markdown",
   "metadata": {},
   "source": [
    "**Разные команды**\n",
    "```bash \n",
    "xterm             # Запустить терминал\n",
    "myVar=[variable]  # Создание переменной(без пробелов)\n",
    "$0                # Название файла (зарезервированное имя)\n",
    "$1/$2/$3/$4...    # Переданные аргументы\n",
    "echo -n           # Сделать без переноса каретки\n",
    "\n",
    "\n",
    "# Получить данные от пользователя\n",
    "echo \"Write password\" \n",
    "read x \n",
    "\n",
    "# Получить данные от пользователя\n",
    "read -p \"Enter something:\" x \n",
    "\n",
    "```"
   ]
  },
  {
   "attachments": {},
   "cell_type": "markdown",
   "metadata": {},
   "source": [
    "**Ветвление и циклы**\n",
    "см. примеры"
   ]
  }
 ],
 "metadata": {
  "kernelspec": {
   "display_name": "Python 3",
   "language": "python",
   "name": "python3"
  },
  "language_info": {
   "codemirror_mode": {
    "name": "ipython",
    "version": 3
   },
   "file_extension": ".py",
   "mimetype": "text/x-python",
   "name": "python",
   "nbconvert_exporter": "python",
   "pygments_lexer": "ipython3",
   "version": "3.10.6 (main, Nov 14 2022, 16:10:14) [GCC 11.3.0]"
  },
  "orig_nbformat": 4,
  "vscode": {
   "interpreter": {
    "hash": "916dbcbb3f70747c44a77c7bcd40155683ae19c65e1c03b4aa3499c5328201f1"
   }
  }
 },
 "nbformat": 4,
 "nbformat_minor": 2
}
