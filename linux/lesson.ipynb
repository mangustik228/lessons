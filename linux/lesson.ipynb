{
 "cells": [
  {
   "cell_type": "markdown",
   "metadata": {},
   "source": [
    "## Создание файлов"
   ]
  },
  {
   "attachments": {},
   "cell_type": "markdown",
   "metadata": {},
   "source": [
    "\n",
    "```bash\n",
    "# Создаст файл\n",
    "touch [file_name1 file_name2 file_name3]\n",
    "\n",
    "# Создать директория \n",
    "mkdir [directory_name1]\n",
    "mkdir dir1/dir2\n",
    "mkdir dir1/dir2/dir3\n",
    "\n",
    "# Создать директории сразу \n",
    "mkdir -p dir1/dir2/dir3\n",
    "```"
   ]
  },
  {
   "cell_type": "markdown",
   "metadata": {},
   "source": [
    "### Рабочая директория"
   ]
  },
  {
   "cell_type": "code",
   "execution_count": 9,
   "metadata": {},
   "outputs": [
    {
     "name": "stdout",
     "output_type": "stream",
     "text": [
      "rmdir: не удалось удалить 'hello_2': Каталог не пуст\n"
     ]
    }
   ],
   "source": []
  },
  {
   "cell_type": "markdown",
   "metadata": {},
   "source": [
    "### Создание ссылок"
   ]
  },
  {
   "attachments": {},
   "cell_type": "markdown",
   "metadata": {},
   "source": [
    "```bash \n",
    "# Символическая ссылка\n",
    "ln -s [/.../file] [symb_link]\n",
    "# Полная копия файла, причем будет изменяться оригинал\n",
    "ln [file] [new_file]\n",
    "``` "
   ]
  },
  {
   "attachments": {},
   "cell_type": "markdown",
   "metadata": {},
   "source": [
    "### `find`"
   ]
  },
  {
   "attachments": {},
   "cell_type": "markdown",
   "metadata": {},
   "source": [
    "```bash \n",
    "# find [where] -name [what]\n",
    "find ~/ -name \"file.txt\""
   ]
  },
  {
   "cell_type": "markdown",
   "metadata": {},
   "source": [
    "### grep"
   ]
  },
  {
   "attachments": {},
   "cell_type": "markdown",
   "metadata": {},
   "source": [
    "```bash \n",
    "# Ищет в файле file.txt строчку file.txt\n",
    "grep hello file.txt\n",
    "\n",
    "# Ищет по регулярному выражению\n",
    "grep -E \"[A-Za-z\\.]@[A-Za-z].[A-Za-z]\" file.txt\n",
    "\n",
    "# Игнорирует регистр букв\n",
    "grep -i hello file.txt"
   ]
  },
  {
   "cell_type": "markdown",
   "metadata": {},
   "source": [
    "### Потоки"
   ]
  },
  {
   "attachments": {},
   "cell_type": "markdown",
   "metadata": {},
   "source": [
    "```bash\n",
    "# Перенаправляет хорошие и плохие ответы\n",
    "grep something /etc/ > good_response.txt 2> bad_response.txt\n",
    "\n",
    "# Убирет ошибки именно /dev/null !!!\n",
    "grep something [where] 2> /dev/null\n",
    "\n",
    "# Только хорошие ответы в файл\n",
    "grep something [where] > good.txt\n",
    "\n",
    "# Все ответы в файл\n",
    "grep something [where] &> every.txt\n",
    "\n",
    "\n"
   ]
  },
  {
   "attachments": {},
   "cell_type": "markdown",
   "metadata": {},
   "source": [
    "## Права доступа / пользователи"
   ]
  },
  {
   "attachments": {},
   "cell_type": "markdown",
   "metadata": {},
   "source": [
    "- файл `/etc/passwd` - информация о всех пользователях. \n",
    "    - root - super пользователь id = 0, \n",
    "    - служебные пользователи(сервисы: mysql, bin, mail и т.п.)\n",
    "    - обычные (человеки)  \n",
    "  \n",
    "\n",
    "- файл `/etc/group` - информация о группах пользователей\n",
    "\n",
    "\n",
    "- файл  `/etc/shadow` - информация о паролях пользователей (храниться в хэше)\n",
    "  "
   ]
  },
  {
   "attachments": {},
   "cell_type": "markdown",
   "metadata": {},
   "source": [
    "Посмотреть к каким группам есть доступ у пользователя:\n",
    "- id [user]\n",
    "\n",
    "Добавить пользователя в группу: \n",
    "   \n",
    "`sudo usermode -aG [group] [user]`  \n",
    "- флаг `-a` - то что добавить \n",
    "- флаг `G` - то что в группу "
   ]
  },
  {
   "cell_type": "markdown",
   "metadata": {},
   "source": []
  }
 ],
 "metadata": {
  "kernelspec": {
   "display_name": "Python 3",
   "language": "python",
   "name": "python3"
  },
  "language_info": {
   "codemirror_mode": {
    "name": "ipython",
    "version": 3
   },
   "file_extension": ".py",
   "mimetype": "text/x-python",
   "name": "python",
   "nbconvert_exporter": "python",
   "pygments_lexer": "ipython3",
   "version": "3.10.6 (main, Nov 14 2022, 16:10:14) [GCC 11.3.0]"
  },
  "orig_nbformat": 4,
  "vscode": {
   "interpreter": {
    "hash": "916dbcbb3f70747c44a77c7bcd40155683ae19c65e1c03b4aa3499c5328201f1"
   }
  }
 },
 "nbformat": 4,
 "nbformat_minor": 2
}
