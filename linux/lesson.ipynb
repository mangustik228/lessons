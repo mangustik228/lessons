{
 "cells": [
  {
   "attachments": {},
   "cell_type": "markdown",
   "metadata": {},
   "source": [
    "## Базовые комманды"
   ]
  },
  {
   "attachments": {},
   "cell_type": "markdown",
   "metadata": {},
   "source": [
    "**Создание папок**\n",
    "```bash\n",
    "# Создаст файл\n",
    "touch [file_name1 file_name2 file_name3]\n",
    "\n",
    "# Создать директория \n",
    "mkdir [directory_name1]\n",
    "mkdir dir1/dir2\n",
    "mkdir dir1/dir2/dir3\n",
    "\n",
    "# Создать директории сразу \n",
    "mkdir -p dir1/dir2/dir3\n",
    "```"
   ]
  },
  {
   "cell_type": "markdown",
   "metadata": {},
   "source": [
    "### Создание ссылок"
   ]
  },
  {
   "attachments": {},
   "cell_type": "markdown",
   "metadata": {},
   "source": [
    "```bash \n",
    "# Символическая ссылка\n",
    "ln -s [/.../file] [symb_link]\n",
    "# Полная копия файла, причем будет изменяться оригинал\n",
    "ln [file] [new_file]\n",
    "``` "
   ]
  },
  {
   "attachments": {},
   "cell_type": "markdown",
   "metadata": {},
   "source": [
    "### `find`"
   ]
  },
  {
   "attachments": {},
   "cell_type": "markdown",
   "metadata": {},
   "source": [
    "```bash \n",
    "# find [where] -name [what]\n",
    "find ~/ -name \"file.txt\"\n",
    "```"
   ]
  },
  {
   "attachments": {},
   "cell_type": "markdown",
   "metadata": {},
   "source": [
    "### grep, head, tail, more, less"
   ]
  },
  {
   "cell_type": "markdown",
   "metadata": {},
   "source": [
    "grep - global regular expression print"
   ]
  },
  {
   "attachments": {},
   "cell_type": "markdown",
   "metadata": {},
   "source": [
    "```bash \n",
    "# Ищет в файле file.txt строчку file.txt\n",
    "grep hello file.txt\n",
    "\n",
    "# Ищет по регулярному выражению\n",
    "grep -E \"[A-Za-z\\.]@[A-Za-z].[A-Za-z]\" file.txt\n",
    "\n",
    "# Игнорирует регистр букв\n",
    "grep -i hello file.txt\n",
    "```"
   ]
  },
  {
   "attachments": {},
   "cell_type": "markdown",
   "metadata": {},
   "source": [
    "**head** \n",
    "```bash \n",
    "\n",
    "# по умолчанию 10 строк\n",
    "head ./log\n",
    "\n",
    "# другое количество \n",
    "head -3 ./log\n",
    "\n",
    "# Если еще ключи \n",
    "head -n 15 ./log \n",
    "```"
   ]
  },
  {
   "attachments": {},
   "cell_type": "markdown",
   "metadata": {},
   "source": [
    "**tail** \n",
    "```bash \n",
    "# синтаксис tail\n",
    "tail -n 5 ./log \n",
    "\n",
    "# ключ -f - продолжит смотреть файл\n",
    "tail -f 5 /var/log/sevure\n",
    "\n",
    "```"
   ]
  },
  {
   "attachments": {},
   "cell_type": "markdown",
   "metadata": {},
   "source": [
    "**more & less** \n",
    "```bash \n",
    "# Открывает файл в режиме пролистовать\n",
    "more [file]\n",
    "\n",
    "# работают стрелки и поиск\n",
    "less [file] \n",
    "# поиск включается через /\n",
    "``` "
   ]
  },
  {
   "cell_type": "markdown",
   "metadata": {},
   "source": [
    "### Потоки"
   ]
  },
  {
   "attachments": {},
   "cell_type": "markdown",
   "metadata": {},
   "source": [
    "- `STDIN`  - стандартный поток ввода (поток 0)\n",
    "- `STDOUT` - стандартный поток вывода (поток 1)\n",
    "- `STDERR` - поток ошибок (поток 2)  \n",
    "По хорошему `0/1/2` - дескрипторы файлов потоков"
   ]
  },
  {
   "attachments": {},
   "cell_type": "markdown",
   "metadata": {},
   "source": [
    "```bash\n",
    "# Перенаправляет хорошие и плохие ответы\n",
    "grep something /etc/ > good_response.txt 2> bad_response.txt\n",
    "\n",
    "# Убирет ошибки именно /dev/null !!!\n",
    "grep something [where] 2> /dev/null\n",
    "\n",
    "# Только хорошие ответы в файл\n",
    "grep something [where] > good.txt\n",
    "\n",
    "# Все ответы в файл\n",
    "grep something [where] 1> file 2>&1\n",
    "grep something [where] &> every.txt\n",
    "\n",
    "```\n",
    "Конструкция &1 - перенаправить туда куда был отправлен поток 1\n",
    "\n"
   ]
  },
  {
   "attachments": {},
   "cell_type": "markdown",
   "metadata": {},
   "source": [
    "Когда `bash` видит `>` начинает читать слева-направо\n",
    "```bash \n",
    "# Классическая ошибка\n",
    "sort file.txt > file.txt \n",
    "```"
   ]
  },
  {
   "attachments": {},
   "cell_type": "markdown",
   "metadata": {},
   "source": [
    "### Поток ввода"
   ]
  },
  {
   "attachments": {},
   "cell_type": "markdown",
   "metadata": {},
   "source": [
    "`|` - pipe \n",
    "```bash \n",
    "cat stdout | grep ^-\n",
    "```"
   ]
  },
  {
   "attachments": {},
   "cell_type": "markdown",
   "metadata": {},
   "source": [
    "Не все команды принимают потоки данных на ввод"
   ]
  },
  {
   "cell_type": "markdown",
   "metadata": {},
   "source": [
    "### tee"
   ]
  },
  {
   "attachments": {},
   "cell_type": "markdown",
   "metadata": {},
   "source": [
    "`tee` Перенаправление потока и на экран и в файл:\n",
    "```bash\n",
    "# команда перезапишет файл\n",
    "ls -l | tee [file]\n",
    "\n",
    "# добавление информации \n",
    "ls -l | tee -a [file]\n",
    "```"
   ]
  },
  {
   "attachments": {},
   "cell_type": "markdown",
   "metadata": {},
   "source": [
    "## Права доступа / пользователи"
   ]
  },
  {
   "attachments": {},
   "cell_type": "markdown",
   "metadata": {},
   "source": [
    "**файлы:**\n",
    "\n",
    "- файл `/etc/passwd` - информация о всех пользователях. \n",
    "    - root - super пользователь id = 0, \n",
    "    - служебные пользователи(сервисы: mysql, bin, mail и т.п.)\n",
    "    - обычные (человеки)  \n",
    "  \n",
    "\n",
    "- файл `/etc/group` - информация о группах пользователей\n",
    "\n",
    "\n",
    "- файл  `/etc/shadow` - информация о паролях пользователей (храниться в хэше)\n",
    "\n",
    "- директория `/etc/skel/` - храниться всё что будет скопировано новому user в директорию\n",
    "  "
   ]
  },
  {
   "attachments": {},
   "cell_type": "markdown",
   "metadata": {},
   "source": [
    "**Группы и комманды**\n",
    "Посмотреть к каким группам есть доступ у пользователя:\n",
    "- id [user]\n",
    "\n",
    "Еще полезные команды:   \n",
    "- `who` - кто сейчас на серваке  (можно просто `w`)  \n",
    "- `last` - кто был на серваке не давно   \n",
    "- `su [user]` - зайти под другим user\n",
    "\n",
    "Добавить пользователя в группу: \n",
    "   \n",
    "`sudo usermode -aG [group] [user]`  \n",
    "- флаг `-a` - то что добавить \n",
    "- флаг `G` - то что в группу \n",
    "\n",
    "`chmod 777 file` 4-чтение, 2-запись, 1-редактирование     \n",
    "`chmod o+t file` запрещает стирать файлы не владельцам (добавляется спец. привилегия директории)  \n",
    "`chmod o-t file` убрать запрет (еще вариант `chmod 1777 file`/`chmod 0777 file`)"
   ]
  },
  {
   "attachments": {},
   "cell_type": "markdown",
   "metadata": {},
   "source": [
    "**поменять владельца/группу файла**\n",
    "\n",
    "```bash \n",
    "# поменять владельца файла\n",
    "sudo chown [new_user] [file] \n",
    "\n",
    "# поменять владельца группу \n",
    "sudo chgrp [new_group] [file]\n",
    "```"
   ]
  },
  {
   "attachments": {},
   "cell_type": "markdown",
   "metadata": {},
   "source": [
    "**Создание пользователя**\n",
    "\n",
    "```bash\n",
    "\n",
    "# Запускать с `sudo`\n",
    "adduser [user] -m  # создать пользователя -m(создать ему директорию)\n",
    "passwd [user]      # поставить пароль пользователю\n",
    "userdel -r [user]  # удалить пользователя -r(и его файлы)\n",
    "groupadd [group]   # создать группу\n",
    "groupdel [group]   # удалить группу\n",
    "usermod -aG [group] [user] # добавить пользователя в группу\n",
    "usermod deluser [user] [group] # удалить из группы marketing\n",
    "\n",
    "```"
   ]
  },
  {
   "attachments": {},
   "cell_type": "markdown",
   "metadata": {},
   "source": [
    "## Архивирование"
   ]
  },
  {
   "attachments": {},
   "cell_type": "markdown",
   "metadata": {},
   "source": [
    "**команды**\n",
    "```bash\n",
    "\n",
    "# ВАРИАНТЫ TAR без компрессии\n",
    "# c - create, v-verbose(смотреть что делает/не обязательно), f - file\n",
    "tar cvf [new_tar.tar] [file1 file2 ...]\n",
    "# x - extract, v... , f.... \n",
    "tar xvf [my_tar.tar] [file-1.tar file-2.tar ...]\n",
    "\n",
    "\n",
    "# сжать\n",
    "gzip [file.tar] # .gz \n",
    "bzip [file.tar] # .bz2\n",
    "xz [file.tar]   # .xz\n",
    "\n",
    "# unzip \n",
    "gunzip [file.tar.gz]  # .gz\n",
    "bunzip2 [file.tar.bz] # .bz2\n",
    "unxz [file.tar.xz]    # .xz\n",
    "\n",
    "# `tar` c компрессией xzip\n",
    "tar cvzf [myGZIP.gz] [file1 file2 ...]  # .gz\n",
    "tar cvjf [myBZIP.bz2] [file1 file2 ...] # .bz2\n",
    "tar cvJf [fileXZ.xz] [file1 file2 ...]  # .xz\n",
    "# Посмотреть что внури \n",
    "tar tf [myGZIP.gz]\n",
    "# Распаковать любой скомрессированный\n",
    "tar xvf [file_to_unzip]\n",
    "\n",
    "# zip\n",
    "zip -r [myZip.zip] [  ]\n",
    "# unzip \n",
    "unzip [myZip.zip]\n",
    "\n",
    "```"
   ]
  },
  {
   "attachments": {},
   "cell_type": "markdown",
   "metadata": {},
   "source": [
    "## Память, процессоры, лог-файлы"
   ]
  },
  {
   "attachments": {},
   "cell_type": "markdown",
   "metadata": {},
   "source": [
    "**команды и hotkeys:**\n",
    "когда вызвал `top` :\n",
    "- `shift+P` -> фильтр загрузки проца\n",
    "- `shift+M` -> фильтр по загрузке памяти\n",
    "\n",
    "посмотреть по памяти: `free`  \n",
    "посмотреть активные процессы: `ps`\n",
    "процессы другого пользователя или себя: `ps -u bacek`\n",
    "очень полезная `ps -aux | grep bash` - строки где есть bash"
   ]
  },
  {
   "attachments": {},
   "cell_type": "markdown",
   "metadata": {},
   "source": [
    "## Лог файлы"
   ]
  },
  {
   "attachments": {},
   "cell_type": "markdown",
   "metadata": {},
   "source": [
    "**Где храняться**\n",
    "Храняться все логи `/var/log`  \n",
    "Кроме `dmesg` - лог линуксовского ядра. работает только из командной строки"
   ]
  },
  {
   "attachments": {},
   "cell_type": "markdown",
   "metadata": {},
   "source": [
    "## Сетевые команды"
   ]
  },
  {
   "attachments": {},
   "cell_type": "markdown",
   "metadata": {},
   "source": [
    "**Основные команды**\n",
    "\n",
    "```bash  \n",
    "ifconfig       # Узнать свой ip  \n",
    "ip addr show   # Узнать свой ip (разницы особой нет)\n",
    "route          # Куда пересылать пакеты с разными адресами\n",
    "ping [address] # Пингует(бесконечно)\n",
    "ping [address] -c 4 # Проверить 4 раза \n",
    "host [address] # Информацию по сайту (ip и вроде есть инфа про поддержку ipV6)\n",
    "dig [address]  # Много инфы странной\n",
    "netstat        # Проверить свои порты\n",
    "sudo efw allow 22 # Открыть порт 22 \n",
    "ssh MyLinux    # Подсоединиться к серверу по ssh\n",
    "sudo apt-get install openssh-server # Сервер ssh\n",
    "```"
   ]
  },
  {
   "attachments": {},
   "cell_type": "markdown",
   "metadata": {},
   "source": [
    "## Скачивание файлов / Установка программ"
   ]
  },
  {
   "attachments": {},
   "cell_type": "markdown",
   "metadata": {},
   "source": [
    "**команды** \n",
    "```bash\n",
    "\n",
    "wget [url]      # download file \n",
    "apt-get install # ubuntu/debian\n",
    "apt-get remove  # Удалить\n",
    "dpkg -i [pack]  # i - install,  dpkg-(dep package)\n",
    "dpkg -r [pack]  # remove\n",
    "\n",
    "# На CentOs, rat hot: \n",
    "yum install [file] \n",
    "yum remove [file]\n",
    "rpm -i [pack]\n",
    "rpm -e [pack] # e - erase \n",
    "```"
   ]
  },
  {
   "attachments": {},
   "cell_type": "markdown",
   "metadata": {},
   "source": [
    "**Список репозиториев**  \n",
    "Можно посмотреть разрешенные репозитории по адресу `/ept/apt/sources.list`"
   ]
  },
  {
   "attachments": {},
   "cell_type": "markdown",
   "metadata": {},
   "source": [
    "**мегокрутая команда** \n",
    "```bash     \n",
    "whereis [file] # Где файл"
   ]
  },
  {
   "attachments": {},
   "cell_type": "markdown",
   "metadata": {},
   "source": [
    "`apt search` - искать репозитории   \n",
    "Полезные команды (!Напоминалка) - `wc` , `grep`  "
   ]
  },
  {
   "cell_type": "markdown",
   "metadata": {},
   "source": [
    "## Скрипты bash"
   ]
  },
  {
   "attachments": {},
   "cell_type": "markdown",
   "metadata": {},
   "source": [
    "**Примеры**  \n",
    "Первая строка `#!/bin/bash`  \n",
    "Не забываем поставить `sudo chmode 7... [file]`\n",
    "```bash\n",
    "\n",
    "#!/bin/bash\n",
    "\n",
    "```"
   ]
  },
  {
   "attachments": {},
   "cell_type": "markdown",
   "metadata": {},
   "source": [
    "**Разные команды**\n",
    "```bash \n",
    "xterm             # Запустить терминал\n",
    "myVar=[variable]  # Создание переменной(без пробелов)\n",
    "$0                # Название файла (зарезервированное имя)\n",
    "$1/$2/$3/$4...    # Переданные аргументы\n",
    "$(date)           # Дата\n",
    "echo -n           # Сделать без переноса каретки\n",
    "\n",
    "\n",
    "# Получить данные от пользователя\n",
    "echo \"Write password\" \n",
    "read x \n",
    "\n",
    "# Получить данные от пользователя\n",
    "read -p \"Enter something:\" x \n",
    "\n",
    "```"
   ]
  },
  {
   "attachments": {},
   "cell_type": "markdown",
   "metadata": {},
   "source": [
    "**Ветвление и циклы**\n",
    "см. примеры"
   ]
  },
  {
   "attachments": {},
   "cell_type": "markdown",
   "metadata": {},
   "source": [
    "## Добавление второго диска"
   ]
  },
  {
   "attachments": {},
   "cell_type": "markdown",
   "metadata": {},
   "source": [
    "Все диски в папке `/dev/`\n",
    "\n",
    "`/dev/sda` - физический диск\n",
    "`/dev/sda` - логический диск"
   ]
  },
  {
   "cell_type": "markdown",
   "metadata": {},
   "source": [
    "После запуска ядра, запускаеться монтирование "
   ]
  },
  {
   "attachments": {},
   "cell_type": "markdown",
   "metadata": {},
   "source": [
    "Команды предварительные:  \n",
    "`sudo fdisk -l` выдает устройства  \n",
    "`lsblk` - Выдаст информацию о блочных устройствах в операционной системе \n",
    "`lsblk -o UUID` - Увидит UUID дисков   \n",
    "   \n",
    "Посмотреть связь блочных устройств с каталогами \n",
    "`df -h` - простой и неинформацивный\n",
    "`mount` - смонтированные устройства (берет информацию из `/proc/self/mounts`)\n",
    "\n",
    "Каталог для монтирования временных устройств `/mnt/`\n",
    "/\n",
    "\n",
    "\n",
    "Нобходимо разбить на partion:  \n",
    "`sudo cfcdisk /dev/sda` какие partion есть \n",
    "`sudo cfcdisk /dev/somedisk` во что форматировать.(создали partion)\n",
    "\n",
    "Необходимо форматировать по `exc4`  \n",
    "`sudo mkfs.ntfs -f /dev/[disk]`  \n",
    "  \n",
    "Диск создаться но хер пойми где (/media/...)  \n",
    "Необходимо сделать тогда `mount`  \n",
    "`sudo mkdir /media/hdd2` \n",
    "\n",
    "`sudo vim /etc/fst` - необходимо дописать где монтировать при перезапуске:  \n",
    "\n",
    "```bash \n",
    "# Дописываем в конце\n",
    "/dev/[disk] /media/hdd2 [ntfs/exc4] default 0 0 \n",
    "```\n",
    "\n",
    "`sudo mount /media/hdd2`            смонтировать\n",
    "`sudo unmount /media/hdd2`          размонтировать\n",
    "`ln -s /media/hdd2/ ~/Desktop/HDD2` сделать по красоте"
   ]
  },
  {
   "attachments": {},
   "cell_type": "markdown",
   "metadata": {},
   "source": [
    "## Поменять имя компьютера и ip адреса"
   ]
  },
  {
   "attachments": {},
   "cell_type": "markdown",
   "metadata": {},
   "source": [
    "**Смена названия компьютера:**  \n",
    "- команда: `hostname`   - текущее название компьютера    \n",
    "- файл: `/etc/hostname` - от сюда берется название. Надо отредактировать файл   \n",
    "- команда `sudo hostname HelloLinux` - поменять название   \n",
    "- файл: `/cat/hosts` - здесь также надо поменять   \n",
    "\n",
    "**Смена ip адреса:**  \n",
    "- команда `ifconfig` - посмотреть тек. настройки сети. (запомнть название сетевой карты[card_name])  \n",
    "- файл `/etc/network/interfaces` дописываем: \n",
    "  -  auto [card_name]\n",
    "  -  iface [card_name] inet static    \n",
    "    - adress 20.20.20.20   \n",
    "    - netmask 255.0.0.0   \n",
    "    - gateway 20.20.20.1   \n",
    "    - dns-nameservers 8.8.8.8    \n",
    "- команда `sudo ifdown [card_name]` отключить интерфейс\n",
    "- команда `sudo ifup [card_name]` включить интерфейс \n",
    "- команда `sudo ifconfig [card_name] 1.1.1.1 netmask 255.0.0.0` сделать временный ip-adress"
   ]
  },
  {
   "attachments": {},
   "cell_type": "markdown",
   "metadata": {},
   "source": [
    "## SSH-подключение"
   ]
  },
  {
   "cell_type": "markdown",
   "metadata": {},
   "source": [
    "### Прокидываем на сервер"
   ]
  },
  {
   "attachments": {},
   "cell_type": "markdown",
   "metadata": {},
   "source": [
    "```bash\n",
    "# Генерируем ключ на стороне клиента\n",
    "# Можно будет установить доп.фразы для защиты(не обязательно)\n",
    "ssh-keygen -t rsa\n",
    "\n",
    "# Добавляем публичный ключ на сервер\n",
    "ssh-copy-id -p [PORT] [USER]@[REMOTE_HOST]\n",
    "```\n",
    "Теоритически можно скопировать публичный ключ в файлик authorized_keys"
   ]
  },
  {
   "cell_type": "code",
   "execution_count": null,
   "metadata": {},
   "outputs": [],
   "source": []
  },
  {
   "attachments": {},
   "cell_type": "markdown",
   "metadata": {},
   "source": [
    "- команда `ifconfig` - посмотреть сеть\n",
    "- пингуем, что видим.\n",
    "\n",
    "\n",
    "команда `ssh` работает только по 22 порту\n",
    "- ssh [ip-address] - connection refuse(потому что никто не слушает порт)  \n",
    "- команда `service ssh status` - посмотреть статус ssh   \n",
    "- команда `service ssh start` - запустить сервис  \n",
    "- команда `sudo apt-get install openssh-server` - скачать сервер для того что ко мне могли подключаться.\n",
    "\n",
    "- команда `ssh [ip-address]` \n",
    "  - Скажет что не в листе, если хотите продолжить, добавить в известные hosts\n",
    "  - Априори подставит моего юзера, что такого не произошло:  \n",
    "- ssh `[user]@[ip-address]` дописываем в начало users  "
   ]
  },
  {
   "attachments": {},
   "cell_type": "markdown",
   "metadata": {},
   "source": [
    "ssh-ключ содержит 2 части:\n",
    "- Публичная `keyname.pub` - файл который записывается в authorized_keys\n",
    "- Приватная `keyname` Ответная часть ключа, котороя подходит к одной pub-части\n",
    "\n",
    "1. Клиент шифрует сообщение публичным ключом и посылает на сервер.\n",
    "2. Сервер пытаеться расшифровать с помощью публичных ключей, которые у него авторизованы\n",
    "3. Если подбирает - то пускает, не подбирает - просит пароль для расшифровки ключа"
   ]
  },
  {
   "cell_type": "markdown",
   "metadata": {},
   "source": [
    "### ssh-agent, ForwardAgent\n"
   ]
  },
  {
   "attachments": {},
   "cell_type": "markdown",
   "metadata": {},
   "source": [
    "ssh-agent - Считывает ключи по умолчанию при старте системы  \n",
    "ForwardAgent - Пробрасывает сокет ssh-agent  \n",
    "\n",
    "```bash\n",
    "# -A - forwading \n",
    "ssh -A -p 20022 -lroot 127.1\n",
    "``` "
   ]
  },
  {
   "attachments": {},
   "cell_type": "markdown",
   "metadata": {},
   "source": [
    "Устанавливая соединение мы передаем следующую информацию:  \n",
    "`user`, `host`, `port`(по умолч.22)"
   ]
  },
  {
   "attachments": {},
   "cell_type": "markdown",
   "metadata": {},
   "source": [
    "```bash \n",
    "eval `ssh-agent -s` \n",
    "```\n",
    "генерирует команды для ssh и хранит расшифрованные ключи в `ssh-agent`\n",
    "\n",
    "```bash \n",
    "ssh-add ~/.ssh/id_rsa \n",
    "``` \n",
    "Добавить ключ"
   ]
  },
  {
   "attachments": {},
   "cell_type": "markdown",
   "metadata": {},
   "source": [
    "### Control Master"
   ]
  },
  {
   "attachments": {},
   "cell_type": "markdown",
   "metadata": {},
   "source": [
    "Позволяет создавать несколько соединений в рамках одной сессии...    \n",
    "Добавляем в `~/.ssh/config`  :  \n",
    "```bash \n",
    "# Всем хостам\n",
    "Host * \n",
    "    # Если нужен ForwardAgent\n",
    "    ForwardAgent yes\n",
    "    ControlMaster auto \n",
    "    ControlPersist 5  n \n",
    "    ControlPath ~/.ssh/ssh_mux_%h_%p_%r\n",
    "``` "
   ]
  },
  {
   "cell_type": "markdown",
   "metadata": {},
   "source": [
    "### Example config ssh"
   ]
  },
  {
   "attachments": {},
   "cell_type": "markdown",
   "metadata": {},
   "source": [
    "```bash \n",
    "# Конфигурация для всех хостов\n",
    "Host * \n",
    "    ...\n",
    "\n",
    "Host c7-ssh\n",
    "    HostName 127.0.0.1\n",
    "    Port 20022\n",
    "    user root \n",
    "    "
   ]
  },
  {
   "cell_type": "markdown",
   "metadata": {},
   "source": [
    "### Достукивание через другую машину"
   ]
  },
  {
   "attachments": {},
   "cell_type": "markdown",
   "metadata": {},
   "source": [
    "```bash \n",
    "ssh -t root@host1 ssh -t root@host2 uname -sr\n",
    "# -t игнорит терминал\n",
    "``` "
   ]
  },
  {
   "attachments": {},
   "cell_type": "markdown",
   "metadata": {},
   "source": [
    "## CRON"
   ]
  },
  {
   "attachments": {},
   "cell_type": "markdown",
   "metadata": {},
   "source": [
    "встроенная утилита...  \n",
    "команды:\n",
    "```bash \n",
    "# Создает файл/таблицу в директории /var/spool/cron\n",
    "crontab -e\n",
    "\n",
    "# Удалить задачу \n",
    "crontab -r \n",
    "\n",
    "# Выводит список всех текущих задач\n",
    "crontab -l  \n",
    "```\n",
    "\n",
    "возможно всем пользователям прописав в в файле `/etc/crontab`"
   ]
  },
  {
   "attachments": {},
   "cell_type": "markdown",
   "metadata": {},
   "source": [
    "Часто, в современных дистрибутивах там прописан запуск утилиты run-parts, которая запускает нужные скрипты из следующих папок\n",
    "\n",
    "- /etc/cron.minutely - каждую минуту;  \n",
    "- /etc/cron.hourly - каждый час;  \n",
    "- /etc/cron.daily - каждый день;  \n",
    "- /etc/cron.weekly - каждую неделю;  \n",
    "- /etc/cron.monthly - каждый месяц.  "
   ]
  },
  {
   "cell_type": "markdown",
   "metadata": {},
   "source": [
    "### Установка ограничений"
   ]
  },
  {
   "attachments": {},
   "cell_type": "markdown",
   "metadata": {},
   "source": [
    "\n",
    "- `cron.allow` (/usr/bin/cron/cron.allow) - список учётных записей, которые имеют право на планирование задач с помощью встроенных утилит \n",
    "- `cron.deny` (/usr/bin/cron/cron.deny) - список пользователей, кто не может запускать встроенный планировщик\n"
   ]
  },
  {
   "cell_type": "markdown",
   "metadata": {},
   "source": [
    "### Синтаксис"
   ]
  },
  {
   "attachments": {},
   "cell_type": "markdown",
   "metadata": {},
   "source": [
    "```bash\n",
    "# Отвечают за настройку\n",
    "SHELL=/bin/bash # оболочка\n",
    "MAILTO=mymail@someprovider.com # отчеты\n",
    "PATH=/bin:/sbin:/usr/bin:/usr/sbin:/usr/loval/bin:/usr/local/sbin # путь к окружению\n",
    "\n",
    "# Оформление задачи:\n",
    "# минуты часы дни_месяца месяцы дни_недели задача\n",
    "* * * * * [команду которую запустить]\n",
    "\n",
    "# Будет выполнять 5 числа каждого месяца в 4 утра 2минуты\n",
    "02 04 5 * * /home/[some_user]/[some_scripts]\n",
    "\n",
    "# Запускает обновление пакетов каждый час в 1минуту\n",
    "01 * * * * [script]\n",
    "\n",
    "# Запускает каждую минуту\n",
    "* * * * * [script]\n",
    "\n",
    "# Запускает каждые 2 минуту\n",
    "*/2 * * * * [script]\n",
    "\n",
    "# Только по будням \n",
    "* * * * 1-5 [script]\n",
    "\n",
    "# Логирование \n",
    "01 * * * * [script] > [/home/user/logs/log.txt] # с созд\n",
    "01 * * * * [script] >> [/home/user/logs/log.txt]\n",
    "```"
   ]
  },
  {
   "attachments": {},
   "cell_type": "markdown",
   "metadata": {},
   "source": [
    "### Популярные вариант запуска"
   ]
  },
  {
   "attachments": {},
   "cell_type": "markdown",
   "metadata": {},
   "source": [
    "|команда|время выполнения|\n",
    "|--|--|\n",
    "|@reboot  |при загрузке |\n",
    "|@yearly, @annually | раз в год |\n",
    "|@monthly |раз в месяц |\n",
    "|@weekly  |раз в неделю |\n",
    "|@daily, @midnight | каждый день |\n",
    "|@hourly  |каждый час |\n",
    "\n",
    "Пример: \n",
    "```bash \n",
    "@hourly /usr/local/bin/serve"
   ]
  },
  {
   "attachments": {},
   "cell_type": "markdown",
   "metadata": {},
   "source": [
    "### Логи + полезное"
   ]
  },
  {
   "attachments": {},
   "cell_type": "markdown",
   "metadata": {},
   "source": [
    "Логи находяться по адресу `/var/log/cron` иногда в `syslog`  \n",
    "Проверка работоспособности скрипта в одной из папок `sudo run-paths /etc/cron.daily`"
   ]
  },
  {
   "attachments": {},
   "cell_type": "markdown",
   "metadata": {},
   "source": [
    "## Код возврата и логические конструкции "
   ]
  },
  {
   "attachments": {},
   "cell_type": "markdown",
   "metadata": {},
   "source": [
    "`echo $?` - выведет код возврата отработанной функции:  \n",
    "- 0 - True\n",
    "- 1 - False\n",
    "- 2 - error\n",
    "- ... - могут быть другие коды возврата"
   ]
  },
  {
   "attachments": {},
   "cell_type": "markdown",
   "metadata": {},
   "source": [
    "- `&&` - Логическое И \n",
    "- `||` - Логическое ИЛИ - будет выполнять, пока хоть что нить не выполниться\n",
    "- `;`  - Логическое НЕ ИМЕЕТ ЗНАЧЕНИЯ. Будет выполнена в независимости от других команд\n",
    "\n",
    "```bash \n",
    "# Отработают две команы\n",
    "ls -l && echo OK\n",
    "\n",
    "# Ни одна не отработает\n",
    "ls -l asaskdfj && echo OK \n",
    "\n",
    "ls -l asaskdfj || echo OK\n",
    "# >> 'OK'\n",
    "\n",
    "ls -l asdfa ; echo OK\n",
    "# >> `OK`\n",
    "\n",
    "ls -l ; echo OK\n",
    "# >> `OK`\n",
    "```\n",
    "\n"
   ]
  }
 ],
 "metadata": {
  "kernelspec": {
   "display_name": "Python 3",
   "language": "python",
   "name": "python3"
  },
  "language_info": {
   "codemirror_mode": {
    "name": "ipython",
    "version": 3
   },
   "file_extension": ".py",
   "mimetype": "text/x-python",
   "name": "python",
   "nbconvert_exporter": "python",
   "pygments_lexer": "ipython3",
   "version": "3.10.6"
  },
  "orig_nbformat": 4,
  "vscode": {
   "interpreter": {
    "hash": "916dbcbb3f70747c44a77c7bcd40155683ae19c65e1c03b4aa3499c5328201f1"
   }
  }
 },
 "nbformat": 4,
 "nbformat_minor": 2
}
