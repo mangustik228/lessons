{
 "cells": [
  {
   "attachments": {},
   "cell_type": "markdown",
   "metadata": {},
   "source": [
    "## CRON"
   ]
  },
  {
   "attachments": {},
   "cell_type": "markdown",
   "metadata": {},
   "source": [
    "встроенная утилита...  \n",
    "команды:\n",
    "```bash \n",
    "\n",
    "# Создает файл/таблицу в директории /var/spool/cron\n",
    "crontab -e\n",
    "\n",
    "# Удалить задачу \n",
    "crontab -r \n",
    "\n",
    "# Выводит список всех текущих задач\n",
    "crontab -l  "
   ]
  },
  {
   "attachments": {},
   "cell_type": "markdown",
   "metadata": {},
   "source": [
    "Часто, в современных дистрибутивах там прописан запуск утилиты run-parts, которая запускает нужные скрипты из следующих папок\n",
    "\n",
    "- /etc/cron.minutely - каждую минуту;  \n",
    "- /etc/cron.hourly - каждый час;  \n",
    "- /etc/cron.daily - каждый день;  \n",
    "- /etc/cron.weekly - каждую неделю;  \n",
    "- /etc/cron.monthly - каждый месяц.  "
   ]
  },
  {
   "cell_type": "markdown",
   "metadata": {},
   "source": [
    "### Установка ограничений"
   ]
  },
  {
   "attachments": {},
   "cell_type": "markdown",
   "metadata": {},
   "source": [
    "\n",
    "- `cron.allow` (/usr/bin/cron/cron.allow) - список учётных записей, которые имеют право на планирование задач с помощью встроенных утилит \n",
    "- `cron.deny` (/usr/bin/cron/cron.deny) - список пользователей, кто не может запускать встроенный планировщик\n"
   ]
  },
  {
   "cell_type": "markdown",
   "metadata": {},
   "source": [
    "### Синтаксис"
   ]
  },
  {
   "attachments": {},
   "cell_type": "markdown",
   "metadata": {},
   "source": [
    "```bash\n",
    "# Отвечают за настройку\n",
    "SHELL=/bin/bash # оболочка\n",
    "MAILTO=mymail@someprovider.com # отчеты\n",
    "PATH=/bin:/sbin:/usr/bin:/usr/sbin:/usr/loval/bin:/usr/local/sbin # путь к окружению\n",
    "\n",
    "# Оформление задачи:\n",
    "# минуты часы дни_месяца месяцы дни_недели задача\n",
    "* * * * * [команду которую запустить]\n",
    "\n",
    "# Будет выполнять 5 числа каждого месяца в 4 утра 2минуты\n",
    "02 04 5 * * /home/[some_user]/[some_scripts]\n",
    "\n",
    "# Запускает обновление пакетов каждый час в 1минуту\n",
    "01 * * * * [script]\n",
    "\n",
    "# Запускает каждую минуту\n",
    "* * * * * [script]\n",
    "\n",
    "# Только по будням \n",
    "* * * * 1-5 [script]\n",
    "\n",
    "# Логирование \n",
    "01 * * * * [script] > [/home/user/logs/log.txt] # с созд\n",
    "01 * * * * [script] >> [/home/user/logs/log.txt]"
   ]
  },
  {
   "attachments": {},
   "cell_type": "markdown",
   "metadata": {},
   "source": [
    "### Популярные вариант запуска"
   ]
  },
  {
   "attachments": {},
   "cell_type": "markdown",
   "metadata": {},
   "source": [
    "|команда|время выполнения|\n",
    "|--|--|\n",
    "|@reboot  |при загрузке |\n",
    "|@yearly, @annually | раз в год |\n",
    "|@monthly |раз в месяц |\n",
    "|@weekly  |раз в неделю |\n",
    "|@daily, @midnight | каждый день |\n",
    "|@hourly  |каждый час |\n",
    "\n",
    "Пример: \n",
    "```bash \n",
    "@hourly /usr/local/bin/serve"
   ]
  },
  {
   "attachments": {},
   "cell_type": "markdown",
   "metadata": {},
   "source": [
    "### Логи + полезное"
   ]
  },
  {
   "attachments": {},
   "cell_type": "markdown",
   "metadata": {},
   "source": [
    "Логи находяться по адресу `/var/log/cron` иногда в `syslog`  \n",
    "Проверка работоспособности скрипта в одной из папок `sudo run-paths /etc/cron.daily`"
   ]
  }
 ],
 "metadata": {
  "kernelspec": {
   "display_name": "base",
   "language": "python",
   "name": "python3"
  },
  "language_info": {
   "codemirror_mode": {
    "name": "ipython",
    "version": 3
   },
   "file_extension": ".py",
   "mimetype": "text/x-python",
   "name": "python",
   "nbconvert_exporter": "python",
   "pygments_lexer": "ipython3",
   "version": "3.9.13 (main, Aug 25 2022, 23:26:10) \n[GCC 11.2.0]"
  },
  "orig_nbformat": 4,
  "vscode": {
   "interpreter": {
    "hash": "5aa5e2928d664687c9381123541672e3561f763741993076ffb7b2e7971e825a"
   }
  }
 },
 "nbformat": 4,
 "nbformat_minor": 2
}
