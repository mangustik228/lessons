{
 "cells": [
  {
   "cell_type": "markdown",
   "metadata": {},
   "source": [
    "## Conda"
   ]
  },
  {
   "cell_type": "markdown",
   "metadata": {},
   "source": [
    "|Команда|Описание|Примечание|\n",
    "|--|--|--|\n",
    "|`conda create --name <name_env>`|Создание среды|Можно дополнительно указать версии библиотек через запятую, например `python=3.7 django=3.1`|\n",
    "|`conda env list`|Посмотреть среды||\n",
    "|`conda list`|Посмотреть библиотеки|*Для активной среды|\n",
    "|`conda install -c conda-forge <name_packet>`|Установка|То что не встает с помощью `conda install <name_packet>`|\n",
    "|`conda list -e > requirements.txt`|Экспорт библиотек||\n",
    "|`conda env export > environment.yml`|Экспорт библиотеки2| Чуть более мажорный варинат|\n",
    "|`conda env create -f environment.yml`|Воспроизвести среду|`-f` указывает что из файла|\n",
    "|`conda remove -n firstenv -all`|Удалить среду||"
   ]
  },
  {
   "cell_type": "markdown",
   "metadata": {},
   "source": [
    "## VENV"
   ]
  },
  {
   "cell_type": "markdown",
   "metadata": {},
   "source": [
    "|Команда|Описание|Примечание|\n",
    "|--|--|--|\n",
    "|`python -m venv venv`|Создать вирт.окружение|`-m` то что модуль исполняемый|\n",
    "|`source venv/bin/activate`|Активация среды||"
   ]
  },
  {
   "cell_type": "markdown",
   "metadata": {},
   "source": [
    "## Исполняемый Bat & sh"
   ]
  },
  {
   "cell_type": "markdown",
   "metadata": {},
   "source": [
    "Пример скрипта:\n",
    "```bash\n",
    "#!/bin/bash \n",
    "source $BASEDIR/venv/bin/activate\n",
    "python3 $BASEDIR/test.py\n",
    "\n",
    "```\n",
    "- `#!/bin/bash` всегда в шапке(указывает на то что файл исполняемый)\n",
    "- `source $BASEDIR/venv/bin/activate` Активировать среду\n",
    "- `python3 $BASEDIR/test.py` Запустить скрипт  \n",
    "  \n",
    "Далее необходимо сделать файл исполняемым\n",
    "`chmod +x <название_файла>`\n",
    "\n",
    "Дополнительные команды:\n",
    "- `@echo off` отключает служебную информацию в начале\n",
    "- `pause` чтоб не закрывалась консоль после отработки\n",
    "- `set TOKEN=asdfj;lasdjgflkj` устновить переменную среды окружения\n"
   ]
  },
  {
   "cell_type": "markdown",
   "metadata": {},
   "source": [
    "<p style=\"color:orange;\"> Примечание! При создании из Vscode первая строка глючит, необходимо создавать либо через vim либо через блокнот <p>"
   ]
  }
 ],
 "metadata": {
  "interpreter": {
   "hash": "5aa5e2928d664687c9381123541672e3561f763741993076ffb7b2e7971e825a"
  },
  "kernelspec": {
   "display_name": "Python 3.9.12 ('base')",
   "language": "python",
   "name": "python3"
  },
  "language_info": {
   "codemirror_mode": {
    "name": "ipython",
    "version": 3
   },
   "file_extension": ".py",
   "mimetype": "text/x-python",
   "name": "python",
   "nbconvert_exporter": "python",
   "pygments_lexer": "ipython3",
   "version": "3.9.12"
  },
  "orig_nbformat": 4
 },
 "nbformat": 4,
 "nbformat_minor": 2
}
