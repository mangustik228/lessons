{
 "cells": [
  {
   "cell_type": "markdown",
   "metadata": {},
   "source": [
    "## Scrapy "
   ]
  },
  {
   "cell_type": "markdown",
   "metadata": {},
   "source": [
    "Основные команды:\n",
    "\n",
    "|Команда|Описание|\n",
    "|--|--|\n",
    "|`scrapy startproject <name_project>`|создать проект|\n",
    "|`scrapy genspider <spider_name> <base_url>`|создать паука base_url например tiktok.com|\n",
    "|`scrapy crawl <spider_name> -o <output_file>`|запустить паука `-o <output_file>` не обязательный параметр(например out.json)|\n",
    "|||\n"
   ]
  },
  {
   "cell_type": "markdown",
   "metadata": {},
   "source": [
    "### Полезные настройки setting.py"
   ]
  },
  {
   "cell_type": "markdown",
   "metadata": {},
   "source": [
    "```python\n",
    "DOWNLOAD_DELAY = 0.25 # Задержка в секундах\n",
    "RANDOMIZE_DOWNLOAD_DELAY = True # Рандомизация задержек от 0.5 до 1.5\n",
    "LOG_FILE = 'logging.txt' # Название файла для ведения логов, изначально None\n",
    "LOG_LEVEL = 'CRITICAL, ERROR, WARNING, INFO, DEBUG' # Какие ошибки выводяться\n",
    "LOG_STDOUT = True # Позволяет пользоваться print(), по умолчанию False"
   ]
  },
  {
   "cell_type": "markdown",
   "metadata": {},
   "source": [
    "### Установить рандомного user-agent"
   ]
  },
  {
   "cell_type": "markdown",
   "metadata": {},
   "source": [
    "В `settings.py` расскоментировать:\n",
    "```python \n",
    "DOWNLOADER_MIDDLEWARES = {\n",
    "    'mwaredemo.middlewares.MwarendemoDownloaderMiddleware': 400,\n",
    "}\n",
    "```\n",
    "в файле `middlewares.py` создать свой класс:\n",
    "```python\n",
    "import random\n",
    "from .user_agents_firefox import USERAGENTS # Ну или еще откуда подгрузить\n",
    "\n",
    "class RotateUserAgentMiddleware:\n",
    "    def process_request(self, request, spider):\n",
    "        user_agent = random.choice(USERAGENTS)\n",
    "        request.headers['User-Agent'] = user_agent\n",
    "\n",
    "```\n",
    "Затем добавляем созданный класс в `settings.py`\n",
    "```python\n",
    "DOWNLOADER_MIDDLEWARES = {\n",
    "    # Цифры указывают на порядок выполнения\n",
    "    'example.middlewares.RotateUserAgentMiddleware': 300, \n",
    "    'example.middlewares.MwarendemoDownloaderMiddleware': 400,\n",
    "}"
   ]
  },
  {
   "cell_type": "markdown",
   "metadata": {},
   "source": [
    "### Прикольные функции"
   ]
  },
  {
   "cell_type": "markdown",
   "metadata": {},
   "source": [
    "Для подсказок добавить аннотацию к response\n",
    "```python\n",
    "from scrapy.http.response.html import HtmlResponse\n",
    "\n",
    "class MySpider:\n",
    "    ...\n",
    "    def parse(response: HtmlResponse):\n",
    "        pass"
   ]
  },
  {
   "cell_type": "markdown",
   "metadata": {},
   "source": [
    "Можно установить в паука:\n",
    "```python\n",
    "def parse(self, response):\n",
    "    self.logger.info(f'Спарсил страницу: {response.url}') \n",
    "    self.logger.warning(f'Не спарсил {response.url}')"
   ]
  },
  {
   "cell_type": "markdown",
   "metadata": {},
   "source": [
    "### Вариант установки настроек"
   ]
  },
  {
   "cell_type": "markdown",
   "metadata": {},
   "source": [
    "- В файле `settings.py`:\n",
    "```python\n",
    "DOWNLOADER_MIDDLEWARES = {\n",
    "    'example.setting': None,\n",
    "}\n",
    "```\n",
    "---\n",
    "- Непосредственно в пауке\n",
    "```python\n",
    "class Myspider(scrapy.Spider):\n",
    "    name = 'example_name'\n",
    "    custom_settings = {\n",
    "        'DOWNLOADER_MIDDLEWARES' : {\n",
    "            'example.setting': None,\n",
    "        }\n",
    "    }"
   ]
  },
  {
   "cell_type": "markdown",
   "metadata": {},
   "source": [
    "## Scrapy & Playwright"
   ]
  },
  {
   "cell_type": "markdown",
   "metadata": {},
   "source": [
    "```bash\n",
    "pip install scrapy-playwright\n",
    "```\n",
    "Также необходимо добавить параметры в `settings.py` см [документацию](https://github.com/scrapy-plugins/scrapy-playwright)"
   ]
  },
  {
   "cell_type": "markdown",
   "metadata": {},
   "source": [
    "## Playwright"
   ]
  },
  {
   "cell_type": "markdown",
   "metadata": {},
   "source": [
    "```bash\n",
    "pip install playwright\n",
    "playwright install"
   ]
  },
  {
   "cell_type": "markdown",
   "metadata": {},
   "source": [
    "### Синхронный "
   ]
  },
  {
   "cell_type": "markdown",
   "metadata": {},
   "source": [
    "```python\n",
    "from playwright.sync_api import sync_playwright\n",
    "\n",
    "# Делаем с with\n",
    "with sync_playwright() as p:\n",
    "    # Создаем браузер\n",
    "    browser = p.firefox.launch()\n",
    "    # Создаем страницу\n",
    "    page = browser.new_page()\n",
    "    # Переходим\n",
    "    page.goto('https://www.ozon.ru/seller/87879/products')\n",
    "    # Ждем(можно поставить задержку из разряда пока-не-прогрузиться определнный элемент)\n",
    "    page.wait_for_timeout(2000)\n",
    "    # Достаем инфо по Xpath / можно использовать query_selector_all()\n",
    "    company = page.query_selector('//h1')\n",
    "    # Не забываем закрывать браузер\n",
    "    browser.close()\n",
    "\n",
    "# Можно дополнительно: обратиться ко всему контенту\n",
    "page.content"
   ]
  },
  {
   "cell_type": "markdown",
   "metadata": {},
   "source": []
  }
 ],
 "metadata": {
  "interpreter": {
   "hash": "021e2541fa30c4447b208f18b06c59832a149fc5f72029dfb7034f39637eae3f"
  },
  "kernelspec": {
   "display_name": "Python 3.10.4 ('parsing')",
   "language": "python",
   "name": "python3"
  },
  "language_info": {
   "codemirror_mode": {
    "name": "ipython",
    "version": 3
   },
   "file_extension": ".py",
   "mimetype": "text/x-python",
   "name": "python",
   "nbconvert_exporter": "python",
   "pygments_lexer": "ipython3",
   "version": "3.10.4"
  },
  "orig_nbformat": 4
 },
 "nbformat": 4,
 "nbformat_minor": 2
}
