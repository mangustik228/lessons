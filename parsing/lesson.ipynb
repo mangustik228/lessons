{
 "cells": [
  {
   "cell_type": "code",
   "execution_count": 3,
   "metadata": {},
   "outputs": [],
   "source": [
    "import os \n",
    "\n",
    "file_path = \"media/tg_avatars\"\n"
   ]
  },
  {
   "cell_type": "markdown",
   "metadata": {},
   "source": []
  },
  {
   "cell_type": "code",
   "execution_count": 7,
   "metadata": {},
   "outputs": [
    {
     "data": {
      "text/plain": [
       "1968808"
      ]
     },
     "execution_count": 7,
     "metadata": {},
     "output_type": "execute_result"
    }
   ],
   "source": [
    "result = 0\n",
    "for path in os.listdir(file_path):\n",
    "    file_stats = os.stat(f'{file_path}/{path}')\n",
    "    result += file_stats.st_size\n",
    "result \n",
    "    "
   ]
  },
  {
   "cell_type": "code",
   "execution_count": 14,
   "metadata": {},
   "outputs": [
    {
     "name": "stdout",
     "output_type": "stream",
     "text": [
      "123\n"
     ]
    }
   ],
   "source": [
    "import re \n",
    "\n",
    "\n",
    "lst = ['abc', 'abc123', '123']\n",
    "\n",
    "for txt in lst:\n",
    "    if re.fullmatch(r'\\d*',txt):\n",
    "        print(txt)"
   ]
  },
  {
   "cell_type": "code",
   "execution_count": 7,
   "metadata": {},
   "outputs": [
    {
     "data": {
      "text/plain": [
       "'Растения'"
      ]
     },
     "execution_count": 7,
     "metadata": {},
     "output_type": "execute_result"
    }
   ],
   "source": [
    "import requests\n",
    "from parsel import Selector\n",
    "url = 'https://parsinger.ru/html/index1_page_1.html'\n",
    "\n",
    "resp = requests.get(url)\n",
    "resp.encoding = 'utf-8'\n",
    "sel = Selector(resp.text)\n",
    "items = sel.xpath('//div[@class=\"item\"]')\n",
    "for item in items:\n",
    "    result = {}\n",
    "    result['title'] = item.xpath('.//a[@class=\"name_item\"]/text()').get()\n",
    "    result['price'] = item.xpath('.//p[@class=\"price\"]/text()').get()\n",
    "    print(result)"
   ]
  },
  {
   "cell_type": "code",
   "execution_count": 10,
   "metadata": {},
   "outputs": [
    {
     "name": "stdout",
     "output_type": "stream",
     "text": [
      "{'title': 'Jet Kid Start blue Умные детские часы', 'price': '2310 руб', 'old_price': '3550 руб', 'in_stock': 'В наличии: 5', 'article': 'Артикул: 80235265', 'description': {'brand': ' Jet', 'model': ' Excidium', 'type': ' умные часы', 'display': ' Монохромный', 'material_frame': ' пластик', 'material_bracer': ' силикон', 'size': ' 54х34х12 мм', 'site': ' www.jetdevice.com'}}\n"
     ]
    }
   ],
   "source": [
    "def parse_page(sel: Selector):\n",
    "    result = {}\n",
    "    result['title'] = sel.xpath('//p[@id=\"p_header\"]/text()').get()\n",
    "    result['price'] = sel.xpath('//span[@id=\"price\"]/text()').get()\n",
    "    result['old_price'] = sel.xpath('//span[@id=\"old_price\"]/text()').get()\n",
    "    result['in_stock'] = sel.xpath('//span[@id=\"in_stock\"]/text()').get()\n",
    "    result['article'] = sel.xpath('//p[@class=\"article\"]/text()').get()\n",
    "    description = {}\n",
    "    for li in sel.xpath('//li'):\n",
    "        description[li.xpath('./@id').get()] = ''.join(li.xpath('./text()').get().split(':')[1:])\n",
    "    result['description'] = description\n",
    "    return result\n",
    "\n",
    "def write_result(result:dict, path='data.json'):\n",
    "    print(result)\n",
    "\n",
    "\n",
    "url = 'https://parsinger.ru/html/watch/1/1_1.html'\n",
    "resp = requests.get(url)\n",
    "resp.encoding = 'utf-8'\n",
    "sel = Selector(resp.text)\n",
    "result = parse_page(sel)\n",
    "write_result(result)"
   ]
  },
  {
   "cell_type": "code",
   "execution_count": 28,
   "metadata": {},
   "outputs": [],
   "source": [
    "PATH = 'data.json'"
   ]
  },
  {
   "cell_type": "code",
   "execution_count": 20,
   "metadata": {},
   "outputs": [],
   "source": [
    "import json\n",
    "with open('data.json', 'w', encoding='utf-8') as file:\n",
    "    json.dump([result], file, indent=4, ensure_ascii=False)"
   ]
  },
  {
   "cell_type": "code",
   "execution_count": 24,
   "metadata": {},
   "outputs": [],
   "source": [
    "with open(path, 'r', encoding='utf-8') as file:\n",
    "    old_data:list = json.load(file)\n",
    "old_data.append(result)"
   ]
  },
  {
   "cell_type": "code",
   "execution_count": 27,
   "metadata": {},
   "outputs": [
    {
     "data": {
      "text/plain": [
       "True"
      ]
     },
     "execution_count": 27,
     "metadata": {},
     "output_type": "execute_result"
    }
   ],
   "source": [
    "import os \n",
    "\n",
    "os.path.exists(path)"
   ]
  },
  {
   "cell_type": "code",
   "execution_count": 35,
   "metadata": {},
   "outputs": [],
   "source": [
    "def write_string(result:dict):\n",
    "    if not os.path.exists(PATH):\n",
    "        with open(PATH, 'w', encoding='utf-8') as file:\n",
    "            json.dump([result], file, indent=4, ensure_ascii=False)\n",
    "    else:\n",
    "        with open(PATH, 'r', encoding='utf-8') as file:\n",
    "            data:list = json.load(file)\n",
    "        data.append(result)\n",
    "        with open(PATH, 'w', encoding='utf-8') as file:\n",
    "            json.dump(data, file, indent=4, ensure_ascii=False)"
   ]
  },
  {
   "cell_type": "code",
   "execution_count": null,
   "metadata": {},
   "outputs": [],
   "source": []
  },
  {
   "cell_type": "code",
   "execution_count": 41,
   "metadata": {},
   "outputs": [
    {
     "name": "stdout",
     "output_type": "stream",
     "text": [
      "['https://parsinger.ru/html/index1_page_1.html', 'https://parsinger.ru/html/index2_page_1.html', 'https://parsinger.ru/html/index3_page_1.html', 'https://parsinger.ru/html/index4_page_1.html', 'https://parsinger.ru/html/index5_page_1.html']\n"
     ]
    }
   ],
   "source": [
    "url = 'https://parsinger.ru/html/index1_page_1.html'\n",
    "base_url = 'https://parsinger.ru/html/'\n",
    "urls = []\n",
    "resp = requests.get(url)\n",
    "resp.encoding = 'utf-8'\n",
    "sel = Selector(resp.text)\n",
    "links = sel.xpath('//div[@class=\"nav_menu\"]/a/@href')\n",
    "for link in links:\n",
    "    urls.append(base_url + link.get())\n",
    "print(urls)\n"
   ]
  },
  {
   "cell_type": "code",
   "execution_count": 47,
   "metadata": {},
   "outputs": [
    {
     "name": "stdout",
     "output_type": "stream",
     "text": [
      "index1_page_1.html\n",
      "index1_page_2.html\n",
      "index1_page_3.html\n",
      "index1_page_4.html\n"
     ]
    }
   ],
   "source": [
    "links = sel.xpath('(//div[@class=\"pagen\"])[1]/a/@href')\n",
    "for link in links:\n",
    "    print(link.get())"
   ]
  },
  {
   "cell_type": "code",
   "execution_count": 39,
   "metadata": {},
   "outputs": [],
   "source": [
    "for i in range(15):\n",
    "    write_string(result)"
   ]
  },
  {
   "cell_type": "code",
   "execution_count": null,
   "metadata": {},
   "outputs": [],
   "source": [
    "def new():\n",
    "    yield"
   ]
  }
 ],
 "metadata": {
  "kernelspec": {
   "display_name": "base",
   "language": "python",
   "name": "python3"
  },
  "language_info": {
   "codemirror_mode": {
    "name": "ipython",
    "version": 3
   },
   "file_extension": ".py",
   "mimetype": "text/x-python",
   "name": "python",
   "nbconvert_exporter": "python",
   "pygments_lexer": "ipython3",
   "version": "3.9.13 (main, Aug 25 2022, 23:26:10) \n[GCC 11.2.0]"
  },
  "orig_nbformat": 4,
  "vscode": {
   "interpreter": {
    "hash": "5aa5e2928d664687c9381123541672e3561f763741993076ffb7b2e7971e825a"
   }
  }
 },
 "nbformat": 4,
 "nbformat_minor": 2
}
