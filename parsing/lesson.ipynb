{
 "cells": [
  {
   "cell_type": "code",
   "execution_count": 1,
   "metadata": {},
   "outputs": [],
   "source": [
    "import requests\n",
    "from parsel import Selector "
   ]
  },
  {
   "cell_type": "code",
   "execution_count": 2,
   "metadata": {},
   "outputs": [],
   "source": [
    "resp = requests.get('https://parsinger.ru/asyncio/aiofile/3/depth2/html_in_img/img1.html')\n",
    "sel = Selector(resp.text)"
   ]
  },
  {
   "cell_type": "code",
   "execution_count": 3,
   "metadata": {},
   "outputs": [],
   "source": [
    "images = sel.xpath('//img/@src')"
   ]
  },
  {
   "cell_type": "code",
   "execution_count": 12,
   "metadata": {},
   "outputs": [],
   "source": [
    "URL = 'https://parsinger.ru/asyncio/aiofile/3'\n",
    "\n",
    "def get_first_links():\n",
    "    resp = requests.get(f'{URL}/index.html')\n",
    "    resp.encoding = 'utf-8'\n",
    "    sel = Selector(resp.text)\n",
    "    self.links = []\n",
    "    for link in sel.xpath('//a/@href'):\n",
    "        self.links.append(f'{URL}/{link.get()}')\n",
    "    (f'Спарсил {len(self.links)} ссылок')"
   ]
  },
  {
   "cell_type": "code",
   "execution_count": 13,
   "metadata": {},
   "outputs": [
    {
     "name": "stdout",
     "output_type": "stream",
     "text": [
      "depth2/category1.html\n",
      "depth2/category2.html\n",
      "depth2/category3.html\n",
      "depth2/category4.html\n",
      "depth2/category5.html\n",
      "depth2/category6.html\n",
      "depth2/category7.html\n",
      "depth2/category8.html\n",
      "depth2/category9.html\n",
      "depth2/category10.html\n",
      "depth2/category11.html\n",
      "depth2/category12.html\n",
      "depth2/category13.html\n",
      "depth2/category14.html\n",
      "depth2/category15.html\n",
      "depth2/category16.html\n",
      "depth2/category17.html\n",
      "depth2/category18.html\n",
      "depth2/category19.html\n",
      "depth2/category20.html\n",
      "depth2/category21.html\n",
      "depth2/category22.html\n",
      "depth2/category23.html\n",
      "depth2/category24.html\n",
      "depth2/category25.html\n",
      "depth2/category26.html\n",
      "depth2/category27.html\n",
      "depth2/category28.html\n",
      "depth2/category29.html\n",
      "depth2/category30.html\n",
      "depth2/category31.html\n",
      "depth2/category32.html\n",
      "depth2/category33.html\n",
      "depth2/category34.html\n",
      "depth2/category35.html\n",
      "depth2/category36.html\n",
      "depth2/category37.html\n",
      "depth2/category38.html\n",
      "depth2/category39.html\n",
      "depth2/category40.html\n",
      "depth2/category41.html\n",
      "depth2/category42.html\n",
      "depth2/category43.html\n",
      "depth2/category44.html\n",
      "depth2/category45.html\n",
      "depth2/category46.html\n",
      "depth2/category47.html\n",
      "depth2/category48.html\n",
      "depth2/category49.html\n",
      "depth2/category50.html\n",
      "depth2/category51.html\n",
      "depth2/category52.html\n",
      "depth2/category53.html\n",
      "depth2/category54.html\n",
      "depth2/category55.html\n",
      "depth2/category56.html\n",
      "depth2/category57.html\n",
      "depth2/category58.html\n",
      "depth2/category59.html\n",
      "depth2/category60.html\n",
      "depth2/category61.html\n",
      "depth2/category62.html\n",
      "depth2/category63.html\n",
      "depth2/category64.html\n",
      "depth2/category65.html\n",
      "depth2/category66.html\n",
      "depth2/category67.html\n",
      "depth2/category68.html\n",
      "depth2/category69.html\n",
      "depth2/category70.html\n",
      "depth2/category71.html\n",
      "depth2/category72.html\n",
      "depth2/category73.html\n",
      "depth2/category74.html\n",
      "depth2/category75.html\n",
      "depth2/category76.html\n",
      "depth2/category77.html\n",
      "depth2/category78.html\n",
      "depth2/category79.html\n",
      "depth2/category80.html\n",
      "depth2/category81.html\n",
      "depth2/category82.html\n",
      "depth2/category83.html\n",
      "depth2/category84.html\n",
      "depth2/category85.html\n",
      "depth2/category86.html\n",
      "depth2/category87.html\n",
      "depth2/category88.html\n",
      "depth2/category89.html\n",
      "depth2/category90.html\n",
      "depth2/category91.html\n",
      "depth2/category92.html\n",
      "depth2/category93.html\n",
      "depth2/category94.html\n",
      "depth2/category95.html\n",
      "depth2/category96.html\n",
      "depth2/category97.html\n",
      "depth2/category98.html\n",
      "depth2/category99.html\n",
      "depth2/category100.html\n",
      "Спарсил 0 ссылок\n",
      "[]\n"
     ]
    }
   ],
   "source": [
    "get_first_links()"
   ]
  },
  {
   "cell_type": "code",
   "execution_count": 4,
   "metadata": {},
   "outputs": [
    {
     "name": "stdout",
     "output_type": "stream",
     "text": [
      "https://parsinger.ru/asyncio/aiofile/img/165939928218967150.jpg\n",
      "https://parsinger.ru/asyncio/aiofile/img/1661733689111161628.jpg\n",
      "https://parsinger.ru/asyncio/aiofile/img/1659252143129098428.jpg\n",
      "https://parsinger.ru/asyncio/aiofile/img/1661952288112096353.jpg\n",
      "https://parsinger.ru/asyncio/aiofile/img/1662345749176122658.jpg\n",
      "https://parsinger.ru/asyncio/aiofile/img/1659041731123121149.jpg\n",
      "https://parsinger.ru/asyncio/aiofile/img/1662023818123263476.jpg\n",
      "https://parsinger.ru/asyncio/aiofile/img/1659942756194713251.jpg\n",
      "https://parsinger.ru/asyncio/aiofile/img/1660258291134735540.jpg\n",
      "https://parsinger.ru/asyncio/aiofile/img/1661331796169363893.jpg\n"
     ]
    }
   ],
   "source": [
    "for i in images:\n",
    "    print(i.get())"
   ]
  },
  {
   "cell_type": "code",
   "execution_count": 3,
   "metadata": {},
   "outputs": [],
   "source": [
    "import os \n",
    "\n",
    "file_path = \"media/tg_avatars\"\n"
   ]
  },
  {
   "cell_type": "markdown",
   "metadata": {},
   "source": []
  },
  {
   "cell_type": "code",
   "execution_count": 7,
   "metadata": {},
   "outputs": [
    {
     "data": {
      "text/plain": [
       "1968808"
      ]
     },
     "execution_count": 7,
     "metadata": {},
     "output_type": "execute_result"
    }
   ],
   "source": [
    "result = 0\n",
    "for path in os.listdir(file_path):\n",
    "    file_stats = os.stat(f'{file_path}/{path}')\n",
    "    result += file_stats.st_size\n",
    "result \n",
    "    "
   ]
  },
  {
   "cell_type": "code",
   "execution_count": 7,
   "metadata": {},
   "outputs": [
    {
     "data": {
      "text/plain": [
       "'Растения'"
      ]
     },
     "execution_count": 7,
     "metadata": {},
     "output_type": "execute_result"
    }
   ],
   "source": [
    "import requests\n",
    "from parsel import Selector\n",
    "url = 'https://parsinger.ru/html/index1_page_1.html'\n",
    "\n",
    "resp = requests.get(url)\n",
    "resp.encoding = 'utf-8'\n",
    "sel = Selector(resp.text)\n",
    "items = sel.xpath('//div[@class=\"item\"]')\n",
    "for item in items:\n",
    "    result = {}\n",
    "    result['title'] = item.xpath('.//a[@class=\"name_item\"]/text()').get()\n",
    "    result['price'] = item.xpath('.//p[@class=\"price\"]/text()').get()\n",
    "    print(result)"
   ]
  },
  {
   "cell_type": "code",
   "execution_count": 10,
   "metadata": {},
   "outputs": [
    {
     "name": "stdout",
     "output_type": "stream",
     "text": [
      "{'title': 'Jet Kid Start blue Умные детские часы', 'price': '2310 руб', 'old_price': '3550 руб', 'in_stock': 'В наличии: 5', 'article': 'Артикул: 80235265', 'description': {'brand': ' Jet', 'model': ' Excidium', 'type': ' умные часы', 'display': ' Монохромный', 'material_frame': ' пластик', 'material_bracer': ' силикон', 'size': ' 54х34х12 мм', 'site': ' www.jetdevice.com'}}\n"
     ]
    }
   ],
   "source": [
    "def parse_page(sel: Selector):\n",
    "    result = {}\n",
    "    result['title'] = sel.xpath('//p[@id=\"p_header\"]/text()').get()\n",
    "    result['price'] = sel.xpath('//span[@id=\"price\"]/text()').get()\n",
    "    result['old_price'] = sel.xpath('//span[@id=\"old_price\"]/text()').get()\n",
    "    result['in_stock'] = sel.xpath('//span[@id=\"in_stock\"]/text()').get()\n",
    "    result['article'] = sel.xpath('//p[@class=\"article\"]/text()').get()\n",
    "    description = {}\n",
    "    for li in sel.xpath('//li'):\n",
    "        description[li.xpath('./@id').get()] = ''.join(li.xpath('./text()').get().split(':')[1:])\n",
    "    result['description'] = description\n",
    "    return result\n",
    "\n",
    "def write_result(result:dict, path='data.json'):\n",
    "    print(result)\n",
    "\n",
    "\n",
    "url = 'https://parsinger.ru/html/watch/1/1_1.html'\n",
    "resp = requests.get(url)\n",
    "resp.encoding = 'utf-8'\n",
    "sel = Selector(resp.text)\n",
    "result = parse_page(sel)\n",
    "write_result(result)"
   ]
  },
  {
   "cell_type": "code",
   "execution_count": 28,
   "metadata": {},
   "outputs": [],
   "source": [
    "PATH = 'data.json'"
   ]
  },
  {
   "cell_type": "code",
   "execution_count": 20,
   "metadata": {},
   "outputs": [],
   "source": [
    "import json\n",
    "with open('data.json', 'w', encoding='utf-8') as file:\n",
    "    json.dump([result], file, indent=4, ensure_ascii=False)"
   ]
  },
  {
   "cell_type": "code",
   "execution_count": 24,
   "metadata": {},
   "outputs": [],
   "source": [
    "with open(path, 'r', encoding='utf-8') as file:\n",
    "    old_data:list = json.load(file)\n",
    "old_data.append(result)"
   ]
  },
  {
   "cell_type": "code",
   "execution_count": 27,
   "metadata": {},
   "outputs": [
    {
     "data": {
      "text/plain": [
       "True"
      ]
     },
     "execution_count": 27,
     "metadata": {},
     "output_type": "execute_result"
    }
   ],
   "source": [
    "import os \n",
    "\n",
    "os.path.exists(path)"
   ]
  },
  {
   "cell_type": "code",
   "execution_count": 35,
   "metadata": {},
   "outputs": [],
   "source": [
    "def write_string(result:dict):\n",
    "    if not os.path.exists(PATH):\n",
    "        with open(PATH, 'w', encoding='utf-8') as file:\n",
    "            json.dump([result], file, indent=4, ensure_ascii=False)\n",
    "    else:\n",
    "        with open(PATH, 'r', encoding='utf-8') as file:\n",
    "            data:list = json.load(file)\n",
    "        data.append(result)\n",
    "        with open(PATH, 'w', encoding='utf-8') as file:\n",
    "            json.dump(data, file, indent=4, ensure_ascii=False)"
   ]
  },
  {
   "cell_type": "code",
   "execution_count": null,
   "metadata": {},
   "outputs": [],
   "source": []
  },
  {
   "cell_type": "code",
   "execution_count": 41,
   "metadata": {},
   "outputs": [
    {
     "name": "stdout",
     "output_type": "stream",
     "text": [
      "['https://parsinger.ru/html/index1_page_1.html', 'https://parsinger.ru/html/index2_page_1.html', 'https://parsinger.ru/html/index3_page_1.html', 'https://parsinger.ru/html/index4_page_1.html', 'https://parsinger.ru/html/index5_page_1.html']\n"
     ]
    }
   ],
   "source": [
    "url = 'https://parsinger.ru/html/index1_page_1.html'\n",
    "base_url = 'https://parsinger.ru/html/'\n",
    "urls = []\n",
    "resp = requests.get(url)\n",
    "resp.encoding = 'utf-8'\n",
    "sel = Selector(resp.text)\n",
    "links = sel.xpath('//div[@class=\"nav_menu\"]/a/@href')\n",
    "for link in links:\n",
    "    urls.append(base_url + link.get())\n",
    "print(urls)\n"
   ]
  },
  {
   "cell_type": "code",
   "execution_count": 47,
   "metadata": {},
   "outputs": [
    {
     "name": "stdout",
     "output_type": "stream",
     "text": [
      "index1_page_1.html\n",
      "index1_page_2.html\n",
      "index1_page_3.html\n",
      "index1_page_4.html\n"
     ]
    }
   ],
   "source": [
    "links = sel.xpath('(//div[@class=\"pagen\"])[1]/a/@href')\n",
    "for link in links:\n",
    "    print(link.get())"
   ]
  },
  {
   "cell_type": "code",
   "execution_count": 9,
   "metadata": {},
   "outputs": [
    {
     "data": {
      "text/plain": [
       "'165912605711247490'"
      ]
     },
     "execution_count": 9,
     "metadata": {},
     "output_type": "execute_result"
    }
   ],
   "source": [
    "a = 'https://parsinger.ru/asyncio/aiofile/img/165912605711247490.jpg'"
   ]
  },
  {
   "cell_type": "code",
   "execution_count": 12,
   "metadata": {},
   "outputs": [
    {
     "data": {
      "text/plain": [
       "False"
      ]
     },
     "execution_count": 12,
     "metadata": {},
     "output_type": "execute_result"
    }
   ],
   "source": [
    "os.path.exists('asda')"
   ]
  },
  {
   "cell_type": "code",
   "execution_count": 39,
   "metadata": {},
   "outputs": [],
   "source": [
    "for i in range(15):\n",
    "    write_string(result)"
   ]
  }
 ],
 "metadata": {
  "kernelspec": {
   "display_name": "base",
   "language": "python",
   "name": "python3"
  },
  "language_info": {
   "codemirror_mode": {
    "name": "ipython",
    "version": 3
   },
   "file_extension": ".py",
   "mimetype": "text/x-python",
   "name": "python",
   "nbconvert_exporter": "python",
   "pygments_lexer": "ipython3",
   "version": "3.9.13"
  },
  "orig_nbformat": 4,
  "vscode": {
   "interpreter": {
    "hash": "5aa5e2928d664687c9381123541672e3561f763741993076ffb7b2e7971e825a"
   }
  }
 },
 "nbformat": 4,
 "nbformat_minor": 2
}
