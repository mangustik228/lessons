{
 "cells": [
  {
   "cell_type": "markdown",
   "metadata": {},
   "source": [
    "## Библиотека `os`"
   ]
  },
  {
   "cell_type": "markdown",
   "metadata": {},
   "source": [
    "|команда|что делает|пример того что возвращает|\n",
    "|--|--|--|\n",
    "|`os.getcwd`|Путь к текущей директории|`/home/bacek/work/ozon`|\n",
    "|`os.chdir('~/lessons')`|меняет рабочую директорию|с jupiter не удалось запустить|\n",
    "|`os.listdir()`|список файлов в тек.каталоге|`['__pycache__', 'testes.ipynb', 'venv'`|\n",
    "|`os.mkdir(hello)`|создает папку||\n",
    "|`os.mkdir(hello/inner_folder)`|создает папку в глубину||\n",
    "|`os.rmdir('hello')`|Удалить папку||\n",
    "|`os.removedirs('hello/inner_folder')`|удаляет папки||\n",
    "|`out|||\n",
    "||||\n",
    "||||"
   ]
  },
  {
   "cell_type": "code",
   "execution_count": 1,
   "metadata": {},
   "outputs": [
    {
     "data": {
      "text/plain": [
       "['sqlite3.ipynb', 'default.ipynb']"
      ]
     },
     "execution_count": 1,
     "metadata": {},
     "output_type": "execute_result"
    }
   ],
   "source": [
    "import os\n",
    "os.listdir()"
   ]
  },
  {
   "cell_type": "code",
   "execution_count": null,
   "metadata": {},
   "outputs": [],
   "source": []
  }
 ],
 "metadata": {
  "interpreter": {
   "hash": "5aa5e2928d664687c9381123541672e3561f763741993076ffb7b2e7971e825a"
  },
  "kernelspec": {
   "display_name": "Python 3.9.12 ('base')",
   "language": "python",
   "name": "python3"
  },
  "language_info": {
   "codemirror_mode": {
    "name": "ipython",
    "version": 3
   },
   "file_extension": ".py",
   "mimetype": "text/x-python",
   "name": "python",
   "nbconvert_exporter": "python",
   "pygments_lexer": "ipython3",
   "version": "3.10.4"
  },
  "orig_nbformat": 4
 },
 "nbformat": 4,
 "nbformat_minor": 2
}
