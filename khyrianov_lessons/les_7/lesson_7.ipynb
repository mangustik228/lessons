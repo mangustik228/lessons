{
 "cells": [
  {
   "cell_type": "markdown",
   "metadata": {},
   "source": [
    "# Лекция по видео"
   ]
  },
  {
   "cell_type": "markdown",
   "metadata": {},
   "source": [
    "## Модули и пакеты"
   ]
  },
  {
   "cell_type": "markdown",
   "metadata": {},
   "source": [
    "Цель разбиения на модули такая же как и цель разбиения на функции\n",
    "Проблема которую решает модульное программирование -  \n",
    "это уменьшение сложности программы, за счет декомпозиции имен функций( структурирование пространств имен):  \n",
    "- функций\n",
    "- объектов (классов)\n",
    "- переменных"
   ]
  },
  {
   "cell_type": "markdown",
   "metadata": {},
   "source": [
    "Как на `C:\\users\\directory\\...`  \n",
    "Модули и пакеты решают эти же задачи\n",
    "Пример задачи:  \n",
    "![картинка](./pics/screen-4.png)"
   ]
  },
  {
   "cell_type": "markdown",
   "metadata": {},
   "source": [
    "Фактически все это будет сохранено в главном модуле:  \n",
    "`__main__` главная функция, которую воспринимает интерпретатор  \n",
    "сохраняется в переменной `__name__`"
   ]
  },
  {
   "cell_type": "markdown",
   "metadata": {},
   "source": [
    "![картинка](./pics/screen-5.png) ТАК ДЕЛАТЬ НЕЛЬЗЯ. ОБРАЩЕНИЕ ТОЛЬКО К БИБЛИОТЕКЕ  \n",
    "\n",
    "![картинка](./pics/screen-6.png) ТАК ПРАВИЛЬНО!  \n",
    "  \n",
    "Когда делать декомпозицию:\n",
    "- Когда \"прижало\" (режим рефакторинга)\n",
    "- Сделать разбиение заблаговременно\n",
    "  \n",
    "Пакет представляет из себя объединение модулей \n"
   ]
  },
  {
   "cell_type": "markdown",
   "metadata": {},
   "source": [
    "## Варианты импорта библиотек и некоторые нюансы"
   ]
  },
  {
   "cell_type": "markdown",
   "metadata": {},
   "source": [
    "Импорт модуля:\n",
    "- Вариант 1  \n",
    "`import module`  \n",
    "`module.foo(1,2,3) ` \n",
    "- Вариант 2  \n",
    " `from module import foo`\n",
    " `foo(1, 2, 3)`  \n",
    "при варинте 2 будет проблема если написать:  \n",
    "`foo = 5` - будет конфликт имён\n",
    "- Вариант 3  \n",
    " `from module import *` - Это не очень хорошо, можно глазами не увиделть конфликт имен\n",
    "- Вариант 4  \n",
    "`import module as md` - хороший вариант использования"
   ]
  },
  {
   "cell_type": "markdown",
   "metadata": {},
   "source": [
    "В библиотеки ничего не должно запускаться, можно в конце добавить:  \n",
    "`if __name__ == __main__:`  \n",
    " `main()`  \n",
    " Такая запись скажет, что запускать, только если это главный файл.   \n",
    " `__main__` только у главного файла "
   ]
  },
  {
   "cell_type": "markdown",
   "metadata": {},
   "source": [
    "Чтоб не нарушать ссылки на чужие модули(частая практика) - существуют менеджеры проектов"
   ]
  },
  {
   "cell_type": "markdown",
   "metadata": {},
   "source": [
    "см. файл `lib.py`:"
   ]
  },
  {
   "cell_type": "markdown",
   "metadata": {},
   "source": [
    "А тут файл `main.py`:  "
   ]
  },
  {
   "cell_type": "code",
   "execution_count": 1,
   "metadata": {},
   "outputs": [
    {
     "name": "stdout",
     "output_type": "stream",
     "text": [
      "1\n",
      "3\n",
      "__name__ in main file == __main__\n",
      "__name__ in library file == lib\n"
     ]
    }
   ],
   "source": [
    "import lib\n",
    "lib.foo(1)\n",
    "lib.bar(1, 2)\n",
    "print('__name__ in main file ==', __name__)\n",
    "lib.print_self()"
   ]
  },
  {
   "cell_type": "markdown",
   "metadata": {},
   "source": [
    "## Объекты и классы"
   ]
  },
  {
   "cell_type": "markdown",
   "metadata": {},
   "source": [
    "Объект - это переменная классового типа.  \n",
    "Значение переменной соотносится к типам, также объект относится к классам  \n",
    "Экземпляр класса == Объект"
   ]
  },
  {
   "cell_type": "code",
   "execution_count": 11,
   "metadata": {},
   "outputs": [],
   "source": [
    "class Goat:  # Класс \"Коза\"\n",
    "    # def __init__('чето тут прописывается, но узнаем в сл. серии'):\n",
    "    age = 0  # Классовый атрибут, для всех идентичный, пока не сказано иного\n",
    "    def pet():  # Погладить\n",
    "        print('Бээээ')"
   ]
  },
  {
   "cell_type": "code",
   "execution_count": 19,
   "metadata": {},
   "outputs": [
    {
     "ename": "TypeError",
     "evalue": "pet() takes 0 positional arguments but 1 was given",
     "output_type": "error",
     "traceback": [
      "\u001b[1;31m---------------------------------------------------------------------------\u001b[0m",
      "\u001b[1;31mTypeError\u001b[0m                                 Traceback (most recent call last)",
      "\u001b[1;32m~\\AppData\\Local\\Temp/ipykernel_9136/2216108248.py\u001b[0m in \u001b[0;36m<module>\u001b[1;34m\u001b[0m\n\u001b[0;32m      1\u001b[0m \u001b[0mmashka\u001b[0m \u001b[1;33m=\u001b[0m \u001b[0mGoat\u001b[0m\u001b[1;33m(\u001b[0m\u001b[1;33m)\u001b[0m  \u001b[1;31m# Машка становится экземпляром класса \"Коза\"\u001b[0m\u001b[1;33m\u001b[0m\u001b[1;33m\u001b[0m\u001b[0m\n\u001b[0;32m      2\u001b[0m \u001b[0mmashka\u001b[0m\u001b[1;33m.\u001b[0m\u001b[0mage\u001b[0m \u001b[1;33m=\u001b[0m \u001b[1;36m2\u001b[0m  \u001b[1;31m# Экземплярный атрибут\u001b[0m\u001b[1;33m\u001b[0m\u001b[1;33m\u001b[0m\u001b[0m\n\u001b[1;32m----> 3\u001b[1;33m \u001b[0mmashka\u001b[0m\u001b[1;33m.\u001b[0m\u001b[0mpet\u001b[0m\u001b[1;33m(\u001b[0m\u001b[1;33m)\u001b[0m\u001b[1;33m\u001b[0m\u001b[1;33m\u001b[0m\u001b[0m\n\u001b[0m",
      "\u001b[1;31mTypeError\u001b[0m: pet() takes 0 positional arguments but 1 was given"
     ]
    }
   ],
   "source": [
    "mashka = Goat()  # Машка становится экземпляром класса \"Коза\"\n",
    "mashka.age = 2  # Экземплярный атрибут\n",
    "mashka.pet()\n"
   ]
  },
  {
   "cell_type": "markdown",
   "metadata": {},
   "source": [
    "`PEP8` Говорит что название классов должно начинаться с **заглавной** буквы!  \n",
    "Большая буква позволяет не перепутать с названием функции.  \n",
    "В записи `mashka = Goat()` Можно сказать конструирование или создание нового объекта"
   ]
  },
  {
   "cell_type": "markdown",
   "metadata": {},
   "source": [
    "По сути класс: коробочка для упаковывания функций и переменных"
   ]
  },
  {
   "cell_type": "markdown",
   "metadata": {},
   "source": [
    "`Класс` - объединение кода и данных. Объединение - по сути `инкапсуляция`  \n",
    "Главное отличие модуля от класса: мы не можем создавать экземляры модуля."
   ]
  },
  {
   "cell_type": "markdown",
   "metadata": {},
   "source": []
  }
 ],
 "metadata": {
  "interpreter": {
   "hash": "b1a8b63bdf27559490c16144d51d3a6902ecbd7b7872de05b273d065c9a99ab9"
  },
  "kernelspec": {
   "display_name": "Python 3.10.0 64-bit",
   "language": "python",
   "name": "python3"
  },
  "language_info": {
   "codemirror_mode": {
    "name": "ipython",
    "version": 3
   },
   "file_extension": ".py",
   "mimetype": "text/x-python",
   "name": "python",
   "nbconvert_exporter": "python",
   "pygments_lexer": "ipython3",
   "version": "3.9.7"
  },
  "orig_nbformat": 4
 },
 "nbformat": 4,
 "nbformat_minor": 2
}
