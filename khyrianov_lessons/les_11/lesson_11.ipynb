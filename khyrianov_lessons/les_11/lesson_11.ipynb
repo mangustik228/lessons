{
 "cells": [
  {
   "cell_type": "markdown",
   "metadata": {},
   "source": [
    "## Крестики - нолики"
   ]
  },
  {
   "cell_type": "code",
   "execution_count": 3,
   "metadata": {},
   "outputs": [
    {
     "name": "stdout",
     "output_type": "stream",
     "text": [
      "pygame 2.1.0 (SDL 2.0.16, Python 3.9.7)\n",
      "Hello from the pygame community. https://www.pygame.org/contribute.html\n"
     ]
    }
   ],
   "source": [
    "import pygame as pg"
   ]
  },
  {
   "cell_type": "markdown",
   "metadata": {},
   "source": [
    "`enum` - способность создавать символические имена привязанные к конкретным константным значениям..."
   ]
  },
  {
   "cell_type": "code",
   "execution_count": 4,
   "metadata": {},
   "outputs": [],
   "source": [
    "from enum import Enum"
   ]
  },
  {
   "cell_type": "code",
   "execution_count": null,
   "metadata": {},
   "outputs": [],
   "source": [
    "CELL_SIZE = 100\n",
    "\n",
    "class Cell(Enum): # способность создавать символические имена привязанные к конкретным константным значениям...\n",
    "    VOID = 0\n",
    "    CROSS = 1 # Крестики\n",
    "    ZERO = 2 # Нолики\n",
    "\n",
    "class Player():\n",
    "    '''class of player, name and type of signs\n",
    "    '''\n",
    "    def __init__(self, name, cell_type) -> None:\n",
    "        self.name = name\n",
    "        self.type = cell_type \n",
    "    pass\n",
    "\n",
    "class CellField():\n",
    "    pass\n",
    "\n",
    "class GameField():\n",
    "    pass\n",
    "\n",
    "class GameFieldView():\n",
    "    '''виджет игрового поля, который отображает его на экране а также отображает место клика\n",
    "    '''\n",
    "    def __init__(self, field) -> None: # Передаем поле для отображения\n",
    "        # загрузить картинки значков клеток\n",
    "        # отобразить первичное поле\n",
    "        self._field = field\n",
    "        self._height = field.height * CELL_SIZE\n",
    "        self._width = field.width * CELL_SIZE\n",
    "\n",
    "    def draw(self):\n",
    "        pass\n",
    "    \n",
    "    def check_coords_correct(self, x, y):\n",
    "        return True  # TODO: учесть self.height\n",
    "\n",
    "    def get_coords(self, x, y):\n",
    "        return (0, 0) # TODO: реально вычислить клетку клика\n",
    "        \n",
    "    \n",
    "    \n",
    "class GameRoundManager():\n",
    "    '''Иенеджер игры запускающий все процессы'''\n",
    "    def __init__(self, player1: Player, player2: Player) -> None:\n",
    "        self._players =  [player1, player2]  # Нижним подчеркиваением сказали что свойство не публичное... \n",
    "        self._current_player = 0\n",
    "        self._field = GameField()\n",
    "        \n",
    "    def handle_click(self, i, j): # обработчик клика\n",
    "        player = self._players[self._current_player]\n",
    "        print('click_handled', i, j)\n",
    "\n",
    "\n",
    "class GameWindow():\n",
    "    '''Содержит в себе виджет поля, доп. кнопки. основной цикл и обработчик событий\n",
    "    \n",
    "    '''\n",
    "    def __init__(self) -> None:\n",
    "        # Инициализация pygame \n",
    "        pg.init()\n",
    "        \n",
    "        # параметры окна (Window)\n",
    "        self._width = 600\n",
    "        self._height = 600\n",
    "        self._title = 'Крестики - нолики'\n",
    "        self._screen = pg.display.set_mode((self._width, self._height)) #создание окна\n",
    "        self.display.set_caption(self._title) \n",
    "        \n",
    "        \n",
    "        # инициализация pygame\n",
    "        self._field_widget = GameFieldView() # вещь связанная с созданием поля\n",
    "        player1 = Player('Петя', Cell.CROSS)\n",
    "        player2 = Player('Вася', Cell.ZERO) # инициализация игроков, с указанием кто за кого играет\n",
    "        self._game_menager = GameRoundManager() # создание менеджера с игроками\n",
    "        self._field_widget = GameFieldView(self._game_menager._field) # создание менеджера с игроками\n",
    "        \n",
    "    \n",
    "    def main_loop(self): # Главный цикл\n",
    "        finished = False\n",
    "        while not finished: \n",
    "            for event in pg.event.get(): # Проверка ивентов\n",
    "                if event.type == pg.QUIT: # Пробрасываем события\n",
    "                    finished = True # если выход, то выход\n",
    "                elif event.type == pg.MOUSEBUTTONDOWN: # игрок делает клик на поле\n",
    "                    x, y = event.x, event.y  # Получаем х и у кординату клика мышки\n",
    "                    if self._field_widget.check_coords_correct(x, y) # проверяет корректность введеных х и у, чтоб они попападали в окно \n",
    "                        i, j = self._field_widget.get_coords(x, y) # Переводит х и у в координаты массива, чтоб этим не занимался game_manager\n",
    "                    self._game_menager.handle_click(i, j) # Передаем GameManager событие, чтоб он вытащил то что ему нужно\n",
    "        pg.quit()\n",
    "                    "
   ]
  }
 ],
 "metadata": {
  "interpreter": {
   "hash": "19cd9e144062e1d74c30cc190641decf8dc4a282609cf1d935fcd87d48aceed2"
  },
  "kernelspec": {
   "display_name": "Python 3.9.7 64-bit ('base': conda)",
   "language": "python",
   "name": "python3"
  },
  "language_info": {
   "codemirror_mode": {
    "name": "ipython",
    "version": 3
   },
   "file_extension": ".py",
   "mimetype": "text/x-python",
   "name": "python",
   "nbconvert_exporter": "python",
   "pygments_lexer": "ipython3",
   "version": "3.9.7"
  },
  "orig_nbformat": 4
 },
 "nbformat": 4,
 "nbformat_minor": 2
}
