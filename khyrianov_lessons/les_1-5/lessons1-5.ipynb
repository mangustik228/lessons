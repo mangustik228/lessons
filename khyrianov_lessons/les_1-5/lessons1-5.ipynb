{
 "cells": [
  {
   "cell_type": "markdown",
   "metadata": {},
   "source": [
    "# Лекции Хирьянова и задания по ним"
   ]
  },
  {
   "cell_type": "markdown",
   "metadata": {},
   "source": [
    "## Лекция 1 (переменные, `input()` `numpy`, `mathpotlib`, `math`)`"
   ]
  },
  {
   "cell_type": "markdown",
   "metadata": {},
   "source": [
    "### Лекция по видео  (Типы переменных, math, input(), help, f-строка)"
   ]
  },
  {
   "cell_type": "markdown",
   "metadata": {},
   "source": [
    "#### Типы переменных"
   ]
  },
  {
   "cell_type": "code",
   "execution_count": null,
   "metadata": {},
   "outputs": [],
   "source": [
    "x = 5\n",
    "print(type(x))\n",
    "y = 'asd'\n",
    "print(type(y))\n",
    "x = 5/2\n",
    "print(type(x))\n",
    "boolean = True\n",
    "print(type(boolean))"
   ]
  },
  {
   "cell_type": "markdown",
   "metadata": {},
   "source": [
    "#### Форматы данных и специальные символы, f-строка"
   ]
  },
  {
   "cell_type": "markdown",
   "metadata": {},
   "source": [
    "Special symbols\n",
    "`\\n \\t \\\\` (new_line, tabulator, печать \"экранирования\",)\n",
    "`format(value=z, format_spec=0000, /) Не удалось запустить`"
   ]
  },
  {
   "cell_type": "code",
   "execution_count": null,
   "metadata": {},
   "outputs": [],
   "source": [
    "x = 10\n",
    "y = 5 \n",
    "z = 20\n",
    "print(x, y, z, sep='|')\n",
    "print(f'f-stroka | \\nx = {x} , y = {y}, z = {z}') #f-string"
   ]
  },
  {
   "cell_type": "markdown",
   "metadata": {},
   "source": [
    "#### Функция help"
   ]
  },
  {
   "cell_type": "code",
   "execution_count": null,
   "metadata": {},
   "outputs": [],
   "source": [
    "help(format)"
   ]
  },
  {
   "cell_type": "markdown",
   "metadata": {},
   "source": [
    "#### Переменная извне"
   ]
  },
  {
   "cell_type": "code",
   "execution_count": null,
   "metadata": {},
   "outputs": [],
   "source": [
    "name = input()"
   ]
  },
  {
   "cell_type": "markdown",
   "metadata": {},
   "source": [
    "#### Пару примеров библиотеки `math`"
   ]
  },
  {
   "cell_type": "code",
   "execution_count": null,
   "metadata": {},
   "outputs": [],
   "source": [
    "import math\n",
    "math.sin(math.pi/4)\n",
    "\n",
    "age = int(input('Сколько тебе лет? ' + name))\n",
    "# age = int(age) можно так, но сейчас правильнее\n",
    "age += 1\n",
    "print(f'Иди в жопу малолетка, вход только с {age}', end = '')\n",
    "if age >= 2 and age <= 20:\n",
    "    print('лет')\n",
    "elif (age > 20 and (age %10 == 1 or age %10 == 2 or age %10 == 3 or age %10 == 4)) or age == 1:\n",
    "    print('года')   \n",
    "elif age >= 25 and (age %10 == 5 or age %10 == 6 or age %10 == 7 or age %10 == 8 or age %10 == 9 or age %10 == 0): \n",
    "    print('лет')"
   ]
  },
  {
   "cell_type": "markdown",
   "metadata": {},
   "source": [
    "### Лекция в практической части занятий (`numpy`, `mathpotlib`)"
   ]
  },
  {
   "cell_type": "markdown",
   "metadata": {},
   "source": [
    "#### Установка и импорт библиотеки `matplotlib.pyplot`"
   ]
  },
  {
   "cell_type": "code",
   "execution_count": null,
   "metadata": {},
   "outputs": [],
   "source": [
    "# pip install matplotlib # Установка\n",
    "import matplotlib.pyplot as plt\n",
    "import numpy as np"
   ]
  },
  {
   "cell_type": "markdown",
   "metadata": {},
   "source": [
    "#### Основные функции библиотеки `numpy`"
   ]
  },
  {
   "cell_type": "markdown",
   "metadata": {},
   "source": [
    "- `np.pi`\tЧисло pi  \n",
    "- `np.e`\tЧисло e  \n",
    "- `np.cos`\tКосинус  \n",
    "- `np.sin`\tСинус  \n",
    "- `np.tan`\tТангенс  \n",
    "- `np.acos`\tАрккосинус  \n",
    "- `np.asin`\tАрксинус  \n",
    "- `np.atan`\tАрктангенс  \n",
    "- `np.exp`\tЭкспонента  \n",
    "- `np.log`\tЛогарифм Например, если мы хотим получить логарифм x по основанию 2, нужно написать: np.log(x) / np.log(2)"
   ]
  },
  {
   "cell_type": "markdown",
   "metadata": {},
   "source": [
    "#### Пример 1 ( создание графика )"
   ]
  },
  {
   "cell_type": "code",
   "execution_count": null,
   "metadata": {},
   "outputs": [],
   "source": [
    "x = np.arange(-10, 10.01, 0.01) # что то типо массива....\n",
    "plt.plot(x, x**2)  \n",
    "plt.show()"
   ]
  },
  {
   "cell_type": "markdown",
   "metadata": {},
   "source": [
    "#### Пример 2 ( несколько графиков )"
   ]
  },
  {
   "cell_type": "code",
   "execution_count": null,
   "metadata": {},
   "outputs": [],
   "source": [
    "x = np.arange(-10, 10, 0.01)\n",
    "plt.plot(x, np.sin(x), x, np.cos(x), x, -x)\n",
    "plt.xlabel(r'$x$')\n",
    "plt.ylabel(r'$f(x)$')\n",
    "plt.title(r'$f_1(x)=\\sin(x),\\ f_2(x)=\\cos(x),\\ f_3(x)=-x$')\n",
    "plt.grid(True)\n",
    "plt.show()"
   ]
  },
  {
   "cell_type": "markdown",
   "metadata": {},
   "source": [
    "#### Пример 3 ( график с легендой )"
   ]
  },
  {
   "cell_type": "code",
   "execution_count": null,
   "metadata": {},
   "outputs": [],
   "source": [
    "# Текстовые поля в matplotlib могут содержать разметку LaTeX, заключенную в знаки $. Буква r перед кавычками \n",
    "# говорит python, что символ \"\\\" следует оставить как есть и не интерпретировать как начало спецсимвола \n",
    "# (например, перевода строки - \"\\n\").\n",
    "x = np.arange(-10, 10.01, 0.01)\n",
    "plt.figure(figsize=(10, 5))\n",
    "plt.plot(x, np.sin(x), label=r'$f_1(x)=\\sin(x)$')\n",
    "plt.plot(x, np.cos(x), label=r'$f_2(x)=\\cos(x)$')\n",
    "plt.plot(x, -x, label=r'$f_3(x)=-x$')\n",
    "plt.xlabel(r'$x$', fontsize=14)\n",
    "plt.ylabel(r'$f(x)$', fontsize=14)\n",
    "plt.grid(True)\n",
    "plt.legend(loc='best', fontsize=12)\n",
    "plt.savefig('figure_with_legend.png')\n",
    "plt.show()"
   ]
  },
  {
   "cell_type": "markdown",
   "metadata": {},
   "source": [
    "#### Описание библиотеки `matpotlib`"
   ]
  },
  {
   "cell_type": "markdown",
   "metadata": {},
   "source": [
    "Работа с matplotlib основана на использовании графических окон и осей (оси позволяют задать некоторую графическую область). \n",
    "Все построения применяются к текущим осям. Это позволяет изображать несколько графиков в одном графическом окне. По умолчанию \n",
    "создаётся одно графическое окно figure(1) и одна графическая область subplot(111) в этом окне. Команда subplot позволяет разбить \n",
    "графическое окно на несколько областей. Она имеет три параметра: nr, nc, np. Параметры nr и nc определяют количество строк и столбцов \n",
    "на которые разбивается графическая область, параметр np определяет номер текущей области (np принимает значения от 1 до nr*nc). \n",
    "Если nr*nc<10, то передавать параметры nr, nc, np можно без использования запятой. Например, допустимы формы subplot(2,2,1) и subplot(221)."
   ]
  },
  {
   "cell_type": "markdown",
   "metadata": {},
   "source": [
    "`plot()` — универсальная команда и в неё можно передавать произвольное количество\n",
    "аргументов. Например, для того, чтобы отобразить y в зависимости от x, можно выполнить команду:"
   ]
  },
  {
   "cell_type": "markdown",
   "metadata": {},
   "source": [
    "#### Пример 4 ( Четыре графика )"
   ]
  },
  {
   "cell_type": "code",
   "execution_count": null,
   "metadata": {},
   "outputs": [],
   "source": [
    "\n",
    "x = np.arange(-10, 10.01, 0.01)\n",
    "t = np.arange(-10, 11, 1)\n",
    "\n",
    "#subplot 1\n",
    "sp = plt.subplot(221)\n",
    "plt.plot(x, np.sin(x))\n",
    "plt.title(r'$\\sin(x)$')\n",
    "plt.grid(True)\n",
    "\n",
    "#subplot 2\n",
    "sp = plt.subplot(222)\n",
    "plt.plot(x, np.cos(x), 'g')\n",
    "plt.axis('equal')\n",
    "plt.grid(True)\n",
    "plt.title(r'$\\cos(x)$')\n",
    "\n",
    "#subplot 3\n",
    "sp = plt.subplot(223)\n",
    "plt.plot(x, x**2, t, t**2, 'ro')\n",
    "plt.title(r'$x^2$')\n",
    "\n",
    "#subplot 4\n",
    "sp = plt.subplot(224)\n",
    "plt.plot(x, x)\n",
    "sp.spines['left'].set_position('center')\n",
    "sp.spines['bottom'].set_position('center')\n",
    "plt.title(r'$x$')\n",
    "\n",
    "plt.show()"
   ]
  },
  {
   "cell_type": "markdown",
   "metadata": {},
   "source": [
    "#### Пример 5 ( График в полярной системе координат )"
   ]
  },
  {
   "cell_type": "code",
   "execution_count": null,
   "metadata": {},
   "outputs": [],
   "source": [
    "#  При создании subplot необходимо указать параметр polar=True:\n",
    "plt.subplot(111, polar=True)\n",
    "phi = np.arange(0, 2*np.pi, 0.01)\n",
    "rho = 2*phi\n",
    "plt.plot(phi, rho, lw=2)\n",
    "plt.show()"
   ]
  },
  {
   "cell_type": "markdown",
   "metadata": {},
   "source": [
    "#### Пример 6 ( График в параметрической форме )"
   ]
  },
  {
   "cell_type": "markdown",
   "metadata": {},
   "source": [
    "Для этого не требуется никаких дополнительных действий, \n",
    "поскольку два массива, которые передаются в функцию plot воспринимаются просто как списки координат точек, \n",
    "из которых состоит график):"
   ]
  },
  {
   "cell_type": "code",
   "execution_count": null,
   "metadata": {},
   "outputs": [],
   "source": [
    "t = np.arange(0, 2*np.pi, 0.01)\n",
    "r = 4\n",
    "plt.plot(r*np.sin(t), r*np.cos(t), lw=3)\n",
    "plt.axis('equal')\n",
    "plt.show()"
   ]
  },
  {
   "cell_type": "markdown",
   "metadata": {},
   "source": [
    "#### Пример 7 (Красивый пример)"
   ]
  },
  {
   "cell_type": "code",
   "execution_count": null,
   "metadata": {},
   "outputs": [],
   "source": [
    "# График функции двух переменных может быть построен, например, так:\n",
    "from mpl_toolkits.mplot3d import axes3d\n",
    "ax = axes3d.Axes3D(plt.figure())\n",
    "i = np.arange(-1, 1, 0.01)\n",
    "X, Y = np.meshgrid(i, i)\n",
    "Z = X**2 - Y**2\n",
    "ax.plot_wireframe(X, Y, Z, rstride=10, cstride=10)\n",
    "plt.show()"
   ]
  },
  {
   "cell_type": "markdown",
   "metadata": {},
   "source": [
    "#### Пример 8 ( Просто пример )"
   ]
  },
  {
   "cell_type": "code",
   "execution_count": null,
   "metadata": {},
   "outputs": [],
   "source": [
    "mu, sigma = 100, 15\n",
    "x = mu + sigma * np.random.randn(10000)\n",
    "# the histogram of the data\n",
    "n, bins, patches = plt.hist(x, 50, density=True, facecolor='g', alpha=0.75)\n",
    "\n",
    "plt.xlabel('Smarts')\n",
    "plt.ylabel('Probability')\n",
    "plt.title('Histogram of IQ')\n",
    "plt.text(60, .030, r'$\\mu=100,\\ \\sigma=15$')\n",
    "plt.text(50, .033, r'$\\varphi_{\\mu,\\sigma^2}(x) = \\frac{1}{\\sigma\\sqrt{2\\pi}} \\,e^{ -\\frac{(x- \\mu)^2}{2\\sigma^2}} = \\frac{1}{\\sigma} \\varphi\\left(\\frac{x - \\mu}{\\sigma}\\right),\\quad x\\in\\mathbb{R}$', fontsize=20, color='red')\n",
    "plt.axis([40, 160, 0, 0.04])\n",
    "plt.grid(True)\n",
    "plt.show()"
   ]
  },
  {
   "cell_type": "markdown",
   "metadata": {},
   "source": [
    "#### Пример 9 ( Простой пример использования plot)"
   ]
  },
  {
   "cell_type": "code",
   "execution_count": null,
   "metadata": {},
   "outputs": [],
   "source": [
    "plt.plot([1, 2, 3, 4], [1, 4, 9, 16])\n",
    "plt.show()"
   ]
  },
  {
   "cell_type": "markdown",
   "metadata": {},
   "source": [
    "#### Пример 10 ( Точечный график )"
   ]
  },
  {
   "cell_type": "code",
   "execution_count": null,
   "metadata": {},
   "outputs": [],
   "source": [
    "t = np.arange(0., 5., 0.2) # равномерно распределённые значения от 0 до 5, с шагом 0.2\n",
    "\n",
    "# красные чёрточки, синие квадраты и зелёные треугольники\n",
    "plt.plot(t, t, 'r--', t, t**2, 'bs', t, t**3, 'g^')\n",
    "plt.show()"
   ]
  },
  {
   "cell_type": "markdown",
   "metadata": {},
   "source": [
    "#### Пример 11 ( Круглые диаграммы )"
   ]
  },
  {
   "cell_type": "code",
   "execution_count": null,
   "metadata": {},
   "outputs": [],
   "source": [
    "data = [33, 25, 20, 12, 10]\n",
    "plt.figure(num=1, figsize=(6, 6))\n",
    "plt.axes(aspect=1)\n",
    "plt.title('Plot 3', size=14)\n",
    "plt.pie(data, labels=('Group 1', 'Group 2', 'Group 3', 'Group 4', 'Group 5'))\n",
    "plt.show()"
   ]
  },
  {
   "cell_type": "markdown",
   "metadata": {},
   "source": [
    "#### Пример 12 ( Столбчатая диаграмма )"
   ]
  },
  {
   "cell_type": "code",
   "execution_count": null,
   "metadata": {},
   "outputs": [],
   "source": [
    "objects = ('A', 'B', 'C', 'D', 'E', 'F')\n",
    "y_pos = np.arange(len(objects))\n",
    "performance = [10,8,6,4,2,1]\n",
    "\n",
    "plt.bar(y_pos, performance, align='center', alpha=0.5)\n",
    "plt.xticks(y_pos, objects)\n",
    "plt.ylabel('Value')\n",
    "plt.title('Bar title')\n",
    "\n",
    "plt.show()"
   ]
  },
  {
   "cell_type": "markdown",
   "metadata": {},
   "source": [
    "#### Пример 13 ( Цветовые диаграммы )"
   ]
  },
  {
   "cell_type": "markdown",
   "metadata": {},
   "source": [
    "Цветовые карты используются, если нужно указать в какие цвета должны окрашиваться участки трёхмерной поверхности в зависимости от значения Z в этой области. Цветовую карту можно задать самому, а можно воспользоваться готовой. Рассмотрим использование цветовой карты на примере графика функции z(x,y)=sin(x)*sin(y)/(x*y)."
   ]
  },
  {
   "cell_type": "code",
   "execution_count": null,
   "metadata": {},
   "outputs": [],
   "source": [
    "import pylab\n",
    "from mpl_toolkits.mplot3d import Axes3D\n",
    "from matplotlib import cm\n",
    "\n",
    "def makeData():\n",
    "        x = np.arange(-10, 10, 0.1)\n",
    "        y = np.arange(-10, 10, 0.1)\n",
    "        xgrid, ygrid = np.meshgrid(x, y)\n",
    "        zgrid = np.sin(xgrid)*np.sin(ygrid)/(xgrid*ygrid)\n",
    "        return xgrid, ygrid, zgrid\n",
    "\n",
    "x, y, z = makeData()\n",
    "\n",
    "fig = pylab.figure()\n",
    "axes = Axes3D(fig)\n",
    "axes.plot_surface(x, y, z, rstride=4, cstride=4, cmap=cm.jet)\n",
    "pylab.show()"
   ]
  },
  {
   "cell_type": "markdown",
   "metadata": {},
   "source": [
    "Альтернативой к использованию mpl_toolkits.mplot3d является библиотека plotly, которая позволяет интерактивно взаимодействовать с графиком, поворачивая его или увеличивая некоторую область в пространсте."
   ]
  },
  {
   "cell_type": "markdown",
   "metadata": {},
   "source": [
    "### Практическая работа"
   ]
  },
  {
   "cell_type": "markdown",
   "metadata": {},
   "source": [
    "#### Задание 1 ( График `y(x) = x*x - x - 6` )"
   ]
  },
  {
   "cell_type": "code",
   "execution_count": null,
   "metadata": {},
   "outputs": [],
   "source": [
    "import numpy as np\n",
    "import matplotlib.pyplot as plt"
   ]
  },
  {
   "cell_type": "code",
   "execution_count": null,
   "metadata": {},
   "outputs": [],
   "source": [
    "x = np.arange(0, 10, 0.001)\n",
    "plt.figure(figsize=(10, 5))\n",
    "plt.plot(x, x** - x - 6)"
   ]
  },
  {
   "cell_type": "markdown",
   "metadata": {},
   "source": [
    "#### Задание 2 ( Стремный график )"
   ]
  },
  {
   "cell_type": "code",
   "execution_count": null,
   "metadata": {},
   "outputs": [],
   "source": [
    "x = np.arange(-10, 10, 0.001)\n",
    "\n",
    "plt.figure(figsize=(10, 5))\n",
    "plt.plot(x, np.log(x**2+1)*(np.exp(-(abs(x)/10)))/np.log(1+np.tan(1/(1+np.sin(x)**2))))"
   ]
  },
  {
   "cell_type": "markdown",
   "metadata": {},
   "source": [
    "#### Пример кругового графика с прикольной графикой"
   ]
  },
  {
   "cell_type": "code",
   "execution_count": null,
   "metadata": {},
   "outputs": [],
   "source": [
    "with plt.xkcd():\n",
    "    plt.pie([70, 10, 10, 10], labels=('В комментариях', 'В Ираке', 'В Сирии', 'В Афганистане'))\n",
    "    plt.title('Где ведутся самые ожесточенные бои')"
   ]
  },
  {
   "cell_type": "markdown",
   "metadata": {},
   "source": [
    "## Лекция 2 (списки, словари, ветвление, `turtle`)"
   ]
  },
  {
   "cell_type": "markdown",
   "metadata": {},
   "source": [
    "### Лекция по видео (кортежи, списки, словари, множества)"
   ]
  },
  {
   "cell_type": "markdown",
   "metadata": {},
   "source": [
    "#### Множественное присвоение"
   ]
  },
  {
   "cell_type": "code",
   "execution_count": null,
   "metadata": {},
   "outputs": [],
   "source": [
    "x = y = z = 0\n",
    "print(x,y,z)\n",
    "x = 1; y = 2; z = 3 #Так можно, но не красиво\n",
    "print(x,y,z)\n",
    "x, y, z = 4, 9, 16 #profit! Кортежное присваивание\n",
    "print(x,y,z)\n",
    "x, y, z = z, y, x #reverse value!!!\n",
    "print(x,y,z)"
   ]
  },
  {
   "cell_type": "markdown",
   "metadata": {},
   "source": [
    "#### Котрежи"
   ]
  },
  {
   "cell_type": "code",
   "execution_count": null,
   "metadata": {},
   "outputs": [],
   "source": [
    "t = 1,2,3,4,5\n",
    "print(type(t))\n",
    "a,b,c,d,e = t #распаковка кортежа, переменных должно быть столько же, сколько и элементов, иначе ERROR \n",
    "f = t[3] # присвоить только 1 элемент\n",
    "print(f)\n",
    "a,b,*n = t #а и b первые элементы присвоили, т - остаток кортежа\n",
    "n\n",
    "*k,l,m = t #наоборот присвоить к первые элементы\n",
    "k\n",
    "print(t) \n",
    "print(*t) #Красивая печать кортежа без скобок. без скобок"
   ]
  },
  {
   "cell_type": "code",
   "execution_count": null,
   "metadata": {},
   "outputs": [],
   "source": [
    "def hello(name:str, n:int):\n",
    "    print(name*n)\n",
    "    return \n",
    "hello('la',5)\n",
    "value = 'хахаха', 4\n",
    "hello(*value)  # Крутой способ закидывать переменные(кортежи, хз как со списками и словарями)"
   ]
  },
  {
   "cell_type": "markdown",
   "metadata": {},
   "source": [
    "#### Функция `range()`"
   ]
  },
  {
   "cell_type": "code",
   "execution_count": null,
   "metadata": {},
   "outputs": [],
   "source": [
    "a = range(10) #(start, stop, step)\n",
    "type(a)"
   ]
  },
  {
   "cell_type": "code",
   "execution_count": null,
   "metadata": {},
   "outputs": [],
   "source": [
    "print(*range(10))\n",
    "range(10)"
   ]
  },
  {
   "cell_type": "markdown",
   "metadata": {},
   "source": [
    "####  Списки, `enumerate()`"
   ]
  },
  {
   "cell_type": "code",
   "execution_count": null,
   "metadata": {},
   "outputs": [],
   "source": [
    "a = [1,2,3,4] # список, изменяемый\n",
    "print(a)\n",
    "b = 5,6,7,8\n",
    "a = [a, (2,20), (3,15)]\n",
    "print(a)\n",
    "type(a)"
   ]
  },
  {
   "cell_type": "code",
   "execution_count": null,
   "metadata": {},
   "outputs": [],
   "source": [
    "a = [1,2,3,4]\n",
    "\n",
    "for i, value in enumerate(a): #enumerate - мз списка делает список пронумерованных кортежей\n",
    "    print(i, ' | ', value)\n",
    "b = [('первая строка',1),('вторая строка',2),('третья строка',3),('четвертая строка',4, 6)]\n",
    "for d, *c in b: #присвоение двух переменных. Но все элементы должны быть с кортежами по 2значения. Хотя * судя по всему тащит)))\n",
    "    print(d, ' | ', c)"
   ]
  },
  {
   "cell_type": "markdown",
   "metadata": {},
   "source": [
    "#### Множество и словари"
   ]
  },
  {
   "cell_type": "markdown",
   "metadata": {},
   "source": [
    "Элементы в множествах и словарях не упорядочены!"
   ]
  },
  {
   "cell_type": "code",
   "execution_count": null,
   "metadata": {},
   "outputs": [],
   "source": [
    "S = {'Москва', 'Троицк','Питер'} \n",
    "S.add('Ростов') #Добавить элемент\n",
    "print(*S) #не фигня не систематизировано\n",
    "\n",
    "# Нужно для конструкций типа\n",
    "if 'Рига' not in S:\n",
    "    print('нет такого города')\n",
    "# С множеством можно, сочетать, вычитать, добавлять, удалять. пробежать по множеству.\n",
    "if 'Питер' in S:\n",
    "    print('Питер есть')"
   ]
  },
  {
   "cell_type": "code",
   "execution_count": null,
   "metadata": {},
   "outputs": [],
   "source": [
    "dictionary = { #Сначало ключ, значение\n",
    "    'Москва' : 'Россия',\n",
    "    'Питер' : 'Россия',\n",
    "    'Амстердам' : 'Нидерланды',\n",
    "    'Париж' : 'Франция',\n",
    "}\n",
    "dictionary['Пекин'] = 'Китай' #добавление нового ключа\n",
    "print(*dictionary, '\\n\\n')\n",
    "\n",
    "for key in dictionary:\n",
    "    print(key, dictionary[key])\n",
    "    \n",
    "test_variable = 'Москва'\n",
    "if test_variable in dictionary:\n",
    "    print(dictionary[test_variable])\n",
    "else:\n",
    "    print('Не ебу что за город') \n",
    "dictionary[test_variable]    #Обращение к значению, если значения нет: то ошибка\n"
   ]
  },
  {
   "cell_type": "markdown",
   "metadata": {},
   "source": [
    "### Лекция в практической части занятий (циклы, `turtle`, `if`)"
   ]
  },
  {
   "cell_type": "markdown",
   "metadata": {},
   "source": [
    "#### Библиотека `turtle`"
   ]
  },
  {
   "cell_type": "markdown",
   "metadata": {},
   "source": [
    "- `forward(X)`\tПройти вперёд X пикселей\n",
    "- `backward(X)`\tПройти назад X пикселей\n",
    "- `left(X)`\tПовернуться налево на X градусов\n",
    "- `right(X)`\tПовернуться направо на X градусов\n",
    "- `penup()`\tНе оставлять след при движении\n",
    "- `pendown()`\tОставлять след при движении\n",
    "- `shape(X)`\tИзменить значок черепахи (“arrow”, “turtle”, “circle”, “square”, “triangle”, - “classic”)\n",
    "- `stamp()`\tНарисовать копию черепахи в текущем месте\n",
    "- `color()`\tУстановить цвет\n",
    "- `begin_fill()`\tНеобходимо вызвать перед рисованием фигуры, которую надо закрасить\n",
    "- `end_fill()`\tВызвать после окончания рисования фигуры\n",
    "- `width()`\tУстановить толщину линии\n",
    "- `goto(x, y)`\tПереместить черепашку в точку (x, y)"
   ]
  },
  {
   "cell_type": "markdown",
   "metadata": {},
   "source": [
    "#### Цикл `while`"
   ]
  },
  {
   "cell_type": "code",
   "execution_count": null,
   "metadata": {},
   "outputs": [],
   "source": [
    "x = 12\n",
    "while x > 0: # Заголов цикла\n",
    "    x -= 1 # ТЕЛО цикла\n",
    "    print(x, end=' | ') \n",
    "#    break (прервать цикл) - стараться не использовать (ТЕЛО цикла)\n",
    "    if x == 13:\n",
    "        raise Exception('Пизда рулю') # Такая вот штука для прерывания с ошибкой\n",
    "#    if x == 15:\n",
    "#        exit() Выход с программы\n",
    "else: # работает к while! Но надо разобраться как\n",
    "    x += 1\n",
    "    print(x)\n",
    "# каждое очередное исполнение называется итерацией\n",
    "\n"
   ]
  },
  {
   "cell_type": "markdown",
   "metadata": {},
   "source": [
    "#### Ветвление `if, elif, else`"
   ]
  },
  {
   "cell_type": "code",
   "execution_count": null,
   "metadata": {},
   "outputs": [],
   "source": [
    "y = 6\n",
    "if x == 0:\n",
    "    print('1lflfl')\n",
    "elif y == 0:\n",
    "    print('lflfl')\n",
    "elif y == 1:\n",
    "    print('lflfl') \n",
    "elif y == 2:\n",
    "    print('lflfl') \n",
    "elif y == 3: # x < 0 (пишется в том случае если код не влезает на 1экран)\n",
    "    print('lflfl')  "
   ]
  },
  {
   "cell_type": "markdown",
   "metadata": {},
   "source": [
    "#### Цикл `for`"
   ]
  },
  {
   "cell_type": "code",
   "execution_count": null,
   "metadata": {},
   "outputs": [],
   "source": [
    "for z in 1,23,4,5,6: #1,23,4,5,6 - Кортеж(каждый элемент - итерируемый объект)\n",
    "    print(z**2, end=' | ')\n",
    "for z in range(1,10,2): #Генератор арифметической прогрессии range(start, stop, step) 10 - ограничивает и не входит! по умолчанию (0, stop(обязательно) step(1))\n",
    "    print(z**2, end=' | ')"
   ]
  },
  {
   "cell_type": "markdown",
   "metadata": {},
   "source": [
    "#### Объявление функций"
   ]
  },
  {
   "cell_type": "code",
   "execution_count": null,
   "metadata": {},
   "outputs": [],
   "source": [
    "def func(x,y): # Заголовок функции, х и у - формальные параметры\n",
    "    return x + y\n",
    "func(1,func(2,3))\n",
    "def p3(s):\n",
    "    print(s)\n",
    "    print(s)\n",
    "    return # по умолчанию вернет None, print ниже не сработает\n",
    "    print(s)\n",
    "x = p3('asd') # присвоить функцию?...\n",
    "type(x)\n",
    "\n",
    "\n",
    "def func2(x:int, y:int) -> float:\n",
    "    \"\"\"int в данном случае комментарий, какой тип данных принимать и float какой вернет\n",
    "        и круто что это тоже комментарий к функции, 'тройная ковычка' - для многострочного комментария.\n",
    "        Важно! что это первая строка после объявления функции или 'документ-строка' \"\"\"\n",
    "    return x - y \n",
    "func2(2, 51)"
   ]
  },
  {
   "cell_type": "markdown",
   "metadata": {},
   "source": [
    "### Практическая работа"
   ]
  },
  {
   "cell_type": "markdown",
   "metadata": {},
   "source": [
    "#### Прогрузка библиотеки и создание черепашки"
   ]
  },
  {
   "cell_type": "code",
   "execution_count": null,
   "metadata": {},
   "outputs": [],
   "source": [
    "import turtle"
   ]
  },
  {
   "cell_type": "markdown",
   "metadata": {},
   "source": [
    "#### Задание 1 ( Буква S )"
   ]
  },
  {
   "cell_type": "code",
   "execution_count": null,
   "metadata": {},
   "outputs": [],
   "source": [
    "turtle.shape('turtle')\n",
    "turtle.forward(50)\n",
    "turtle.left(90)\n",
    "turtle.forward(50)\n",
    "turtle.left(90)\n",
    "turtle.forward(50)\n",
    "turtle.right(90)\n",
    "turtle.forward(50)\n",
    "turtle.right(90)\n",
    "turtle.forward(50)\n",
    "\n",
    "turtle.done()"
   ]
  },
  {
   "cell_type": "markdown",
   "metadata": {},
   "source": [
    "#### Задание 2 (Квадрат)"
   ]
  },
  {
   "cell_type": "code",
   "execution_count": null,
   "metadata": {},
   "outputs": [],
   "source": [
    "turtle.shape('turtle') \n",
    "turtle.forward(50)\n",
    "turtle.left(90)\n",
    "turtle.forward(50)\n",
    "turtle.left(90)\n",
    "turtle.forward(50)\n",
    "turtle.left(90)\n",
    "turtle.forward(50)\n",
    "\n",
    "turtle.done()"
   ]
  },
  {
   "cell_type": "markdown",
   "metadata": {},
   "source": [
    "#### Задание 3 (Круг)"
   ]
  },
  {
   "cell_type": "code",
   "execution_count": null,
   "metadata": {},
   "outputs": [],
   "source": [
    "turtle.shape('turtle')\n",
    "for i in range(360):\n",
    "    turtle.forward(2)\n",
    "    turtle.left(1)\n",
    "    \n",
    "turtle.done()"
   ]
  },
  {
   "cell_type": "markdown",
   "metadata": {},
   "source": [
    "#### Задание 4 (10 вложенных квадратов)"
   ]
  },
  {
   "cell_type": "code",
   "execution_count": null,
   "metadata": {},
   "outputs": [],
   "source": [
    "turtle.shape('turtle')\n",
    "\n",
    "for i in range(2, 22, 2):\n",
    "    for n in range(4):\n",
    "        turtle.left(90)\n",
    "        turtle.forward(i*5)\n",
    "    turtle.penup()\n",
    "    turtle.forward(5)\n",
    "    turtle.right(90)    \n",
    "    turtle.forward(5)\n",
    "    turtle.left(90)\n",
    "    turtle.pendown()\n",
    "turtle.done()"
   ]
  },
  {
   "cell_type": "markdown",
   "metadata": {},
   "source": [
    "#### Задание 5 ( Паук )"
   ]
  },
  {
   "cell_type": "code",
   "execution_count": null,
   "metadata": {},
   "outputs": [],
   "source": [
    "n = 12 \n",
    "turtle.shape('turtle')\n",
    "for i in range(n):\n",
    "    turtle.forward(50)\n",
    "    turtle.stamp()\n",
    "    turtle.left(180)\n",
    "    turtle.forward(50)\n",
    "    turtle.left(180 - 360/n)\n",
    "turtle.done()"
   ]
  },
  {
   "cell_type": "markdown",
   "metadata": {},
   "source": [
    "#### Задание 6 ( Кривая но спираль)"
   ]
  },
  {
   "cell_type": "code",
   "execution_count": null,
   "metadata": {},
   "outputs": [],
   "source": [
    "turtle.shape('turtle')\n",
    "turtle.speed(100)\n",
    "\n",
    "for i in range(360*3):\n",
    "    turtle.forward(0.5 + (i**0.5)/15)\n",
    "    turtle.left(1)\n",
    "turtle.done()"
   ]
  },
  {
   "cell_type": "markdown",
   "metadata": {},
   "source": [
    "#### Задание 7 ( Квадратная спираль )"
   ]
  },
  {
   "cell_type": "code",
   "execution_count": null,
   "metadata": {},
   "outputs": [],
   "source": [
    "turtle.shape('turtle')\n",
    "\n",
    "n = 5\n",
    "lenght = lenght_plus = 5\n",
    "for i in range(n*4):\n",
    "    for m in range(2):\n",
    "        turtle.forward(lenght)\n",
    "        turtle.left(90)\n",
    "    lenght += lenght_plus\n",
    "turtle.done()"
   ]
  },
  {
   "cell_type": "markdown",
   "metadata": {},
   "source": [
    "#### Задание 8 (Вписанные многоугольники(не работает))"
   ]
  },
  {
   "cell_type": "code",
   "execution_count": null,
   "metadata": {},
   "outputs": [],
   "source": [
    "# turtle.speed(1)  вписанные многоугольники(не работает!)\n",
    "# def polygon(len, count):\n",
    "#     for i in range(count):\n",
    "#         turtle.forward(len)\n",
    "#         turtle.left(360/count)\n",
    "# polygon(20, 3)\n",
    "# turtle.forward(5)\n",
    "# polygon(30, 4)\n",
    "# turtle.forward(5)\n",
    "# polygon(40, 5)"
   ]
  },
  {
   "cell_type": "markdown",
   "metadata": {},
   "source": [
    "#### Функция круга"
   ]
  },
  {
   "cell_type": "code",
   "execution_count": null,
   "metadata": {},
   "outputs": [],
   "source": [
    "def circle(direction):\n",
    "    for i in range(360): \n",
    "        turtle.forward(1)\n",
    "        if direction == 'left':\n",
    "            turtle.left(1)\n",
    "        else:\n",
    "            turtle.right(1)"
   ]
  },
  {
   "cell_type": "markdown",
   "metadata": {},
   "source": [
    "#### Задание 9 ( Цветочек )"
   ]
  },
  {
   "cell_type": "code",
   "execution_count": null,
   "metadata": {},
   "outputs": [],
   "source": [
    "turtle.shape('turtle')\n",
    "count = 3\n",
    "for i in range(count):\n",
    "    circle('left')\n",
    "    circle('right')\n",
    "    turtle.left(180/count)\n",
    "turtle.done()"
   ]
  },
  {
   "cell_type": "markdown",
   "metadata": {},
   "source": [
    "## Лекция 3 (Функции, `pygame`)"
   ]
  },
  {
   "cell_type": "markdown",
   "metadata": {},
   "source": [
    "### Лекция по видео ( Значения в списках, про функции)"
   ]
  },
  {
   "cell_type": "markdown",
   "metadata": {},
   "source": [
    "#### Про функции"
   ]
  },
  {
   "cell_type": "code",
   "execution_count": null,
   "metadata": {},
   "outputs": [],
   "source": [
    "def foo():\n",
    "    pass  # Стремная команда - пропустить\n",
    "    return  # По сути такая запись равноценна return None\n",
    "\n",
    "\n",
    "x = foo()\n",
    "type(x)"
   ]
  },
  {
   "cell_type": "code",
   "execution_count": null,
   "metadata": {},
   "outputs": [],
   "source": [
    "def squar(x,y):  # Тут х и у - формальные параметры\n",
    "    return x**y\n",
    "\n",
    "\n",
    "x = squar(2, 4)  # Тут 2 и 4 - фактические параметры\n",
    "print(x)"
   ]
  },
  {
   "cell_type": "markdown",
   "metadata": {},
   "source": [
    "#### Про изменение значений в списках"
   ]
  },
  {
   "cell_type": "code",
   "execution_count": null,
   "metadata": {},
   "outputs": [],
   "source": [
    "def list_change(x):\n",
    "    x[0] = 7  # Внимание! он изменит значение в основной переменной\n",
    "\n",
    "\n",
    "x = [1, 2, 3, 4] \n",
    "list_change(x)\n",
    "print(*x)"
   ]
  },
  {
   "cell_type": "code",
   "execution_count": null,
   "metadata": {},
   "outputs": [],
   "source": [
    "def list_change(x):\n",
    "    x = [4, 5, 6]  # А вот тут так не сработает. потому что до этого менял ссылку на значение в списке, а теперь создает новый список\n",
    "\n",
    "\n",
    "x = [1, 2, 3, 4] \n",
    "list_change(x)\n",
    "print(*x)"
   ]
  },
  {
   "cell_type": "markdown",
   "metadata": {},
   "source": [
    "Обязательные и необязательные параметры функций"
   ]
  },
  {
   "cell_type": "markdown",
   "metadata": {},
   "source": [
    "#### Обязательные и не обязательные параметры функций"
   ]
  },
  {
   "cell_type": "code",
   "execution_count": null,
   "metadata": {},
   "outputs": [],
   "source": [
    "def foo(x, y, z):\n",
    "    return 100*x+10*y+z\n",
    "\n",
    "\n",
    "def foo2(x, y, z=5):\n",
    "    return 100*x+10*y+z\n",
    "\n",
    "\n",
    "print(foo(1, 2, 3))\n",
    "print(foo(x=1, z=2, y=3))\n",
    "# print(foo2(1, 2))  # Не сработает, т.к. не хватает параметров\n",
    "print(foo2(1, 2))  # Подставляет стандартное значение для параметра z"
   ]
  },
  {
   "cell_type": "markdown",
   "metadata": {},
   "source": [
    "#### Функция с любым количеством переменных"
   ]
  },
  {
   "cell_type": "code",
   "execution_count": null,
   "metadata": {},
   "outputs": [],
   "source": [
    "def bar(*arg, named_parametr='bar'):  # Функция принимает любое кол-во аргументов. Доп. параметры только со значениями по умолчанию.\n",
    "    for i in arg:\n",
    "        print(f'{named_parametr} = {i}')"
   ]
  },
  {
   "cell_type": "code",
   "execution_count": null,
   "metadata": {},
   "outputs": [],
   "source": [
    "bar(1, 2, 'lalala', 'stroka', 3.2)\n",
    "print()\n",
    "bar('hahaha', named_parametr='parametr')\n",
    "print()\n",
    "bar(['list', 'of', 'string'])"
   ]
  },
  {
   "cell_type": "markdown",
   "metadata": {},
   "source": [
    "#### Установка библиотеки `pygame`"
   ]
  },
  {
   "cell_type": "code",
   "execution_count": null,
   "metadata": {},
   "outputs": [],
   "source": [
    "# pip install pygame"
   ]
  },
  {
   "cell_type": "markdown",
   "metadata": {},
   "source": [
    "### Лекция в практической части занятий"
   ]
  },
  {
   "cell_type": "markdown",
   "metadata": {},
   "source": [
    "#### Подгрузка библиотек и функция `random()`"
   ]
  },
  {
   "cell_type": "code",
   "execution_count": null,
   "metadata": {},
   "outputs": [],
   "source": [
    "import turtle\n",
    "from random import *"
   ]
  },
  {
   "cell_type": "markdown",
   "metadata": {},
   "source": [
    "`random()`\tвозвращает псевдослучайное число типа float от 0.0 до 1.0 </p>\n",
    "`randint(a, b)`\tвозвращает псевдослучайное целое число в промежутке [a, b] включая его границы"
   ]
  },
  {
   "cell_type": "markdown",
   "metadata": {},
   "source": [
    "#### Работа со списками"
   ]
  },
  {
   "cell_type": "code",
   "execution_count": null,
   "metadata": {},
   "outputs": [],
   "source": [
    "        \n",
    "var_a = [2,3,4,5]\n",
    "\n",
    "for index in range(len(var_a)):\n",
    "    var_a[index] = index\n",
    "\n",
    "print(var_a)"
   ]
  },
  {
   "cell_type": "markdown",
   "metadata": {},
   "source": [
    "#### Броуновское движение черепахи"
   ]
  },
  {
   "cell_type": "code",
   "execution_count": null,
   "metadata": {},
   "outputs": [],
   "source": [
    "turtle.shape('turtle') \n",
    "turtle.speed(50)\n",
    "for i in range(100):\n",
    "    turtle.forward(randint(0, 30))\n",
    "    if randint(0,1) == 1:\n",
    "        turtle.left(randint(0, 180))\n",
    "    else:\n",
    "        turtle.right(randint(0, 180))\n",
    "\n",
    "turtle.done() # Без этой функции потом все виснет"
   ]
  },
  {
   "cell_type": "markdown",
   "metadata": {},
   "source": [
    "#### Создание нулевого списка заданного размера"
   ]
  },
  {
   "cell_type": "code",
   "execution_count": null,
   "metadata": {},
   "outputs": [],
   "source": [
    "list_ = [0] * int(input()) # Непосредственно создание того самого списка, далее действие над ним\n",
    "for index in range(len(list_)):\n",
    "    list_[index] = index**2\n",
    "list_"
   ]
  },
  {
   "cell_type": "markdown",
   "metadata": {},
   "source": [
    "#### Создание списка с клавиатуры"
   ]
  },
  {
   "cell_type": "code",
   "execution_count": null,
   "metadata": {},
   "outputs": [],
   "source": [
    "list_ = input().split()  # Внимание! списки состоят из строк в таком случае, надо перевести через for в int\n",
    "print(list_)\n",
    "for index,value in enumerate(list_): #Прикольно что про enumerate вспомнил сам\n",
    "    list_[index] = int(value)\n",
    "print(list_)"
   ]
  },
  {
   "cell_type": "markdown",
   "metadata": {},
   "source": [
    "#### Функция `Split()`"
   ]
  },
  {
   "cell_type": "markdown",
   "metadata": {},
   "source": [
    "У сплита есть не обязательный параметр (разрез строки, первончально пробел, можно заменить), например:</p>\n",
    "`split('.')`"
   ]
  },
  {
   "cell_type": "code",
   "execution_count": null,
   "metadata": {},
   "outputs": [],
   "source": [
    "list_ = ['1', '2', '3']\n",
    "list_ = list(map(int, list_))  # Вариант использования встроенной функции map\n",
    "list_"
   ]
  },
  {
   "cell_type": "markdown",
   "metadata": {},
   "source": [
    "#### Функция `.join()`"
   ]
  },
  {
   "cell_type": "markdown",
   "metadata": {},
   "source": [
    "Обратная функция относительно `.split()`. в качестве параметра передается список</p>\n",
    "Важно! что складывает строки, если надо склеить числа, то надо использовать map и str"
   ]
  },
  {
   "cell_type": "code",
   "execution_count": null,
   "metadata": {},
   "outputs": [],
   "source": [
    "list_ = ['1', '2', '3']\n",
    "variable = ' | '.join(list_)\n",
    "print(variable)\n",
    "list_ = [1, 2, 3]\n",
    "variable = ' / '.join(map(str, list_))\n",
    "print(variable)"
   ]
  },
  {
   "cell_type": "markdown",
   "metadata": {},
   "source": [
    "#### Разрезы"
   ]
  },
  {
   "cell_type": "code",
   "execution_count": null,
   "metadata": {},
   "outputs": [],
   "source": [
    "list_ = [1, 2, 3, 4, 5, 6, 7]\n",
    "print(list_[2:])\n",
    "print(list_[-2:])\n",
    "list_[::-2] = [10, 20, 30, 40] # Стоит поиграться с такой конструкцией перед использованием\n",
    "list_"
   ]
  },
  {
   "cell_type": "markdown",
   "metadata": {},
   "source": [
    "#### **Операции со списками**"
   ]
  },
  {
   "cell_type": "markdown",
   "metadata": {},
   "source": [
    "- `x in A`\tПроверить, содержится ли элемент в списке. Возвращает True или False.\n",
    "- `x not in A`\tТо же самое, что not(x in A).\n",
    "- `min(A)`\tНаименьший элемент списка. Элементы списка могут быть числами или строками, для строк сравнение элементов проводится в лексикографическом порядке.\n",
    "- `max(A`)\tНаибольший элемент списка.\n",
    "- `sum(A)`\tСумма элементов списка, элементы обязательно должны быть числами.\n",
    "- `A.index(x)`\tИндекс первого вхождения элемента x в список, при его отсутствии генерирует исключение ValueError.\n",
    "- `A.count(x)`\tКоличество вхождений элемента x в список.\n",
    "- `A.append(x)`\tДобавить в конец списка A элемент x.\n",
    "- `A.insert(i, x)`\tВставить в список A элемент x на позицию с индексом i. Элементы списка A, которые до вставки имели индексы i и больше сдвигаются вправо.\n",
    "- `A.extend(B)`\tДобавить в конец списка A содержимое списка B.\n",
    "- `A.pop()`\tУдалить из списка последний элемент, возвращается значение удаленного элемента.\n",
    "- `A.pop(i)`\tУдалить из списка элемент с индексом i, возвращается значение удаленного элемента. Все элементы, стоящие правее удаленного, сдвигаются влево."
   ]
  },
  {
   "cell_type": "markdown",
   "metadata": {},
   "source": [
    "#### Генераторы списков"
   ]
  },
  {
   "cell_type": "markdown",
   "metadata": {},
   "source": [
    "Для создания списков, заполненных по более сложным формулам можно использовать list comprehensions или генераторы списков (в функциональном программировании они называются \"списковые включения\"): выражения, позволяющие заполнить новый список значениями некоторого выражения (формулы).  \n",
    "\n",
    "Общий вид генератора следующий: [выражение for переменная in список ], где переменная — идентификатор некоторой переменной, список — список значений, который принимает данная переменная (как правило, полученный при помощи функции range), выражение — некоторое выражение, которым будут заполнены элементы списка, как правило, зависящее от использованной в генераторе переменной.\n",
    "\n",
    "Вот несколько примеров использования генераторов.\n",
    "\n",
    "\n",
    "\n",
    "`A = [i ** 2 for i in range(1, n + 1)]` Квадраты целых чисел  \n",
    "`A = [randint(-99, 99) for i in range(n)]` Вот так можно получить список, заполненный случайными числами от -99 до 99 (используя функцию randint из модуля random)  \n",
    "`B = [x for x in A if x > 0]` Расширенная форма генератора списка позволяет выполнять отсев по значению. Например, здесь список B будет состоять из элементов списка A, которые больше нуля  \n"
   ]
  },
  {
   "cell_type": "code",
   "execution_count": null,
   "metadata": {},
   "outputs": [],
   "source": [
    "list_ = [1, 2, 3, 4]"
   ]
  },
  {
   "cell_type": "code",
   "execution_count": null,
   "metadata": {},
   "outputs": [],
   "source": [
    "n = 15\n",
    "list_ = [i ** 2 for i in range(1, n + 1)]\n",
    "list_"
   ]
  },
  {
   "cell_type": "code",
   "execution_count": null,
   "metadata": {},
   "outputs": [],
   "source": [
    "n = 15\n",
    "list_ = [randint(-99, 99) for i in range(n)]\n",
    "list_"
   ]
  },
  {
   "cell_type": "code",
   "execution_count": null,
   "metadata": {},
   "outputs": [],
   "source": [
    "list_2 = [x for x in list_ if x > 0]\n",
    "list_2"
   ]
  },
  {
   "cell_type": "markdown",
   "metadata": {},
   "source": [
    "### Практическая работа"
   ]
  },
  {
   "cell_type": "markdown",
   "metadata": {},
   "source": [
    "#### Задание 1 (цифры черепашкой)"
   ]
  },
  {
   "cell_type": "code",
   "execution_count": null,
   "metadata": {},
   "outputs": [],
   "source": [
    "import turtle"
   ]
  },
  {
   "cell_type": "code",
   "execution_count": null,
   "metadata": {},
   "outputs": [],
   "source": [
    "def digit_0():\n",
    "    turtle.pendown()\n",
    "    for i in range(4):\n",
    "        turtle.forward(10 + 10*(i%2))\n",
    "        turtle.right(90)\n",
    "    turtle.penup()\n",
    "    turtle.forward(10)  \n",
    "    \n",
    "    \n",
    "def digit_1():\n",
    "    turtle.right(90)\n",
    "    turtle.forward(10)\n",
    "    turtle.pendown()  \n",
    "    turtle.left(135)\n",
    "    turtle.forward(200**0.5)    \n",
    "    turtle.right(135)\n",
    "    turtle.forward(20)\n",
    "    turtle.penup()\n",
    "    turtle.right(180)\n",
    "    turtle.forward(20)\n",
    "    turtle.right(90)\n",
    "    \n",
    "\n",
    "def digit_4():\n",
    "    turtle.right(90)\n",
    "    turtle.pendown()  \n",
    "    turtle.forward(10)\n",
    "    turtle.left(90)\n",
    "    turtle.forward(10)    \n",
    "    turtle.right(90)\n",
    "    turtle.forward(10)\n",
    "    turtle.right(180)\n",
    "    turtle.forward(20)\n",
    "    turtle.penup()\n",
    "    turtle.right(90)\n",
    "    \n",
    "    \n",
    "def digit_7():\n",
    "    turtle.pendown()  \n",
    "    turtle.forward(10)\n",
    "    turtle.right(135)\n",
    "    turtle.forward(200**0.5)    \n",
    "    turtle.left(45)\n",
    "    turtle.forward(10)\n",
    "    turtle.penup()\n",
    "    turtle.right(180)\n",
    "    turtle.forward(20)\n",
    "    turtle.right(90)\n",
    "    turtle.forward(10)"
   ]
  },
  {
   "cell_type": "code",
   "execution_count": null,
   "metadata": {},
   "outputs": [],
   "source": [
    "def draw_digitals(digitals): \n",
    "    for index in range(len(digitals)):\n",
    "        if digitals[index] == '1':\n",
    "            digit_1()\n",
    "        elif digitals[index] == '4':\n",
    "            digit_4()\n",
    "        elif digitals[index] == '7':\n",
    "            digit_7()\n",
    "        else:\n",
    "            digit_0()\n",
    "        turtle.forward(10)"
   ]
  },
  {
   "cell_type": "code",
   "execution_count": null,
   "metadata": {},
   "outputs": [],
   "source": [
    "turtle.shape('turtle')\n",
    "turtle.speed(1)\n",
    "turtle.penup()\n",
    "draw_digitals(input())\n",
    "turtle.done()"
   ]
  },
  {
   "cell_type": "markdown",
   "metadata": {},
   "source": [
    "#### Теория \"Работа с файлами\""
   ]
  },
  {
   "cell_type": "markdown",
   "metadata": {},
   "source": [
    "До этого для ввода информации мы использовали исключительно клавиатуру. При этом в большинстве случаев данные, считываемые программой, уже хранятся на носителе информации в виде файлов.\n",
    "\n",
    "Для каждого файла, с которым необходимо производить операции ввода-вывода, нужно создать специальный объект – поток. Именно с потоками работают программы — использование такого дополнительного слоя абстракции позволяет прозрачно работать не только с текстовыми файлами, но и, например, с архивами."
   ]
  },
  {
   "cell_type": "markdown",
   "metadata": {},
   "source": [
    "##### Открытие файла"
   ]
  },
  {
   "cell_type": "markdown",
   "metadata": {},
   "source": [
    "Открытие файла\n",
    "Открытие файла осуществляется функцией `open`, которой нужно передать два параметра. Первый параметр — строка, задающая имя открываемого файла. Второй параметр — строка, укахывающая режим октрытия файла.\n",
    "\n",
    "Существует три режима открытия файлов:\n",
    "\n",
    "Режим\tОписание\n",
    "- `\"r\" (read)`\tФайл открывается для чтения данных.\n",
    "- `\"w\" (write)`\tФайл открываетсяна запись, при этом содержимое файла очищается.\n",
    "- `\"a\" (append)`\tФайл открывается для добавления данных в конец файла.\n",
    "Если второй параметр не задан, то считается, что файл открывается в режиме чтения.\n",
    "\n",
    "Функция open возвращает ссылку на файловый объект, которую нужно записать в переменную, чтобы потом через данный объект работать с этим файлом. Например:\n",
    "\n",
    "`input = open('input.txt', 'r')`\n",
    "`output = open('output.txt', 'w')`\n",
    "Здесь открыто два файла (один на чтение, другой на запись) и создано два связанных с ними объекта."
   ]
  },
  {
   "cell_type": "markdown",
   "metadata": {},
   "source": [
    "##### Чтение данных из файла"
   ]
  },
  {
   "cell_type": "markdown",
   "metadata": {},
   "source": [
    "Для файла, открытого на чтение данных, можно несколько методов, позвозволяющих считывать данные. Мы рассмотри три из них: `readline`, `readlines`, `read`.\n",
    "\n",
    "- Метод` readline()` считывает одну строку из файла (до символа конца строки 'n', возвращается считанная строка вместе с символом 'n'). Если считывание не было успешно (достигнут конец файла), то возвращается пустая строка. Для удаления символа 'n' из конца файла удобно использовать метод строки `rstrip()`. Например:\n",
    "`s = s.rstrip().`\n",
    "\n",
    "- Метод `readlines()` считывает все строки из файла и возвращает список из всех считанных строк (одна строка — один элемент списка). При этом символы 'n' остаются в концах строк.\n",
    "\n",
    "- Метод `read()` считывает все содержимое из файла и возвращает строку, которая может содержать символы 'n'. Если методу `read` передать целочисленный параметр, то будет считано не более заданного количества байт. Например, считывать файл побайтово можно при помощи метода `read(1)`."
   ]
  },
  {
   "cell_type": "markdown",
   "metadata": {},
   "source": [
    "##### Вывод данных в файл"
   ]
  },
  {
   "cell_type": "markdown",
   "metadata": {},
   "source": [
    "Данные выводятся в файл при помощи метода `write`, которому в качестве параметра передается одна строка. Этот метод не выводит символ конца строки 'n' (как это делает функция print при стандартном выводе), поэтому для перехода на новую строку в файле необходимо явно вывести символ 'n'.  \n",
    "Выводить данные в файл можно и при помощи `print`, если передать функции еще один именованный параметр `file`. Например:\n",
    "\n",
    "`output = open('output.txt', 'w')`  \n",
    "`print(a, b, c, file=output)`"
   ]
  },
  {
   "cell_type": "markdown",
   "metadata": {},
   "source": [
    "##### Закрытие файла"
   ]
  },
  {
   "cell_type": "markdown",
   "metadata": {},
   "source": [
    "Закрытие файла\n",
    "После окончания работы с файлом необходимо закрыть его при помощи метода `close().`\n",
    "\n",
    "Чтобы не забыть это сделать можно воспользоваться менеджером контекста `with.`\n",
    "\n",
    "`with open('input.txt') as file:`"
   ]
  },
  {
   "cell_type": "markdown",
   "metadata": {},
   "source": [
    "##### Пример работы с файлами"
   ]
  },
  {
   "cell_type": "markdown",
   "metadata": {},
   "source": [
    "Следующая программа считывает все содержимое файла `input.txt`, записывает его в переменную `s`, а затем выводит ее в файл `output.txt.`\n",
    "\n",
    "`inp = open('input.txt', 'r')`  \n",
    "`out = open('output.txt', 'w')`  \n",
    "`s = inp.read()`  \n",
    "`out.write(s)`  \n",
    "`inp.close()`  \n",
    "`out.close()` \n",
    "   \n",
    "Для простого считывания содержимого файла можно использовать то, что сам файл является итерируемым по строкам объектом:\n",
    "\n",
    "- `with open('input.txt') as file:`  \n",
    "    - `for line in file:`  \n",
    "        - `print('line: \"', line, '\"')`  "
   ]
  },
  {
   "cell_type": "markdown",
   "metadata": {},
   "source": [
    "#### Задание 2 (Черепаха с файла)"
   ]
  },
  {
   "cell_type": "code",
   "execution_count": null,
   "metadata": {},
   "outputs": [],
   "source": [
    "inp = open('input_example.txt', 'r')\n",
    "turtle.shape('turtle')\n",
    "turtle.speed(3)\n",
    "turtle.penup()\n",
    "draw_digitals(inp.read())\n",
    "turtle.done()\n",
    "inp.close()"
   ]
  },
  {
   "cell_type": "markdown",
   "metadata": {},
   "source": [
    "#### Задание 3 (Физически прыгающая черепашка) НЕ РАБОТАЕТ! НЕ ПОНИМАНИЮ ФОРМУЛЫ"
   ]
  },
  {
   "cell_type": "markdown",
   "metadata": {},
   "source": [
    "Основные формулы для расчёта нового местоположения черепшки:\n",
    "\n",
    "- x += Vx*dt\n",
    "- y += Vy*dt + ay*dt**2/2\n",
    "- Vy += ay*dt"
   ]
  },
  {
   "cell_type": "code",
   "execution_count": null,
   "metadata": {},
   "outputs": [],
   "source": [
    "vx = 10\n",
    "vy = 15\n",
    "t = 30\n",
    "a = 5\n",
    "x = 0\n",
    "y = 0\n",
    "turtle.goto(0, 0)\n",
    "turtle.shape('turtle')\n",
    "turtle.speed(1)\n",
    "for d in range(100):\n",
    "    x += vx*d\n",
    "    y += vy*d + a*y*d**2/2\n",
    "    vy += a*y*d\n",
    "    turtle.goto(x, y)\n",
    "    \n",
    "turtle.done()"
   ]
  },
  {
   "cell_type": "markdown",
   "metadata": {},
   "source": [
    "#### Задание 4 (Идеальный газ) Даже не пробовал. код скопирован. Да и тот не работает"
   ]
  },
  {
   "cell_type": "code",
   "execution_count": null,
   "metadata": {},
   "outputs": [],
   "source": [
    "from random import randint\n",
    "\n",
    "number_of_turtles = 25\n",
    "steps_of_time_number = 100\n",
    "\n",
    "\n",
    "pool = [turtle.Turtle(shape='turtle') for i in range(number_of_turtles)]\n",
    "for unit in pool:\n",
    "    unit.penup()\n",
    "    unit.speed(50)\n",
    "    unit.goto(randint(-200, 200), randint(-200, 200))\n",
    "\n",
    "\n",
    "for i in range(steps_of_time_number):\n",
    "    for unit in pool:\n",
    "        unit.forward(2)\n",
    "        \n",
    "turtle.done()"
   ]
  },
  {
   "cell_type": "markdown",
   "metadata": {},
   "source": [
    "## Лекция 4 (PEP8)"
   ]
  },
  {
   "cell_type": "markdown",
   "metadata": {},
   "source": [
    "### Лекция по видео (см. тетрадь)"
   ]
  },
  {
   "cell_type": "markdown",
   "metadata": {},
   "source": [
    "### Лекция в практической части занятий"
   ]
  },
  {
   "cell_type": "markdown",
   "metadata": {},
   "source": [
    "#### Git и GitHub  ( Основные понятия )"
   ]
  },
  {
   "cell_type": "markdown",
   "metadata": {},
   "source": [
    "- Система управления версиями (CVS) - один из основных инструментов программиста. Система управления версиями позволяет хранить несколько версий одного и того же документа, при необходимости возвращаться к более ранним версиям, определять, кто и когда сделал то или иное изменение, и многое другое.\n",
    "\n",
    "- Git — одна из самых популярных систем контроля версиями (CVS). Автор git — Линус Торвальдс.\n",
    "\n",
    "- [GitHub](https://ru.wikipedia.org/wiki/GitHub) — крупнейший веб-сервис для хостинга IT-проектов и их совместной разработки."
   ]
  },
  {
   "cell_type": "markdown",
   "metadata": {},
   "source": [
    "#### Упражение 1 Git (Создание первого репозитория)"
   ]
  },
  {
   "cell_type": "markdown",
   "metadata": {},
   "source": [
    "1. Создаем новый репозиторий https://github.com/new (или значок + в правом верхнем углу):\n",
    "1. В качестве имени репозитория задаем infa_2020_ivanov\n",
    "1. Доступ оставляем Public\n",
    "1. Не забываем поставить галочку \"Initialize this repository with a README\""
   ]
  },
  {
   "cell_type": "markdown",
   "metadata": {},
   "source": [
    " 3. Откройте терминал (консоль) GNU/Linux или командную строку Git-bash под M$ Windows. Теперь git clone — склонируем получившийся репозиторий на свой компьютер и зайдем в папку с репозиторием:"
   ]
  },
  {
   "cell_type": "markdown",
   "metadata": {},
   "source": [
    "- `git clone` https://github.com/Ivanov/name_repository - в конце названия своего репозитория\n",
    "- `ls`\n",
    "- `cd` name_repository\n",
    "- `ls`"
   ]
  },
  {
   "cell_type": "markdown",
   "metadata": {},
   "source": [
    "Не забудем сконфигурить гит, представившись ему (это обязательно нужно сделать находясь в папке infa_2020_ivanov):\n",
    "- `git config user.name` \"Ivanov Ivan\"\n",
    "- `git config user.email` ivanov.ivan@someuniversity.edu -Почту указываем как при регистрации"
   ]
  },
  {
   "cell_type": "markdown",
   "metadata": {},
   "source": [
    "4. Теперь у нас локально есть полная и независимая версия нашего репозитория `infa_2020_ivanov`.  \n",
    "Она никак явным образом не связана с версией на серверах `github`'а, однако в гите существуют инструменты для обмена данными между разными репозиториями. Иными словами, git - это распределенная система управлениями версиями."
   ]
  },
  {
   "cell_type": "markdown",
   "metadata": {},
   "source": [
    "5. Команда `git log` возвращает историю нашего репозитория. В данный момент в нашей истории ровно один коммит (коммит - это некоторый набор изменений).\n",
    "-> git log  \n",
    "`commit eec733a21cerfb66973991a9357aab735fa40ba4`"
   ]
  },
  {
   "cell_type": "markdown",
   "metadata": {},
   "source": [
    "6. Давайте отредактируем файл README.md и добавим в него что-нибудь. Откроем файл README.md и напишем в нем что-нибудь.  \n",
    "После с помощью `git diff` посмотрим на текущие изменения. В \"диффе\" видно, что была добавлена строчка \"it's test project\". :\n",
    "```-> git diff  \n",
    "diff --git a/README.md b/README.md   \n",
    "index 21e60f8..285eafa 100644  \n",
    "--- a/README.md  \n",
    "+++ b/README.md  \n",
    "@@ -1 +1,3 @@  \n",
    "-# infa_2020_ivanov  \n",
    "\\ No newline at end of file  \n",
    "+# infa_2020_ivanov  \n",
    "+  \n",
    "+it\\'s test project "
   ]
  },
  {
   "cell_type": "markdown",
   "metadata": {},
   "source": [
    "7. Команда `git status` показывает текущий статус репозитория. Мы видим, что сейчас мы находимся в ветке `master`   \n",
    "(основная ветка нашего репозитория). Ниже написано, что файл  был изменен. Однако он ещё не готов для коммита."
   ]
  },
  {
   "cell_type": "markdown",
   "metadata": {},
   "source": [
    "8. Сделаем `git add`, как рекомендует нам команда status.  \n",
    "```-> git add README.md  \n",
    "-> git status  \n",
    "On branch master  \n",
    "Changes to be committed:\n",
    "  (use \"git reset HEAD <file>...\" to unstage)\n",
    "\n",
    "   modified:   README.md  \n",
    "```\n",
    "Теперь git status показывает, что изменения в файле `README.md` готовы для коммита.   \n",
    "Если сейчас снова измененить README.md, то нужно снова обязательно выполнить `git add`."
   ]
  },
  {
   "cell_type": "markdown",
   "metadata": {},
   "source": [
    "9. `git-commit` — закоммитим наши изменения, то есть внесём \"квант\" изменений в историю развития проекта:"
   ]
  },
  {
   "cell_type": "markdown",
   "metadata": {},
   "source": [
    "10. Снова посмотрим (`git log`) на историю нашего репозитория:"
   ]
  },
  {
   "cell_type": "markdown",
   "metadata": {},
   "source": [
    "11. Давайте сделаем `git push` — отправим (\"запушим\" на сленге программистов) наши изменения в оригинальный репозиторий на github.com."
   ]
  },
  {
   "cell_type": "markdown",
   "metadata": {},
   "source": [
    "При `git push` необходимо будет ввести логин и пароль на `GitHub` (если, конечно, вы не настроили ssh-аутентификацию :-)).  \n",
    "Теперь изменения будут доступны для всех."
   ]
  },
  {
   "cell_type": "markdown",
   "metadata": {},
   "source": [
    "12. Существует парная команда `git pull` — которая забирает изменения с оригинального репозитория на сервере"
   ]
  },
  {
   "cell_type": "markdown",
   "metadata": {},
   "source": [
    "#### Создание картинок с `pygame`"
   ]
  },
  {
   "cell_type": "markdown",
   "metadata": {},
   "source": [
    "**Будем рисовать графические объекты на языке Python.**  \n",
    "Откройте папку со своим репозиторием infa_2020_ivanov, который вы создали в GitHub и склонировали на локальный компьютер.  \n",
    "Создайте в нём вложенную папку lab3. Все файлы этой лабораторной работы сохраняйте в эту папку, чтобы затем добавить их в репозиторий, закоммитить и \"запушить\" на сервер для сдачи преподавателю."
   ]
  },
  {
   "cell_type": "markdown",
   "metadata": {},
   "source": [
    "** Установка и подключение библиотеки **\n",
    "\n",
    "Для установки библиотеки следуйте инструкциям на pygame.org  \n",
    "Чтобы импортировать возможности библиотеки Pygame в вашей программе недостаточно одной инструкции import, нужны ещё некоторые дополнительные действия:"
   ]
  },
  {
   "cell_type": "code",
   "execution_count": null,
   "metadata": {},
   "outputs": [],
   "source": [
    "pip install pygame"
   ]
  },
  {
   "cell_type": "code",
   "execution_count": null,
   "metadata": {},
   "outputs": [],
   "source": [
    "import pygame\n",
    "\n",
    "# После импорта библиотеки, необходимо её инициализировать:\n",
    "pygame.init()\n",
    "\n",
    "# И создать окно:\n",
    "screen = pygame.display.set_mode((300, 200))\n",
    "\n",
    "# здесь будут рисоваться фигуры\n",
    "# ...\n",
    "\n",
    "# после чего, чтобы они отобразились на экране, экран нужно обновить:\n",
    "pygame.display.update()\n",
    "# Эту же команду нужно будет повторять, если на экране происходят изменения.\n",
    "\n",
    "# Наконец, нужно создать основной цикл, в котором будут отслеживаться\n",
    "# происходящие события.\n",
    "# Пока единственное событие, которое нас интересует - выход из программы.\n",
    "while True:\n",
    "    for event in pygame.event.get():\n",
    "        if event.type == pygame.QUIT:\n",
    "            pygame.quit()"
   ]
  },
  {
   "cell_type": "markdown",
   "metadata": {},
   "source": [
    "Помимо команды `import pygame` для более удобного доступа к функциям рисования, можно дополнительно прописать ещё одну строку импорта:"
   ]
  },
  {
   "cell_type": "code",
   "execution_count": null,
   "metadata": {},
   "outputs": [],
   "source": [
    "import pygame\n",
    "from pygame.draw import *"
   ]
  },
  {
   "cell_type": "markdown",
   "metadata": {},
   "source": [
    "Это позволит вместо `pygame.draw.rect(...)` писать просто `rect(...)`.\n",
    "\n",
    "Также хорошей практикой является добавление небольшой задержки в главный цикл программы, чтобы не заставлять ее работать \"вхолостую\", постоянно считывая события, которых, скорее всего, нет. Для этого в `pygame` есть специальный модуль `time`. До начала главного цикла создаем объект `Clock`:"
   ]
  },
  {
   "cell_type": "code",
   "execution_count": null,
   "metadata": {},
   "outputs": [],
   "source": [
    "clock = pygame.time.Clock()"
   ]
  },
  {
   "cell_type": "markdown",
   "metadata": {},
   "source": [
    "После этого в главном цикле добавляем строку:"
   ]
  },
  {
   "cell_type": "code",
   "execution_count": null,
   "metadata": {},
   "outputs": [],
   "source": [
    "clock.tick(30)"
   ]
  },
  {
   "cell_type": "markdown",
   "metadata": {},
   "source": [
    "Здесь 30 - это максимальный FPS, быстрее которого программа работать не будет.  \n",
    "Естественно, можно указать и любое другое значение (которое, кстати, есть смысл записать в отдельную переменную для легкого доступа)."
   ]
  },
  {
   "cell_type": "markdown",
   "metadata": {},
   "source": [
    "#### Пример 1"
   ]
  },
  {
   "cell_type": "code",
   "execution_count": null,
   "metadata": {},
   "outputs": [],
   "source": [
    "import pygame\n",
    "from pygame.draw import *\n",
    "\n",
    "pygame.init()\n",
    "\n",
    "FPS = 30\n",
    "screen = pygame.display.set_mode((400, 400))\n",
    "\n",
    "rect(screen, (255, 0, 255), (100, 100, 200, 200))\n",
    "rect(screen, (0, 0, 255), (100, 100, 200, 200), 5)\n",
    "polygon(screen, (255, 255, 0), [(100,100), (200,50),\n",
    "                               (300,100), (100,100)])\n",
    "polygon(screen, (0, 0, 255), [(100,100), (200,50),\n",
    "                               (300,100), (100,100)], 5)\n",
    "circle(screen, (0, 255, 0), (200, 175), 50)\n",
    "circle(screen, (255, 255, 255), (200, 175), 50, 5)\n",
    "\n",
    "pygame.display.update()\n",
    "clock = pygame.time.Clock()\n",
    "finished = False\n",
    "\n",
    "while not finished:\n",
    "    clock.tick(FPS)\n",
    "    for event in pygame.event.get():\n",
    "        if event.type == pygame.QUIT:\n",
    "            finished = True\n",
    "\n",
    "pygame.quit()"
   ]
  },
  {
   "cell_type": "markdown",
   "metadata": {},
   "source": [
    "#### Пример 2 (Создание штриховок, с использованием циклов)"
   ]
  },
  {
   "cell_type": "code",
   "execution_count": null,
   "metadata": {},
   "outputs": [],
   "source": [
    "import pygame\n",
    "from pygame.draw import *\n",
    "\n",
    "pygame.init()\n",
    "\n",
    "FPS = 30\n",
    "screen = pygame.display.set_mode((400, 400))\n",
    "\n",
    "x1 = 100; y1 = 100\n",
    "x2 = 300; y2 = 200\n",
    "N = 10\n",
    "color = (255, 255, 255)\n",
    "rect(screen, color, (x1, y1, x2 - x1, y2 - y1), 2)\n",
    "h = (x2 - x1) // (N + 1)\n",
    "x = x1 + h\n",
    "for i in range(N):\n",
    "    line(screen, color, (x, y1), (x, y2))\n",
    "    x += h\n",
    "\n",
    "pygame.display.update()\n",
    "clock = pygame.time.Clock()\n",
    "finished = False\n",
    "\n",
    "while not finished:\n",
    "    clock.tick(FPS)\n",
    "    for event in pygame.event.get():\n",
    "        if event.type == pygame.QUIT:\n",
    "            finished = True\n",
    "\n",
    "pygame.quit()"
   ]
  },
  {
   "cell_type": "markdown",
   "metadata": {},
   "source": [
    "Все функции модуля `pygame.draw` в качестве первого аргумента принимают `экран`, на котором нужно рисовать (приложение может открывать и несколько окон, нужно точно знать, на каком рисовать). `Второй аргумент` - цвет, заданный кортежем из трех чисел `от 0 до 255` в формате RGB. Также возможно наличие четвертого числа - `прозрачности`. После этого следуют координаты фигуры (для каждой фигуры свой формат задания координат), далее - параметр `width`. Если передать в этот параметр положительное значение, оно будет означать толщину линии. Если параметр равен 0 (значение по умолчанию), фигура будет полностью закрашеной. Полное описание функций модуля `pygame.draw` вы можете найти в официальной документации."
   ]
  },
  {
   "cell_type": "markdown",
   "metadata": {},
   "source": [
    "### Практическая работа"
   ]
  },
  {
   "cell_type": "markdown",
   "metadata": {},
   "source": [
    "#### Задание 1 (Смайлик)"
   ]
  },
  {
   "cell_type": "code",
   "execution_count": null,
   "metadata": {},
   "outputs": [],
   "source": [
    "import pygame\n",
    "from pygame.draw import *\n",
    "\n",
    "def main():\n",
    "    '''Main function\n",
    "    '''\n",
    "    pygame.init()\n",
    "    FPS = 30\n",
    "    screen = pygame.display.set_mode((400, 400))\n",
    "    color_face = (255, 219, 88)\n",
    "    color_eye = (240, 20, 20)\n",
    "    color_pupil = (0, 0, 0)\n",
    "    diametr_face = 300\n",
    "    centre_face_x, centre_face_y = 200, 200\n",
    "    color_eyebrow_and_draw_mouth = (0, 0, 0)\n",
    "    color_screen = (0, 0, 0)\n",
    "    \n",
    "    rect(screen, (255, 255, 255), (0, 0, 400, 400))\n",
    "    draw_face(centre_face_x, centre_face_y, diametr_face, color_face, screen)\n",
    "    draw_eye(150, 150, 50, color_eye, 15, color_pupil, screen)\n",
    "    draw_eye(295, 160, 45, color_eye, 35, color_pupil, screen)    \n",
    "    draw_mouth_or_eyebrow(50, 100, 160, 130, color_eyebrow_and_draw_mouth, 15, screen) \n",
    "    draw_mouth_or_eyebrow(350, 120, 240, 130, color_eyebrow_and_draw_mouth, 15, screen)\n",
    "    draw_mouth_or_eyebrow(100, 240, 300, 240, color_eyebrow_and_draw_mouth, 30, screen) # it's mouth\n",
    "    pygame.display.update()  # update screen\n",
    "    clock = pygame.time.Clock()\n",
    "    finished = False\n",
    "\n",
    "    while not finished:\n",
    "        clock.tick(FPS)\n",
    "        for event in pygame.event.get():\n",
    "            if event.type == pygame.QUIT:\n",
    "                finished = True\n",
    "\n",
    "    pygame.quit()\n",
    "\n",
    "\n",
    "def draw_face(x_centre_face, y_centre_face, size_face, color_face, screen):\n",
    "    \"\"\"Draw face\n",
    "        x_centre_face (int): x position centre of face\n",
    "        y_centre_face (int): y position centre of face\n",
    "        size_face (int): diametr face in px\n",
    "        color_face (list): color in RGB\n",
    "    \"\"\"\n",
    "    centre = (x_centre_face, y_centre_face)\n",
    "    circle(screen, color_face, centre, size_face/2)\n",
    "\n",
    "def draw_eye(x_centre_eye, y_centre_eye, size_eye, color_eye, size_eye_pupil, color_pupil, screen):\n",
    "    \"\"\"dasdasd\n",
    "\n",
    "    Args:\n",
    "        x_centre_eye (asf): fdsa\n",
    "        y_centre_eye (dsf): [description]\n",
    "        size_eye ([type]): [description]\n",
    "        color_eye ([type]): [description]\n",
    "        size_eye_pupil ([type]): [description]\n",
    "        color_pupil ([type]): [description]\n",
    "        screen ([type]): [description]\n",
    "    \"\"\"\n",
    "    centre = (x_centre_eye, y_centre_eye)\n",
    "    circle(screen, color_eye, centre, size_eye/2)\n",
    "    circle(screen, (0, 0, 0), centre, size_eye/2, width=1)\n",
    "    circle(screen, color_pupil, centre, size_eye_pupil/2)\n",
    "\n",
    "def draw_mouth_or_eyebrow(x_start, y_start, x_finish, y_finish, color_line, width_line, screen):\n",
    "    \"\"\"drawing line(mouth or eyebrow)\n",
    "        x_start ([int]): x_start_position\n",
    "        y_start (int): y_start_position\n",
    "        x_finish (int): x_finish_position\n",
    "        y_finish (int): y_finish_positiion\n",
    "        color (list): list in RGB format\n",
    "    \"\"\"\n",
    "    starting_position = (x_start, y_start)\n",
    "    finishing_position = (x_finish, y_finish)\n",
    "    line(screen, color_line, starting_position, finishing_position, width=width_line)\n",
    "    \n",
    "main()"
   ]
  },
  {
   "cell_type": "markdown",
   "metadata": {},
   "source": [
    "## Лекция 5 (Структурное программирование)"
   ]
  },
  {
   "cell_type": "markdown",
   "metadata": {},
   "source": [
    "### Лекция по видео"
   ]
  },
  {
   "cell_type": "markdown",
   "metadata": {},
   "source": [
    "#### Декомпозиция"
   ]
  },
  {
   "cell_type": "markdown",
   "metadata": {},
   "source": [
    "Декомпозиция в программирование состоит в разбиение задачи на подзадачи. Главный вопрос: как правильно разбить?  \n",
    "![картинка](./pics/screen-2.png)"
   ]
  },
  {
   "cell_type": "markdown",
   "metadata": {},
   "source": [
    "#### Структурное програмиирование"
   ]
  },
  {
   "cell_type": "markdown",
   "metadata": {},
   "source": [
    "- Логическое программирование (язык prolog)\n",
    "- Функциональное программирование (много элементов в python)\n",
    "- Императивное программирование (Программа представляет собой последовательность действий) синоним: процедурное (содержали goto)\n",
    "- Автор идеи структорного программирования: Э.В.Дейкстра. сооавтор: Н.Вирт(создатель языка Pascal)(Циклы/ветвления/подпрограммы)\n",
    "\n",
    "Одна из главных мыслей структурного программирования:\n",
    "- Идти сверху вниз (Вызов функции **->** Возврат значения )\n",
    "- Не пользуемся `goto`\n",
    "\n",
    "Пример:  \n",
    "- Надо построить дом (вызываем функцию, которой нет)\n",
    "- Продумать вопросы, где?(х и у), размеры(ширина и высота)\n",
    "- \n",
    "\n",
    "Как делают программы\n",
    "- С нуля до `release` - обычная практика\n",
    "- Потом придумали разбить на альфу и бету версию до `release` \n",
    "- Весь смысл итеративной разработки: программа все время в состоянии сборки, чтоб можно было протестировать кусочки (консистентые состояния)\n",
    "- Когда мы должны пользователься `-commit` ? `git` - система контроля версий"
   ]
  },
  {
   "cell_type": "code",
   "execution_count": null,
   "metadata": {},
   "outputs": [],
   "source": [
    "x, y = 100, 100\n",
    "width = 100\n",
    "height = 200\n",
    "draw_house(x, y, width, height)"
   ]
  },
  {
   "cell_type": "markdown",
   "metadata": {},
   "source": [
    "`commit` должен делаться при все работающих стадиях\n",
    "\n",
    "Мечтание -> Реализация  \n",
    "Творчество -> Техника"
   ]
  },
  {
   "cell_type": "code",
   "execution_count": null,
   "metadata": {},
   "outputs": [],
   "source": [
    "def main():\n",
    "    \"\"\"Основная функция программы, расположена сверху, чтоб было понятно что происходит, при этом вызов снизу\n",
    "    \"\"\"\n",
    "    draw_house(100,200, 400, 250)\n",
    "\n",
    "def draw_house(x, y, weight, height):\n",
    "    '''House drawing function\n",
    "        x ([type]): x position\n",
    "        y ([type]): y position\n",
    "        weight ([type]): total weight of house\n",
    "        height ([type]): total height of house\n",
    "    '''\n",
    "    print('Типо домик')\n",
    "    height_fundament = height * 0.05\n",
    "    height_wall = height * 0.5\n",
    "    weight_wall = weight * 0.9\n",
    "    height_roof = height - height_wall - height_fundament\n",
    "\n",
    "    draw_fundament(x, 0, weight, height_fundament)\n",
    "    draw_wall(x, height_fundament, weight_wall, height_wall)\n",
    "    draw_roof(x, y-height_roof, weight, height_roof)\n",
    "    pass #Функция которая не делает нихрена\n",
    "\n",
    "\n",
    "def draw_fundament(x, y, weight, height_fundament):\n",
    "    '''function drawing fundament\n",
    "        x ([type]): x position fundament\n",
    "        y ([type]): y position fundament\n",
    "        weight ([type]): weight of fundament\n",
    "        height_fundament ([type]): height of fundament\n",
    "    '''\n",
    "    print('рисую фундамент', x, y ,weight, height_fundament)\n",
    "    pass\n",
    "\n",
    "def draw_wall(x, height_fundament, weight_wall, height_wall):\n",
    "    '''fuction drawing wall\n",
    "        x (int): x position\n",
    "        height_fundament (int): height of wall\n",
    "        weight_wall (int): weight of wall\n",
    "        height_wall (int): height of wall\n",
    "    '''\n",
    "    print('рисую стену', x, height_fundament, weight_wall, height_wall)\n",
    "    pass\n",
    "\n",
    "\n",
    "def draw_roof(x, y_position_roof, weight, height_roof):\n",
    "    '''roof drawing fuction\n",
    "    it's test second string\n",
    "        x (int): position x\n",
    "        y_position (int): position y\n",
    "        weight (weight): weight of position\n",
    "        height_roof (int): height of position\n",
    "    '''\n",
    "    print('рисую крышу', x, y_position_roof, weight, height_roof)\n",
    "    pass\n",
    "    \n",
    "main()  # А здесь вызов мэйника, сделано чтоб соблюсти концепцию сверху-вниз чтение"
   ]
  },
  {
   "cell_type": "markdown",
   "metadata": {},
   "source": [
    "В этом состоянии правильнее всего сделать `-commit`  \n",
    "Программа рабочая, просто пока доделает не до конца"
   ]
  },
  {
   "cell_type": "markdown",
   "metadata": {},
   "source": [
    "### Лекции практической части"
   ]
  },
  {
   "cell_type": "markdown",
   "metadata": {},
   "source": [
    "## То что показалось очень полезным"
   ]
  },
  {
   "cell_type": "markdown",
   "metadata": {},
   "source": [
    "### Функционал Jupiter"
   ]
  },
  {
   "cell_type": "markdown",
   "metadata": {},
   "source": [
    "#### Ссылки"
   ]
  },
  {
   "cell_type": "markdown",
   "metadata": {},
   "source": [
    "[GitHub](https://ru.wikipedia.org/wiki/GitHub)"
   ]
  },
  {
   "cell_type": "markdown",
   "metadata": {},
   "source": [
    "#### Знак вопроса чтоб получить всю информацию о переменной"
   ]
  },
  {
   "cell_type": "code",
   "execution_count": null,
   "metadata": {},
   "outputs": [],
   "source": [
    "example_variable = [1, 2, 3, 4, 5] #Обрати внимание на знак вопроса\n",
    "example_variable?"
   ]
  },
  {
   "cell_type": "markdown",
   "metadata": {},
   "source": [
    "#### Latex"
   ]
  },
  {
   "cell_type": "markdown",
   "metadata": {},
   "source": [
    "Формула квадратного уравнения $ax^2 + bx + c = 0$\n",
    "А если с новой строки, то $$ax^2 + bx + c = 0$$\n",
    "Также интересные записи \n",
    "$$\\pi$$  \n",
    "$$\\overline{x}$$    \n",
    "$$\\frac{a + b}{c}$$  \n",
    "$$\\sum{x}$$\n",
    "$$R_{19} = 0$$"
   ]
  },
  {
   "cell_type": "markdown",
   "metadata": {},
   "source": [
    "### Функции"
   ]
  },
  {
   "cell_type": "code",
   "execution_count": null,
   "metadata": {},
   "outputs": [],
   "source": [
    "help(print) #Ну очень полезная функция"
   ]
  },
  {
   "cell_type": "markdown",
   "metadata": {},
   "source": []
  }
 ],
 "metadata": {
  "interpreter": {
   "hash": "b1a8b63bdf27559490c16144d51d3a6902ecbd7b7872de05b273d065c9a99ab9"
  },
  "kernelspec": {
   "display_name": "Python 3.10.0 64-bit",
   "language": "python",
   "name": "python3"
  },
  "language_info": {
   "codemirror_mode": {
    "name": "ipython",
    "version": 3
   },
   "file_extension": ".py",
   "mimetype": "text/x-python",
   "name": "python",
   "nbconvert_exporter": "python",
   "pygments_lexer": "ipython3",
   "version": "3.9.7"
  },
  "orig_nbformat": 4
 },
 "nbformat": 4,
 "nbformat_minor": 2
}
