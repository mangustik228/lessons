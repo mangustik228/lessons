{
 "cells": [
  {
   "cell_type": "markdown",
   "metadata": {},
   "source": [
    "## Основные команды"
   ]
  },
  {
   "cell_type": "markdown",
   "metadata": {},
   "source": [
    "|команда|описание|\n",
    "|---|---|\n",
    "|`sudo service docker restart`|Перезапустить docker|\n",
    "|`docker run -it <image_name> bash`|`-it` - то что создается интерактивный сеанс  `bash` - инициализирует командную оболочку |\n",
    "|`docker ps -a`|Список контейнеров|\n",
    "|`docker start`|Перезапустить контейнер|\n",
    "|`docker run -h <name_container> -it <image_name> bash`|`-h <name_container>` - Задать имя хоста(или `--hostname`)|\n",
    "|`docker ps -a -q`|Вывод только id контейнеров| \n",
    "|`docker build -t <image_name> .`|Создать образ из DockerFile|\n",
    "|`docker rm <id_container>`|Удалить определенный контейнер|\n",
    "|`docker rm $(docker ps -a -q)`|Удалить все контейнеры|\n",
    "|`docker run --name <container_name> <image_name>`|`--name <container_name>` имя контейнера|\n",
    "|`docker run -d <image_name>`|`-d` запуск с удалением после выполнения|\n",
    "|`docker inspect <container_id> \\| grep IpAddress`|получить информацию о контейнере `greo IpAddress` - получить инфор о контейнере|\n",
    "|`docker logs <container_name>`|Команды внутри контейнера|\n",
    "|`docker exec -it <mycontainer> bash`|Зайти в работающий контейнер|\n",
    "|`docker commit <container_id> <user_name>/<image_name>`|Превратить контейнер в образ `<user_name>` - то что на hub.docker, `<image_name>` - как назовем образ|\n",
    "|`docker push <image_name>:beta`|Пушим репозиторий(обязательно name, а не id) `:beta` - tag(опционально)|\n",
    "|`docker run -e <my_env_variable>=<my_value>`|Установить переменную окружения, можно пароль для бд и т.п.|\n",
    "|`docker run --link:<name_container>:db -p 8080:8080 adminer`|`--link:<name_container>:db` Установление соединения с другим контейнером|\n",
    "|`docker-compose up`|Запуск файла docker-compose|\n",
    "|`docker-compose up -d`|Запуск в фоновом режиме|\n",
    "|`||"
   ]
  },
  {
   "cell_type": "markdown",
   "metadata": {},
   "source": [
    "```bash\n",
    "# Запуск лысого ubuntu (Сразу в него зайдет)\n",
    "docker run -it ubuntu bash\n"
   ]
  },
  {
   "cell_type": "markdown",
   "metadata": {},
   "source": [
    "## Docker & Vscode"
   ]
  },
  {
   "cell_type": "markdown",
   "metadata": {},
   "source": [
    "- Создаем Dockerfile\n",
    "- рядом с ним создать `devcontainer.json`, который описывает, как VS Code должен запускать контейнер\n",
    "- Вносить и сохраняйте изменения в контейнер, такие как установка нового программного обеспечения, с помощью Dockerfile!!!\n",
    "- "
   ]
  },
  {
   "cell_type": "markdown",
   "metadata": {},
   "source": [
    "## Dockerfile"
   ]
  },
  {
   "cell_type": "markdown",
   "metadata": {
    "vscode": {
     "languageId": "plaintext"
    }
   },
   "source": [
    "```DockerFile\n",
    "# Из какого образа создаем\n",
    "FROM <base_image>\n",
    "\n",
    "# Просто прописать автора... ну какая то хрень, но так чтоб было\n",
    "MAINTAINER mangust228 <bacek.mangust@gmail.com>\n",
    "\n",
    "# RUN - команды которые будут выполнены при создании образа\n",
    "RUN apt-get update \n",
    "\n",
    "# Команды при запуске контейнера\n",
    "ENTRYPOINT ['python', 'main.py']\n",
    "\n"
   ]
  },
  {
   "cell_type": "markdown",
   "metadata": {},
   "source": [
    "## Docker-compose"
   ]
  },
  {
   "cell_type": "markdown",
   "metadata": {},
   "source": [
    "Предназначен для быстрой настройки и запуска различных вариантов сред разработки docker  \n",
    "Использует файлы с расширением `.yml` для хранения конф-ции группы контейнеров\n",
    "```Dockerfile\n",
    "# Предварительно надо проверить версию в терминале `docker-compose -v` `docker -v`\n",
    "# Затем посмотреть на оф. сайти какие версию поддеживаются\n",
    "# https://docs.docker.com/compose/compose-file/compose-versioning/\n",
    "version: '3.3'\n",
    "\n",
    "services:\n",
    "    # db:\n",
    "    <container_image>:\n",
    "        image: <name_image> \n",
    "        # Параметры перезапуска (no/on-failure/always)\n",
    "        restart: always\n",
    "        # Установка переменных окружения\n",
    "        environment:\n",
    "            <my_env_variable>:<my_value>\n",
    "\n",
    "    # adminer:\n",
    "    <container_image>:\n",
    "        image: <name_image>\n",
    "        restart: always\n",
    "        ports:\n",
    "            # порт локальный: порт внутри контейнера\n",
    "            - 8080:8080"
   ]
  },
  {
   "cell_type": "markdown",
   "metadata": {},
   "source": [
    "## Команды внутри контейнера"
   ]
  },
  {
   "cell_type": "markdown",
   "metadata": {},
   "source": [
    "\n",
    "По сути стандартные Linux- команды\n",
    "|Название|Описание|\n",
    "|--|--|\n",
    "|`apt update`|обновить индексы **(с этого начинаем)**|\n",
    "|`apt install <something>`|установить какой то пакет|\n",
    "|`uname -a`|посмотреть сведения о системе|\n",
    "|`top`|посмотреть процессы|\n",
    "|`ln -s /usr/games/cowsay /usr/bin/cowsay`|Создаем символьную ссылку... `/usr/games/cowsay` путь до приложения `/usr/bin/cowsay` путь к бинарной директории, после этого можно будет писать просто `cowsay`|"
   ]
  },
  {
   "cell_type": "markdown",
   "metadata": {},
   "source": []
  }
 ],
 "metadata": {
  "language_info": {
   "name": "python"
  },
  "orig_nbformat": 4
 },
 "nbformat": 4,
 "nbformat_minor": 2
}
