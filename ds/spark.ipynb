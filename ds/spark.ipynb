{
 "cells": [
  {
   "cell_type": "markdown",
   "metadata": {},
   "source": [
    "### Spark"
   ]
  },
  {
   "cell_type": "code",
   "execution_count": 1,
   "metadata": {},
   "outputs": [],
   "source": [
    "# ссылка на документацию : https://spark.apache.org/docs/latest/api/python/reference/pyspark.html#rdd-apis\n",
    "from pyspark.sql import SparkSession"
   ]
  },
  {
   "cell_type": "code",
   "execution_count": 29,
   "metadata": {},
   "outputs": [],
   "source": [
    "# Локально создаем в Jupiter\n",
    "spark = SparkSession\\\n",
    "    .builder\\\n",
    "    .master(\"local\")\\\n",
    "    .appName(\"Python Spark SQL basic example\")\\\n",
    "    .getOrCreate()\n",
    "    # создаём объект Spark-сессии, обращаясь к объекту builder, который создаёт сессию, учитывая параметры конфигурации\n",
    "# явно указываем, что хотим запустить Spark в локальном режиме\n",
    "# задаём название нашего Spark-приложения\n",
    "# функция инициализации объекта сессии\n"
   ]
  },
  {
   "cell_type": "code",
   "execution_count": 20,
   "metadata": {},
   "outputs": [
    {
     "name": "stdout",
     "output_type": "stream",
     "text": [
      "ParallelCollectionRDD[0] at readRDDFromFile at PythonRDD.scala:274\n"
     ]
    }
   ],
   "source": [
    "rdd = spark.sparkContext.parallelize([1,2,3,4,5,6,7])\n",
    "print(rdd)"
   ]
  },
  {
   "cell_type": "code",
   "execution_count": 23,
   "metadata": {},
   "outputs": [],
   "source": [
    "# Закрытие сессии\n",
    "spark.stop()"
   ]
  },
  {
   "cell_type": "markdown",
   "metadata": {},
   "source": [
    "### Создание коллекции RDD"
   ]
  },
  {
   "cell_type": "markdown",
   "metadata": {},
   "source": [
    "💡 RDD(англ. resilient distributed dataset) — отказоустойчивый распределённый набор данных, или коллекция. Тип хранения данных, представляющий собой набор элементов, разделённых по узлам кластера, с которыми можно работать параллельно.\n"
   ]
  },
  {
   "cell_type": "markdown",
   "metadata": {},
   "source": [
    "```python\n",
    " # Создание пустой коллекции Вариант 1\n",
    "rdd2 = spark.sparkContext.emptyRDD()\n",
    " # Создание пустой коллекции Вариант 2\n",
    "rdd2 = spark.sparkContext.parallelize([])\n",
    " # Создание коллекции из csv\n",
    "rdd3 = spark.sparkContext.textFile('C:/tmp/files/text01.csv')\n"
   ]
  },
  {
   "cell_type": "markdown",
   "metadata": {},
   "source": [
    "### Партиционирование"
   ]
  },
  {
   "cell_type": "code",
   "execution_count": 32,
   "metadata": {},
   "outputs": [
    {
     "data": {
      "text/plain": [
       "1"
      ]
     },
     "execution_count": 32,
     "metadata": {},
     "output_type": "execute_result"
    }
   ],
   "source": [
    "# посмотреть количество партиций\n",
    "rdd = spark.sparkContext.parallelize([1, 2, 3, 4, 5, 6, 7])\n",
    "rdd.getNumPartitions()"
   ]
  },
  {
   "cell_type": "code",
   "execution_count": 33,
   "metadata": {},
   "outputs": [
    {
     "data": {
      "text/plain": [
       "1"
      ]
     },
     "execution_count": 33,
     "metadata": {},
     "output_type": "execute_result"
    }
   ],
   "source": [
    "# repartition(val:int) Изменить количество партиций\n",
    "rdd.repartition(5)\n",
    "rdd.getNumPartitions()"
   ]
  },
  {
   "cell_type": "code",
   "execution_count": 34,
   "metadata": {},
   "outputs": [
    {
     "data": {
      "text/plain": [
       "CoalescedRDD[6] at coalesce at NativeMethodAccessorImpl.java:0"
      ]
     },
     "execution_count": 34,
     "metadata": {},
     "output_type": "execute_result"
    }
   ],
   "source": [
    "# coalesce() Только уменьшает\n",
    "rdd.coalesce(2)"
   ]
  },
  {
   "cell_type": "markdown",
   "metadata": {},
   "source": [
    "### Типы операций"
   ]
  },
  {
   "cell_type": "code",
   "execution_count": 36,
   "metadata": {},
   "outputs": [
    {
     "name": "stderr",
     "output_type": "stream",
     "text": [
      "                                                                                \r"
     ]
    },
    {
     "data": {
      "text/plain": [
       "[3, 4, 5, 6, 7, 8, 9]"
      ]
     },
     "execution_count": 36,
     "metadata": {},
     "output_type": "execute_result"
    }
   ],
   "source": [
    "rdd = spark.sparkContext.parallelize([1, 2, 3, 4, 5, 6, 7])\n",
    "# map и в африке map\n",
    "rdd2 = rdd.map(lambda x: x + 2)\n",
    "rdd2.collect()"
   ]
  },
  {
   "cell_type": "code",
   "execution_count": 37,
   "metadata": {},
   "outputs": [
    {
     "name": "stderr",
     "output_type": "stream",
     "text": [
      "[Stage 1:>                                                          (0 + 1) / 1]\r"
     ]
    },
    {
     "name": "stdout",
     "output_type": "stream",
     "text": [
      "h | e | l | l | o |   | w | o | r | l | d | "
     ]
    },
    {
     "name": "stderr",
     "output_type": "stream",
     "text": [
      "                                                                                \r"
     ]
    }
   ],
   "source": [
    "rdd = spark.sparkContext.parallelize('hello world')\n",
    "# Может вернуть несколь объектов\n",
    "rdd3 = rdd.flatMap(lambda x: x.split(','))\n",
    "for i in rdd3.collect():\n",
    "    print(i, end=' | ')"
   ]
  },
  {
   "cell_type": "code",
   "execution_count": 38,
   "metadata": {},
   "outputs": [
    {
     "data": {
      "text/plain": [
       "[2, 34, 6, 6, 8, 10]"
      ]
     },
     "execution_count": 38,
     "metadata": {},
     "output_type": "execute_result"
    }
   ],
   "source": [
    "# Фильтрация\n",
    "rdd = spark.sparkContext.parallelize([1,2,34,5,6,6,7,8,9,10])\n",
    "rdd4 = rdd.filter(lambda x: x%2 == 0)\n",
    "rdd4.collect()"
   ]
  },
  {
   "cell_type": "code",
   "execution_count": 42,
   "metadata": {},
   "outputs": [
    {
     "name": "stderr",
     "output_type": "stream",
     "text": [
      "                                                                                \r"
     ]
    },
    {
     "data": {
      "text/plain": [
       "['world', 'hello']"
      ]
     },
     "execution_count": 42,
     "metadata": {},
     "output_type": "execute_result"
    }
   ],
   "source": [
    "# Пересечение объектом\n",
    "rdd = spark.sparkContext.parallelize(['hello','vs','vasya','world'])\n",
    "rdd2 = spark.sparkContext.parallelize(['jopa','spark', 'hello','world'])\n",
    "intersection = rdd.intersection(rdd2)\n",
    "intersection.collect()"
   ]
  },
  {
   "cell_type": "code",
   "execution_count": 47,
   "metadata": {},
   "outputs": [
    {
     "name": "stderr",
     "output_type": "stream",
     "text": [
      "                                                                                \r"
     ]
    },
    {
     "name": "stdout",
     "output_type": "stream",
     "text": [
      "rdd_reduce.collect() = [('beer', 5), ('vodka', 16), ('milk', 0)]\n",
      "rdd_group.map(lambda x: (x[0], list(x[1]))).collect() = [('beer', [1, 5]), ('vodka', [2, 8]), ('milk', [0])]\n"
     ]
    }
   ],
   "source": [
    "# distinct() - уникальные значения\n",
    "# union() - создание новой rdd из двух других\n",
    "# sortByKey() - сортировка по ключу\n",
    "# sortBy(function) - сортировка по ф-ции\n",
    "# join()\n",
    "# reduceByKey(func) - аналог groupby\n",
    "# groupByKey() - возвращает интерируемый объект(похож на reduceByKey)\n",
    "rdd = spark.sparkContext.parallelize(\n",
    "    [\n",
    "        ('beer',1),\n",
    "        ('vodka',2),\n",
    "        ('beer',5),\n",
    "        ('milk',0),\n",
    "        ('vodka',8)\n",
    "    ]\n",
    ")\n",
    "rdd_reduce = rdd.reduceByKey(lambda x, y: x * y)\n",
    "rdd_group = rdd.groupByKey()\n",
    "print(f'{rdd_reduce.collect() = }')\n",
    "print(f'{rdd_group.map(lambda x: (x[0], list(x[1]))).collect() = }')\n"
   ]
  },
  {
   "cell_type": "code",
   "execution_count": 49,
   "metadata": {},
   "outputs": [],
   "source": [
    "spark.stop()"
   ]
  },
  {
   "cell_type": "markdown",
   "metadata": {},
   "source": [
    "### Действия (actions)"
   ]
  },
  {
   "cell_type": "markdown",
   "metadata": {},
   "source": [
    "|метод|что делает|последствия|\n",
    "|--|--|--|\n",
    "|`collect()`|Явно указывает собрать все части RDD|см.выше|\n",
    "|`count()`|Считает количество элементов в дочерней RDD.|`count(rdd2)` -> 5|\n",
    "|`take(n)`|Метод аналогичный `head()` в пандас|`rdd.take(2)`|\n",
    "|`countByValue()`|Метод похож на reduceByKey(), но применяется, когда RDD состоит только из значений, которые нужно посчитать. Метод аналогичен value_counts()в библиотеке pandas.|`rdd.countByValue()`->`[(1,8),(2,3),(3,15)]`|\n",
    "|`countByKey()`|Это действие аналогично методу reduceByKey(), так как суммирует по ключу. Отличие в том, что reduceByKey() — это трансформация, которая создаёт новую RDD, а countByKey() — это действие, которое запускает выполнение логического плана.||\n",
    "|`reduce(function)`|явная инструкция на совершение агрегации. Он принимает агрегирующую функцию и применяет её ко всей RDD целиком.|`sc.parallelize([1, 2, 3, 4, 5]).reduce(add)` -> 15|\n",
    "|``|||"
   ]
  },
  {
   "cell_type": "markdown",
   "metadata": {},
   "source": []
  }
 ],
 "metadata": {
  "interpreter": {
   "hash": "ca06022eeaaba41f8106b5e7859db2308ae98973a4e7711a4dd80a8bd4150e2a"
  },
  "kernelspec": {
   "display_name": "Python 3.10.0 ('ds')",
   "language": "python",
   "name": "python3"
  },
  "language_info": {
   "codemirror_mode": {
    "name": "ipython",
    "version": 3
   },
   "file_extension": ".py",
   "mimetype": "text/x-python",
   "name": "python",
   "nbconvert_exporter": "python",
   "pygments_lexer": "ipython3",
   "version": "3.10.0"
  },
  "orig_nbformat": 4
 },
 "nbformat": 4,
 "nbformat_minor": 2
}
