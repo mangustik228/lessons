{
 "cells": [
  {
   "cell_type": "markdown",
   "metadata": {},
   "source": [
    "# Линейная алгебра"
   ]
  },
  {
   "cell_type": "code",
   "execution_count": 2,
   "metadata": {},
   "outputs": [],
   "source": [
    "import numpy as np\n",
    "import pandas as pd\n",
    "import matplotlib.pyplot as plt\n"
   ]
  },
  {
   "cell_type": "markdown",
   "metadata": {},
   "source": [
    "## Векторы и векторные операции"
   ]
  },
  {
   "cell_type": "markdown",
   "metadata": {},
   "source": [
    "### Общее"
   ]
  },
  {
   "cell_type": "code",
   "execution_count": 42,
   "metadata": {},
   "outputs": [
    {
     "data": {
      "text/plain": [
       "array([1, 7, 3])"
      ]
     },
     "execution_count": 42,
     "metadata": {},
     "output_type": "execute_result"
    }
   ],
   "source": [
    "df = pd.DataFrame([1,7,3])\n",
    "df[0].values # Преобразование DataFrame к вектору"
   ]
  },
  {
   "cell_type": "code",
   "execution_count": 54,
   "metadata": {},
   "outputs": [
    {
     "data": {
      "image/png": "[encoded data removed]",
      "text/plain": [
       "<Figure size 250x250 with 1 Axes>"
      ]
     },
     "metadata": {},
     "output_type": "display_data"
    }
   ],
   "source": [
    "vector1 = np.array([2, 3])\n",
    "vector2 = np.array([6, 2])\n",
    "plt.figure(figsize=(2.5, 2.5)) # Размер окошка\n",
    "plt.axis([0,7,0,7])\n",
    "plt.arrow(0, 0, vector1[0], vector1[1], head_width=0.3, head_length=0.3, length_includes_head=True)\n",
    "plt.arrow(0, 0, vector2[0], vector2[1], head_width=0.3, head_length=0.3, length_includes_head=True) \n",
    "plt.title('Отображение векторов')\n",
    "plt.grid(True)\n",
    "plt.show()\n"
   ]
  },
  {
   "attachments": {},
   "cell_type": "markdown",
   "metadata": {},
   "source": [
    "### Cложение, вычитание и другие операции над векторами "
   ]
  },
  {
   "attachments": {},
   "cell_type": "markdown",
   "metadata": {},
   "source": [
    "**Вектора можно складывать и вычитать, если они одного размера** "
   ]
  },
  {
   "cell_type": "code",
   "execution_count": 55,
   "metadata": {},
   "outputs": [
    {
     "data": {
      "text/plain": [
       "array([4, 9])"
      ]
     },
     "execution_count": 55,
     "metadata": {},
     "output_type": "execute_result"
    }
   ],
   "source": [
    "vector1 = np.array([2,3])\n",
    "vector2 = np.array([5,4])\n",
    "vector2 - vector1 # array([3, 1])\n",
    "vector2 + vector1 # array([7, 7])\n",
    "vector2 * vector1 # array([10, 12])\n",
    "vector2 / vector1 # array([2.5, 1.33333333])\n",
    "vector2 @ vector1 # 22 \n",
    "vector1 + 2 # array([4, 5])\n",
    "vector1 * 2 # array([4, 6])\n",
    "vector1 / 2 # array([1. , 1.5])\n",
    "vector1 - 2 # array([0, 1])\n",
    "vector1**2 # array([4, 9])\n",
    "vector1.mean() # 2.5\n"
   ]
  },
  {
   "cell_type": "markdown",
   "metadata": {},
   "source": [
    "### Векторизованные функции"
   ]
  },
  {
   "attachments": {},
   "cell_type": "markdown",
   "metadata": {},
   "source": [
    "Масштабирование методом минимума максимума\n",
    "$$ f(x) = \\dfrac{x-\\min{}}{\\max{}-\\min{}}$$"
   ]
  },
  {
   "cell_type": "code",
   "execution_count": 62,
   "metadata": {},
   "outputs": [
    {
     "data": {
      "text/plain": [
       "array([0.   , 0.2  , 0.205, 1.   , 0.19 ])"
      ]
     },
     "execution_count": 62,
     "metadata": {},
     "output_type": "execute_result"
    }
   ],
   "source": [
    "values = np.array([-20, 0, 0.5, 80, -1])\n",
    "def min_max_val(values: np.ndarray):\n",
    "    return (values - values.min()) / (values.max()-values.min())\n",
    "min_max_val(values)"
   ]
  },
  {
   "attachments": {},
   "cell_type": "markdown",
   "metadata": {},
   "source": [
    "Иногда бывает, что значения могут быть очень большими. В таких случаях применяют **Логистическое преобразование**\n",
    "$$ f(x) = \\dfrac{1}{1+\\exp{(-x)}}$$"
   ]
  },
  {
   "cell_type": "code",
   "execution_count": 72,
   "metadata": {},
   "outputs": [
    {
     "data": {
      "text/plain": [
       "array([2.06115362e-09, 5.00000000e-01, 6.22459331e-01, 1.00000000e+00,\n",
       "       2.68941421e-01])"
      ]
     },
     "execution_count": 72,
     "metadata": {},
     "output_type": "execute_result"
    }
   ],
   "source": [
    "def logistic_function(values):\n",
    "    return 1 / ( 1 + np.exp(-values))\n",
    "logistic_function(values)"
   ]
  },
  {
   "attachments": {},
   "cell_type": "markdown",
   "metadata": {},
   "source": [
    "### Векторизация метрик"
   ]
  },
  {
   "cell_type": "code",
   "execution_count": 73,
   "metadata": {},
   "outputs": [],
   "source": [
    "target = np.array([0.9, 1.2, 1.4, 1.5, 1.9, 2.0])\n",
    "predictions = np.array([1.0, 1.2, 1.4, 1.6, 1.8, 2.0]) "
   ]
  },
  {
   "attachments": {},
   "cell_type": "markdown",
   "metadata": {},
   "source": [
    "Например средний квадрат отклонения (MSE):\n",
    "$$ MSE = \\dfrac{1}{n} \\sum_{i=1}^{n}(target_i - prediction_i)^2$$ \n",
    "Где:\n",
    "- $n$ длина каждого массива\n",
    "- $\\sum$ суммирование по всем объектам выборки"
   ]
  },
  {
   "cell_type": "code",
   "execution_count": 76,
   "metadata": {},
   "outputs": [
    {
     "data": {
      "text/plain": [
       "0.0049999999999999975"
      ]
     },
     "execution_count": 76,
     "metadata": {},
     "output_type": "execute_result"
    }
   ],
   "source": [
    "((target-predictions)**2).mean()"
   ]
  },
  {
   "attachments": {},
   "cell_type": "markdown",
   "metadata": {},
   "source": [
    "## Расстояние между векторами"
   ]
  },
  {
   "attachments": {},
   "cell_type": "markdown",
   "metadata": {},
   "source": [
    "Скалярное произведение\n",
    "$$(a,b) = x_1y_1 + x_2y_2 + ... + x_ny_n$$\n",
    "Расстояние на плоскости\n",
    "$$ |a| = \\sqrt{(a,a)} = \\sqrt{x^2+y^2}$$\n",
    "**Евклидово расстояние** (Индекс 2 означает, что координаты вектора возводятся во вторую степень) \n",
    "$$d_2(a,b)$$ \n",
    "Расстояние между векторами a = (x_1,y_1) и b = (x_2, y_2) вычисляются по формуле:\n",
    "$$d_2(a, b) = \\sqrt{(a-b,a-b)} = \\sqrt{(x_1-x_2)^2 + (y_1 - y_2)^2}$$\n",
    "**Манхэттенское расстояние** - сумма модулей разностей координат  \n",
    "Допустим есть вектора $a = (x_1, y_1)$ и $b=(x_2,y_2)$, тогда расстояние:\n",
    "$$d_1(a,b) = |x_2-x_1| + |y_2-y_1| $$ \n",
    "**Расстояние в многомерном пространстве**  \n",
    "Евклидово: \n",
    "$$ d_2(a,b) = \\sqrt{(b_1-a_1)^2+...+(b_n - a_n)^2} = \\sqrt{\\sum_{i=1}^{n}(b_i - a_i)^2} $$\n",
    "Манхетонское:  \n",
    "$$ d_1(a,b) = |b_1 - a_1| + |b_2-a_2|+ ... + |b_n - a_n| = \\sum_{i=1}^{n}|b_i-a_i| $$ "
   ]
  },
  {
   "cell_type": "code",
   "execution_count": 83,
   "metadata": {},
   "outputs": [
    {
     "data": {
      "text/plain": [
       "0.05000000000000001"
      ]
     },
     "execution_count": 83,
     "metadata": {},
     "output_type": "execute_result"
    }
   ],
   "source": [
    "volume = np.array([0.1, 0.3, 0.1])\n",
    "content = np.array([0.4, 0.0, 0.1]) \n",
    "sum(content * volume)\n",
    "content @ volume # Скалярное произведение"
   ]
  },
  {
   "cell_type": "code",
   "execution_count": 103,
   "metadata": {},
   "outputs": [
    {
     "data": {
      "text/plain": [
       "7"
      ]
     },
     "execution_count": 103,
     "metadata": {},
     "output_type": "execute_result"
    }
   ],
   "source": [
    "from scipy.spatial import distance \n",
    "a = np.array([5,6])\n",
    "b = np.array([1,3])\n",
    "np.dot(a - b, a - b)**0.5 # Евклидово расстояние\n",
    "( (a - b) @ (a - b) )**0.5 # Евклидово расстояние\n",
    "distance.euclidean(a, b) # Евклидово расстояние \n",
    "abs(a - b).sum() # Манхетонское расстояние\n",
    "distance.cityblock(a, b) # Манхетонское расстояние"
   ]
  },
  {
   "cell_type": "markdown",
   "metadata": {},
   "source": [
    "### Метод ближайщего соседа"
   ]
  },
  {
   "attachments": {
    "image.png": {
     "image/png": "[encoded data removed]"
    }
   },
   "cell_type": "markdown",
   "metadata": {},
   "source": [
    "![image.png](attachment:image.png)"
   ]
  },
  {
   "cell_type": "markdown",
   "metadata": {},
   "source": [
    "## Матрицы и матричные операции"
   ]
  },
  {
   "attachments": {},
   "cell_type": "markdown",
   "metadata": {},
   "source": [
    "матрицы обычно обозначаются загравными буквами\n",
    "$a_{ij}$ - элемент в i строке и j столбце\n",
    "$$ A = \\begin{pmatrix}\n",
    "a_{11} & a_{12} & a_{13}\\\\\n",
    "a_{21} & a_{22} & a_{23}\n",
    "\\end{pmatrix} = \n",
    "\\begin{pmatrix}\n",
    "1 & 2 & 3\\\\\n",
    "2 & 3 & 4\n",
    "\\end{pmatrix}$$"
   ]
  },
  {
   "cell_type": "code",
   "execution_count": 117,
   "metadata": {},
   "outputs": [
    {
     "data": {
      "text/plain": [
       "(3, 3)"
      ]
     },
     "execution_count": 117,
     "metadata": {},
     "output_type": "execute_result"
    }
   ],
   "source": [
    "matrix = np.matrix([\n",
    "    [1,2,3],\n",
    "    [4,5,6],\n",
    "    [7,8,9]\n",
    "])\n",
    "matrix.shape # Размер матрицы (3, 3)\n",
    "matrix[1,1] # 5\n",
    "matrix[0,:] # Строка 0\n",
    "matrix[:,1] # Столбец 1"
   ]
  },
  {
   "cell_type": "code",
   "execution_count": 127,
   "metadata": {},
   "outputs": [
    {
     "data": {
      "text/plain": [
       "matrix([[3, 3],\n",
       "        [3, 3]])"
      ]
     },
     "execution_count": 127,
     "metadata": {},
     "output_type": "execute_result"
    }
   ],
   "source": [
    "m1 = np.matrix([\n",
    "    [1,1],\n",
    "    [1,1]\n",
    "])\n",
    "m2 = np.matrix([\n",
    "    [2,3],\n",
    "    [4,5]\n",
    "])\n",
    "m1 + m2 # matrix([[3, 4],[5, 6]])\n",
    "m1 - m2 # matrix([[-1, -2],[-3, -4]])\n",
    "m1 * 2 # matrix([[2, 2], [2, 2]])\n",
    "m1 - 2 # matrix([[-1, -1], [-1, -1]])\n",
    "m1 / 2 # matrix([[0.5, 0.5], [0.5, 0.5]])\n",
    "m1 + 2 # matrix([[3, 3], [3, 3]])\n"
   ]
  },
  {
   "cell_type": "markdown",
   "metadata": {},
   "source": [
    "### Умножение матрицы на вектор"
   ]
  },
  {
   "attachments": {
    "image.png": {
     "image/png": "[encoded data removed]"
    }
   },
   "cell_type": "markdown",
   "metadata": {},
   "source": [
    "При умножение матрицы на вектор получается **вектор**!\n",
    "Пример: матрица $A$ размера $m*n$ умножаем на вектор $b$ ($n$ мерный). Произведением будет новый вектор с = Ab, это m-мерный вектор, у которго i-я координата равна скалярному произведению. i-й строки матрицы на $b$\n",
    "\n",
    "$$ \\begin{pmatrix}\n",
    "a_{11} & a_{12} & ... & a_{1n}\\\\\n",
    "a_{21} & a_{22} & ... & a_{2n}\\\\\n",
    "...    & ...    & ... & ...   \\\\\n",
    "a_{m1} & a_{m2} & ... & a_{mn}\\end{pmatrix} = \n",
    "\\begin{pmatrix} b_1\\\\ b_2\\\\ ... \\\\ b_n \\end{pmatrix} = \n",
    "\\begin{pmatrix} c_1\\\\ c_2\\\\ ... \\\\ c_m \\end{pmatrix} $$\n",
    "Транспонирование матрицы:   \n",
    "![image.png](attachment:image.png)"
   ]
  },
  {
   "cell_type": "code",
   "execution_count": 148,
   "metadata": {},
   "outputs": [],
   "source": [
    "A = np.matrix([\n",
    "    [1,2,3],\n",
    "    [2,3,4],\n",
    "    [3,4,5],\n",
    "    [4,5,6]\n",
    "])\n",
    "vec = np.array([7,7,7])\n",
    "h = []\n",
    "for i in A:\n",
    "    h.append(i @ vec) "
   ]
  },
  {
   "cell_type": "markdown",
   "metadata": {},
   "source": [
    "### Матричное умножение "
   ]
  },
  {
   "attachments": {},
   "cell_type": "markdown",
   "metadata": {},
   "source": [
    "При матричном умножении третья матрица получаеться путем скалярных произведений строк первой матрицы на столбцы второй матрицы.\n",
    "например:  \n",
    "$$ A(m*n) * B(n*r) = C(m*r)$$ \n",
    "отдельно элемент $$C_{ij} = (A_i,B_j)$$\n",
    "Логично: умножение возможно, если ширина первой матрицы равна высоте второй матрицы"
   ]
  },
  {
   "attachments": {},
   "cell_type": "markdown",
   "metadata": {},
   "source": [
    "\n",
    "## Модель линейной регрессии изнутри"
   ]
  },
  {
   "attachments": {},
   "cell_type": "markdown",
   "metadata": {},
   "source": [
    "У линейной регрессии - признаки это вектор чисел в n-мерном пространстве (допустим $x$). Предсказания модели $a$ вычисляются так: скалярно умножается вектор признаков на  вектор весов (w). Затем к этому произведению прибавляется величина сдвига предсказания\n",
    "$$ a = (x, w) + w_0 $$ \n",
    "- вектор $w$ и $w_0$ - это параметры модели. В векторе $w$ параметров $n$, а в $w_0$ - один. То есть количество параметров больше длины вектора признаков на единицу.\n",
    "- Если длина вектора признаков равна единице, то в выборке всего один признак. Изобразим этот признак с ответами на графике.\n",
    "Графики предсказания для линейной регрессии задаются уравнением: \n",
    "$$ y = wx + w_0 $$ "
   ]
  },
  {
   "attachments": {},
   "cell_type": "markdown",
   "metadata": {},
   "source": [
    "### Задача обучения"
   ]
  },
  {
   "attachments": {},
   "cell_type": "markdown",
   "metadata": {},
   "source": [
    "**Задачу обучения**: найти параметры модели, при которых значение функции потерь (_loss function_) на обучающей выборке минимально.   \n",
    "в векторном виде: \n",
    "$$ a = Xw + w_0 $$ \n",
    "$X$ - обучающая выборка   \n",
    "Для сокращения записи изменим обозначения. в матрицу X добавим столбец состоящий из 1(нулевой) а параметр w_0 к вектору w\n",
    "$$ \\begin{pmatrix}\n",
    "x_{11} & x_{12} & ... & x_{1n}\\\\\n",
    "x_{21} & x_{22} & ... & x_{2n}\\\\\n",
    "...    & ...    & ... &  ... \\end{pmatrix} \\rightarrow \n",
    "\\begin{pmatrix}\n",
    "1   & x_{11} & x_{12} & ... & x_{1n}\\\\\n",
    "1   & x_{21} & x_{22} & ... & x_{2n}\\\\\n",
    "... & ...    & ...    & ... &  ... \\end{pmatrix} $$\n",
    "$$ (w_1,w_2,...,w_n) \\rightarrow (w_0, w_1, w_2, ... , w_n) $$\n",
    "Затем умножим матрицу $X$ на вектор $w$.. \n",
    "$$ a = Xw $$ \n",
    "Введем новое обозначение $y$ - вектор значений целевого признака для обучающей выборки.   \n",
    "Запишем формулой задачу обучения линейной регресии для функции потерь `MSE`: \n",
    "$$ w = arg \\min_{w} MSE(Xw, y) $$ \n",
    "Функция `argmin()` находит минимум и возвращает, при каком аргументе он был достигнут.  "
   ]
  },
  {
   "attachments": {},
   "cell_type": "markdown",
   "metadata": {},
   "source": [
    "### Обратная и единичная матрица"
   ]
  },
  {
   "attachments": {},
   "cell_type": "markdown",
   "metadata": {},
   "source": [
    "Единачная матрица $E$ = квадратная матрица, на главной диагонали которой стоят единицы, а остальные элементы - нули. \n",
    "$$ E = \\begin{pmatrix} 1 & 0 & 0 \\\\ 0 & 1 & 0 \\\\ 0 & 0 & 1 \\end{pmatrix} $$ \n",
    "Если любую матрицу умножить на единичную матрицу: получиться такая же матрица\n",
    "$$ AE = EA = A $$ \n",
    "Обратная матрица - матрица $A$ с верхнем индексом $^{-1}$ произведение которой на A равно единичной матрице.\n",
    "$$ AA^{-1} = A^{-1}A = E $$\n",
    "Квадратные матрицы для которых можно найти обратные: называются обратными. Но не у каждой матрицы есть обратная."
   ]
  },
  {
   "cell_type": "code",
   "execution_count": 8,
   "metadata": {},
   "outputs": [
    {
     "data": {
      "text/plain": [
       "matrix([[-0.33333333,  0.        ,  0.66666667],\n",
       "        [-0.66666667,  1.        , -0.66666667],\n",
       "        [ 0.66666667,  0.        , -0.33333333]])"
      ]
     },
     "execution_count": 8,
     "metadata": {},
     "output_type": "execute_result"
    }
   ],
   "source": [
    "A = np.matrix([\n",
    "    [1,0,2],\n",
    "    [2,1,2],\n",
    "    [2,0,1]\n",
    "])\n",
    "np.linalg.inv(A) # Найти обратную матрицу"
   ]
  },
  {
   "cell_type": "markdown",
   "metadata": {},
   "source": [
    "### Обучение линейной регрессии"
   ]
  },
  {
   "attachments": {},
   "cell_type": "markdown",
   "metadata": {},
   "source": [
    "Задача линейной регрессии такая: \n",
    "$$ w = arg \\min_{w} MSE(Xw, y) $$ \n",
    "Минимальное значение MSE получается, когда веса равны этой величине\n",
    "$$ w = (X^TX)^{-1}X^Ty $$"
   ]
  },
  {
   "cell_type": "markdown",
   "metadata": {},
   "source": []
  }
 ],
 "metadata": {
  "kernelspec": {
   "display_name": "Python 3",
   "language": "python",
   "name": "python3"
  },
  "language_info": {
   "codemirror_mode": {
    "name": "ipython",
    "version": 3
   },
   "file_extension": ".py",
   "mimetype": "text/x-python",
   "name": "python",
   "nbconvert_exporter": "python",
   "pygments_lexer": "ipython3",
   "version": "3.10.6"
  },
  "orig_nbformat": 4
 },
 "nbformat": 4,
 "nbformat_minor": 2
}
