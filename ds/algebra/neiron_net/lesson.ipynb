{
 "cells": [
  {
   "cell_type": "code",
   "execution_count": 1,
   "metadata": {},
   "outputs": [],
   "source": [
    "import numpy as np \n"
   ]
  },
  {
   "cell_type": "code",
   "execution_count": 2,
   "metadata": {},
   "outputs": [],
   "source": [
    "x = 5"
   ]
  },
  {
   "cell_type": "code",
   "execution_count": 7,
   "metadata": {},
   "outputs": [
    {
     "data": {
      "text/plain": [
       "2.718281828459045"
      ]
     },
     "execution_count": 7,
     "metadata": {},
     "output_type": "execute_result"
    }
   ],
   "source": [
    "np.exp(1)"
   ]
  },
  {
   "cell_type": "code",
   "execution_count": 8,
   "metadata": {},
   "outputs": [
    {
     "data": {
      "text/plain": [
       "148.41985164964592"
      ]
     },
     "execution_count": 8,
     "metadata": {},
     "output_type": "execute_result"
    }
   ],
   "source": [
    "def hup_tangens(x):\n",
    "    return np.exp(x) - np.exp(-x) / np.exp(x) + np.exp(-x)\n",
    "\n",
    "hup_tangens(x)"
   ]
  },
  {
   "cell_type": "code",
   "execution_count": 17,
   "metadata": {},
   "outputs": [
    {
     "name": "stdout",
     "output_type": "stream",
     "text": [
      "[-2.353852663518548e+17, -3.1855931578631452e+16, -4311231481455226.0, -583461718372502.1, -78962951296570.17, -10686471312507.09, -1446255861687.191, -195729167015.44678, -26488959375.052044, -3584852971.9898596, -485143168.94395006, -65651866.05327953, -8883129.562185368, -1201507.6500944663, -162351.36014675902, -21878.045897757143, -2926.3415213696953, -383.2934695011796, -47.07375865097697, -4.302894829300163, 1.0, 2.9508259863938746, 7.5060757432785286, 20.132845239378863, 54.61613020940507, 148.41985164964592, 403.4312661006994, 1096.6340694788953, 2980.958322391821, 8103.084050969958, 22026.465840204586, 59874.14173189924, 162754.7914251481, 442413.3920111808, 1202604.2841656082, 3269017.3724724166, 8886110.520507984, 24154952.75357534, 65659969.137330525, 178482300.96318725]\n"
     ]
    }
   ],
   "source": [
    "import matplotlib.pyplot as plt\n",
    "import seaborn as sns\n",
    "import numpy as np\n",
    "\n",
    "def hyp(x):\n",
    "    return np.exp(x) - np.exp(-x) / np.exp(x) + np.exp(-x)\n",
    "\n",
    "def hyp_tangent(x):\n",
    "    '''\n",
    "    функция расчёта гиперболической функции активации\n",
    "    '''\n",
    "    return list(map(hyp,x))\n",
    "\n",
    "# Проверка работы функции       \n",
    "x = np.arange(-20,20)  # введите значение x  \n",
    "print(hyp_tangent(x))"
   ]
  },
  {
   "cell_type": "code",
   "execution_count": 10,
   "metadata": {},
   "outputs": [
    {
     "data": {
      "text/plain": [
       "[7.5060757432785286, 148.41985164964592]"
      ]
     },
     "execution_count": 10,
     "metadata": {},
     "output_type": "execute_result"
    }
   ],
   "source": [
    "list(map(hup_tangens, [2,5]))"
   ]
  },
  {
   "cell_type": "code",
   "execution_count": 9,
   "metadata": {},
   "outputs": [
    {
     "name": "stdout",
     "output_type": "stream",
     "text": [
      "5\n",
      "6\n",
      "7\n",
      "8\n",
      "9\n"
     ]
    }
   ],
   "source": [
    "for i in range(*[5,10]):\n",
    "    print(i)"
   ]
  },
  {
   "cell_type": "code",
   "execution_count": null,
   "metadata": {},
   "outputs": [],
   "source": []
  }
 ],
 "metadata": {
  "kernelspec": {
   "display_name": "Python 3",
   "language": "python",
   "name": "python3"
  },
  "language_info": {
   "codemirror_mode": {
    "name": "ipython",
    "version": 3
   },
   "file_extension": ".py",
   "mimetype": "text/x-python",
   "name": "python",
   "nbconvert_exporter": "python",
   "pygments_lexer": "ipython3",
   "version": "3.10.6"
  },
  "orig_nbformat": 4
 },
 "nbformat": 4,
 "nbformat_minor": 2
}
