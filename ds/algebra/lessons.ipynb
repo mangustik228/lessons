{
 "cells": [
  {
   "cell_type": "code",
   "execution_count": 29,
   "metadata": {},
   "outputs": [],
   "source": [
    "import numpy as np \n",
    "import pandas as pd "
   ]
  },
  {
   "cell_type": "code",
   "execution_count": 31,
   "metadata": {},
   "outputs": [
    {
     "data": {
      "text/plain": [
       "14"
      ]
     },
     "execution_count": 31,
     "metadata": {},
     "output_type": "execute_result"
    }
   ],
   "source": [
    "# Скалярное произведение\n",
    "A = np.array([1,2])\n",
    "B = np.array([4,5])\n",
    "B @ A # 1*4 + 2*5"
   ]
  },
  {
   "cell_type": "markdown",
   "metadata": {},
   "source": [
    "### Матрицы"
   ]
  },
  {
   "cell_type": "markdown",
   "metadata": {},
   "source": [
    "### Транспонирование матрицы(переворот)"
   ]
  },
  {
   "cell_type": "code",
   "execution_count": 11,
   "metadata": {},
   "outputs": [
    {
     "name": "stdout",
     "output_type": "stream",
     "text": [
      "Простая матрица\n",
      "[[ 1  2]\n",
      " [ 4 -4]\n",
      " [ 0 17]]\n",
      "Транспониррованная матрица\n",
      "[[ 1  4  0]\n",
      " [ 2 -4 17]]\n"
     ]
    }
   ],
   "source": [
    "matrix = np.array([\n",
    "    [1,2],\n",
    "    [4,-4],\n",
    "    [0,17]\n",
    "])\n",
    "\n",
    "print('Простая матрица')\n",
    "print(matrix)\n",
    "print('Транспониррованная матрица')\n",
    "print(matrix.T)"
   ]
  },
  {
   "cell_type": "markdown",
   "metadata": {},
   "source": [
    "### Умножение исходной матрицы на вектор длиной 3"
   ]
  },
  {
   "cell_type": "code",
   "execution_count": 12,
   "metadata": {},
   "outputs": [
    {
     "name": "stdout",
     "output_type": "stream",
     "text": [
      "[  6 -17]\n"
     ]
    }
   ],
   "source": [
    "vector = [2,1,-1]\n",
    "print(matrix.T @ vector)\n",
    "# Умножать надо на транспонированную... разная размерность\n",
    "# print(np.dot(matrix, vector)) "
   ]
  },
  {
   "cell_type": "code",
   "execution_count": 23,
   "metadata": {},
   "outputs": [
    {
     "data": {
      "text/plain": [
       "array([ 26.8, 100.8, 632. ])"
      ]
     },
     "execution_count": 23,
     "metadata": {},
     "output_type": "execute_result"
    }
   ],
   "source": [
    "columns = ['Предмет', 'Плита','Труба','Винт']\n",
    "data = [\n",
    "    ['Стул', 0.2, 1.2, 8],\n",
    "    ['Скамья', 0.5, 0.8, 6],\n",
    "    ['Стол', 0.8, 1.6, 8]\n",
    "]\n",
    "df = pd.DataFrame(data=data, columns=columns)\n",
    "manufacture = df[['Плита','Труба','Винт']].to_numpy()\n",
    "# Сколько надо произвести\n",
    "furniture = [60, 4, 16] \n",
    "manufacture.T @ furniture\n"
   ]
  },
  {
   "cell_type": "markdown",
   "metadata": {},
   "source": [
    "### Матричное умножение"
   ]
  },
  {
   "attachments": {},
   "cell_type": "markdown",
   "metadata": {},
   "source": [
    "Строиться третья матрица  \n",
    "$C_{ij} = (A_i,B_j)$\n",
    "- Матрица состоит из скалярных произведений строк первой матрицы на столбцы второй\n",
    "- Умножение возможно если ширина первой матрицы $А(m*n)$ равна высоте второй матрицы $В (n*r)$ \n",
    "- Получиться матрица m*r (размерность n схлопываеться)\n",
    "- Зависит от порядка умножения!"
   ]
  },
  {
   "cell_type": "code",
   "execution_count": 32,
   "metadata": {},
   "outputs": [
    {
     "name": "stdout",
     "output_type": "stream",
     "text": [
      "[[ 4  5]\n",
      " [-4 -5]]\n",
      "[[ 1  2  3]\n",
      " [-1 -2 -3]\n",
      " [ 0  0  0]]\n"
     ]
    }
   ],
   "source": [
    "A = np.array([\n",
    "    [1, 2, 3], \n",
    "    [-1, -2, -3]])\n",
    "\n",
    "B = np.array([\n",
    "    [1, 0], \n",
    "    [0, 1],\n",
    "    [1, 1]])\n",
    "print(A @ B)\n",
    "print(B @ A)"
   ]
  },
  {
   "cell_type": "code",
   "execution_count": 33,
   "metadata": {},
   "outputs": [
    {
     "name": "stdout",
     "output_type": "stream",
     "text": [
      "[[-1 -2 -3]\n",
      " [ 1  2  3]\n",
      " [ 0  0  0]]\n"
     ]
    }
   ],
   "source": [
    "square_matrix = np.array([\n",
    "    [1, 2, 3], \n",
    "    [-1, -2, -3],\n",
    "    [0, 0, 0]])\n",
    "\n",
    "print(square_matrix @ square_matrix)"
   ]
  },
  {
   "cell_type": "code",
   "execution_count": 2,
   "metadata": {},
   "outputs": [
    {
     "name": "stdout",
     "output_type": "stream",
     "text": [
      "По заведениям\n",
      "          Древесная плита  Металлическая труба  Винты\n",
      "Кофейня               4.8                 19.2  120.0\n",
      "Бистро               17.0                 65.6  412.0\n",
      "Ресторан             29.4                105.6  660.0\n",
      "\n",
      "Всего\n",
      "  Древесная плита  Металлическая труба   Винты\n",
      "           1156.8               3977.2  6416.4\n"
     ]
    }
   ],
   "source": [
    "import numpy  as np\n",
    "import pandas as pd\n",
    "\n",
    "materials_names = ['Древесная плита', 'Металлическая труба', 'Винты']\n",
    "venues_names = ['Кофейня', 'Бистро', 'Ресторан']\n",
    "\n",
    "# матрица, где по строкам указана мебель, а по столбцам — материалы для её изготовления\n",
    "manufacture = np.array([\n",
    "    [0.2, 1.2, 8],\n",
    "    [0.5, 0.8, 6],\n",
    "    [0.8, 1.6, 8]])\n",
    "\n",
    "# матрица, где по строкам указаны заведения, а по столбцам — виды мебели\n",
    "furniture = np.array([\n",
    "    [12, 0, 3],\n",
    "    [40, 2, 10],\n",
    "    [60, 6, 18]])\n",
    "\n",
    "venues_materials = furniture @ manufacture\n",
    "\n",
    "print('По заведениям')\n",
    "print(pd.DataFrame(venues_materials, index=venues_names, columns=materials_names))\n",
    "print()\n",
    "\n",
    "venues = np.array([18, 12, 7])\n",
    "\n",
    "total_materials = venues_materials @ venues\n",
    "\n",
    "print('Всего')\n",
    "print(pd.DataFrame([total_materials], index=[''], columns=materials_names))"
   ]
  },
  {
   "attachments": {},
   "cell_type": "markdown",
   "metadata": {},
   "source": [
    "### Обратная матрица "
   ]
  },
  {
   "attachments": {},
   "cell_type": "markdown",
   "metadata": {},
   "source": [
    "**Единичная матрица** \n",
    "$\n",
    "    E = \\begin{pmatrix} 1 & 0 & 0 \\\\\n",
    "    0 & 1 & 0 \\\\\n",
    "    0 & 0 & 1 \n",
    "    \\end{pmatrix}\n",
    "$  \n",
    "Любая матрица A при умножение на единичную, дает саму себя:   \n",
    "$AE=EA=A$   \n",
    "\n",
    "**Обратная для квадратной матрицы**   \n",
    "$AA^{-1} = A^{-1}A = E$   \n",
    "Квадратный матрицы для которых можно натйи обратные: называются обратимыми, но не у каждой матрицы есть обратная... \n",
    "\n",
    "Для поиска обратной матрицы:  \n",
    "```python \n",
    "np.random.normal()\n",
    "```"
   ]
  },
  {
   "cell_type": "code",
   "execution_count": 15,
   "metadata": {},
   "outputs": [
    {
     "data": {
      "text/plain": [
       "[0, 0, 0]"
      ]
     },
     "execution_count": 15,
     "metadata": {},
     "output_type": "execute_result"
    }
   ],
   "source": [
    "E = np.matrix([\n",
    "    [1,0,0],\n",
    "    [0,1,0],\n",
    "    [0,0,1]\n",
    "])\n",
    "E * 1  \n",
    "np.zeros(len(E))"
   ]
  },
  {
   "cell_type": "code",
   "execution_count": 55,
   "metadata": {},
   "outputs": [],
   "source": [
    "import numpy as np\n",
    "import pandas as pd\n",
    "from sklearn.metrics import r2_score\n",
    "\n",
    "columns = ['комнаты', 'площадь', 'кухня', 'пл. жилая', 'этаж', 'всего этажей', 'цена']\n",
    "\n",
    "data = pd.DataFrame([\n",
    "    [1, 38.5, 6.9, 18.9, 3, 5, 4200000],\n",
    "    [1, 38.0, 8.5, 19.2, 9, 17, 3500000],\n",
    "    [1, 34.7, 10.3, 19.8, 1, 9, 5100000],\n",
    "    [1, 45.9, 11.1, 17.5, 11, 23, 6300000],\n",
    "    [1, 42.4, 10.0, 19.9, 6, 14, 5900000],\n",
    "    [1, 46.0, 10.2, 20.5, 3, 12, 8100000],\n",
    "    [2, 77.7, 13.2, 39.3, 3, 17, 7400000],\n",
    "    [2, 69.8, 11.1, 31.4, 12, 23, 7200000],\n",
    "    [2, 78.2, 19.4, 33.2, 4, 9, 6800000],\n",
    "    [2, 55.5, 7.8, 29.6, 1, 25, 9300000],\n",
    "    [2, 74.3, 16.0, 34.2, 14, 17, 10600000],\n",
    "    [2, 78.3, 12.3, 42.6, 23, 23, 8500000],\n",
    "    [2, 74.0, 18.1, 49.0, 8, 9, 6000000],\n",
    "    [2, 91.4, 20.1, 60.4, 2, 10, 7200000],\n",
    "    [3, 85.0, 17.8, 56.1, 14, 14, 12500000],\n",
    "    [3, 79.8, 9.8, 44.8, 9, 10, 13200000],\n",
    "    [3, 72.0, 10.2, 37.3, 7, 9, 15100000],\n",
    "    [3, 95.3, 11.0, 51.5, 15, 23, 9800000],\n",
    "    [3, 69.3, 8.5, 39.3, 4, 9, 11400000],\n",
    "    [3, 89.8, 11.2, 58.2, 24, 25, 16300000],\n",
    "], columns=columns)\n",
    "\n",
    "features = data.drop('цена', axis=1)\n",
    "target = data['цена']"
   ]
  },
  {
   "cell_type": "code",
   "execution_count": 57,
   "metadata": {},
   "outputs": [
    {
     "data": {
      "text/plain": [
       "6"
      ]
     },
     "execution_count": 57,
     "metadata": {},
     "output_type": "execute_result"
    }
   ],
   "source": [
    "len(features.columns)"
   ]
  },
  {
   "cell_type": "code",
   "execution_count": 66,
   "metadata": {},
   "outputs": [
    {
     "data": {
      "text/plain": [
       "array([0., 0., 0., 0., 0., 0.])"
      ]
     },
     "execution_count": 66,
     "metadata": {},
     "output_type": "execute_result"
    }
   ],
   "source": [
    "np.zeros(features.shape[1])"
   ]
  },
  {
   "cell_type": "code",
   "execution_count": 71,
   "metadata": {},
   "outputs": [
    {
     "data": {
      "text/plain": [
       "8720000.0"
      ]
     },
     "execution_count": 71,
     "metadata": {},
     "output_type": "execute_result"
    }
   ],
   "source": [
    "target.mean()"
   ]
  },
  {
   "cell_type": "code",
   "execution_count": 79,
   "metadata": {},
   "outputs": [
    {
     "name": "stdout",
     "output_type": "stream",
     "text": [
      "0.7781189439686584\n"
     ]
    }
   ],
   "source": [
    "\n",
    "class LinearRegression:\n",
    "    def fit(self, train_features, train_target):\n",
    "        X = np.concatenate((np.ones((train_features.shape[0], 1)), train_features), axis=1)\n",
    "        y = train_target\n",
    "        w = (np.linalg.inv(X.T @ X) @ X.T) @ y \n",
    "        self.w = w[1:]\n",
    "        self.w0 = w[0]\n",
    "\n",
    "    def predict(self, test_features):\n",
    "        return test_features.dot(self.w) + self.w0\n",
    "    \n",
    "model = LinearRegression()\n",
    "model.fit(features, target)\n",
    "predictions = model.predict(features)\n",
    "print(r2_score(target, predictions))"
   ]
  },
  {
   "cell_type": "code",
   "execution_count": 20,
   "metadata": {},
   "outputs": [
    {
     "data": {
      "text/plain": [
       "array([0., 0., 0.])"
      ]
     },
     "execution_count": 20,
     "metadata": {},
     "output_type": "execute_result"
    }
   ],
   "source": [
    "np.zeros(len(E))"
   ]
  },
  {
   "cell_type": "code",
   "execution_count": 45,
   "metadata": {},
   "outputs": [
    {
     "data": {
      "text/plain": [
       "1.0"
      ]
     },
     "execution_count": 45,
     "metadata": {},
     "output_type": "execute_result"
    }
   ],
   "source": [
    "def MSE(features, predict):\n",
    "    if len(features) != len(predict):\n",
    "        raise Exception('len(features) must be equal len(predict)')\n",
    "    return np.mean(np.square(features - predict))\n",
    "\n",
    "\n",
    "def get_r2(x, y):\n",
    "    slope, intercept = np.polyfit(x, y, 1)\n",
    "    r_squared = 1 - (sum((y - (slope * x + intercept))**2) / ((len(y) - 1) * np.var(y, ddof=1)))\n",
    "    return r_squared\n",
    "\n",
    "\n",
    "MSE(np.array([1,2,5]),np.array([1,2,5]))\n",
    "get_r2(np.array([1,2,5]),np.array([1,2,5]))"
   ]
  },
  {
   "cell_type": "code",
   "execution_count": 33,
   "metadata": {},
   "outputs": [],
   "source": [
    "a = np.array([1,2,3])\n",
    "b = np.array([2,3,4])"
   ]
  },
  {
   "cell_type": "code",
   "execution_count": null,
   "metadata": {},
   "outputs": [],
   "source": [
    "[1,2,3,4,5]"
   ]
  },
  {
   "cell_type": "code",
   "execution_count": 47,
   "metadata": {},
   "outputs": [
    {
     "data": {
      "text/plain": [
       "0.3333333333333333"
      ]
     },
     "execution_count": 47,
     "metadata": {},
     "output_type": "execute_result"
    }
   ],
   "source": [
    "np.mean(E)"
   ]
  },
  {
   "cell_type": "code",
   "execution_count": null,
   "metadata": {},
   "outputs": [],
   "source": []
  }
 ],
 "metadata": {
  "kernelspec": {
   "display_name": "Python 3",
   "language": "python",
   "name": "python3"
  },
  "language_info": {
   "codemirror_mode": {
    "name": "ipython",
    "version": 3
   },
   "file_extension": ".py",
   "mimetype": "text/x-python",
   "name": "python",
   "nbconvert_exporter": "python",
   "pygments_lexer": "ipython3",
   "version": "3.10.6"
  },
  "orig_nbformat": 4,
  "vscode": {
   "interpreter": {
    "hash": "31f2aee4e71d21fbe5cf8b01ff0e069b9275f58929596ceb00d14d90e3e16cd6"
   }
  }
 },
 "nbformat": 4,
 "nbformat_minor": 2
}
