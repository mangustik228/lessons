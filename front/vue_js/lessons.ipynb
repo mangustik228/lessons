{
 "cells": [
  {
   "cell_type": "markdown",
   "metadata": {},
   "source": [
    "## Vue.js"
   ]
  },
  {
   "cell_type": "markdown",
   "metadata": {},
   "source": [
    "### Подключение"
   ]
  },
  {
   "attachments": {},
   "cell_type": "markdown",
   "metadata": {},
   "source": [
    "см.[документацию](https://vuejs.org/guide/quick-start.html#creating-a-vue-application)\n",
    "- Вариант 1,   `как библиотека `\n",
    "```html\n",
    "<script src=\"https://unpkg.com/vue@3/dist/vue.global.js\"></script>\n",
    "```"
   ]
  },
  {
   "attachments": {},
   "cell_type": "markdown",
   "metadata": {},
   "source": [
    "### Изменеие переменной в html"
   ]
  },
  {
   "cell_type": "markdown",
   "metadata": {},
   "source": [
    "```html\n",
    "<button class=\"btn primary\" v-on:click=\"counter++\">Добавить</button>\n",
    "```"
   ]
  },
  {
   "attachments": {},
   "cell_type": "markdown",
   "metadata": {},
   "source": [
    "В атрибут нельзя вносить placeholder:\n",
    "<input type=\"text\" v-bind:placeholder=\"placheholder_variable\""
   ]
  },
  {
   "cell_type": "markdown",
   "metadata": {},
   "source": [
    "### Миксины"
   ]
  },
  {
   "attachments": {},
   "cell_type": "markdown",
   "metadata": {},
   "source": [
    "```js \n",
    "// main.js Добавиться в каждый компонент...\n",
    "const alertMixin = {\n",
    "    data() {\n",
    "        return {\n",
    "            alert: false\n",
    "        }\n",
    "    }, \n",
    "    methods: {\n",
    "        toggleAlert() {\n",
    "            this.alert = !this.alert\n",
    "        }\n",
    "    }\n",
    "} \n",
    "\n",
    "createApp(App)\n",
    "    .mixin(alertMixin)\n",
    "    .mount(\"#app\")\n",
    "\n",
    "// SomeApp.vue\n",
    "\n",
    "export default { \n",
    "    mixins: [alertMixin]\n",
    "}\n",
    " \n",
    "```"
   ]
  },
  {
   "cell_type": "markdown",
   "metadata": {},
   "source": []
  }
 ],
 "metadata": {
  "language_info": {
   "name": "python"
  },
  "orig_nbformat": 4
 },
 "nbformat": 4,
 "nbformat_minor": 2
}
