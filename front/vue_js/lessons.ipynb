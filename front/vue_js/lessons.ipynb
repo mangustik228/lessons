{
 "cells": [
  {
   "cell_type": "markdown",
   "metadata": {},
   "source": [
    "## Vue.js"
   ]
  },
  {
   "cell_type": "markdown",
   "metadata": {},
   "source": [
    "### Подключение"
   ]
  },
  {
   "attachments": {},
   "cell_type": "markdown",
   "metadata": {},
   "source": [
    "см.[документацию](https://vuejs.org/guide/quick-start.html#creating-a-vue-application)\n",
    "- Вариант 1,   `как библиотека `\n",
    "```html\n",
    "<script src=\"https://unpkg.com/vue@3/dist/vue.global.js\"></script>\n",
    "```"
   ]
  },
  {
   "attachments": {},
   "cell_type": "markdown",
   "metadata": {},
   "source": [
    "### Изменеие переменной в html"
   ]
  },
  {
   "cell_type": "markdown",
   "metadata": {},
   "source": [
    "```html\n",
    "<button class=\"btn primary\" v-on:click=\"counter++\">Добавить</button>\n",
    "```"
   ]
  },
  {
   "attachments": {},
   "cell_type": "markdown",
   "metadata": {},
   "source": [
    "В атрибут нельзя вносить placeholder:\n",
    "<input type=\"text\" v-bind:placeholder=\"placheholder_variable\""
   ]
  }
 ],
 "metadata": {
  "language_info": {
   "name": "python"
  },
  "orig_nbformat": 4
 },
 "nbformat": 4,
 "nbformat_minor": 2
}
