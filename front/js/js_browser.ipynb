{
 "cells": [
  {
   "cell_type": "markdown",
   "metadata": {},
   "source": [
    "## Общая теория"
   ]
  },
  {
   "cell_type": "markdown",
   "metadata": {},
   "source": [
    "`html-элемент` - содержит:\n",
    "- `тэг(a/div/...)` \n",
    "- `атрибуты(class / id / src)` \n",
    "- `содержимое`"
   ]
  },
  {
   "cell_type": "markdown",
   "metadata": {},
   "source": [
    "### Возможности в браузере"
   ]
  },
  {
   "cell_type": "markdown",
   "metadata": {},
   "source": [
    "```html\n",
    "<!-- Загрузка асинхронно с помощью defer, будет ждать загрузку других скриптов с тегом defer -->\n",
    "<script src=\"./first.js\" defer></script>\n",
    "\n",
    "<!-- Начнет выполняться сразу как загрузиться -->\n",
    "<script src=\"./secodn.js\" async></script> \n",
    "```\n",
    "`defer` - будет выполняться только после того как будет прочитана вся страница и сформируется `DOM`"
   ]
  },
  {
   "cell_type": "markdown",
   "metadata": {},
   "source": [
    "### Обращение к элементу"
   ]
  },
  {
   "cell_type": "markdown",
   "metadata": {},
   "source": [
    "```JavaScript\n",
    "// document - наш DOM\n",
    "// getElementById - находит элемент по id, name - не посредственно значение\n",
    "// Если не найдет: вернет null или вернется первый, если их 2.\n",
    "const element = document.getElementById('name')\n",
    "\n",
    "// Посмотреть все что находиться в элементе\n",
    "console.dir(element)\n"
   ]
  },
  {
   "cell_type": "markdown",
   "metadata": {},
   "source": [
    "### Событийное"
   ]
  },
  {
   "cell_type": "markdown",
   "metadata": {},
   "source": [
    "```Js\n",
    "const element = documet.getElementById('button');\n",
    "element.onclick = function () {\n",
    "    alert('press_button')\n",
    "}"
   ]
  },
  {
   "cell_type": "markdown",
   "metadata": {},
   "source": [
    "## Способы поиска нужного html-элемента"
   ]
  },
  {
   "cell_type": "markdown",
   "metadata": {},
   "source": [
    "- `getElementByTagName`\n",
    "- `getElementByClassName`\n",
    "- `getElementByName`\n",
    "- __`getElementById`__\n",
    "Все кроме `getElementById` можно применять не только document "
   ]
  },
  {
   "cell_type": "markdown",
   "metadata": {},
   "source": [
    "```js\n"
   ]
  }
 ],
 "metadata": {
  "language_info": {
   "name": "python"
  },
  "orig_nbformat": 4
 },
 "nbformat": 4,
 "nbformat_minor": 2
}
