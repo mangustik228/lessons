{
 "cells": [
  {
   "cell_type": "markdown",
   "metadata": {},
   "source": [
    "## Общая теория"
   ]
  },
  {
   "cell_type": "markdown",
   "metadata": {},
   "source": [
    "`html-элемент` - содержит:\n",
    "- `тэг(a/div/...)` \n",
    "- `атрибуты(class / id / src)` \n",
    "- `содержимое`"
   ]
  },
  {
   "cell_type": "markdown",
   "metadata": {},
   "source": [
    "### Возможности в браузере"
   ]
  },
  {
   "cell_type": "markdown",
   "metadata": {},
   "source": [
    "```html\n",
    "<!-- Загрузка асинхронно с помощью defer, будет ждать загрузку других скриптов с тегом defer -->\n",
    "<script src=\"./first.js\" defer></script>\n",
    "\n",
    "<!-- Начнет выполняться сразу как загрузиться -->\n",
    "<script src=\"./secodn.js\" async></script> \n",
    "```\n",
    "`defer` - будет выполняться только после того как будет прочитана вся страница и сформируется `DOM`"
   ]
  },
  {
   "cell_type": "markdown",
   "metadata": {},
   "source": [
    "### Обращение к элементу"
   ]
  },
  {
   "cell_type": "markdown",
   "metadata": {},
   "source": [
    "```JavaScript\n",
    "// document - наш DOM\n",
    "// getElementById - находит элемент по id, name - не посредственно значение\n",
    "// Если не найдет: вернет null или вернется первый, если их 2.\n",
    "const element = document.getElementById('name')\n",
    "\n",
    "// Посмотреть все что находиться в элементе\n",
    "console.dir(element)\n"
   ]
  },
  {
   "cell_type": "markdown",
   "metadata": {},
   "source": [
    "### Событийное"
   ]
  },
  {
   "cell_type": "markdown",
   "metadata": {},
   "source": [
    "```Js\n",
    "const element = documet.getElementById('button');\n",
    "element.onclick = function () {\n",
    "    alert('press_button')\n",
    "}"
   ]
  },
  {
   "cell_type": "markdown",
   "metadata": {},
   "source": [
    "## Способы поиска нужного html-элемента"
   ]
  },
  {
   "cell_type": "markdown",
   "metadata": {},
   "source": [
    "- `getElement`<span style='color:orange; font-weight:bold'>s</span>`ByTagName`\n",
    "- `getElement`<span style='color:orange; font-weight:bold'>s</span>`ByClassName`\n",
    "- `getElement`<span style='color:orange; font-weight:bold'>s</span>`ByName`\n",
    "- __`getElementById`__\n",
    "Все кроме `getElementById` можно применять не только <u>document</u> но и к отдельным html-элементам  \n",
    "\n",
    "Пример (необходимо получить все изображения на странице):\n",
    "```js\n",
    "// Всегда получим коллекцию, даже если изображений 0,1,...,n\n",
    "let images = document.getElementsByTagName('img'); \n",
    "```\n",
    "Исключение: `getElementById`, стоит отметить, что:\n",
    "```js\n",
    "let element = document.getElementById('some_id');\n",
    "let element = window.some_id; // Вернуть одинаковый результат (но вариант так себе)"
   ]
  },
  {
   "cell_type": "markdown",
   "metadata": {},
   "source": [
    "### `querySelector` & `querySelectorAll`"
   ]
  },
  {
   "cell_type": "markdown",
   "metadata": {},
   "source": [
    "Оба метода принимают `css-селектор` возвращает либо 1 либо коллекцию(в зависимости от метода)  \n",
    "  \n",
    "**Пример:**\n",
    "```js\n",
    "// Все элементы списка ul с классом exclusive:\n",
    "let exlusive_elements = document.querySelectorAll('ul.exclusive il')\n",
    "// Получаем первый элемент того же списка\n",
    "let exlusive_element = document.querySelector('ul il.exclusive')"
   ]
  },
  {
   "cell_type": "markdown",
   "metadata": {},
   "source": [
    "### Родительский элемент"
   ]
  },
  {
   "cell_type": "markdown",
   "metadata": {},
   "source": [
    "Свойство `parentElement` указывает на ближайщего родителя (на практике так себе)  \n",
    "Метод `closest` возращает ближайщего родителя по __css-селектору__\n",
    "\n",
    "**Пример:**\n",
    "```js\n",
    "let list_elements = document.getElementsByTagName('li');\n",
    "let first_element = list_elements.item(0);\n",
    "console.log(first_element.parentElement) // <ul class=\"exclusive\"> ... </ul>\n",
    "console.log(first_element.closest('ul')) // <ul class=\"exclusive\"> ... </ul>\n",
    "console.log(first_element.closest('*')) // <li>Element 1</li>\n",
    "console.log(document.parentElement) // null т.к. document - корневой"
   ]
  },
  {
   "cell_type": "markdown",
   "metadata": {},
   "source": [
    "### Объекты HTMLCollection и NodeList"
   ]
  },
  {
   "cell_type": "markdown",
   "metadata": {},
   "source": [
    "**HTMLCollection** - это список узлов. Отдельный узел может быть доступен по порядковому номеру/имене_узла/атрибуту  \n",
    "(отражает все что есть в DOM, как следствие если функция изменит DOM, то HTMLCollection сам тоже поменяется)    \n",
    "\n",
    "Не является массивом! методы работы с массивами не работают!  \n",
    "  \n",
    "\n",
    "При использовании `querySelectorAll` - мы получим объект `NodeList`  \n",
    "**NodeList** как бы копирует элементы, и если изменить что то, то NodeList не измениться."
   ]
  },
  {
   "cell_type": "markdown",
   "metadata": {},
   "source": [
    "-----\n",
    "**Получение массива html-эллементов**\n",
    "```js\n",
    "// Способ преобразовать объект HTMLCollection в Array\n",
    "let links = document.getElementsByTagName('a')\n",
    "let arr = Array.from(links)\n",
    "```  \n",
    "-----\n",
    "**Получение определенного элемента из объекта HTMLCollection**\n",
    "```js\n",
    "let list_elements = document.getElementsByTagName('li');\n",
    "let first_element = list_elements.item(0) // Первый вариант получения\n",
    "let second_element = list_elements[1] // Можно и так\n",
    "```  \n",
    "-----\n",
    "**Получение элемента по имени элемента из объекта HTMLCollection** \n",
    "```js\n",
    "let ageInput = document.getElementByTagName('input').namedItem('age')\n",
    "```\n",
    "-----\n",
    "**Получение кол-ва найденных элементов**\n",
    "```js\n",
    "let links = document.getElementsByClassName('item');\n",
    "console.log(links.length); \n",
    "```  \n",
    "<div style=\"color:orange\"> Внимание! могут быть проблемы если будем итерироваться по объекту HTMLCollection </div>  \n",
    "\n",
    "-----"
   ]
  },
  {
   "cell_type": "markdown",
   "metadata": {},
   "source": [
    "### `$0` в консоли"
   ]
  },
  {
   "cell_type": "markdown",
   "metadata": {},
   "source": [
    "Позволяеть работать в консоли с текущим элементом  \n",
    "`$1 | $2 | $3`  - позволяют работать с ранее выбранными элементами"
   ]
  },
  {
   "cell_type": "markdown",
   "metadata": {},
   "source": []
  }
 ],
 "metadata": {
  "language_info": {
   "name": "python"
  },
  "orig_nbformat": 4
 },
 "nbformat": 4,
 "nbformat_minor": 2
}
