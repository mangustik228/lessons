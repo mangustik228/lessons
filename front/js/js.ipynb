{
 "cells": [
  {
   "cell_type": "markdown",
   "metadata": {},
   "source": [
    "## Классы"
   ]
  },
  {
   "cell_type": "markdown",
   "metadata": {},
   "source": [
    "### Объявление класса, геттер/сеттер"
   ]
  },
  {
   "cell_type": "markdown",
   "metadata": {},
   "source": [
    "```JavaScript\n",
    "const my_super_method = 'metod_classa'\n",
    "\n",
    "// Обозначаем класс\n",
    "class Class_name {\n",
    "\n",
    "    // Инициализация при создании (метод constructor)\n",
    "    constructor(value){\n",
    "        this.value = value;\n",
    "    }\n",
    "    // Интересный способ задать метод с заранее не известным названием.\n",
    "    [my_super_method](){\n",
    "        return (this.value + 2);\n",
    "    }\n",
    "\n",
    "    // Сеттер\n",
    "    set value_2(value){\n",
    "        this._value_2 = value;\n",
    "    }\n",
    "\n",
    "    // Геттер \n",
    "    get value_2(){\n",
    "        return this._value_2\n",
    "    }\n",
    "\n",
    "};\n",
    "// Создание экземпляра класса (всегда используем new)\n",
    "const example = new Class_name('Переменная');\n",
    "\n",
    "```"
   ]
  },
  {
   "cell_type": "markdown",
   "metadata": {},
   "source": [
    "### Наследование"
   ]
  },
  {
   "cell_type": "markdown",
   "metadata": {},
   "source": [
    "```JavaScript\n",
    "\n",
    "class Human {\n",
    "    constructor(name){\n",
    "        this.name = name;\n",
    "    }\n",
    "}\n",
    "// Пример наследования\n",
    "class Man extends Human{\n",
    "    constructor(name){\n",
    "        super(name);\n",
    "        this.gender = 'male';\n",
    "    }\n",
    "}\n",
    "\n"
   ]
  },
  {
   "cell_type": "markdown",
   "metadata": {},
   "source": [
    "### Статистические методы"
   ]
  },
  {
   "cell_type": "markdown",
   "metadata": {},
   "source": [
    "```JavaScript \n",
    "class Text {\n",
    "    static isText(str){\n",
    "        return typeof str === 'string';\n",
    "    }\n",
    "}"
   ]
  },
  {
   "cell_type": "markdown",
   "metadata": {},
   "source": [
    "### Приватные свойства"
   ]
  },
  {
   "cell_type": "markdown",
   "metadata": {},
   "source": [
    "```JavaScript\n",
    "class SomeClass{\n",
    "    #value; // Объявляем свойство, если не объявить, то будет ошибка\n",
    "    constuctor(value){\n",
    "        this.#value = value\n",
    "    }\n",
    "}"
   ]
  },
  {
   "cell_type": "markdown",
   "metadata": {},
   "source": [
    "## Исключения и замыкания"
   ]
  },
  {
   "cell_type": "markdown",
   "metadata": {},
   "source": [
    "### Исключение (свое)"
   ]
  },
  {
   "cell_type": "markdown",
   "metadata": {},
   "source": [
    "```JavaScript\n",
    "const divider = ( a, b ) => {\n",
    "    if (b != 0) {\n",
    "        const divideError = new Error('Error. Zero devizion')\n",
    "        throw divideError // Или throw new Error('Ошибка')\n",
    "    }\n",
    "    return a / b\n",
    "}"
   ]
  },
  {
   "cell_type": "markdown",
   "metadata": {},
   "source": [
    "### Перехват"
   ]
  },
  {
   "cell_type": "markdown",
   "metadata": {},
   "source": [
    "```JavaScript\n",
    "try {\n",
    "    broke_code()\n",
    "}\n",
    "catch (error) {\n",
    "    console.log(error)\n",
    "}\n",
    "finally {\n",
    "    console.log('block finally')\n",
    "}"
   ]
  },
  {
   "cell_type": "markdown",
   "metadata": {},
   "source": [
    "### Замыкание"
   ]
  },
  {
   "cell_type": "markdown",
   "metadata": {},
   "source": [
    "```JavaScript\n",
    "function timer(start =0) {\n",
    "    return function () {\n",
    "        console.log(start++)\n",
    "    }\n",
    "}\n",
    "timer1 = timer()"
   ]
  },
  {
   "cell_type": "markdown",
   "metadata": {},
   "source": [
    "## Spread, rest, destructuring"
   ]
  },
  {
   "cell_type": "markdown",
   "metadata": {},
   "source": [
    "```JavaScript\n",
    "// Примеры rest & spread\n",
    "function some_func(...args){\n",
    "    return args\n",
    "}\n",
    "function wrapper(...args) { // rest (складываем в массив)\n",
    "    console.log(args)\n",
    "    return some_func(...args) // spread (разворачиваем в массив)\n",
    "}\n",
    "\n",
    "// Деструктуризация\n",
    "some_array = [1,2,3,4,5,6] \n",
    "let [a,b,...c]\n",
    "\n",
    "// Деструктуризация массива\n",
    "let {name: nameValue, age, gender} = {name:'Ivan', age: 24 , gender: 'male'} "
   ]
  },
  {
   "cell_type": "markdown",
   "metadata": {},
   "source": [
    "## Декораторы"
   ]
  },
  {
   "cell_type": "markdown",
   "metadata": {},
   "source": [
    "```JavaScript\n",
    "// Декоратор-логгер\n",
    "\n",
    "const add = (a, b) => a + b;\n",
    "\n",
    "function decorator(func){\n",
    "    function wrapper(...args){\n",
    "        console.log('Пришли аргументы: ' + args);\n",
    "        return func(...args)\n",
    "    }\n",
    "    return wrapper;\n",
    "}\n",
    "\n",
    "let upgrade_add = decorator(add);"
   ]
  },
  {
   "cell_type": "code",
   "execution_count": 54,
   "metadata": {},
   "outputs": [
    {
     "data": {
      "text/plain": [
       "[(2, 3), (3, 4)]"
      ]
     },
     "execution_count": 54,
     "metadata": {},
     "output_type": "execute_result"
    }
   ],
   "source": [
    "\n",
    "def decor(func):\n",
    "    def wrapper(*args, **kwargs):\n",
    "        wrapper.history.append(args)\n",
    "        return func(*args, **kwargs)\n",
    "    wrapper.history = []\n",
    "    return wrapper\n",
    "\n",
    "@decor\n",
    "def addit(a,b):\n",
    "    return a + b\n",
    "\n",
    "addit(2 , 3)\n",
    "addit(3 , 4)\n",
    "addit.history\n"
   ]
  },
  {
   "cell_type": "markdown",
   "metadata": {},
   "source": [
    "```JavaScript\n",
    "function add(a, b) {\n",
    "    console.log('result' , a + b)\n",
    "}\n",
    "// Декоратор кеширования\n",
    "function hash_decorator(func) {\n",
    "    let cashe = {}\n",
    "    function wrapper(...args) {\n",
    "        let hash = args[0] + ' ' + args[1]\n",
    "        if (hash in cashe) {\n",
    "            console.log(`cache: ${cashe[hash]}`)\n",
    "        } else {\n",
    "            cashe[hash] = args[0] + args[1]\n",
    "            func(...args)\n",
    "        }\n",
    "    }\n",
    "    return wrapper\n",
    "}\n",
    "\n",
    "hash_add = hash_decorator(add)\n",
    "hash_add(1,2) // вычисляем\n",
    "hash_add(1,2) // из кеша"
   ]
  },
  {
   "cell_type": "markdown",
   "metadata": {},
   "source": [
    "### Метод `call`"
   ]
  },
  {
   "cell_type": "markdown",
   "metadata": {},
   "source": [
    "```JavaScript\n",
    "// Позволяет передать объект как this...\n",
    "function get_age() {\n",
    "    console.log(this.age)\n",
    "}\n",
    "let user1 = { 'name': 'boris', 'age': 5 }\n",
    "get_age.call(user1)"
   ]
  },
  {
   "cell_type": "markdown",
   "metadata": {},
   "source": [
    "## Асинхронности"
   ]
  },
  {
   "cell_type": "markdown",
   "metadata": {},
   "source": [
    "```JavaScript\n",
    "const greeting =  () = > console.log('hello')\n",
    "setTimeout(greeting, 2000) // передаем функцию, передаем время"
   ]
  },
  {
   "cell_type": "markdown",
   "metadata": {},
   "source": [
    "```JavaScript\n",
    "// Очистка таймера\n",
    "const id = setTimeout(() => console.log('Вам скидка 20%'), 2000)\n",
    "clearTimeout(id) // Функция очистки таймера"
   ]
  },
  {
   "cell_type": "markdown",
   "metadata": {},
   "source": [
    "### Интервалы"
   ]
  },
  {
   "cell_type": "markdown",
   "metadata": {},
   "source": [
    "```JavaScript\n",
    "let i = 0;\n",
    "// Каждую секунду будет отсчитывать\n",
    "const interval_id = setInterval(() => {\n",
    "    console.log(++i)\n",
    "}, 1000)\n",
    "if (i > 5) {\n",
    "    clearInterval(interval_id) // Отменяет интервал\n",
    "}"
   ]
  },
  {
   "cell_type": "markdown",
   "metadata": {},
   "source": [
    "### Передача аргументов"
   ]
  },
  {
   "cell_type": "markdown",
   "metadata": {},
   "source": [
    "```JavaScript\n",
    "setInterval(() => {\n",
    "    console.log('первый вариант(завернуть ф-цию в ф-цию)')\n",
    "}, 1000)\n",
    "setInterval(console.log, 1000, 'второй вариант(просто третьим/четвертым и т.д. аргументом'))"
   ]
  },
  {
   "cell_type": "markdown",
   "metadata": {},
   "source": [
    "### Работа с `HTTP`"
   ]
  },
  {
   "cell_type": "markdown",
   "metadata": {},
   "source": [
    "```JavaScript\n",
    "// Создаем запрос\n",
    "var xhr = new XMLHttpRequest();\n",
    "\n",
    "// Определяем функцию обратного вызова\n",
    "xhr.onreadystatechange = processResponse;\n",
    "\n",
    "// Код выполниться когда запрос будет в пути\n",
    "function processResponse(e){\n",
    "    if (xhr.readyState == 4){ // 4 - значит вернулся \n",
    "        console.log(xhr.responseText);\n",
    "        const employees = JSON.parse(xhr.responseText); // Распарсить string\n",
    "    } else {\n",
    "        console.log('Загружаем')\n",
    "    }\n",
    "}\n",
    "\n",
    "// Определяем куда слать запрос\n",
    "xhr.open('GET', 'employees.json', true); // true - асинхронный(по умолч.), если false - синхронный\n",
    "\n",
    "// Отправляем запрос\n",
    "xhr.send();\n",
    "\n",
    "console.log('Другая важная работа...')"
   ]
  },
  {
   "cell_type": "markdown",
   "metadata": {},
   "source": [
    "### Проблема долгих вычислений"
   ]
  },
  {
   "cell_type": "markdown",
   "metadata": {},
   "source": [
    "Если вычисления очень долгие, то браузер может кикнуть процесс, решив, что бесконечный цикл.  \n",
    "Вариант решения: разбивка вычислений на несколько(например 1млн на 1тыс п 1тыс)  \n",
    "При этом вычисления надо сделать с задержками, чтоб считалось фоново."
   ]
  },
  {
   "cell_type": "markdown",
   "metadata": {},
   "source": [
    "## Консольные удобные методы"
   ]
  },
  {
   "cell_type": "markdown",
   "metadata": {},
   "source": [
    "```JavaScript\n",
    "console.log('Просто вывести сообщение')\n",
    "console.warn('Вывести предупреждение') // Warning\n",
    "console.error('Вывод ошибки') // Вывод ошибки. Не выбрасывание!!!\n",
    "console.clear() // Очистка консоли\n",
    "console.table() // Красивый вывод\n",
    "console.time('timer_name') // Начало замера времени выполнения (передать название таймера)\n",
    "console.timeEnd('timer_name') // Окончание замера(передать таймер по которому меряем)"
   ]
  }
 ],
 "metadata": {
  "interpreter": {
   "hash": "916dbcbb3f70747c44a77c7bcd40155683ae19c65e1c03b4aa3499c5328201f1"
  },
  "kernelspec": {
   "display_name": "Python 3.10.4 64-bit",
   "language": "python",
   "name": "python3"
  },
  "language_info": {
   "codemirror_mode": {
    "name": "ipython",
    "version": 3
   },
   "file_extension": ".py",
   "mimetype": "text/x-python",
   "name": "python",
   "nbconvert_exporter": "python",
   "pygments_lexer": "ipython3",
   "version": "3.9.12"
  },
  "orig_nbformat": 4
 },
 "nbformat": 4,
 "nbformat_minor": 2
}
