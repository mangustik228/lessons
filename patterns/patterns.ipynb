{
 "cells": [
  {
   "cell_type": "markdown",
   "metadata": {},
   "source": [
    "## Патерн строитель"
   ]
  },
  {
   "cell_type": "markdown",
   "metadata": {},
   "source": [
    "Есть задача:"
   ]
  },
  {
   "cell_type": "code",
   "execution_count": 1,
   "metadata": {},
   "outputs": [
    {
     "name": "stdout",
     "output_type": "stream",
     "text": [
      "<p>hello</p>\n",
      "<ul>\n",
      "   <li>hello</li>\n",
      "   <li>world</li>\n",
      "</ul>\n",
      "</ul>\n"
     ]
    }
   ],
   "source": [
    "text = 'hello'\n",
    "parts = ['<p>', text, '</p>']\n",
    "print(''.join(parts))\n",
    "words = ['hello', 'world']\n",
    "parts = ['<ul>']\n",
    "for w in words:\n",
    "    parts.append(f'   <li>{w}</li>')\n",
    "parts.append('</ul>')\n",
    "parts.append('</ul>')\n",
    "print('\\n'.join(parts))"
   ]
  },
  {
   "cell_type": "code",
   "execution_count": 4,
   "metadata": {},
   "outputs": [],
   "source": [
    "class HtmlElement:\n",
    "    indent_size = 2 # Количество пробелов\n",
    "    def __init__(self, tag='', text=''):\n",
    "        self.tag = tag \n",
    "        self.text = text\n",
    "        self.elements = [] # Список который будем заполнять\n",
    "        \n",
    "    def __str(self, indent):\n",
    "        lines = []\n",
    "        i = ' ' * (indent * self.indent_size)\n",
    "        lines.append(f'{i}<{self.tag}>')\n",
    "        \n",
    "        if self.text:\n",
    "            i_1 = ' ' * ((indent + 1) * self.indent_size)\n",
    "            lines.append(f'{i_1}{self.text}')\n",
    "        \n",
    "        for e in self.elements:\n",
    "            lines.append(e.__str(indent + 1))\n",
    "            \n",
    "        lines.append(f'{i}</{self.tag}>')\n",
    "        return '\\n'.join(lines)\n",
    "    \n",
    "    def __str__(self):\n",
    "        return self.__str(0)\n",
    "    \n",
    "    @staticmethod\n",
    "    def create(tag):\n",
    "        return HtmlBuilder\n",
    "\n",
    "class HtmlBuilder:\n",
    "    def __init__(self, root_tag):\n",
    "        self.root_tag = root_tag\n",
    "        self.__root = HtmlElement(root_tag)\n",
    "        \n",
    "    def add_child(self, child_tag, child_text):\n",
    "        self.__root.elements.append(\n",
    "            HtmlElement(child_tag, child_text)\n",
    "        )\n",
    "        \n",
    "    def add_child_fluent(self, child_tag, child_text):\n",
    "        self.__root.elements.append(\n",
    "            HtmlElement(child_tag, child_text)\n",
    "        )\n",
    "        return self\n",
    "    \n",
    "    def __str__(self):\n",
    "        return str(self.__root)"
   ]
  },
  {
   "cell_type": "code",
   "execution_count": 5,
   "metadata": {},
   "outputs": [
    {
     "name": "stdout",
     "output_type": "stream",
     "text": [
      "Ordinary builder:\n",
      " <ul>\n",
      "  <li>\n",
      "    hello\n",
      "  </li>\n",
      "  <li>\n",
      "    world\n",
      "  </li>\n",
      "</ul>\n"
     ]
    }
   ],
   "source": [
    "builder = HtmlBuilder('ul')\n",
    "builder.add_child('li', 'hello')\n",
    "builder.add_child('li', 'world')\n",
    "print('Ordinary builder:\\n', builder)"
   ]
  },
  {
   "cell_type": "markdown",
   "metadata": {},
   "source": [
    "## Фабричный метод"
   ]
  },
  {
   "cell_type": "markdown",
   "metadata": {},
   "source": [
    "**Фабричный метод** - любой метод который создает объект"
   ]
  },
  {
   "cell_type": "code",
   "execution_count": 6,
   "metadata": {},
   "outputs": [],
   "source": [
    "from math import sin,cos\n",
    "class Point:\n",
    "    def __init__(self, x, y):\n",
    "        self.x = x\n",
    "        self.y = y\n",
    "        \n",
    "    @staticmethod\n",
    "    def create_polar_point(x,y):\n",
    "        '''Создание точки в полярном системе координат'''\n",
    "        return Point(x,y)\n",
    "    \n",
    "    @staticmethod\n",
    "    def create_cartesian_point(rho,theta):\n",
    "        '''Создание точки в другой системе координат, \n",
    "        (идет пересчет и создается такая же точка)'''\n",
    "        return Point(rho * sin(theta), rho * cos(theta))"
   ]
  },
  {
   "cell_type": "markdown",
   "metadata": {},
   "source": [
    "### Паттерн Singleton"
   ]
  },
  {
   "cell_type": "markdown",
   "metadata": {},
   "source": [
    "**Singleton** Используется когда должен существовать только один экземпляр класса"
   ]
  },
  {
   "cell_type": "code",
   "execution_count": 34,
   "metadata": {},
   "outputs": [
    {
     "data": {
      "text/plain": [
       "True"
      ]
     },
     "execution_count": 34,
     "metadata": {},
     "output_type": "execute_result"
    }
   ],
   "source": [
    "class Singleton:\n",
    "    __instance = None\n",
    "    \n",
    "    def __new__(cls, *args, **kwargs):\n",
    "        if cls.__instance is not None:\n",
    "            cls.__instance = super(Singleton, cls).__new__(cls)\n",
    "        return cls.__instance\n",
    "    \n",
    "a = Singleton()\n",
    "b = Singleton()\n",
    "a is b"
   ]
  }
 ],
 "metadata": {
  "interpreter": {
   "hash": "5aa5e2928d664687c9381123541672e3561f763741993076ffb7b2e7971e825a"
  },
  "kernelspec": {
   "display_name": "Python 3.9.12 ('base')",
   "language": "python",
   "name": "python3"
  },
  "language_info": {
   "codemirror_mode": {
    "name": "ipython",
    "version": 3
   },
   "file_extension": ".py",
   "mimetype": "text/x-python",
   "name": "python",
   "nbconvert_exporter": "python",
   "pygments_lexer": "ipython3",
   "version": "3.9.13 (main, Aug 25 2022, 23:26:10) \n[GCC 11.2.0]"
  },
  "orig_nbformat": 4
 },
 "nbformat": 4,
 "nbformat_minor": 2
}
