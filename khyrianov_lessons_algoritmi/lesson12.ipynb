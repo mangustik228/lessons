{
 "cells": [
  {
   "cell_type": "markdown",
   "metadata": {},
   "source": [
    "### Лекция 12"
   ]
  },
  {
   "cell_type": "markdown",
   "metadata": {},
   "source": [
    "Редакционное расстояние между строками - расстояние Ливенштейна  \n",
    "допустим есть:  \n",
    "A = `['м','о','л','о','к','о'] `  \n",
    "B = `['к','о','л','о','к','о','л']`   \n",
    "**Вопрос:** Сколько надо совершить арфаграфических опечаток, чтоб `A -> B ` \n",
    "Ошибки:  \n",
    "1. перепутали символ\n",
    "2. вставили лишний символ\n",
    "3. потеряли нужный символ\n",
    "\n",
    "Тяжело пошло... потом посмотреть заново надо будет(первые 10минут можно промотать, там болтавня)"
   ]
  },
  {
   "cell_type": "code",
   "execution_count": null,
   "metadata": {},
   "outputs": [],
   "source": []
  }
 ],
 "metadata": {
  "interpreter": {
   "hash": "07b40299ec0395f92dcc48161a1871d4223ab4314b4787c1a801db2d46b400a8"
  },
  "kernelspec": {
   "display_name": "Python 3.10.4 ('py10')",
   "language": "python",
   "name": "python3"
  },
  "language_info": {
   "name": "python",
   "version": "3.10.4"
  },
  "orig_nbformat": 4
 },
 "nbformat": 4,
 "nbformat_minor": 2
}
