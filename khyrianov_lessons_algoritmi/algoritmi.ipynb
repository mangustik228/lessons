{
 "cells": [
  {
   "cell_type": "markdown",
   "metadata": {},
   "source": [
    "### Лекция 1"
   ]
  },
  {
   "cell_type": "markdown",
   "metadata": {},
   "source": [
    "Обмен переменных: **a, b = b, a**"
   ]
  },
  {
   "cell_type": "code",
   "execution_count": 1,
   "metadata": {},
   "outputs": [
    {
     "data": {
      "text/plain": [
       "range(0, 5)"
      ]
     },
     "execution_count": 1,
     "metadata": {},
     "output_type": "execute_result"
    }
   ],
   "source": [
    "range(5)"
   ]
  },
  {
   "cell_type": "code",
   "execution_count": 20,
   "metadata": {},
   "outputs": [
    {
     "name": "stdout",
     "output_type": "stream",
     "text": [
      "1 3 5\n"
     ]
    }
   ],
   "source": [
    "x = []\n",
    "for i in range(1, 6, 2):\n",
    "    x.append(i)\n",
    "print(*x)"
   ]
  },
  {
   "cell_type": "code",
   "execution_count": 21,
   "metadata": {},
   "outputs": [
    {
     "name": "stdout",
     "output_type": "stream",
     "text": [
      "3.5\n"
     ]
    }
   ],
   "source": [
    "summa = 0\n",
    "for i in range(1,7):\n",
    "    summa += i * 1/6\n",
    "print(summa)"
   ]
  },
  {
   "cell_type": "code",
   "execution_count": 60,
   "metadata": {},
   "outputs": [
    {
     "name": "stdout",
     "output_type": "stream",
     "text": [
      "3 2 1 0 2 4 6 8\n",
      "0 0 0 [0, 1, 2, 3, 4]\n",
      "<generator object <genexpr> at 0x0000027E047C2F10>\n",
      "{0: 0, 1: 1, 2: 4, 3: 9, 4: 16}\n",
      "0 1 2 3 4\n",
      "0 1 2 3 4\n",
      "0 1 4 9 16\n"
     ]
    }
   ],
   "source": [
    "testik = [3,2,1]\n",
    "testik.extend([i*2 for i in range(5)])\n",
    "print(*testik)\n",
    "testik = [0,0,0]\n",
    "testik.append([i for i in range(5)])\n",
    "print(*testik)\n",
    "testik = (i for i in range(5))\n",
    "print(testik)\n",
    "testik = {i:i**2 for i in range(5)}\n",
    "print(testik)\n",
    "print(*testik)\n",
    "print(*list(testik.keys()))\n",
    "print(*list(testik.values()))"
   ]
  },
  {
   "cell_type": "markdown",
   "metadata": {},
   "source": [
    "### Лекция 7 Рекурсия"
   ]
  },
  {
   "cell_type": "code",
   "execution_count": 1,
   "metadata": {},
   "outputs": [],
   "source": [
    "x = 2"
   ]
  },
  {
   "cell_type": "code",
   "execution_count": null,
   "metadata": {},
   "outputs": [],
   "source": [
    "from time import sleep"
   ]
  },
  {
   "cell_type": "code",
   "execution_count": 1,
   "metadata": {},
   "outputs": [],
   "source": [
    "import graphics as gr\n",
    "\n",
    "win = gr.GraphWin('Russian game', 600, 600)\n",
    "\n",
    "def fract_rect(a, b, c, d, max_deep=10, alpha=.2):\n",
    "    if max_deep < 1:\n",
    "        return\n",
    "    \n",
    "    #Рисуем квадрат линиями\n",
    "    for m, n in [(a, b), (b, c), (c, d), (d, a)]:\n",
    "        gr.Line(gr.Point(*m), gr.Point(*n)).draw(win)\n",
    "        \n",
    "    # расчет новых точек:\n",
    "    a1 = (a[0]* (1 -alpha) + b[0] * alpha, a[1]* (1 -alpha) + b[1] * alpha)\n",
    "    b1 = (b[0]* (1 -alpha) + c[0] * alpha, b[1]* (1 -alpha) + c[1] * alpha)\n",
    "    c1 = (c[0]* (1 -alpha) + d[0] * alpha, c[1]* (1 -alpha) + d[1] * alpha)\n",
    "    d1 = (d[0]* (1 -alpha) + a[0] * alpha, d[1]* (1 -alpha) + a[1] * alpha)\n",
    "    \n",
    "    # Вызов функции\n",
    "    fract_rect(a1, b1,c1, d1, max_deep-1) \n",
    "    \n",
    "    \n",
    "a = (100, 100)\n",
    "b = (500, 100)\n",
    "c = (500, 500)\n",
    "d = (100, 500)\n",
    "fract_rect(a,b,c,d)    \n",
    "# sleep(10)\n",
    "win.close()\n"
   ]
  },
  {
   "cell_type": "code",
   "execution_count": 5,
   "metadata": {},
   "outputs": [
    {
     "data": {
      "text/plain": [
       "120"
      ]
     },
     "execution_count": 5,
     "metadata": {},
     "output_type": "execute_result"
    }
   ],
   "source": [
    "def factorial(n):\n",
    "    if n == 1:\n",
    "        return 1\n",
    "    return factorial(n-1) * n\n",
    "\n",
    "factorial(5)"
   ]
  },
  {
   "cell_type": "code",
   "execution_count": 23,
   "metadata": {},
   "outputs": [
    {
     "data": {
      "text/plain": [
       "233"
      ]
     },
     "execution_count": 23,
     "metadata": {},
     "output_type": "execute_result"
    }
   ],
   "source": [
    "def fib(n):\n",
    "    if n == 0:\n",
    "        return 0\n",
    "    elif n in (1,2):\n",
    "        return 1\n",
    "    return fib(n-1) + fib(n-2)\n",
    "\n",
    "fib(13)"
   ]
  },
  {
   "cell_type": "markdown",
   "metadata": {},
   "source": [
    "#### Алгорити Евклида"
   ]
  },
  {
   "cell_type": "markdown",
   "metadata": {},
   "source": [
    "Нахождение наибольшего общего делителя:\n",
    "- Например есть `a` = 6 и `b` = 27\n",
    "- меняем `b` на `b` - `a` -> 21\n",
    "- повторяем пока `b` = не станет 3....\n",
    "- если в какой то момент `a` становится больше то вычитаем из `a`"
   ]
  },
  {
   "cell_type": "code",
   "execution_count": 30,
   "metadata": {},
   "outputs": [
    {
     "data": {
      "text/plain": [
       "3"
      ]
     },
     "execution_count": 30,
     "metadata": {},
     "output_type": "execute_result"
    }
   ],
   "source": [
    "def evklid(a, b):\n",
    "    if a == b:\n",
    "        return a\n",
    "    if a > b:\n",
    "        b, a = a, b\n",
    "    return evklid(a, b-a)\n",
    "\n",
    "evklid(6,27)"
   ]
  },
  {
   "cell_type": "code",
   "execution_count": 38,
   "metadata": {},
   "outputs": [
    {
     "name": "stdout",
     "output_type": "stream",
     "text": [
      "3\n"
     ]
    }
   ],
   "source": [
    "# Улучшенный алгорим Евклида (по Хирьянову)\n",
    "def gcd(a,b):\n",
    "    return a if b == 0 else gcd(b,b%a)\n",
    "print(gcd(6,27))\n"
   ]
  },
  {
   "cell_type": "code",
   "execution_count": 41,
   "metadata": {},
   "outputs": [
    {
     "data": {
      "text/plain": [
       "27"
      ]
     },
     "execution_count": 41,
     "metadata": {},
     "output_type": "execute_result"
    }
   ],
   "source": [
    "def exponentiating(x, n):\n",
    "    if n == 1:\n",
    "        return x\n",
    "    else:\n",
    "        return x * exponentiating(x, n-1)\n",
    "\n",
    "exponentiating(3, 3)"
   ]
  },
  {
   "cell_type": "code",
   "execution_count": 50,
   "metadata": {},
   "outputs": [
    {
     "data": {
      "text/plain": [
       "{'name': 'Vasya', '_Example__age': 12}"
      ]
     },
     "execution_count": 50,
     "metadata": {},
     "output_type": "execute_result"
    }
   ],
   "source": [
    "class Example():\n",
    "    def __init__(self):\n",
    "        self.name = 'Vasya'\n",
    "        self.__age = 12\n",
    "     \n",
    "    def get_age(self):\n",
    "        return self.__age\n",
    "        \n",
    "v = Example()\n",
    "v.__dict__"
   ]
  },
  {
   "cell_type": "markdown",
   "metadata": {},
   "source": [
    "### Лекция 8 и 9. Рекурсия. часть 2"
   ]
  },
  {
   "cell_type": "markdown",
   "metadata": {},
   "source": [
    "#### Генерация перестановок"
   ]
  },
  {
   "cell_type": "code",
   "execution_count": 25,
   "metadata": {},
   "outputs": [
    {
     "name": "stdout",
     "output_type": "stream",
     "text": [
      "0 | 0 | 0\n",
      "0 | 0 | 1\n",
      "0 | 1 | 0\n",
      "0 | 1 | 1\n",
      "1 | 0 | 0\n",
      "1 | 0 | 1\n",
      "1 | 1 | 0\n",
      "1 | 1 | 1\n"
     ]
    }
   ],
   "source": [
    "def generate_numbers(M: int, N: int, prefix=[]): # M - длина списка, N - система исчесления\n",
    "    if M == 0:\n",
    "        print(*prefix, sep=' | ')\n",
    "        return\n",
    "    for digit in range(N):\n",
    "        prefix.append(digit)\n",
    "        generate_numbers(M-1, N, prefix=prefix)\n",
    "        prefix.pop()\n",
    "        \n",
    "generate_numbers(3,2)"
   ]
  },
  {
   "cell_type": "code",
   "execution_count": 19,
   "metadata": {},
   "outputs": [
    {
     "data": {
      "text/plain": [
       "[]"
      ]
     },
     "execution_count": 19,
     "metadata": {},
     "output_type": "execute_result"
    }
   ],
   "source": [
    "prefix = None\n",
    "prefix = prefix or []\n",
    "prefix"
   ]
  },
  {
   "cell_type": "code",
   "execution_count": 22,
   "metadata": {},
   "outputs": [
    {
     "name": "stdout",
     "output_type": "stream",
     "text": [
      "0000\n",
      "0001\n",
      "0010\n",
      "0011\n",
      "0100\n",
      "0101\n",
      "0110\n",
      "0111\n",
      "1000\n",
      "1001\n",
      "1010\n",
      "1011\n",
      "1100\n",
      "1101\n",
      "1110\n",
      "1111\n"
     ]
    }
   ],
   "source": [
    "def gen_bin(M, prefix=''):\n",
    "    if M == 0:\n",
    "        print(prefix)\n",
    "    else:\n",
    "        gen_bin(M-1, prefix+'0')\n",
    "        gen_bin(M-1, prefix+'1')\n",
    "gen_bin(4)"
   ]
  },
  {
   "cell_type": "code",
   "execution_count": 35,
   "metadata": {},
   "outputs": [
    {
     "name": "stdout",
     "output_type": "stream",
     "text": [
      "1 | 2 | 3\n",
      "1 | 3 | 2\n",
      "2 | 1 | 3\n",
      "2 | 3 | 1\n",
      "3 | 1 | 2\n",
      "3 | 2 | 1\n"
     ]
    }
   ],
   "source": [
    "def find_digit(digit, prefix):\n",
    "    '''Ищет digit в prefix, если такое есть - возвращает True, иначе False\n",
    "    '''\n",
    "    for x in prefix:\n",
    "        if digit == x:\n",
    "            return True\n",
    "    return False\n",
    "    \n",
    "\n",
    "def generate_permutations(N: int, M:int=-1, prefix=[]):\n",
    "    '''Генерация всех перестановок N чисел в \n",
    "    M позициях, с префиксом prefix \n",
    "\n",
    "    Args:\n",
    "        N (int): Случайные числа\n",
    "        M (int): Сколько осталось чисел \n",
    "        prefix (_type_): _description_\n",
    "    '''\n",
    "    M = N if M == -1 else M # по умолчанию M чисел в N позициях\n",
    "    if M == 0: \n",
    "        print(*prefix, sep=' | ')\n",
    "        return\n",
    "    for digit in range(1, N+1):\n",
    "        if find_digit(digit, prefix):\n",
    "            continue\n",
    "        prefix.append(digit)\n",
    "        generate_permutations(N, M-1, prefix)\n",
    "        prefix.pop()\n",
    "\n",
    "        \n",
    "generate_permutations(3)\n",
    "\n",
    "    "
   ]
  },
  {
   "cell_type": "markdown",
   "metadata": {},
   "source": [
    "#### Рекурентные сортировки"
   ]
  },
  {
   "cell_type": "markdown",
   "metadata": {},
   "source": [
    "##### Идеи и сравнения"
   ]
  },
  {
   "cell_type": "markdown",
   "metadata": {},
   "source": [
    "Рекурентные сортировки   \n",
    "|Характеристика|Быстрая сортировка Тони Хуара|Сортировка слиянием|\n",
    "|--|--|--|\n",
    "|На сред. случ. выборке|$$W(N\\log{_2}{N})$$|$$O(N\\log{_2}{N})$$|\n",
    "|Сортрует до |$$O(N^2)$$|нет ограничений|\n",
    "|Сортирующее действие выполняется|На прямой ходу|На обратном ходу|\n",
    "|Доп. память|Не надо|Требует $$O(N)$$|\n",
    "|Алгорим|\"Разделяй и властвуй\"||"
   ]
  },
  {
   "cell_type": "markdown",
   "metadata": {},
   "source": [
    "##### Быстрая сортировка Тони Хуара"
   ]
  },
  {
   "cell_type": "markdown",
   "metadata": {},
   "source": [
    "Выборку делят по барьерному случаю(первый):  \n",
    "- [5, 5, 2, 3, 9, 8, 10, 1] -> делаем три выборки \"меньше\" \"равно\" \"больше\"\n",
    "- [2, 3, 1] + [5, 5] +  [9, 8, 10]"
   ]
  },
  {
   "cell_type": "code",
   "execution_count": 39,
   "metadata": {},
   "outputs": [],
   "source": [
    "a = [5,2,3,5,1]"
   ]
  },
  {
   "cell_type": "code",
   "execution_count": 109,
   "metadata": {},
   "outputs": [
    {
     "data": {
      "text/plain": [
       "[1, 2, 3, 5, 5, 8, 9, 10]"
      ]
     },
     "execution_count": 109,
     "metadata": {},
     "output_type": "execute_result"
    }
   ],
   "source": [
    "a = [5, 5, 2, 3, 9, 8, 10, 1]\n",
    "\n",
    "def sort_huaro(value):\n",
    "    if len(value) <= 1:\n",
    "        return value\n",
    "    part_one = []\n",
    "    part_two = []\n",
    "    part_three = []\n",
    "    \n",
    "    for i in value:\n",
    "        if i < value[0]:\n",
    "            part_one.append(i)\n",
    "        elif i == value[0]:\n",
    "            part_two.append(i)\n",
    "        else: # i < value[0]\n",
    "            part_three.append(i)\n",
    "    if len(part_two) == len(value):\n",
    "        return part_two\n",
    "    return sort_huaro(part_one) + part_two + sort_huaro(part_three)\n",
    "\n",
    "sort_huaro(a)\n",
    "    "
   ]
  },
  {
   "cell_type": "code",
   "execution_count": 110,
   "metadata": {},
   "outputs": [
    {
     "name": "stdout",
     "output_type": "stream",
     "text": [
      "[0, 1, 1, 2, 3, 3, 4, 6, 8, 9]\n"
     ]
    }
   ],
   "source": [
    "def huar_sort(sort_value): # Реализация Хирьянова\n",
    "    if len(sort_value) <= 1:\n",
    "        return\n",
    "    barier = sort_value[0]\n",
    "    left_part, middle_part, right_part = [], [], []\n",
    "    for x in sort_value:\n",
    "        if x < barier:\n",
    "            left_part.append(x)\n",
    "        elif x == barier:\n",
    "            middle_part.append(x)\n",
    "        else: # x > barier\n",
    "            right_part.append(x)\n",
    "    huar_sort(left_part)\n",
    "    huar_sort(right_part)\n",
    "    k = 0\n",
    "    for x in left_part+middle_part+right_part:\n",
    "        sort_value[k] = x\n",
    "        k += 1\n",
    "\n",
    "a = [2, 3, 6, 1, 0, 8, 9, 4, 3, 1]\n",
    "huar_sort(a)\n",
    "print(a)"
   ]
  },
  {
   "cell_type": "markdown",
   "metadata": {},
   "source": [
    "##### Сортировка слиянием"
   ]
  },
  {
   "cell_type": "markdown",
   "metadata": {},
   "source": [
    "**Слияние отсортированных массивов в 1**\n",
    "- [5, 5, 2, 3, 9, 8, 10, 1, 4] -> делим на 2 части:\n",
    "  1. от 0 до N//2 не включительно   -> [5, 5, 9, 2]\n",
    "  2. от N//2(вкл) до N(не вкл)      -> [8, 10, 1, 4, 3]\n",
    "    - дальше сравниваем 5 и 8 -> 5 уходит\n",
    "    - дальше сравниваем 5 и 8 -> 5 уходит\n",
    "    - дальше сравниваем 9 и 8 -> 8 уходит\n",
    "    - дальше сравниваем 9 и 10 -> 9 уходит\n",
    "    - дальше сравниваем 2 и 10 -> 2 уходит\n",
    "- в конеце сливаем с остатком [5, 5, 8, 9, 2, 10, 1, 4, 3]\n",
    "\n",
    "Сортировка называется **устойчивой**, если она не меняет порядок равных элементов."
   ]
  },
  {
   "cell_type": "code",
   "execution_count": 108,
   "metadata": {},
   "outputs": [
    {
     "data": {
      "text/plain": [
       "[1, 2, 4, 5, 6, 7, 9]"
      ]
     },
     "execution_count": 108,
     "metadata": {},
     "output_type": "execute_result"
    }
   ],
   "source": [
    "def merge(a: list, b: list):\n",
    "    '''Функция слияния\n",
    "    '''\n",
    "    c = [0] * (len(a) + len(b)) # Создаем массив равной длины\n",
    "    i_a = i_b = i_c = 0 # создаем индексы для каждого массива\n",
    "    while i_a < len(a) and i_b < len(b):\n",
    "        if a[i_a] <= b[i_b]: # Если \"<\" - то будет не устойчивой\n",
    "            c[i_c] = a[i_a]\n",
    "            i_a += 1 ; i_c += 1 # Прибавляем индексы\n",
    "        else: # a[i_a] > b[i_b]\n",
    "            c[i_c] = b[i_b]\n",
    "            i_b += 1 ; i_c += 1\n",
    "    while i_a < len(a): # Заливаем оставшийся список\n",
    "        c[i_c] = a[i_a]\n",
    "        i_c += 1 ; i_a += 1        \n",
    "    while i_b < len(b):\n",
    "        c[i_c] = b[i_b]\n",
    "        i_c += 1 ; i_b += 1        \n",
    "    return c\n",
    "\n",
    "def merge_sort(sort_list: list):\n",
    "    '''принимает массив sort_list - который надо сортировать\n",
    "    '''\n",
    "    if len(sort_list) <= 1:\n",
    "        return\n",
    "    middle = len(sort_list) // 2 # Находим середину, по которой делим\n",
    "    left_part = [sort_list[i] for i in range(middle)] # Генератор списка без срезов\n",
    "    right_part = [sort_list[i] for i in range(middle, len(sort_list))]\n",
    "    merge_sort(left_part)\n",
    "    merge_sort(right_part)\n",
    "    c = merge(left_part, right_part)\n",
    "    for i in range(len(sort_list)):\n",
    "        sort_list[i] = c[i]\n",
    "\n",
    "a = [1,2,9,4,5,6,7]       \n",
    "merge_sort(a)\n",
    "a"
   ]
  },
  {
   "cell_type": "markdown",
   "metadata": {},
   "source": [
    "##### Проверка отсортированности списка(рекурсией)"
   ]
  },
  {
   "cell_type": "code",
   "execution_count": 115,
   "metadata": {},
   "outputs": [
    {
     "name": "stdout",
     "output_type": "stream",
     "text": [
      "True\n",
      "True\n",
      "False\n"
     ]
    }
   ],
   "source": [
    "def check_sorted(value: list, ascending=True):\n",
    "    '''Проверка отсортированности списка за O(len(value))\n",
    "    Args:\n",
    "        value (list): передаваемый список\n",
    "        ascending (bool, optional): True - по возрастанию, иначе по убыванию\n",
    "    '''\n",
    "    for i in range(len(value)-1):\n",
    "        if value[i] > value[i+1] and ascending:\n",
    "            return False\n",
    "        if value[i] < value[i+1] and not ascending:\n",
    "            return False\n",
    "    return True\n",
    "\n",
    "print(check_sorted([1,2,3,4]))\n",
    "print(check_sorted([4,3,2,1], ascending=False))    \n",
    "print(check_sorted([5,2,3,4]))"
   ]
  },
  {
   "cell_type": "markdown",
   "metadata": {},
   "source": [
    "##### Бинарный поиск в массиве"
   ]
  },
  {
   "cell_type": "markdown",
   "metadata": {},
   "source": [
    "Реализация бинарного поиска в массиве:  \n",
    "- Массив должен быть отсортирован\n",
    "- `[1,1,3,4,5,6,7,7,7,8,9,9,9]` - сначало смотрим в центр, потом в в соответствующую сторону в зависимости от полученного значения\n",
    "- Хотим получить индекс элемента левее искомого и второй индекс: элемент правее искомого:\n",
    "  - Допустим ищем `*5*` в массиве `[1,2,3,3,6,8]`: должен вернуться индекс 3 и 6\n",
    "    - 3 - leftboundary | 6 - rightboundary для 5!\n",
    "    - Если ищем 15, то 8 - leftboundary, rightboundary -> будет указывать вне массива\n",
    "    - !!! 2 и 3 ЕСЛИ ИЩЕМ тройку, т.е. rightboundary - должен примыкать к leftboundary"
   ]
  },
  {
   "cell_type": "markdown",
   "metadata": {},
   "source": [
    "Берем пример массив `a = [1,3,3,6,7,9]`:  \n",
    "1 - нулевый элемент  \n",
    "9 - индекс n-1  \n",
    "len(a) - n  "
   ]
  },
  {
   "cell_type": "code",
   "execution_count": 18,
   "metadata": {},
   "outputs": [
    {
     "name": "stdout",
     "output_type": "stream",
     "text": [
      "None\n",
      "None\n",
      "5\n",
      "(2, 4)\n"
     ]
    }
   ],
   "source": [
    "def left_bound(a:list, key:int):\n",
    "    '''Находит индекс первого вхождения?\n",
    "\n",
    "    Args:\n",
    "        a (list): массив в котором ищем\n",
    "        key (int): ключ, который ищем\n",
    "        return: индекс элемента\n",
    "    '''\n",
    "    left = (-1)\n",
    "    right = len(a) # Фактически n\n",
    "    while right-left > 1: # Сближаем пока они не соседи\n",
    "        middle = (left+right)//2\n",
    "        if a[middle] < key:\n",
    "            left = middle\n",
    "        else:\n",
    "            right = middle\n",
    "    return left\n",
    "\n",
    "def right_bound(a: list, key:int):\n",
    "    left = (-1)\n",
    "    right = len(a)\n",
    "    while right-left > 1:\n",
    "        middle = (left+right)//2\n",
    "        if a[middle] <= key:\n",
    "            left = middle\n",
    "        else:\n",
    "            right = middle\n",
    "    return right\n",
    "\n",
    "def find_elem(a:list, key:int):\n",
    "    left = left_bound(a, key)\n",
    "    right = right_bound(a, key)\n",
    "    if (right-left) <= 1:\n",
    "        return None\n",
    "    elif right-left == 2:\n",
    "        return left+1\n",
    "    else:\n",
    "        return left+1, right-1\n",
    "\n",
    "a = [1,2,3,3,3,4,5,6,8,11]\n",
    "\n",
    "print(find_elem(a, 0))\n",
    "print(find_elem(a, 15))\n",
    "print(find_elem(a, 4))\n",
    "print(find_elem(a, 3))\n",
    "    "
   ]
  },
  {
   "cell_type": "markdown",
   "metadata": {},
   "source": [
    "### Лекция 10. Динамическое программирование"
   ]
  },
  {
   "cell_type": "markdown",
   "metadata": {},
   "source": [
    "Фибоначево дерево: это вот те самые деревья которые вызывает при вызове функции фибоначчи"
   ]
  },
  {
   "cell_type": "code",
   "execution_count": 71,
   "metadata": {},
   "outputs": [
    {
     "name": "stdout",
     "output_type": "stream",
     "text": [
      "173402521172797813159685037284371942044301\n"
     ]
    }
   ],
   "source": [
    "# Вариант динамического программирования. Так допустимо (не страшно что ест память)\n",
    "def fib2(n): \n",
    "    if n <= 1:\n",
    "        return n\n",
    "    summa = [0,1,]\n",
    "    for i in range(2,n):\n",
    "        summa.append(summa[i-1] + summa[i-2])\n",
    "    return summa[-1]\n",
    "\n",
    "print(fib2(200))"
   ]
  },
  {
   "cell_type": "markdown",
   "metadata": {},
   "source": [
    "Задача \"Кузнечик\"  \n",
    "Условие, кузнечник прыгает либо +1, либо +2, сколько эл.исходов, чтоб допрыгать до клетки n(сколько различных траекторий допрыгать от 1 до n)  \n",
    "Рассуждение:\n",
    "- Допрыгать до `n` можно только из `n-1` или `n-2` (Какой последний прыжок)\n",
    "- $K_n = K_{n-2} + K_{n-1}$   # Все возможные траектории деляться на 2типа, которые заканчиваются прыжком от $K_{n-1}$ и от $K_{n-2}$\n"
   ]
  },
  {
   "cell_type": "code",
   "execution_count": 105,
   "metadata": {},
   "outputs": [
    {
     "data": {
      "text/plain": [
       "24"
      ]
     },
     "execution_count": 105,
     "metadata": {},
     "output_type": "execute_result"
    }
   ],
   "source": [
    "def traj_number_1(n:int):\n",
    "    k = [0,1] + [0]*n # Первые варианты прыжки кузнечика\n",
    "    for i in range(2,n+1):\n",
    "        k[i] = k[i-2] + k[i-1]\n",
    "    return k[n] # и вышло число Фибоначчи...\n",
    "\n",
    "# Вариант запрещения прыгать на определенные клетки:\n",
    "def traj_number_2(n:int):\n",
    "    k = [0,1] + [0]*n \n",
    "    for i in range(2,n+1):\n",
    "        if i in [1,3,5,9]:\n",
    "            continue\n",
    "        k[i] = k[i-2] + k[i-1]\n",
    "    return k[n]\n",
    "\n",
    "def traj_number_3(n:int, allowed:list):\n",
    "    '''n - длина\n",
    "    allowed - список bool разрешенных клеток'''\n",
    "    \n",
    "    bad_ceils = [1]*(n+1)\n",
    "    for i in allowed:\n",
    "        bad_ceils[i] = False\n",
    "    k = [0, 1, int(bad_ceils[2])] + [0]*(n-2)\n",
    "    for i in range(3,n+1):\n",
    "        if bad_ceils[i]:\n",
    "            k[i] = k[i-3] + k[i-2] + k[i-1]\n",
    "    return k[n]\n",
    "\n",
    "traj_number_3(10, (2,3))\n"
   ]
  },
  {
   "cell_type": "code",
   "execution_count": 129,
   "metadata": {},
   "outputs": [
    {
     "data": {
      "text/plain": [
       "7"
      ]
     },
     "execution_count": 129,
     "metadata": {},
     "output_type": "execute_result"
    }
   ],
   "source": [
    "# Минимальная стоимость достижения клетки n (шаги +1 и +2)\n",
    "# С_i = price_i + min(C_i-1 + C_i_2) Рекурентная формуал\n",
    "# Нулевая клетка - недостижма \n",
    "# С_1 = price(1)\n",
    "# C_2 = price(1) + price(2)\n",
    "# float(\"-inf\") - минус бесконечность\n",
    "\n",
    "def traj_number_4(price):\n",
    "    '''price[i] - Цена за посещение клетки\n",
    "    С[i] - Минимально возможная стоииость достижения клетки i'''\n",
    "    n = len(price)-1\n",
    "    c = [float(\"+inf\"), price[1], (price[1]+price[2])]+[0]*(n-2)\n",
    "    for i in range(3, n+1):\n",
    "        c[i] = price[i] + min(price[i-1], price[i-2])\n",
    "    return c[i]\n",
    "    \n",
    "n = 15        \n",
    "price = [0,1,2,4,2,3,4,3,3,8,5,0,2,4,3,4]    \n",
    "traj_number_4(price)\n"
   ]
  },
  {
   "cell_type": "markdown",
   "metadata": {},
   "source": [
    "### Лекция 11"
   ]
  },
  {
   "cell_type": "markdown",
   "metadata": {},
   "source": [
    "Шахматный король живет M на N клеток, в начале стоит на ячейки M[1](ось j) N[1](ось i)  \n",
    "**Требуется узнать** сколькими способами шахматный король может добраться до клетки M[-1] N[-1]  \n",
    "Можно ходить вправо и вниз  "
   ]
  },
  {
   "cell_type": "markdown",
   "metadata": {},
   "source": [
    "Что мы ищем - $K_{nm}$ - Количество способов достичь клетки (N, M)  \n",
    "варианты попасть в клетку (i, j) :\n",
    "1. из клетки (i, j-1)\n",
    "1. из клетки (i-1, j)  \n",
    "$K_{ij} = K_{(i-1)j} + K_{i(j-1)}$\n",
    "Добавим строку и столбец ноль вариантов, и получаем картину:  \n",
    "\n",
    "|0|0|0|0|0|0|0|\n",
    "|--|--|--|--|--|--|--|\n",
    "|0|* **1**|1|1|1|1|1|\n",
    "|0|1|2|3|4|5|6|\n",
    "|0|1|3|6|10|15||\n",
    "|0|1||||||\n",
    "\n",
    "*1 - первую клетку декларируем!   \n",
    "все остальное получаем по формуле $K_{ij} = K_{(i-1)j} + K_{i(j-1)}$  \n",
    "Выходит треугольник **Паскаля**"
   ]
  },
  {
   "cell_type": "markdown",
   "metadata": {},
   "source": [
    "#### Наибольшая общая подпоследовательность"
   ]
  },
  {
   "cell_type": "markdown",
   "metadata": {},
   "source": [
    "A, B - одномерные списки чисел `len(A) == N` и `len(B) == M`  \n",
    "Какая максимальная подпоследовательность у них большая...  \n",
    "**Подпоследовательность A** - С(некий список), который содержит элементы A в исходном порядке(но возможно не все)  \n",
    "$F_{(ij)}$ - длина наибольшей возможной подпоследовательности частей A и B:\n",
    "- Часть А |    $A_i = A[0:i]$ содержащая первые i\n",
    "- Часть B |    $B_j = B[0:j]$ содежащая первые j \n",
    "  \n",
    "Представим $a_i = b_j$(Когда два последних элемента равны друг другу) - в этом случае\n",
    "  \n",
    "$F_{ij} = \n",
    "    \\begin{cases}\n",
    "        1+F_{(i-1)(j-1)}   \\text{  Если }a_i = b_j\\\\\n",
    "        max(F_{i(j-1)},F_{(i-1)j})\\text{  Если }a_i \\neq b_j\\\\\n",
    "    \\end{cases}$\n",
    "  \n",
    "$F_{0j} = 0 \\implies F_{0i} = 0$  \n",
    "\n",
    "|0|0|0|0|0|0|\n",
    "|--|--|--|--|--|--|\n",
    "|0||||||\n",
    "|0||||||\n",
    "|0||||||\n",
    "|0||||||\n",
    "|0||||||\n",
    "\n",
    "\n",
    "Примечание: [](пустая последовательность) является подпоследовательностью любой последовательнсти A\n"
   ]
  },
  {
   "cell_type": "code",
   "execution_count": 40,
   "metadata": {},
   "outputs": [
    {
     "name": "stdout",
     "output_type": "stream",
     "text": [
      "len(A)=5\n",
      "len(B)=4\n",
      "[3, 4, 6]\n"
     ]
    },
    {
     "data": {
      "text/plain": [
       "[[0, 0, 0, 0, 0],\n",
       " [0, 0, 0, 0, 0],\n",
       " [0, 0, 0, 0, 0],\n",
       " [0, 1, 1, 1, 1],\n",
       " [0, 1, 2, 2, 2],\n",
       " [0, 1, 2, 2, 3]]"
      ]
     },
     "execution_count": 40,
     "metadata": {},
     "output_type": "execute_result"
    }
   ],
   "source": [
    "def lcs(A, B): # Large command subsecviels (Но это не точно)\n",
    "    F = [[0]*(len(B)+1) for i in range(len(A) + 1)] # Резервируем двумерный массив\n",
    "    new_mass = []\n",
    "    for i in range(1,len(A)+1):\n",
    "        for j in range(1, len(B) + 1):\n",
    "            if A[i-1] == B[j-1]:\n",
    "                F[i][j] = 1 + F[i-1][j-1]\n",
    "                new_mass.append(A[i-1])\n",
    "            else:\n",
    "                F[i][j] = max(F[i-1][j], F[i][j-1])\n",
    "    print(f'{len(A)=}')\n",
    "    print(f'{len(B)=}')\n",
    "    print(new_mass)\n",
    "    return F\n",
    "\n",
    "\n",
    "A = [1,2,3,4,6]\n",
    "B = [3,4,5,6]\n",
    "lcs(A,B)"
   ]
  },
  {
   "cell_type": "markdown",
   "metadata": {},
   "source": [
    "#### Наибольшая возрастающая подпоследовательность"
   ]
  },
  {
   "cell_type": "markdown",
   "metadata": {},
   "source": [
    "Вариант 1:  \n",
    "- создать массив B(отсортированный A)\n",
    "- повторить предыдущий алгорим  \n",
    "Вариант 2: (чтоб оригинально)  \n",
    "$F_i$ = НВП(наибольшая общая последовательность) для части `A[0:i]`, которая заканчивается и содержит элемент $a_i=A[i-1] \\implies $  \n",
    "$F_i = max(F_j) + 1 \\text{ при } j<i \\text{, и } a_i>a_j$  \n",
    "$F_0 = 0$\n",
    "\n"
   ]
  },
  {
   "cell_type": "code",
   "execution_count": 74,
   "metadata": {},
   "outputs": [
    {
     "name": "stdout",
     "output_type": "stream",
     "text": [
      "F=[0, 1, 0, 0, 0, 0, 0, 0, 0, 0]\n",
      "F=[0, 1, 2, 0, 0, 0, 0, 0, 0, 0]\n",
      "F=[0, 1, 2, 1, 0, 0, 0, 0, 0, 0]\n",
      "F=[0, 1, 2, 1, 3, 0, 0, 0, 0, 0]\n",
      "F=[0, 1, 2, 1, 3, 4, 0, 0, 0, 0]\n",
      "F=[0, 1, 2, 1, 3, 4, 5, 0, 0, 0]\n",
      "F=[0, 1, 2, 1, 3, 4, 5, 6, 0, 0]\n",
      "F=[0, 1, 2, 1, 3, 4, 5, 6, 7, 0]\n"
     ]
    },
    {
     "ename": "IndexError",
     "evalue": "list index out of range",
     "output_type": "error",
     "traceback": [
      "\u001b[1;31m---------------------------------------------------------------------------\u001b[0m",
      "\u001b[1;31mIndexError\u001b[0m                                Traceback (most recent call last)",
      "\u001b[1;32m~\\AppData\\Local\\Temp/ipykernel_17876/2547553019.py\u001b[0m in \u001b[0;36m<module>\u001b[1;34m\u001b[0m\n\u001b[0;32m     11\u001b[0m \u001b[1;33m\u001b[0m\u001b[0m\n\u001b[0;32m     12\u001b[0m \u001b[0mA\u001b[0m \u001b[1;33m=\u001b[0m \u001b[1;33m[\u001b[0m\u001b[1;36m1\u001b[0m\u001b[1;33m,\u001b[0m\u001b[1;36m2\u001b[0m\u001b[1;33m,\u001b[0m\u001b[1;36m3\u001b[0m\u001b[1;33m,\u001b[0m\u001b[1;36m2\u001b[0m\u001b[1;33m,\u001b[0m\u001b[1;36m5\u001b[0m\u001b[1;33m,\u001b[0m\u001b[1;36m6\u001b[0m\u001b[1;33m,\u001b[0m\u001b[1;36m7\u001b[0m\u001b[1;33m,\u001b[0m\u001b[1;36m8\u001b[0m\u001b[1;33m,\u001b[0m\u001b[1;36m9\u001b[0m\u001b[1;33m]\u001b[0m\u001b[1;33m\u001b[0m\u001b[1;33m\u001b[0m\u001b[0m\n\u001b[1;32m---> 13\u001b[1;33m \u001b[0mlus\u001b[0m\u001b[1;33m(\u001b[0m\u001b[0mA\u001b[0m\u001b[1;33m)\u001b[0m\u001b[1;33m\u001b[0m\u001b[1;33m\u001b[0m\u001b[0m\n\u001b[0m\u001b[0;32m     14\u001b[0m \u001b[1;33m\u001b[0m\u001b[0m\n",
      "\u001b[1;32m~\\AppData\\Local\\Temp/ipykernel_17876/2547553019.py\u001b[0m in \u001b[0;36mlus\u001b[1;34m(A)\u001b[0m\n\u001b[0;32m      4\u001b[0m         \u001b[0mm\u001b[0m \u001b[1;33m=\u001b[0m \u001b[1;36m0\u001b[0m\u001b[1;33m\u001b[0m\u001b[1;33m\u001b[0m\u001b[0m\n\u001b[0;32m      5\u001b[0m         \u001b[1;32mfor\u001b[0m \u001b[0mj\u001b[0m \u001b[1;32min\u001b[0m \u001b[0mrange\u001b[0m\u001b[1;33m(\u001b[0m\u001b[1;36m0\u001b[0m\u001b[1;33m,\u001b[0m\u001b[0mi\u001b[0m\u001b[1;33m)\u001b[0m\u001b[1;33m:\u001b[0m\u001b[1;33m\u001b[0m\u001b[1;33m\u001b[0m\u001b[0m\n\u001b[1;32m----> 6\u001b[1;33m             \u001b[1;32mif\u001b[0m \u001b[0mA\u001b[0m\u001b[1;33m[\u001b[0m\u001b[0mj\u001b[0m\u001b[1;33m]\u001b[0m\u001b[1;33m<\u001b[0m \u001b[0mA\u001b[0m\u001b[1;33m[\u001b[0m\u001b[0mi\u001b[0m\u001b[1;33m]\u001b[0m \u001b[1;32mand\u001b[0m \u001b[0mF\u001b[0m\u001b[1;33m[\u001b[0m\u001b[0mj\u001b[0m\u001b[1;33m]\u001b[0m \u001b[1;33m>\u001b[0m \u001b[0mF\u001b[0m\u001b[1;33m[\u001b[0m\u001b[0mi\u001b[0m\u001b[1;33m]\u001b[0m\u001b[1;33m:\u001b[0m\u001b[1;33m\u001b[0m\u001b[1;33m\u001b[0m\u001b[0m\n\u001b[0m\u001b[0;32m      7\u001b[0m                 \u001b[0mF\u001b[0m\u001b[1;33m[\u001b[0m\u001b[0mi\u001b[0m\u001b[1;33m]\u001b[0m \u001b[1;33m=\u001b[0m \u001b[0mF\u001b[0m\u001b[1;33m[\u001b[0m\u001b[0mj\u001b[0m\u001b[1;33m]\u001b[0m\u001b[1;33m\u001b[0m\u001b[1;33m\u001b[0m\u001b[0m\n\u001b[0;32m      8\u001b[0m         \u001b[0mF\u001b[0m\u001b[1;33m[\u001b[0m\u001b[0mi\u001b[0m\u001b[1;33m]\u001b[0m \u001b[1;33m+=\u001b[0m \u001b[1;36m1\u001b[0m\u001b[1;33m\u001b[0m\u001b[1;33m\u001b[0m\u001b[0m\n",
      "\u001b[1;31mIndexError\u001b[0m: list index out of range"
     ]
    }
   ],
   "source": [
    "def lus(A):\n",
    "    F = [0]*(len(A)+1)\n",
    "    for i in range(1, len(A)+1):\n",
    "        m = 0\n",
    "        for j in range(0,i):\n",
    "            if A[j]< A[i] and F[j] > F[i]:\n",
    "                F[i] = F[j]\n",
    "        F[i] += 1\n",
    "        print(f'{F=}')\n",
    "    return F, max(F)\n",
    "\n",
    "A = [1,2,3,2,5,6,7,8,9]\n",
    "lus(A)\n",
    "            "
   ]
  },
  {
   "cell_type": "code",
   "execution_count": null,
   "metadata": {},
   "outputs": [],
   "source": []
  },
  {
   "cell_type": "code",
   "execution_count": null,
   "metadata": {},
   "outputs": [],
   "source": []
  },
  {
   "cell_type": "markdown",
   "metadata": {},
   "source": [
    "#### Задача о укладке рюкзака + Алгорим Левенштейна"
   ]
  },
  {
   "cell_type": "markdown",
   "metadata": {},
   "source": [
    "M - Максимальный вес который можно уложить  \n",
    "$M_i$ - Вес предмета  \n",
    "$S_i$ - Стоимость предмета   \n",
    "Какую максимальную стоимость можно унести?  "
   ]
  },
  {
   "cell_type": "code",
   "execution_count": null,
   "metadata": {},
   "outputs": [],
   "source": []
  },
  {
   "cell_type": "markdown",
   "metadata": {},
   "source": [
    "Обход двухмерного массива\n",
    "2 варианта создания двумерного массива:\n",
    " - Линеаризиция двумерного массива:\n",
    "   - Допустим надо получить $A_{ij}$(N строк, M элементов в строек) -> $А_{i*M+j}$\n",
    "   - Возникает требование фиксированного кол-ва по ширине\n",
    " - Создание списка списков:\n",
    "   - НЕПРАВИЛЬНОЕ ИСПОЛЬЗОВАНИЕ: `A = [[0] *M] *N` копируются ссылки, поэтому по факту один список много раз\n",
    "   - `A = [[0]*M for i in range(N)]` таким образом вычисляем каждый раз по новой \n",
    "\n",
    "```python\n",
    "```"
   ]
  },
  {
   "cell_type": "code",
   "execution_count": 132,
   "metadata": {},
   "outputs": [
    {
     "name": "stdout",
     "output_type": "stream",
     "text": [
      "1618942951792\n",
      "1618942951792\n"
     ]
    }
   ],
   "source": [
    "a = 5 \n",
    "b = 5 \n",
    "print(id(a))\n",
    "print(id(b))"
   ]
  }
 ],
 "metadata": {
  "interpreter": {
   "hash": "b1a8b63bdf27559490c16144d51d3a6902ecbd7b7872de05b273d065c9a99ab9"
  },
  "kernelspec": {
   "display_name": "Python 3.10.0 64-bit",
   "language": "python",
   "name": "python3"
  },
  "language_info": {
   "codemirror_mode": {
    "name": "ipython",
    "version": 3
   },
   "file_extension": ".py",
   "mimetype": "text/x-python",
   "name": "python",
   "nbconvert_exporter": "python",
   "pygments_lexer": "ipython3",
   "version": "3.10.4"
  },
  "orig_nbformat": 4
 },
 "nbformat": 4,
 "nbformat_minor": 2
}
