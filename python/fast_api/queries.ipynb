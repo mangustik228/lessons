{
 "cells": [
  {
   "attachments": {},
   "cell_type": "markdown",
   "metadata": {},
   "source": [
    "## Connection"
   ]
  },
  {
   "cell_type": "code",
   "execution_count": 1,
   "metadata": {},
   "outputs": [],
   "source": [
    "from pony.orm import * \n",
    "\n",
    "db = Database()\n",
    "db_path = '/home/bacek/lessons/python/fast_api/examples/example_5_pony/database/database.sqlite'\n",
    "\n",
    "class User(db.Entity):\n",
    "    user_id = Required(int)\n",
    "    nick = Required(str)\n",
    "    age = Required(int)\n",
    "    wallets = Set('Wallet')\n",
    "\n",
    "class Wallet(db.Entity):\n",
    "    address = Required(str)\n",
    "    private_key = Required(str)\n",
    "    owner = Required(User)\n",
    "\n",
    "\n",
    "try: \n",
    "    db.bind(provider='sqlite', filename=db_path, create_db=True)\n",
    "    db.generate_mapping(create_tables=True)\n",
    "except Exception as e:\n",
    "    print(e)"
   ]
  },
  {
   "attachments": {},
   "cell_type": "markdown",
   "metadata": {},
   "source": [
    "## Debug"
   ]
  },
  {
   "cell_type": "code",
   "execution_count": 2,
   "metadata": {},
   "outputs": [],
   "source": [
    "# Включения режима debug\n",
    "set_sql_debug()"
   ]
  },
  {
   "cell_type": "markdown",
   "metadata": {},
   "source": [
    "## Insert"
   ]
  },
  {
   "cell_type": "code",
   "execution_count": 42,
   "metadata": {},
   "outputs": [
    {
     "name": "stdout",
     "output_type": "stream",
     "text": [
      "BEGIN IMMEDIATE TRANSACTION\n",
      "INSERT INTO \"User\" (\"user_id\", \"nick\", \"age\") VALUES (?, ?, ?)\n",
      "[13, 'mangust228', 33]\n",
      "\n",
      "INSERT INTO \"User\" (\"user_id\", \"nick\", \"age\") VALUES (?, ?, ?)\n",
      "[7, 'hello', 35]\n",
      "\n",
      "INSERT INTO \"Wallet\" (\"address\", \"private_key\", \"owner\") VALUES (?, ?, ?)\n",
      "['moscow', 'AS32KJFD', 4]\n",
      "\n",
      "INSERT INTO \"Wallet\" (\"address\", \"private_key\", \"owner\") VALUES (?, ?, ?)\n",
      "['samui', 'IVCXREW32DT', 3]\n",
      "\n",
      "COMMIT\n"
     ]
    }
   ],
   "source": [
    "u1 = User(user_id=13,nick='mangust228',age=33)\n",
    "u2 = User(user_id=7,nick='hello',age=35)\n",
    "w1 = Wallet(address='moscow', private_key='AS32KJFD', owner=u2)\n",
    "w2 = Wallet(address='samui', private_key='IVCXREW32DT', owner=u1)\n",
    "commit()"
   ]
  },
  {
   "attachments": {},
   "cell_type": "markdown",
   "metadata": {},
   "source": [
    "## Select"
   ]
  },
  {
   "cell_type": "markdown",
   "metadata": {},
   "source": [
    "### Select * from ...."
   ]
  },
  {
   "cell_type": "code",
   "execution_count": 3,
   "metadata": {},
   "outputs": [
    {
     "name": "stdout",
     "output_type": "stream",
     "text": [
      "GET NEW CONNECTION\n",
      "SWITCH TO AUTOCOMMIT MODE\n",
      "SELECT \"u\".\"id\", \"u\".\"user_id\", \"u\".\"nick\", \"u\".\"age\"\n",
      "FROM \"User\" \"u\"\n",
      "\n",
      "id|user_id|nick      |age\n",
      "--+-------+----------+---\n",
      "1 |20     |John      |25 \n",
      "2 |20     |Mary      |33 \n",
      "3 |13     |mangust228|33 \n",
      "4 |7      |hello     |35 \n",
      "5 |3      |Vasiliy   |25 \n"
     ]
    }
   ],
   "source": [
    "User.select().show()"
   ]
  },
  {
   "cell_type": "code",
   "execution_count": 4,
   "metadata": {},
   "outputs": [
    {
     "name": "stdout",
     "output_type": "stream",
     "text": [
      "SELECT \"u\".\"id\", \"u\".\"user_id\", \"u\".\"nick\", \"u\".\"age\"\n",
      "FROM \"User\" \"u\"\n",
      "\n",
      "id|user_id|nick      |age\n",
      "--+-------+----------+---\n",
      "1 |20     |John      |25 \n",
      "2 |20     |Mary      |33 \n",
      "3 |13     |mangust228|33 \n",
      "4 |7      |hello     |35 \n",
      "5 |3      |Vasiliy   |25 \n"
     ]
    }
   ],
   "source": [
    "# Вариант 2\n",
    "select(u for u in User).show()"
   ]
  },
  {
   "cell_type": "code",
   "execution_count": 5,
   "metadata": {},
   "outputs": [
    {
     "name": "stdout",
     "output_type": "stream",
     "text": [
      "SELECT \"u\".\"id\", \"u\".\"user_id\", \"u\".\"nick\", \"u\".\"age\"\n",
      "FROM \"User\" \"u\"\n",
      "\n"
     ]
    },
    {
     "data": {
      "text/plain": [
       "[User[1], User[2], User[3], User[4], User[5]]"
      ]
     },
     "execution_count": 5,
     "metadata": {},
     "output_type": "execute_result"
    }
   ],
   "source": [
    "# Вариант 3\n",
    "select(u for u in User)[:]"
   ]
  },
  {
   "cell_type": "markdown",
   "metadata": {},
   "source": [
    "### Select where "
   ]
  },
  {
   "cell_type": "code",
   "execution_count": 6,
   "metadata": {},
   "outputs": [
    {
     "name": "stdout",
     "output_type": "stream",
     "text": [
      "SELECT \"u\".\"id\", \"u\".\"user_id\", \"u\".\"nick\", \"u\".\"age\"\n",
      "FROM \"User\" \"u\"\n",
      "WHERE \"u\".\"age\" > 33\n",
      "\n",
      "id|user_id|nick |age\n",
      "--+-------+-----+---\n",
      "4 |7      |hello|35 \n"
     ]
    }
   ],
   "source": [
    "select(u for u in User if u.age > 33).show()"
   ]
  },
  {
   "cell_type": "code",
   "execution_count": 7,
   "metadata": {},
   "outputs": [
    {
     "name": "stdout",
     "output_type": "stream",
     "text": [
      "SELECT \"u\".\"id\", \"u\".\"user_id\", \"u\".\"nick\", \"u\".\"age\"\n",
      "FROM \"User\" \"u\"\n",
      "WHERE \"u\".\"nick\" LIKE '%o%'\n",
      "\n"
     ]
    },
    {
     "data": {
      "text/plain": [
       "[User[1], User[4]]"
      ]
     },
     "execution_count": 7,
     "metadata": {},
     "output_type": "execute_result"
    }
   ],
   "source": [
    "select(u for u in User if 'o' in u.nick)[:]"
   ]
  },
  {
   "cell_type": "code",
   "execution_count": 8,
   "metadata": {},
   "outputs": [
    {
     "name": "stdout",
     "output_type": "stream",
     "text": [
      "John\n"
     ]
    }
   ],
   "source": [
    "u1 = User[1]\n",
    "print(u1.nick)"
   ]
  },
  {
   "cell_type": "code",
   "execution_count": 9,
   "metadata": {},
   "outputs": [
    {
     "name": "stdout",
     "output_type": "stream",
     "text": [
      "SELECT \"id\", \"user_id\", \"nick\", \"age\"\n",
      "FROM \"User\"\n",
      "WHERE \"nick\" = ?\n",
      "LIMIT 2\n",
      "['Mary']\n",
      "\n"
     ]
    }
   ],
   "source": [
    "mary = User.get(nick='Mary')"
   ]
  },
  {
   "attachments": {},
   "cell_type": "markdown",
   "metadata": {},
   "source": [
    "## Limit/Order by"
   ]
  },
  {
   "cell_type": "code",
   "execution_count": 10,
   "metadata": {},
   "outputs": [
    {
     "name": "stdout",
     "output_type": "stream",
     "text": [
      "SELECT \"u\".\"id\", \"u\".\"user_id\", \"u\".\"nick\", \"u\".\"age\"\n",
      "FROM \"User\" \"u\"\n",
      "ORDER BY \"u\".\"nick\"\n",
      "\n"
     ]
    },
    {
     "data": {
      "text/plain": [
       "[User[1], User[2], User[5], User[4], User[3]]"
      ]
     },
     "execution_count": 10,
     "metadata": {},
     "output_type": "execute_result"
    }
   ],
   "source": [
    "# Order\n",
    "select(u for u in User).order_by(User.nick)[:]"
   ]
  },
  {
   "cell_type": "code",
   "execution_count": 11,
   "metadata": {},
   "outputs": [
    {
     "name": "stdout",
     "output_type": "stream",
     "text": [
      "SELECT \"u\".\"id\", \"u\".\"user_id\", \"u\".\"nick\", \"u\".\"age\"\n",
      "FROM \"User\" \"u\"\n",
      "LIMIT 2\n",
      "\n"
     ]
    },
    {
     "data": {
      "text/plain": [
       "[User[1], User[2]]"
      ]
     },
     "execution_count": 11,
     "metadata": {},
     "output_type": "execute_result"
    }
   ],
   "source": [
    "# Limit\n",
    "select(u for u in User)[:2]"
   ]
  },
  {
   "cell_type": "code",
   "execution_count": 12,
   "metadata": {},
   "outputs": [
    {
     "name": "stdout",
     "output_type": "stream",
     "text": [
      "SELECT \"u\".\"id\", \"u\".\"user_id\", \"u\".\"nick\", \"u\".\"age\"\n",
      "FROM \"User\" \"u\"\n",
      "LIMIT 2 OFFSET 1\n",
      "\n"
     ]
    },
    {
     "data": {
      "text/plain": [
       "[User[2], User[3]]"
      ]
     },
     "execution_count": 12,
     "metadata": {},
     "output_type": "execute_result"
    }
   ],
   "source": [
    "# Offset\n",
    "select(u for u in User)[1:3]"
   ]
  },
  {
   "cell_type": "markdown",
   "metadata": {},
   "source": [
    "## UPDATE"
   ]
  },
  {
   "cell_type": "code",
   "execution_count": 14,
   "metadata": {},
   "outputs": [
    {
     "name": "stdout",
     "output_type": "stream",
     "text": [
      "SELECT \"id\", \"user_id\", \"nick\", \"age\"\n",
      "FROM \"User\"\n",
      "WHERE \"nick\" = ?\n",
      "LIMIT 2\n",
      "['Mary']\n",
      "\n"
     ]
    }
   ],
   "source": [
    "mary = User.get(nick='Mary')"
   ]
  },
  {
   "cell_type": "code",
   "execution_count": 16,
   "metadata": {},
   "outputs": [
    {
     "name": "stdout",
     "output_type": "stream",
     "text": [
      "BEGIN IMMEDIATE TRANSACTION\n",
      "UPDATE \"User\"\n",
      "SET \"age\" = ?\n",
      "WHERE \"id\" = ?\n",
      "  AND \"user_id\" = ?\n",
      "  AND \"nick\" = ?\n",
      "  AND \"age\" = ?\n",
      "[34, 2, 20, 'Mary', 33]\n",
      "\n",
      "COMMIT\n"
     ]
    }
   ],
   "source": [
    "mary.age += 1\n",
    "commit()"
   ]
  },
  {
   "cell_type": "markdown",
   "metadata": {},
   "source": [
    "## Работа по SQL-запросам"
   ]
  },
  {
   "cell_type": "code",
   "execution_count": 17,
   "metadata": {},
   "outputs": [
    {
     "name": "stdout",
     "output_type": "stream",
     "text": [
      "BEGIN IMMEDIATE TRANSACTION\n",
      "Select * FROM User u WHERE u.age < ?\n",
      "[30]\n",
      "\n"
     ]
    },
    {
     "data": {
      "text/plain": [
       "[User[1], User[5]]"
      ]
     },
     "execution_count": 17,
     "metadata": {},
     "output_type": "execute_result"
    }
   ],
   "source": [
    "x = 30\n",
    "User.select_by_sql('Select * FROM User u WHERE u.age < $x')"
   ]
  },
  {
   "cell_type": "markdown",
   "metadata": {},
   "source": [
    "### Минуя сущности"
   ]
  },
  {
   "cell_type": "code",
   "execution_count": 21,
   "metadata": {},
   "outputs": [
    {
     "name": "stdout",
     "output_type": "stream",
     "text": [
      "select nick FROM User WHERE age > ?\n",
      "[28]\n",
      "\n"
     ]
    },
    {
     "data": {
      "text/plain": [
       "['Mary', 'mangust228', 'hello']"
      ]
     },
     "execution_count": 21,
     "metadata": {},
     "output_type": "execute_result"
    }
   ],
   "source": [
    "z = 28\n",
    "db.select('nick FROM User WHERE age > $z')"
   ]
  },
  {
   "attachments": {},
   "cell_type": "markdown",
   "metadata": {},
   "source": [
    "## Дополнительные методы"
   ]
  },
  {
   "cell_type": "markdown",
   "metadata": {},
   "source": [
    "### Filter"
   ]
  },
  {
   "cell_type": "code",
   "execution_count": 28,
   "metadata": {},
   "outputs": [
    {
     "name": "stdout",
     "output_type": "stream",
     "text": [
      "SELECT \"u\".\"id\", \"u\".\"user_id\", \"u\".\"nick\", \"u\".\"age\"\n",
      "FROM \"User\" \"u\"\n",
      "WHERE \"u\".\"age\" > 18\n",
      "\n",
      "id|user_id|nick      |age\n",
      "--+-------+----------+---\n",
      "1 |20     |John      |25 \n",
      "2 |20     |Mary      |34 \n",
      "3 |13     |mangust228|33 \n",
      "4 |7      |hello     |35 \n",
      "5 |3      |Vasiliy   |25 \n"
     ]
    }
   ],
   "source": [
    "query = select(u for u in User)\n",
    "query_new = query.filter(lambda person: person.age > 18)\n",
    "query_new.show()"
   ]
  },
  {
   "cell_type": "code",
   "execution_count": 30,
   "metadata": {},
   "outputs": [
    {
     "data": {
      "text/plain": [
       "1"
      ]
     },
     "execution_count": 30,
     "metadata": {},
     "output_type": "execute_result"
    }
   ],
   "source": [
    "# Вернуть первый из списка\n",
    "query_new.first().id"
   ]
  },
  {
   "attachments": {},
   "cell_type": "markdown",
   "metadata": {},
   "source": [
    "## Пример из документации"
   ]
  },
  {
   "cell_type": "code",
   "execution_count": 33,
   "metadata": {},
   "outputs": [
    {
     "name": "stdout",
     "output_type": "stream",
     "text": [
      "GET NEW CONNECTION\n",
      "RELEASE CONNECTION\n",
      "GET CONNECTION FROM THE LOCAL POOL\n",
      "PRAGMA foreign_keys = false\n",
      "BEGIN IMMEDIATE TRANSACTION\n",
      "CREATE TABLE \"Category\" (\n",
      "  \"id\" INTEGER PRIMARY KEY AUTOINCREMENT,\n",
      "  \"name\" TEXT UNIQUE NOT NULL\n",
      ")\n",
      "\n",
      "CREATE TABLE \"Customer\" (\n",
      "  \"id\" INTEGER PRIMARY KEY AUTOINCREMENT,\n",
      "  \"email\" TEXT UNIQUE NOT NULL,\n",
      "  \"password\" TEXT NOT NULL,\n",
      "  \"name\" TEXT NOT NULL,\n",
      "  \"country\" TEXT NOT NULL,\n",
      "  \"address\" TEXT NOT NULL\n",
      ")\n",
      "\n",
      "CREATE TABLE \"Order\" (\n",
      "  \"id\" INTEGER PRIMARY KEY AUTOINCREMENT,\n",
      "  \"state\" TEXT NOT NULL,\n",
      "  \"date_created\" DATETIME NOT NULL,\n",
      "  \"date_shipped\" DATETIME,\n",
      "  \"date_delivered\" DATETIME,\n",
      "  \"total_price\" DECIMAL(12, 2) NOT NULL,\n",
      "  \"customer\" INTEGER NOT NULL REFERENCES \"Customer\" (\"id\") ON DELETE CASCADE\n",
      ")\n",
      "\n",
      "CREATE INDEX \"idx_order__customer\" ON \"Order\" (\"customer\")\n",
      "\n",
      "CREATE TABLE \"Product\" (\n",
      "  \"id\" INTEGER PRIMARY KEY AUTOINCREMENT,\n",
      "  \"name\" TEXT NOT NULL,\n",
      "  \"description\" TEXT NOT NULL,\n",
      "  \"picture\" BLOB,\n",
      "  \"price\" DECIMAL(12, 2) NOT NULL,\n",
      "  \"quantity\" INTEGER NOT NULL\n",
      ")\n",
      "\n",
      "CREATE TABLE \"CartItem\" (\n",
      "  \"id\" INTEGER PRIMARY KEY AUTOINCREMENT,\n",
      "  \"quantity\" INTEGER NOT NULL,\n",
      "  \"customer\" INTEGER NOT NULL REFERENCES \"Customer\" (\"id\") ON DELETE CASCADE,\n",
      "  \"product\" INTEGER NOT NULL REFERENCES \"Product\" (\"id\") ON DELETE CASCADE\n",
      ")\n",
      "\n",
      "CREATE INDEX \"idx_cartitem__customer\" ON \"CartItem\" (\"customer\")\n",
      "\n",
      "CREATE INDEX \"idx_cartitem__product\" ON \"CartItem\" (\"product\")\n",
      "\n",
      "CREATE TABLE \"Category_Product\" (\n",
      "  \"category\" INTEGER NOT NULL REFERENCES \"Category\" (\"id\") ON DELETE CASCADE,\n",
      "  \"product\" INTEGER NOT NULL REFERENCES \"Product\" (\"id\") ON DELETE CASCADE,\n",
      "  PRIMARY KEY (\"category\", \"product\")\n",
      ")\n",
      "\n",
      "CREATE INDEX \"idx_category_product\" ON \"Category_Product\" (\"product\")\n",
      "\n",
      "CREATE TABLE \"OrderItem\" (\n",
      "  \"quantity\" INTEGER NOT NULL,\n",
      "  \"price\" DECIMAL(12, 2) NOT NULL,\n",
      "  \"order\" INTEGER NOT NULL REFERENCES \"Order\" (\"id\") ON DELETE CASCADE,\n",
      "  \"product\" INTEGER NOT NULL REFERENCES \"Product\" (\"id\") ON DELETE CASCADE,\n",
      "  PRIMARY KEY (\"order\", \"product\")\n",
      ")\n",
      "\n",
      "CREATE INDEX \"idx_orderitem__product\" ON \"OrderItem\" (\"product\")\n",
      "\n",
      "SELECT \"CartItem\".\"id\", \"CartItem\".\"quantity\", \"CartItem\".\"customer\", \"CartItem\".\"product\"\n",
      "FROM \"CartItem\" \"CartItem\"\n",
      "WHERE 0 = 1\n",
      "\n",
      "SELECT \"Category\".\"id\", \"Category\".\"name\"\n",
      "FROM \"Category\" \"Category\"\n",
      "WHERE 0 = 1\n",
      "\n",
      "SELECT \"Category_Product\".\"category\", \"Category_Product\".\"product\"\n",
      "FROM \"Category_Product\" \"Category_Product\"\n",
      "WHERE 0 = 1\n",
      "\n",
      "SELECT \"Customer\".\"id\", \"Customer\".\"email\", \"Customer\".\"password\", \"Customer\".\"name\", \"Customer\".\"country\", \"Customer\".\"address\"\n",
      "FROM \"Customer\" \"Customer\"\n",
      "WHERE 0 = 1\n",
      "\n",
      "SELECT \"Order\".\"id\", \"Order\".\"state\", \"Order\".\"date_created\", \"Order\".\"date_shipped\", \"Order\".\"date_delivered\", \"Order\".\"total_price\", \"Order\".\"customer\"\n",
      "FROM \"Order\" \"Order\"\n",
      "WHERE 0 = 1\n",
      "\n",
      "SELECT \"OrderItem\".\"quantity\", \"OrderItem\".\"price\", \"OrderItem\".\"order\", \"OrderItem\".\"product\"\n",
      "FROM \"OrderItem\" \"OrderItem\"\n",
      "WHERE 0 = 1\n",
      "\n",
      "SELECT \"Product\".\"id\", \"Product\".\"name\", \"Product\".\"description\", \"Product\".\"picture\", \"Product\".\"price\", \"Product\".\"quantity\"\n",
      "FROM \"Product\" \"Product\"\n",
      "WHERE 0 = 1\n",
      "\n",
      "COMMIT\n",
      "COMMIT\n",
      "PRAGMA foreign_keys = true\n",
      "CLOSE CONNECTION\n",
      "RELEASE CONNECTION\n"
     ]
    }
   ],
   "source": [
    "from pony.orm.examples.estore import * "
   ]
  },
  {
   "attachments": {},
   "cell_type": "markdown",
   "metadata": {},
   "source": [
    "![image](https://ucarecdn.com/614300f1-8be0-485f-8175-9d5feaa841fe/)"
   ]
  },
  {
   "cell_type": "code",
   "execution_count": 46,
   "metadata": {},
   "outputs": [
    {
     "data": {
      "text/plain": [
       "[(0, 4), (0, 5), (1, 4), (1, 5), (2, 4), (2, 5), (3, 4), (3, 5)]"
      ]
     },
     "execution_count": 46,
     "metadata": {},
     "output_type": "execute_result"
    }
   ],
   "source": [
    "[(i,j)for i in range(4) \n",
    "      for j in range(4,6)]"
   ]
  },
  {
   "cell_type": "code",
   "execution_count": 47,
   "metadata": {},
   "outputs": [
    {
     "name": "stdout",
     "output_type": "stream",
     "text": [
      "SELECT MAX(\"p\".\"price\")\n",
      "FROM \"Product\" \"p\"\n",
      "\n",
      "SELECT MAX(\"p\".\"price\")\n",
      "FROM \"Product\" \"p\", \"Category_Product\" \"t-1\", \"Category\" \"cat\"\n",
      "WHERE \"cat\".\"name\" = 'Solid State Drives'\n",
      "  AND \"p\".\"id\" = \"t-1\".\"product\"\n",
      "  AND \"t-1\".\"category\" = \"cat\".\"id\"\n",
      "\n",
      "SELECT \"p\".\"id\", \"p\".\"name\", \"p\".\"description\", \"p\".\"picture\", \"p\".\"price\", \"p\".\"quantity\"\n",
      "FROM \"Product\" \"p\"\n",
      "ORDER BY \"p\".\"price\" DESC\n",
      "LIMIT 3\n",
      "\n",
      "SELECT \"p\".\"id\"\n",
      "FROM \"Product\" \"p\"\n",
      "  LEFT JOIN \"OrderItem\" \"orderitem\"\n",
      "    ON \"p\".\"id\" = \"orderitem\".\"product\"\n",
      "GROUP BY \"p\".\"id\"\n",
      "ORDER BY coalesce(SUM(\"orderitem\".\"quantity\"), 0) DESC\n",
      "LIMIT 1\n",
      "\n",
      "SELECT \"c\".\"id\"\n",
      "FROM \"Customer\" \"c\"\n",
      "  LEFT JOIN \"Order\" \"order\"\n",
      "    ON \"c\".\"id\" = \"order\".\"customer\"\n",
      "GROUP BY \"c\".\"id\"\n",
      "ORDER BY coalesce(SUM(\"order\".\"total_price\"), 0) DESC\n",
      "LIMIT 3\n",
      "\n"
     ]
    },
    {
     "data": {
      "text/plain": [
       "<pony.orm.core.Query at 0x7f508337e940>"
      ]
     },
     "execution_count": 47,
     "metadata": {},
     "output_type": "execute_result"
    }
   ],
   "source": [
    "# Все клиенты из США\n",
    "Customer.select(lambda c: c.country == 'USA')\n",
    "\n",
    "# Количество клиентов для каждой страны\n",
    "select((c.country, count(c)) for c in Customer)\n",
    "\n",
    "# Максимальная цена продукта\n",
    "max(p.price for p in Product)\n",
    "\n",
    "# Максимальная цена SSD\n",
    "max(p.price for p in Product\n",
    "            for cat in p.categories if cat.name == 'Solid State Drives')\n",
    "\n",
    "# Три самых дорогих продукта\n",
    "Product.select().order_by(desc(Product.price))[:3]\n",
    "\n",
    "# Продукты, отсутствующие на складе\n",
    "Product.select(lambda p: p.quantity == 0)\n",
    "\n",
    "# Самый популярный товар\n",
    "Product.select().order_by(lambda p: desc(sum(p.order_items.quantity))).first()\n",
    "\n",
    "# Продукты, которые никогда не были заказаны\n",
    "Product.select(lambda p: not p.order_items)\n",
    "\n",
    "# Клиенты, которые сделали несколько заказов\n",
    "Customer.select(lambda c: count(c.orders) > 1)\n",
    "\n",
    "# Три самых ценных клиента\n",
    "Customer.select().order_by(lambda c: desc(sum(c.orders.total_price)))[:3]\n",
    "\n",
    "# Клиенты, чьи заказы были отправлены\n",
    "Customer.select(lambda c: SHIPPED in c.orders.state)\n",
    "\n",
    "# Клиенты, у которых нет заказов\n",
    "Customer.select(lambda c: not c.orders)\n",
    "\n",
    "# Тот же запрос с LEFT JOIN вместо NOT EXISTS\n",
    "left_join(c for c in Customer for o in c.orders if o is None)\n",
    "\n",
    "# Клиенты, которые заказали несколько разных планшетов\n",
    "select(c for c in Customer\n",
    "         for p in c.orders.items.product\n",
    "         if 'Tablets' in p.categories.name and count(p) > 1)"
   ]
  },
  {
   "cell_type": "code",
   "execution_count": 36,
   "metadata": {},
   "outputs": [
    {
     "name": "stdout",
     "output_type": "stream",
     "text": [
      "GET NEW CONNECTION\n",
      "SWITCH TO AUTOCOMMIT MODE\n",
      "SELECT \"c\".\"country\", COUNT(DISTINCT \"c\".\"id\")\n",
      "FROM \"Customer\" \"c\"\n",
      "GROUP BY \"c\".\"country\"\n",
      "\n"
     ]
    },
    {
     "data": {
      "text/plain": [
       "[]"
      ]
     },
     "execution_count": 36,
     "metadata": {},
     "output_type": "execute_result"
    }
   ],
   "source": [
    "select((c.country, count(c)) for c in Customer)[:]\n"
   ]
  },
  {
   "attachments": {},
   "cell_type": "markdown",
   "metadata": {},
   "source": [
    "## Использование даты и времени"
   ]
  },
  {
   "cell_type": "code",
   "execution_count": 55,
   "metadata": {},
   "outputs": [],
   "source": [
    "from datetime import datetime, timedelta"
   ]
  },
  {
   "cell_type": "code",
   "execution_count": 56,
   "metadata": {},
   "outputs": [
    {
     "name": "stdout",
     "output_type": "stream",
     "text": [
      "SELECT \"o\".\"id\", \"o\".\"state\", \"o\".\"date_created\", \"o\".\"date_shipped\", \"o\".\"date_delivered\", \"o\".\"total_price\", \"o\".\"customer\"\n",
      "FROM \"Order\" \"o\"\n",
      "WHERE \"o\".\"date_created\" >= ?\n",
      "['2023-01-12 11:21:56.268564']\n",
      "\n"
     ]
    },
    {
     "data": {
      "text/plain": [
       "[]"
      ]
     },
     "execution_count": 56,
     "metadata": {},
     "output_type": "execute_result"
    }
   ],
   "source": [
    "select(o for o in Order if o.date_created >= datetime.now() - timedelta(days=3))[:]"
   ]
  },
  {
   "attachments": {},
   "cell_type": "markdown",
   "metadata": {},
   "source": [
    "## DISTINCT "
   ]
  },
  {
   "attachments": {},
   "cell_type": "markdown",
   "metadata": {},
   "source": [
    "Pony добавляет ключевое слово DISCTINCT только в тех случаях, когда возможны дубликаты. Рассмотрим несколько примеров."
   ]
  },
  {
   "cell_type": "code",
   "execution_count": 64,
   "metadata": {},
   "outputs": [
    {
     "name": "stdout",
     "output_type": "stream",
     "text": [
      "SELECT \"p\".\"id\", \"p\".\"email\", \"p\".\"password\", \"p\".\"name\", \"p\".\"country\", \"p\".\"address\"\n",
      "FROM \"Customer\" \"p\"\n",
      "WHERE \"p\".\"name\" = 'John'\n",
      "\n"
     ]
    },
    {
     "data": {
      "text/plain": [
       "[]"
      ]
     },
     "execution_count": 64,
     "metadata": {},
     "output_type": "execute_result"
    }
   ],
   "source": [
    "# Не добавит\n",
    "Customer.select(lambda p: p.name == 'John')[:]\n"
   ]
  },
  {
   "cell_type": "code",
   "execution_count": 65,
   "metadata": {},
   "outputs": [
    {
     "name": "stdout",
     "output_type": "stream",
     "text": [
      "SELECT DISTINCT \"c\".\"name\"\n",
      "FROM \"Customer\" \"c\"\n",
      "\n"
     ]
    },
    {
     "data": {
      "text/plain": [
       "[]"
      ]
     },
     "execution_count": 65,
     "metadata": {},
     "output_type": "execute_result"
    }
   ],
   "source": [
    "# Добавит\n",
    "select(c.name for c in Customer)[:]"
   ]
  },
  {
   "cell_type": "code",
   "execution_count": 68,
   "metadata": {},
   "outputs": [
    {
     "name": "stdout",
     "output_type": "stream",
     "text": [
      "SELECT \"c\".\"name\"\n",
      "FROM \"Customer\" \"c\"\n",
      "\n"
     ]
    },
    {
     "data": {
      "text/plain": [
       "[]"
      ]
     },
     "execution_count": 68,
     "metadata": {},
     "output_type": "execute_result"
    }
   ],
   "source": [
    "# Чтоб не добавлял:\n",
    "select(c.name for c in Customer).without_distinct()[:]"
   ]
  },
  {
   "cell_type": "markdown",
   "metadata": {},
   "source": [
    "## Функции внутри запроса"
   ]
  },
  {
   "attachments": {},
   "cell_type": "markdown",
   "metadata": {},
   "source": [
    "- `avg()` \n",
    "- `abs()` \n",
    "- `exists()` \n",
    "- `len()` \n",
    "- `max()` \n",
    "- `min()` \n",
    "- `count()` \n",
    "- `concat()` \n",
    "- `group_concat()` \n",
    "- `random()` \n",
    "- `raw_sql()` \n",
    "- `select()` \n",
    "- `sum()` \n",
    "- `getattr()` \n",
    "- `startswith()` "
   ]
  }
 ],
 "metadata": {
  "kernelspec": {
   "display_name": "base",
   "language": "python",
   "name": "python3"
  },
  "language_info": {
   "codemirror_mode": {
    "name": "ipython",
    "version": 3
   },
   "file_extension": ".py",
   "mimetype": "text/x-python",
   "name": "python",
   "nbconvert_exporter": "python",
   "pygments_lexer": "ipython3",
   "version": "3.9.13"
  },
  "orig_nbformat": 4,
  "vscode": {
   "interpreter": {
    "hash": "5aa5e2928d664687c9381123541672e3561f763741993076ffb7b2e7971e825a"
   }
  }
 },
 "nbformat": 4,
 "nbformat_minor": 2
}
