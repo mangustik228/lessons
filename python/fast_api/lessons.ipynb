{
 "cells": [
  {
   "cell_type": "markdown",
   "metadata": {},
   "source": [
    "Запись лекций со [stepik](https://stepik.org/lesson/733666/step/7?unit=735188)"
   ]
  },
  {
   "attachments": {},
   "cell_type": "markdown",
   "metadata": {},
   "source": [
    "## Настройка окружения"
   ]
  },
  {
   "attachments": {},
   "cell_type": "markdown",
   "metadata": {},
   "source": [
    "Необходимые библиотеки: \n",
    "```bash \n",
    "pip install fastapi[all]\n",
    "pip install pony\n",
    "pip install bit\n",
    "pip install pyTelegramBotAPI\n",
    "```"
   ]
  },
  {
   "attachments": {},
   "cell_type": "markdown",
   "metadata": {},
   "source": [
    "Запуск приложения(api):  \n",
    "```bash \n",
    "# uvicorn - сервер\n",
    "# file - файл, которому передаем [object] api... (без .py)\n",
    "# --reload перезапуск при изменениях\n",
    "uvicorn [file]:[object] --reload \n",
    "\n",
    "# object - название экземпляра класса fastapi.FastApi\n",
    "``` "
   ]
  },
  {
   "attachments": {},
   "cell_type": "markdown",
   "metadata": {},
   "source": [
    "Ставим приложение `postman`:  \n",
    "```bash\n",
    "sudo snap install postman\n",
    "```"
   ]
  },
  {
   "attachments": {},
   "cell_type": "markdown",
   "metadata": {},
   "source": [
    "## Классы fastapi"
   ]
  },
  {
   "cell_type": "markdown",
   "metadata": {},
   "source": [
    "- Классы указатаели(где искать данные). Всем можно передать параметры (max_length, min_length, regex, title, description) / title & description - нужны для документации\n",
    "  - `Body` Тело запроса (дополнительно: gt,ge,lt,le, example - пример запроса который должен находиться в теле запроса(для документации), embed-говорит, что данные надо искать в python-объекте(но это не точно))\n",
    "  - `Path` Путь запроса (дополнительео: gt,ge,lt,le)\n",
    "  - `Query` Среди параметров url "
   ]
  },
  {
   "cell_type": "markdown",
   "metadata": {},
   "source": [
    "- `Form`  Этот класс говорит серверу, что информация была отправлена из формы ввода, то есть из html-тега <form>, эти данные имеют отличный от JSON синтаксис, и наш сервер с автоматом переведет их в привычный формат. (аргументы как и y Body + media_type: str = \"application/x-www-form-urlencoded\" # тип данных, определяется в специальном хедере)\n"
   ]
  },
  {
   "cell_type": "markdown",
   "metadata": {},
   "source": [
    "\n",
    "- `Responce` - Этот класс наследован в fastapi из фреймворка starlette, отвечает за ответы, которые отправляет сервер. \n",
    "  - content: Any | None = None, # контент, который возвращает сервер клиенту\n",
    "  - status_code: int = 200 # статус код, который возвращается клиенту\n",
    "  - headers: Mapping[str, str] | None = None  # Хедеры возвращаемые клиенту\n",
    "  - media_type: str | None = None # определяет тип данных возвращаемых клиенту\n",
    "  - Пример\n",
    "```python\n",
    "@api.get('/responce_test')\n",
    "def responce_test():\n",
    "    return fastapi.Response('Hello', status_code=200,media_type='application/json')\n",
    "```"
   ]
  },
  {
   "cell_type": "markdown",
   "metadata": {},
   "source": [
    "- `Request` Этот класс наследован в fastapi из фреймворка starlette, отвечает за запросы, которые принимает сервер. С помощью этого класса можно достать всю информацию по запросу от клиента, для этого создаем объект в переменную в обрабатывающей функции где значением по умолчанию будет класс Request(), вот так:\n",
    "```python \n",
    "@api.get('/responce_test')\n",
    "def responce_test(request = fastapi.Request()):\n",
    "    return fastapi.Response('Hello', status_code=200,media_type='application/json')\n",
    "```\n",
    "Много всяких свойств интересных, в частности: \n",
    "  - Method\n",
    "  - URL \n",
    "  - Headers\n",
    "  - Query Parameters\n",
    "  - Path Parameters\n",
    "  - Client Address\n",
    "  - Cookies\n",
    "  - Body"
   ]
  },
  {
   "cell_type": "markdown",
   "metadata": {},
   "source": [
    "\n",
    "- Работа с файлами     \n",
    "  Разница между File и FileUpload заключается в том, что FileUpload сохраняет файл вместе с метаданными, а File загружает только основное тело файла.\n",
    "\n",
    "\n",
    "  - `File` \n",
    "  - `FileUpload` \n",
    "```python \n",
    "from fastapi import FastAPI, File, UploadFile\n",
    "\n",
    "app = FastAPI()\n",
    "\n",
    "\n",
    "@app.post(\"/files/\")\n",
    "async def create_file(file: bytes = File()):\n",
    "    return {\"file_size\": len(file)} # вернет клиенту размер полученного файла\n",
    "\n",
    "\n",
    "@app.post(\"/uploadfile/\")\n",
    "async def create_upload_file(file: UploadFile):\n",
    "    return {\"filename\": file.filename} # вернет клиенту имя полученного файла\n",
    "```"
   ]
  },
  {
   "attachments": {},
   "cell_type": "markdown",
   "metadata": {},
   "source": [
    "- `Cookie` \n",
    "- `Header` \n",
    "- `Security` \n",
    "\n",
    "Header, Cookie & Security\n",
    "Эти классы используются для работы с хедерами, куками и безопасностью"
   ]
  },
  {
   "attachments": {},
   "cell_type": "markdown",
   "metadata": {},
   "source": [
    "- `WebSocket` \n",
    "```python\n",
    "from fastapi import FastAPI, WebSocket\n",
    "from fastapi.responses import HTMLResponse\n",
    "\n",
    "app = FastAPI()\n",
    "\n",
    "html = \"\"\"\n",
    "<!DOCTYPE html>\n",
    "...\n",
    "        <script>\n",
    "            var ws = new WebSocket(\"ws://localhost:8000/ws\");\n",
    "            ws.onmessage = function(event) {\n",
    "                var messages = document.getElementById('messages')\n",
    "                var message = document.createElement('li')\n",
    "                var content = document.createTextNode(event.data)\n",
    "                message.appendChild(content)\n",
    "                messages.appendChild(message)\n",
    "            };\n",
    "            function sendMessage(event) {\n",
    "                var input = document.getElementById(\"messageText\")\n",
    "                ws.send(input.value)\n",
    "                input.value = ''\n",
    "                event.preventDefault()\n",
    "            }\n",
    "        </script>\n",
    "    </body>\n",
    "</html>\n",
    "\"\"\"\n",
    "\n",
    "\n",
    "@app.get(\"/\")\n",
    "async def get():\n",
    "    return HTMLResponse(html)\n",
    "\n",
    "\n",
    "@app.websocket(\"/ws\")\n",
    "async def websocket_endpoint(websocket: WebSocket):\n",
    "    await websocket.accept()\n",
    "    while True:\n",
    "        data = await websocket.receive_text()\n",
    "        await websocket.send_text(f\"Message text was: {data}\")\n",
    "\n",
    "```\n",
    "Запустив этот код мы создадим эхо-вебсокет, который возвращает нам наши же сообщения, которые мы отправляем через форму, которую создали по пути \"/\""
   ]
  },
  {
   "attachments": {},
   "cell_type": "markdown",
   "metadata": {},
   "source": [
    "## Pony"
   ]
  },
  {
   "cell_type": "markdown",
   "metadata": {},
   "source": [
    "### Для разных БД"
   ]
  },
  {
   "attachments": {},
   "cell_type": "markdown",
   "metadata": {},
   "source": [
    "```python\n",
    "# SQLite\n",
    "db.bind(provider='sqlite', filename=':sharedmemory:')\n",
    "# or\n",
    "db.bind(provider='sqlite', filename='database.sqlite', create_db=True)\n",
    "\n",
    "# PostgreSQL\n",
    "db.bind(provider='postgres', user='', password='', host='', database='')\n",
    "\n",
    "# MySQL\n",
    "db.bind(provider='mysql', host='', user='', passwd='', db='')\n",
    "\n",
    "# Oracle\n",
    "db.bind(provider='oracle', user='', password='', dsn='')\n",
    "\n",
    "# CockroachDB\n",
    "db.bind(provider='cockroach', user='', password='', host='', database='', )\n",
    "```"
   ]
  },
  {
   "attachments": {},
   "cell_type": "markdown",
   "metadata": {},
   "source": [
    "`db.bind` - Только подключает \n",
    "`db.generate_mapping(create_tables=True)` - Создать таблицу, create_tables=\"CREATE IF NOT EXISTS\"\n",
    "`set_sql_debug(True)` - Включить режим отладки\n"
   ]
  }
 ],
 "metadata": {
  "kernelspec": {
   "display_name": "base",
   "language": "python",
   "name": "python3"
  },
  "language_info": {
   "codemirror_mode": {
    "name": "ipython",
    "version": 3
   },
   "file_extension": ".py",
   "mimetype": "text/x-python",
   "name": "python",
   "nbconvert_exporter": "python",
   "pygments_lexer": "ipython3",
   "version": "3.9.13 (main, Aug 25 2022, 23:26:10) \n[GCC 11.2.0]"
  },
  "orig_nbformat": 4,
  "vscode": {
   "interpreter": {
    "hash": "5aa5e2928d664687c9381123541672e3561f763741993076ffb7b2e7971e825a"
   }
  }
 },
 "nbformat": 4,
 "nbformat_minor": 2
}
