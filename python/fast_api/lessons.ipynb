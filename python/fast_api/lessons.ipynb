{
 "cells": [
  {
   "cell_type": "markdown",
   "metadata": {},
   "source": [
    "Запись лекций со [stepik](https://stepik.org/lesson/733666/step/7?unit=735188)"
   ]
  },
  {
   "cell_type": "markdown",
   "metadata": {},
   "source": [
    "### Настройка окружения"
   ]
  },
  {
   "attachments": {},
   "cell_type": "markdown",
   "metadata": {},
   "source": [
    "Необходимые библиотеки: \n",
    "```bash \n",
    "pip install fastapi[all]\n",
    "pip install pony\n",
    "pip install bit\n",
    "pip install pyTelegramBotAPI\n",
    "```"
   ]
  },
  {
   "attachments": {},
   "cell_type": "markdown",
   "metadata": {},
   "source": [
    "Запуск приложения(api):  \n",
    "```bash \n",
    "# uvicorn - сервер\n",
    "# file - файл, которому передаем [object] api... (без .py)\n",
    "# --reload перезапуск при изменениях\n",
    "uvicorn [file]:[object] --reload \n",
    "\n",
    "# object - название экземпляра класса fastapi.FastApi\n",
    "``` "
   ]
  },
  {
   "attachments": {},
   "cell_type": "markdown",
   "metadata": {},
   "source": [
    "Ставим приложение `postman`:  \n",
    "```bash\n",
    "sudo snap install postman\n",
    "```"
   ]
  },
  {
   "cell_type": "markdown",
   "metadata": {},
   "source": []
  }
 ],
 "metadata": {
  "kernelspec": {
   "display_name": "base",
   "language": "python",
   "name": "python3"
  },
  "language_info": {
   "codemirror_mode": {
    "name": "ipython",
    "version": 3
   },
   "file_extension": ".py",
   "mimetype": "text/x-python",
   "name": "python",
   "nbconvert_exporter": "python",
   "pygments_lexer": "ipython3",
   "version": "3.9.13 (main, Aug 25 2022, 23:26:10) \n[GCC 11.2.0]"
  },
  "orig_nbformat": 4,
  "vscode": {
   "interpreter": {
    "hash": "5aa5e2928d664687c9381123541672e3561f763741993076ffb7b2e7971e825a"
   }
  }
 },
 "nbformat": 4,
 "nbformat_minor": 2
}
