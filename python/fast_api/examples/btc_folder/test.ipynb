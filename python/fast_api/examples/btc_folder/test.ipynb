{
 "cells": [
  {
   "cell_type": "code",
   "execution_count": 1,
   "metadata": {},
   "outputs": [],
   "source": [
    "from crud import *"
   ]
  },
  {
   "cell_type": "code",
   "execution_count": 2,
   "metadata": {},
   "outputs": [],
   "source": [
    "set_sql_debug(True)"
   ]
  },
  {
   "cell_type": "code",
   "execution_count": 4,
   "metadata": {},
   "outputs": [
    {
     "name": "stdout",
     "output_type": "stream",
     "text": [
      "GET CONNECTION FROM THE LOCAL POOL\n",
      "SWITCH TO AUTOCOMMIT MODE\n",
      "SELECT \"id\", \"tg_id\", \"nick\", \"create_date\", \"wallet\"\n",
      "FROM \"User\"\n",
      "WHERE \"id\" = ?\n",
      "[4]\n",
      "\n",
      "SELECT \"id\", \"balance\", \"private_key\", \"address\"\n",
      "FROM \"Wallet\"\n",
      "WHERE \"id\" = ?\n",
      "[4]\n",
      "\n",
      "BEGIN IMMEDIATE TRANSACTION\n",
      "UPDATE \"Wallet\"\n",
      "SET \"balance\" = ?\n",
      "WHERE \"id\" = ?\n",
      "  AND \"private_key\" = ?\n",
      "  AND \"address\" = ?\n",
      "[646000.0, 4, 'cPnWKC8JsYL4uADArA65dDnfP6VMH38bR5A97hfYM6iWCnc1PACh', 'mmXYe9irf5ntYB4AYedJWMJ8jVip22sFW1']\n",
      "\n",
      "SELECT \"id\", \"sender\", \"receiver\", \"sender_wallet\", \"receiver_wallet\", \"receiver_address\", \"sender_address\", \"amount_btc_with_fee\", \"amount_btc_without_fee\", \"fee\", \"date_of_transaction\", \"tx_hash\"\n",
      "FROM \"Transaction\"\n",
      "WHERE \"sender_wallet\" = ?\n",
      "[4]\n",
      "\n",
      "SELECT \"id\", \"sender\", \"receiver\", \"sender_wallet\", \"receiver_wallet\", \"receiver_address\", \"sender_address\", \"amount_btc_with_fee\", \"amount_btc_without_fee\", \"fee\", \"date_of_transaction\", \"tx_hash\"\n",
      "FROM \"Transaction\"\n",
      "WHERE \"receiver_wallet\" = ?\n",
      "[4]\n",
      "\n",
      "SELECT \"id\", \"sender\", \"receiver\", \"sender_wallet\", \"receiver_wallet\", \"receiver_address\", \"sender_address\", \"amount_btc_with_fee\", \"amount_btc_without_fee\", \"fee\", \"date_of_transaction\", \"tx_hash\"\n",
      "FROM \"Transaction\"\n",
      "WHERE \"sender\" = ?\n",
      "[4]\n",
      "\n",
      "SELECT \"id\", \"sender\", \"receiver\", \"sender_wallet\", \"receiver_wallet\", \"receiver_address\", \"sender_address\", \"amount_btc_with_fee\", \"amount_btc_without_fee\", \"fee\", \"date_of_transaction\", \"tx_hash\"\n",
      "FROM \"Transaction\"\n",
      "WHERE \"receiver\" = ?\n",
      "[4]\n",
      "\n",
      "COMMIT\n",
      "RELEASE CONNECTION\n"
     ]
    },
    {
     "data": {
      "text/plain": [
       "{'id': 4,\n",
       " 'tg_id': 210,\n",
       " 'nick': None,\n",
       " 'create_date': datetime.datetime(2023, 1, 15, 15, 20, 29, 553303),\n",
       " 'wallet': {'id': 4,\n",
       "  'user': User[4],\n",
       "  'balance': 646000.0,\n",
       "  'private_key': 'cPnWKC8JsYL4uADArA65dDnfP6VMH38bR5A97hfYM6iWCnc1PACh',\n",
       "  'address': 'mmXYe9irf5ntYB4AYedJWMJ8jVip22sFW1',\n",
       "  'sended_transactions': [],\n",
       "  'received_transactions': []},\n",
       " 'sended_transactions': [],\n",
       " 'received_transactions': []}"
      ]
     },
     "execution_count": 4,
     "metadata": {},
     "output_type": "execute_result"
    }
   ],
   "source": [
    "get_user_info(User[4])"
   ]
  },
  {
   "cell_type": "code",
   "execution_count": 11,
   "metadata": {},
   "outputs": [
    {
     "name": "stdout",
     "output_type": "stream",
     "text": [
      "SELECT DISTINCT \"t-1\".\"id\", \"t-1\".\"sender\", \"t-1\".\"receiver\", \"t-1\".\"sender_wallet\", \"t-1\".\"receiver_wallet\", \"t-1\".\"receiver_address\", \"t-1\".\"sender_address\", \"t-1\".\"amount_btc_with_fee\", \"t-1\".\"amount_btc_without_fee\", \"t-1\".\"fee\", \"t-1\".\"date_of_transaction\", \"t-1\".\"tx_hash\"\n",
      "FROM \"Transaction\" \"t-1\"\n",
      "\n",
      "id|sender|rec...|sen...|rec...|rec...|sen...|amo...|amo...|fee|dat...|tx_...\n",
      "--+------+------+------+------+------+------+------+------+---+------+------\n"
     ]
    }
   ],
   "source": [
    "select(t for t in Transaction).show()"
   ]
  },
  {
   "cell_type": "code",
   "execution_count": 10,
   "metadata": {},
   "outputs": [
    {
     "name": "stdout",
     "output_type": "stream",
     "text": [
      "GET CONNECTION FROM THE LOCAL POOL\n",
      "SWITCH TO AUTOCOMMIT MODE\n",
      "SELECT \"id\", \"sender\", \"receiver\", \"sender_wallet\", \"receiver_wallet\", \"receiver_address\", \"sender_address\", \"amount_btc_with_fee\", \"amount_btc_without_fee\", \"fee\", \"date_of_transaction\", \"tx_hash\"\n",
      "FROM \"Transaction\"\n",
      "WHERE \"id\" = ?\n",
      "[1]\n",
      "\n"
     ]
    },
    {
     "ename": "ObjectNotFound",
     "evalue": "Transaction[1]",
     "output_type": "error",
     "traceback": [
      "\u001b[0;31m---------------------------------------------------------------------------\u001b[0m",
      "\u001b[0;31mObjectNotFound\u001b[0m                            Traceback (most recent call last)",
      "\u001b[0;32m/tmp/ipykernel_13659/1110291621.py\u001b[0m in \u001b[0;36m<module>\u001b[0;34m\u001b[0m\n\u001b[0;32m----> 1\u001b[0;31m \u001b[0mget_transaction_info\u001b[0m\u001b[0;34m(\u001b[0m\u001b[0mTransaction\u001b[0m\u001b[0;34m[\u001b[0m\u001b[0;36m1\u001b[0m\u001b[0;34m]\u001b[0m\u001b[0;34m)\u001b[0m\u001b[0;34m\u001b[0m\u001b[0;34m\u001b[0m\u001b[0m\n\u001b[0m",
      "\u001b[0;32m~/anaconda3/lib/python3.9/site-packages/pony/orm/core.py\u001b[0m in \u001b[0;36m__getitem__\u001b[0;34m(entity, key)\u001b[0m\n",
      "\u001b[0;32m~/anaconda3/lib/python3.9/site-packages/pony/utils/utils.py\u001b[0m in \u001b[0;36mcut_traceback\u001b[0;34m(func, *args, **kwargs)\u001b[0m\n\u001b[1;32m     73\u001b[0m             \u001b[0mmodule_name\u001b[0m \u001b[0;34m=\u001b[0m \u001b[0mtb\u001b[0m\u001b[0;34m.\u001b[0m\u001b[0mtb_frame\u001b[0m\u001b[0;34m.\u001b[0m\u001b[0mf_globals\u001b[0m\u001b[0;34m.\u001b[0m\u001b[0mget\u001b[0m\u001b[0;34m(\u001b[0m\u001b[0;34m'__name__'\u001b[0m\u001b[0;34m)\u001b[0m \u001b[0;32mor\u001b[0m \u001b[0;34m''\u001b[0m\u001b[0;34m\u001b[0m\u001b[0;34m\u001b[0m\u001b[0m\n\u001b[1;32m     74\u001b[0m             \u001b[0;32mif\u001b[0m \u001b[0mmodule_name\u001b[0m\u001b[0;34m.\u001b[0m\u001b[0mstartswith\u001b[0m\u001b[0;34m(\u001b[0m\u001b[0;34m'pony.utils'\u001b[0m\u001b[0;34m)\u001b[0m \u001b[0;32mand\u001b[0m \u001b[0mtb\u001b[0m\u001b[0;34m.\u001b[0m\u001b[0mtb_frame\u001b[0m\u001b[0;34m.\u001b[0m\u001b[0mf_code\u001b[0m\u001b[0;34m.\u001b[0m\u001b[0mco_name\u001b[0m \u001b[0;34m==\u001b[0m \u001b[0;34m'throw'\u001b[0m\u001b[0;34m:\u001b[0m\u001b[0;34m\u001b[0m\u001b[0;34m\u001b[0m\u001b[0m\n\u001b[0;32m---> 75\u001b[0;31m                 \u001b[0mreraise\u001b[0m\u001b[0;34m(\u001b[0m\u001b[0mexc_type\u001b[0m\u001b[0;34m,\u001b[0m \u001b[0mexc\u001b[0m\u001b[0;34m,\u001b[0m \u001b[0mlast_pony_tb\u001b[0m\u001b[0;34m)\u001b[0m\u001b[0;34m\u001b[0m\u001b[0;34m\u001b[0m\u001b[0m\n\u001b[0m\u001b[1;32m     76\u001b[0m             \u001b[0mreraise\u001b[0m\u001b[0;34m(\u001b[0m\u001b[0mexc_type\u001b[0m\u001b[0;34m,\u001b[0m \u001b[0mexc\u001b[0m\u001b[0;34m,\u001b[0m \u001b[0mfull_tb\u001b[0m\u001b[0;34m)\u001b[0m\u001b[0;34m\u001b[0m\u001b[0;34m\u001b[0m\u001b[0m\n\u001b[1;32m     77\u001b[0m         \u001b[0;32mfinally\u001b[0m\u001b[0;34m:\u001b[0m\u001b[0;34m\u001b[0m\u001b[0;34m\u001b[0m\u001b[0m\n",
      "\u001b[0;32m~/anaconda3/lib/python3.9/site-packages/pony/utils/utils.py\u001b[0m in \u001b[0;36mreraise\u001b[0;34m(***failed resolving arguments***)\u001b[0m\n\u001b[1;32m     86\u001b[0m \u001b[0;34m\u001b[0m\u001b[0m\n\u001b[1;32m     87\u001b[0m \u001b[0;32mdef\u001b[0m \u001b[0mreraise\u001b[0m\u001b[0;34m(\u001b[0m\u001b[0mexc_type\u001b[0m\u001b[0;34m,\u001b[0m \u001b[0mexc\u001b[0m\u001b[0;34m,\u001b[0m \u001b[0mtb\u001b[0m\u001b[0;34m)\u001b[0m\u001b[0;34m:\u001b[0m\u001b[0;34m\u001b[0m\u001b[0;34m\u001b[0m\u001b[0m\n\u001b[0;32m---> 88\u001b[0;31m     \u001b[0;32mtry\u001b[0m\u001b[0;34m:\u001b[0m \u001b[0;32mraise\u001b[0m \u001b[0mexc\u001b[0m\u001b[0;34m.\u001b[0m\u001b[0mwith_traceback\u001b[0m\u001b[0;34m(\u001b[0m\u001b[0mtb\u001b[0m\u001b[0;34m)\u001b[0m\u001b[0;34m\u001b[0m\u001b[0;34m\u001b[0m\u001b[0m\n\u001b[0m\u001b[1;32m     89\u001b[0m     \u001b[0;32mfinally\u001b[0m\u001b[0;34m:\u001b[0m \u001b[0;32mdel\u001b[0m \u001b[0mexc\u001b[0m\u001b[0;34m,\u001b[0m \u001b[0mtb\u001b[0m\u001b[0;34m\u001b[0m\u001b[0;34m\u001b[0m\u001b[0m\n\u001b[1;32m     90\u001b[0m \u001b[0;34m\u001b[0m\u001b[0m\n",
      "\u001b[0;32m~/anaconda3/lib/python3.9/site-packages/pony/orm/core.py\u001b[0m in \u001b[0;36m_find_one_\u001b[0;34m(entity, kwargs, for_update, nowait, skip_locked)\u001b[0m\n\u001b[1;32m   4113\u001b[0m         \u001b[0mobj\u001b[0m\u001b[0;34m,\u001b[0m \u001b[0munique\u001b[0m \u001b[0;34m=\u001b[0m \u001b[0mentity\u001b[0m\u001b[0;34m.\u001b[0m\u001b[0m_find_in_cache_\u001b[0m\u001b[0;34m(\u001b[0m\u001b[0mpkval\u001b[0m\u001b[0;34m,\u001b[0m \u001b[0mavdict\u001b[0m\u001b[0;34m,\u001b[0m \u001b[0mfor_update\u001b[0m\u001b[0;34m)\u001b[0m\u001b[0;34m\u001b[0m\u001b[0;34m\u001b[0m\u001b[0m\n\u001b[1;32m   4114\u001b[0m         \u001b[0;32mif\u001b[0m \u001b[0mobj\u001b[0m \u001b[0;32mis\u001b[0m \u001b[0;32mNone\u001b[0m\u001b[0;34m:\u001b[0m \u001b[0mobj\u001b[0m \u001b[0;34m=\u001b[0m \u001b[0mentity\u001b[0m\u001b[0;34m.\u001b[0m\u001b[0m_find_in_db_\u001b[0m\u001b[0;34m(\u001b[0m\u001b[0mavdict\u001b[0m\u001b[0;34m,\u001b[0m \u001b[0munique\u001b[0m\u001b[0;34m,\u001b[0m \u001b[0mfor_update\u001b[0m\u001b[0;34m,\u001b[0m \u001b[0mnowait\u001b[0m\u001b[0;34m,\u001b[0m \u001b[0mskip_locked\u001b[0m\u001b[0;34m)\u001b[0m\u001b[0;34m\u001b[0m\u001b[0;34m\u001b[0m\u001b[0m\n\u001b[0;32m-> 4115\u001b[0;31m         \u001b[0;32mif\u001b[0m \u001b[0mobj\u001b[0m \u001b[0;32mis\u001b[0m \u001b[0;32mNone\u001b[0m\u001b[0;34m:\u001b[0m \u001b[0mthrow\u001b[0m\u001b[0;34m(\u001b[0m\u001b[0mObjectNotFound\u001b[0m\u001b[0;34m,\u001b[0m \u001b[0mentity\u001b[0m\u001b[0;34m,\u001b[0m \u001b[0mpkval\u001b[0m\u001b[0;34m)\u001b[0m\u001b[0;34m\u001b[0m\u001b[0;34m\u001b[0m\u001b[0m\n\u001b[0m\u001b[1;32m   4116\u001b[0m         \u001b[0;32mreturn\u001b[0m \u001b[0mobj\u001b[0m\u001b[0;34m\u001b[0m\u001b[0;34m\u001b[0m\u001b[0m\n\u001b[1;32m   4117\u001b[0m     \u001b[0;32mdef\u001b[0m \u001b[0m_find_in_cache_\u001b[0m\u001b[0;34m(\u001b[0m\u001b[0mentity\u001b[0m\u001b[0;34m,\u001b[0m \u001b[0mpkval\u001b[0m\u001b[0;34m,\u001b[0m \u001b[0mavdict\u001b[0m\u001b[0;34m,\u001b[0m \u001b[0mfor_update\u001b[0m\u001b[0;34m=\u001b[0m\u001b[0;32mFalse\u001b[0m\u001b[0;34m)\u001b[0m\u001b[0;34m:\u001b[0m\u001b[0;34m\u001b[0m\u001b[0;34m\u001b[0m\u001b[0m\n",
      "\u001b[0;32m~/anaconda3/lib/python3.9/site-packages/pony/utils/utils.py\u001b[0m in \u001b[0;36mthrow\u001b[0;34m(exc_type, *args, **kwargs)\u001b[0m\n\u001b[1;32m     99\u001b[0m             \u001b[0;32mraise\u001b[0m \u001b[0mexc\u001b[0m\u001b[0;34m\u001b[0m\u001b[0;34m\u001b[0m\u001b[0m\n\u001b[1;32m    100\u001b[0m         \u001b[0;32melse\u001b[0m\u001b[0;34m:\u001b[0m\u001b[0;34m\u001b[0m\u001b[0;34m\u001b[0m\u001b[0m\n\u001b[0;32m--> 101\u001b[0;31m             \u001b[0;32mraise\u001b[0m \u001b[0mexc\u001b[0m  \u001b[0;31m# Set \"pony.options.CUT_TRACEBACK = False\" to see full traceback\u001b[0m\u001b[0;34m\u001b[0m\u001b[0;34m\u001b[0m\u001b[0m\n\u001b[0m\u001b[1;32m    102\u001b[0m     \u001b[0;32mfinally\u001b[0m\u001b[0;34m:\u001b[0m \u001b[0;32mdel\u001b[0m \u001b[0mexc\u001b[0m\u001b[0;34m\u001b[0m\u001b[0;34m\u001b[0m\u001b[0m\n\u001b[1;32m    103\u001b[0m \u001b[0;34m\u001b[0m\u001b[0m\n",
      "\u001b[0;31mObjectNotFound\u001b[0m: Transaction[1]"
     ]
    }
   ],
   "source": [
    "get_transaction_info(Transaction[1])"
   ]
  },
  {
   "cell_type": "code",
   "execution_count": null,
   "metadata": {},
   "outputs": [],
   "source": [
    "create_transaction(User[4], amount_btc_without_fee=3000, receiver_address='myCDNR4haiAaQpCdNaKNaEgzKifumCAAxY')"
   ]
  },
  {
   "cell_type": "code",
   "execution_count": 4,
   "metadata": {},
   "outputs": [
    {
     "name": "stdout",
     "output_type": "stream",
     "text": [
      "msHki389kSJzTvt8HpfnXnk93i3izAL11s 0.0\n",
      "myCDNR4haiAaQpCdNaKNaEgzKifumCAAxY 3000.0\n",
      "moeGK7UGRuRy5nwUVYQAynMBr7K4rJBtrw 0.0\n",
      "mmXYe9irf5ntYB4AYedJWMJ8jVip22sFW1 646000.0\n",
      "myC2jFgzCeGWX7ipkjPoeGiMbsKYfvkkP3 0.0\n"
     ]
    },
    {
     "data": {
      "text/plain": [
       "True"
      ]
     },
     "execution_count": 4,
     "metadata": {},
     "output_type": "execute_result"
    }
   ],
   "source": [
    "update_all_wallets()"
   ]
  },
  {
   "cell_type": "code",
   "execution_count": 5,
   "metadata": {},
   "outputs": [
    {
     "name": "stdout",
     "output_type": "stream",
     "text": [
      "w.balance\n",
      "---------\n",
      "0.0      \n",
      "3000.0   \n",
      "0.0      \n",
      "646000.0 \n",
      "0.0      \n"
     ]
    }
   ],
   "source": [
    "select(w.balance for w in Wallet).without_distinct().show()"
   ]
  },
  {
   "cell_type": "code",
   "execution_count": null,
   "metadata": {},
   "outputs": [],
   "source": [
    "User[4].wallet.private_key"
   ]
  },
  {
   "cell_type": "code",
   "execution_count": null,
   "metadata": {},
   "outputs": [],
   "source": [
    "ww = bit.PrivateKeyTestnet(User[4].wallet.private_key)\n"
   ]
  },
  {
   "cell_type": "code",
   "execution_count": null,
   "metadata": {},
   "outputs": [],
   "source": [
    "ww.get_balance()"
   ]
  },
  {
   "cell_type": "code",
   "execution_count": null,
   "metadata": {},
   "outputs": [],
   "source": [
    "select(w.address for w in Wallet).show()"
   ]
  },
  {
   "cell_type": "code",
   "execution_count": null,
   "metadata": {},
   "outputs": [],
   "source": [
    "set_sql_debug()"
   ]
  },
  {
   "cell_type": "code",
   "execution_count": null,
   "metadata": {},
   "outputs": [],
   "source": [
    "nu = create_user(223)"
   ]
  },
  {
   "cell_type": "code",
   "execution_count": null,
   "metadata": {},
   "outputs": [],
   "source": [
    "nu.wallet"
   ]
  },
  {
   "cell_type": "code",
   "execution_count": null,
   "metadata": {},
   "outputs": [],
   "source": [
    "nu"
   ]
  },
  {
   "cell_type": "code",
   "execution_count": null,
   "metadata": {},
   "outputs": [],
   "source": [
    "select(u.wallet.address for u in User).show()"
   ]
  },
  {
   "cell_type": "code",
   "execution_count": null,
   "metadata": {},
   "outputs": [],
   "source": [
    "select(u.wallet.private_key for u in User).show()"
   ]
  },
  {
   "cell_type": "code",
   "execution_count": null,
   "metadata": {},
   "outputs": [],
   "source": [
    "select(w for w in Wallet if w.user == nu).show()"
   ]
  },
  {
   "cell_type": "code",
   "execution_count": null,
   "metadata": {},
   "outputs": [],
   "source": [
    "User[1].wallet"
   ]
  },
  {
   "cell_type": "code",
   "execution_count": null,
   "metadata": {},
   "outputs": [],
   "source": []
  }
 ],
 "metadata": {
  "kernelspec": {
   "display_name": "base",
   "language": "python",
   "name": "python3"
  },
  "language_info": {
   "codemirror_mode": {
    "name": "ipython",
    "version": 3
   },
   "file_extension": ".py",
   "mimetype": "text/x-python",
   "name": "python",
   "nbconvert_exporter": "python",
   "pygments_lexer": "ipython3",
   "version": "3.9.13"
  },
  "orig_nbformat": 4,
  "vscode": {
   "interpreter": {
    "hash": "5aa5e2928d664687c9381123541672e3561f763741993076ffb7b2e7971e825a"
   }
  }
 },
 "nbformat": 4,
 "nbformat_minor": 2
}
