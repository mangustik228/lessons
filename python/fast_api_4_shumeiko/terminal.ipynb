{
 "cells": [
  {
   "cell_type": "code",
   "execution_count": 37,
   "metadata": {},
   "outputs": [],
   "source": [
    "from sqlalchemy.orm import Mapped, mapped_column, DeclarativeBase, sessionmaker, relationship\n",
    "from sqlalchemy import create_engine, select, ForeignKey\n",
    "from datetime import datetime\n"
   ]
  },
  {
   "cell_type": "code",
   "execution_count": null,
   "metadata": {},
   "outputs": [],
   "source": [
    "\n",
    "engine = create_engine('sqlite:///mydatabase.db')\n",
    "\n",
    "class Base(DeclarativeBase): \n",
    "    ... \n",
    "    \n"
   ]
  },
  {
   "cell_type": "code",
   "execution_count": 19,
   "metadata": {},
   "outputs": [],
   "source": [
    "\n",
    "class User(Base): \n",
    "    __tablename__=\"user\"\n",
    "    id: Mapped[int] = mapped_column(autoincrement=True, primary_key=True)\n",
    "    name: Mapped[str]\n",
    "    surname: Mapped[str] = mapped_column(nullable=True)\n",
    "    birthday: Mapped[datetime] = mapped_column(default=datetime.now())\n",
    "    cars: Mapped[list[\"Car\"]] = relationship()\n",
    "    \n",
    "    \n",
    "class Car(Base):\n",
    "    __tablename__=\"car\"\n",
    "    id: Mapped[int] = mapped_column(autoincrement=True,primary_key=True)\n",
    "    model: Mapped[str]\n",
    "    user_id: Mapped[int] = mapped_column(ForeignKey(\"user.id\"))    "
   ]
  },
  {
   "cell_type": "code",
   "execution_count": 20,
   "metadata": {},
   "outputs": [],
   "source": [
    "Base.metadata.create_all(engine)"
   ]
  },
  {
   "cell_type": "code",
   "execution_count": null,
   "metadata": {},
   "outputs": [],
   "source": [
    "Session = sessionmaker(bind=engine)\n"
   ]
  },
  {
   "cell_type": "code",
   "execution_count": 25,
   "metadata": {},
   "outputs": [],
   "source": [
    "a = {\"name\":\"Vasiliy\", \"surname\":\"Ovchinnikov\"}"
   ]
  },
  {
   "cell_type": "code",
   "execution_count": 36,
   "metadata": {},
   "outputs": [],
   "source": [
    "with Session() as session: \n",
    "    session.add(User(**a))\n",
    "    session.commit()"
   ]
  },
  {
   "cell_type": "code",
   "execution_count": 53,
   "metadata": {},
   "outputs": [],
   "source": [
    "c = {\"model\":\"jopa\",\"user_id\":2}\n",
    "with Session() as session: \n",
    "    session.add(Car(**c))\n",
    "    session.commit()"
   ]
  },
  {
   "cell_type": "code",
   "execution_count": 63,
   "metadata": {},
   "outputs": [],
   "source": [
    "\n",
    "\n",
    "query = select(User).where(User.id == 2)\n",
    "with Session() as session: \n",
    "    result = session.execute(query).scalar()\n",
    "    cars = result.cars\n",
    "    "
   ]
  },
  {
   "cell_type": "code",
   "execution_count": 80,
   "metadata": {},
   "outputs": [],
   "source": [
    "from pydantic import BaseModel\n",
    "\n",
    "\n",
    "class User(BaseModel): \n",
    "    name: str \n",
    "    surname: str"
   ]
  },
  {
   "cell_type": "code",
   "execution_count": 88,
   "metadata": {},
   "outputs": [],
   "source": [
    "from pydantic import validate_call\n",
    "\n",
    "@validate_call\n",
    "def foo(user: User) -> dict: \n",
    "    print(user)\n",
    "    return user.model_dump()"
   ]
  },
  {
   "cell_type": "code",
   "execution_count": 89,
   "metadata": {},
   "outputs": [
    {
     "name": "stdout",
     "output_type": "stream",
     "text": [
      "name='V' surname='J'\n"
     ]
    },
    {
     "data": {
      "text/plain": [
       "{'name': 'V', 'surname': 'J'}"
      ]
     },
     "execution_count": 89,
     "metadata": {},
     "output_type": "execute_result"
    }
   ],
   "source": [
    "foo({\"name\":\"V\", \"surname\":\"J\"})"
   ]
  },
  {
   "cell_type": "code",
   "execution_count": null,
   "metadata": {},
   "outputs": [],
   "source": []
  }
 ],
 "metadata": {
  "kernelspec": {
   "display_name": "venv",
   "language": "python",
   "name": "python3"
  },
  "language_info": {
   "codemirror_mode": {
    "name": "ipython",
    "version": 3
   },
   "file_extension": ".py",
   "mimetype": "text/x-python",
   "name": "python",
   "nbconvert_exporter": "python",
   "pygments_lexer": "ipython3",
   "version": "3.10.12"
  },
  "orig_nbformat": 4
 },
 "nbformat": 4,
 "nbformat_minor": 2
}
