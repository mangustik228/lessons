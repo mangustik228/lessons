{
 "cells": [
  {
   "cell_type": "code",
   "execution_count": 7,
   "metadata": {},
   "outputs": [],
   "source": [
    "from app.config.config import get_settings\n",
    "import app.models.models as models\n",
    "from sqlalchemy.orm import Session\n",
    "from sqlalchemy import create_engine\n",
    "\n",
    "import pandas as pd \n",
    "from sqlalchemy import text\n",
    "from sqlalchemy import select\n",
    "import requests\n",
    "from sqlalchemy.orm import sessionmaker\n",
    "from datetime import datetime\n",
    "from pydantic import BaseModel"
   ]
  },
  {
   "cell_type": "code",
   "execution_count": 3,
   "metadata": {},
   "outputs": [],
   "source": [
    "engine = create_engine(get_settings().db.dsn_sync, echo_pool=True)\n",
    "session = sessionmaker(engine)()"
   ]
  },
  {
   "cell_type": "code",
   "execution_count": 4,
   "metadata": {},
   "outputs": [],
   "source": [
    "q = select(models.Seller)"
   ]
  },
  {
   "cell_type": "code",
   "execution_count": 5,
   "metadata": {},
   "outputs": [],
   "source": [
    "result = session.execute(q).scalars().all()"
   ]
  },
  {
   "cell_type": "code",
   "execution_count": 172,
   "metadata": {},
   "outputs": [],
   "source": [
    "class ExtractorDict:\n",
    "    @classmethod\n",
    "    def from_list(cls, lst_models: list[models.Base]):\n",
    "        return [cls.from_dict(m) for m in lst_models]\n",
    "    \n",
    "    @classmethod\n",
    "    def from_dict(cls, model: models.Base):\n",
    "        return {k:v for k,v in model.__dict__.items() if k != \"_sa_instance_state\"}"
   ]
  },
  {
   "cell_type": "code",
   "execution_count": 173,
   "metadata": {},
   "outputs": [
    {
     "data": {
      "text/plain": [
       "[{'title': 'seller_1',\n",
       "  'created_at': datetime.datetime(2023, 6, 18, 23, 59, 20, 34214),\n",
       "  'id': 1,\n",
       "  'legal_adress': None},\n",
       " {'title': 'seller_1',\n",
       "  'created_at': datetime.datetime(2023, 6, 18, 23, 59, 20, 34217),\n",
       "  'id': 2,\n",
       "  'legal_adress': None}]"
      ]
     },
     "execution_count": 173,
     "metadata": {},
     "output_type": "execute_result"
    }
   ],
   "source": [
    "ExtractorDict.from_list(result)"
   ]
  },
  {
   "cell_type": "code",
   "execution_count": 9,
   "metadata": {},
   "outputs": [],
   "source": [
    "class SSeller(BaseModel):\n",
    "    title: str \n",
    "    created_at: datetime\n",
    "    id: int \n",
    "    legal_adress: str | None\n",
    "    class Config: \n",
    "        orm_mode = True"
   ]
  },
  {
   "cell_type": "code",
   "execution_count": 23,
   "metadata": {},
   "outputs": [
    {
     "data": {
      "text/plain": [
       "Some(id=1, name='Vasiliy')"
      ]
     },
     "execution_count": 23,
     "metadata": {},
     "output_type": "execute_result"
    }
   ],
   "source": [
    "class Some(BaseModel):\n",
    "    id: int \n",
    "    name: str \n",
    "\n",
    "def hello(**a):\n",
    "    return Some(**a)\n",
    "    \n",
    "hello(**{\"id\":1, \"name\":\"Vasiliy\"})"
   ]
  },
  {
   "cell_type": "code",
   "execution_count": 13,
   "metadata": {},
   "outputs": [
    {
     "data": {
      "text/plain": [
       "[{'title': 'seller_1',\n",
       "  'created_at': datetime.datetime(2023, 6, 18, 23, 59, 20, 34214),\n",
       "  'id': 1,\n",
       "  'legal_adress': None},\n",
       " {'title': 'seller_1',\n",
       "  'created_at': datetime.datetime(2023, 6, 18, 23, 59, 20, 34217),\n",
       "  'id': 2,\n",
       "  'legal_adress': None}]"
      ]
     },
     "execution_count": 13,
     "metadata": {},
     "output_type": "execute_result"
    }
   ],
   "source": [
    "[SSeller.from_orm(item).dict() for item in result]"
   ]
  },
  {
   "cell_type": "code",
   "execution_count": 171,
   "metadata": {},
   "outputs": [],
   "source": [
    "def get_dict_from_orm_model(model: models.Base):\n",
    "    return {k:v for k,v in model.__dict__.items() if k != \"_sa_instance_state\"}\n",
    "\n",
    "\n",
    "def get_list_of_dict_from_orm_list(models: list[models.Base]):\n",
    "    return [get_dict_from_orm_model(model) for model in models]"
   ]
  },
  {
   "cell_type": "code",
   "execution_count": 168,
   "metadata": {},
   "outputs": [
    {
     "data": {
      "text/plain": [
       "[{'title': 'seller_1',\n",
       "  'created_at': datetime.datetime(2023, 6, 18, 23, 59, 20, 34214),\n",
       "  'id': 1,\n",
       "  'legal_adress': None},\n",
       " {'title': 'seller_1',\n",
       "  'created_at': datetime.datetime(2023, 6, 18, 23, 59, 20, 34217),\n",
       "  'id': 2,\n",
       "  'legal_adress': None}]"
      ]
     },
     "execution_count": 168,
     "metadata": {},
     "output_type": "execute_result"
    }
   ],
   "source": [
    "get_list_of_dict_from_orm_list(result)"
   ]
  },
  {
   "cell_type": "code",
   "execution_count": 157,
   "metadata": {},
   "outputs": [
    {
     "ename": "AttributeError",
     "evalue": "'list' object has no attribute '__dict__'",
     "output_type": "error",
     "traceback": [
      "\u001b[0;31m---------------------------------------------------------------------------\u001b[0m",
      "\u001b[0;31mAttributeError\u001b[0m                            Traceback (most recent call last)",
      "Cell \u001b[0;32mIn[157], line 1\u001b[0m\n\u001b[0;32m----> 1\u001b[0m seller_dict \u001b[39m=\u001b[39m {key: value \u001b[39mfor\u001b[39;00m key, value \u001b[39min\u001b[39;00m result\u001b[39m.\u001b[39;49m\u001b[39m__dict__\u001b[39;49m\u001b[39m.\u001b[39mitems() \u001b[39mif\u001b[39;00m key \u001b[39m!=\u001b[39m \u001b[39m'\u001b[39m\u001b[39m_sa_instance_state\u001b[39m\u001b[39m'\u001b[39m}\n",
      "\u001b[0;31mAttributeError\u001b[0m: 'list' object has no attribute '__dict__'"
     ]
    }
   ],
   "source": [
    "seller_dict = {key: value for key, value in result.__dict__().items() if key != '_sa_instance_state'}a"
   ]
  },
  {
   "cell_type": "code",
   "execution_count": 14,
   "metadata": {},
   "outputs": [],
   "source": [
    "session.close()"
   ]
  },
  {
   "cell_type": "code",
   "execution_count": 134,
   "metadata": {},
   "outputs": [
    {
     "data": {
      "text/plain": [
       "[<app.models.models.Seller at 0x7f85fd42c9a0>,\n",
       " <app.models.models.Seller at 0x7f85fd42cc40>]"
      ]
     },
     "execution_count": 134,
     "metadata": {},
     "output_type": "execute_result"
    }
   ],
   "source": [
    "session.query(models.Seller).all()"
   ]
  },
  {
   "cell_type": "code",
   "execution_count": 126,
   "metadata": {},
   "outputs": [],
   "source": [
    "session.close()"
   ]
  }
 ],
 "metadata": {
  "kernelspec": {
   "display_name": "Python 3",
   "language": "python",
   "name": "python3"
  },
  "language_info": {
   "codemirror_mode": {
    "name": "ipython",
    "version": 3
   },
   "file_extension": ".py",
   "mimetype": "text/x-python",
   "name": "python",
   "nbconvert_exporter": "python",
   "pygments_lexer": "ipython3",
   "version": "3.10.6"
  },
  "orig_nbformat": 4
 },
 "nbformat": 4,
 "nbformat_minor": 2
}
