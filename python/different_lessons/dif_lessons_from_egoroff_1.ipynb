{
 "cells": [
  {
   "cell_type": "markdown",
   "metadata": {},
   "source": [
    "### Функции `trunc, floor, ceil` (округления)"
   ]
  },
  {
   "cell_type": "code",
   "execution_count": 8,
   "metadata": {},
   "outputs": [
    {
     "name": "stdout",
     "output_type": "stream",
     "text": [
      "36\n",
      "-36\n",
      "36\n",
      "\n",
      "36\n",
      "-37\n",
      "36\n",
      "\n",
      "37\n",
      "-36\n",
      "37\n"
     ]
    }
   ],
   "source": [
    "import math\n",
    "\n",
    "print(math.trunc(36.6))  # По сути заменяет int()\n",
    "print(math.trunc(-36.6))\n",
    "print(math.trunc(36.2))\n",
    "print()\n",
    "print(math.floor(36.6))  # Округление вниз\n",
    "print(math.floor(-36.6))\n",
    "print(math.floor(36.2))\n",
    "print()\n",
    "print(math.ceil(36.6))  # Округление вверх\n",
    "print(math.ceil(-36.6))\n",
    "print(math.ceil(36.2))\n"
   ]
  },
  {
   "cell_type": "markdown",
   "metadata": {},
   "source": []
  },
  {
   "cell_type": "markdown",
   "metadata": {},
   "source": [
    "### Цикл `while`"
   ]
  },
  {
   "cell_type": "markdown",
   "metadata": {},
   "source": [
    "while (условие)\n",
    "- инструкция 1\n",
    "- инструкция 2\n",
    "... \n",
    "инструкция после цикла"
   ]
  },
  {
   "cell_type": "code",
   "execution_count": 12,
   "metadata": {},
   "outputs": [
    {
     "name": "stdout",
     "output_type": "stream",
     "text": [
      "1 | 2 | 3 | 4 | 5 | "
     ]
    }
   ],
   "source": [
    "i = 1 \n",
    "while i < 6:\n",
    "    print(i, end=' | ')\n",
    "    i += 1"
   ]
  },
  {
   "cell_type": "code",
   "execution_count": 16,
   "metadata": {},
   "outputs": [
    {
     "name": "stdout",
     "output_type": "stream",
     "text": [
      "Повторите ввод, ошибок 1\n",
      "Повторите ввод, ошибок 2\n",
      "Повторите ввод, ошибок 3\n",
      "Повторите ввод, ошибок 4\n",
      "Повторите ввод, ошибок 5\n"
     ]
    }
   ],
   "source": [
    "a = int(input())\n",
    "count = 0\n",
    "while a != 0:\n",
    "    count += 1\n",
    "    print(f'Повторите ввод, ошибок {count}')\n",
    "    a = int(input())"
   ]
  },
  {
   "cell_type": "code",
   "execution_count": 23,
   "metadata": {},
   "outputs": [
    {
     "name": "stdout",
     "output_type": "stream",
     "text": [
      "[1, 2, 3, 1, 2, 3, 1, 2, 3, 1, 2, 3, 1, 2, 3]\n",
      "[1, 2, 1, 2, 3, 1, 2, 3, 1, 2, 3, 1, 2, 3]\n",
      "[1, 2, 1, 2, 1, 2, 3, 1, 2, 3, 1, 2, 3]\n",
      "[1, 2, 1, 2, 1, 2, 1, 2, 3, 1, 2, 3]\n",
      "[1, 2, 1, 2, 1, 2, 1, 2, 1, 2, 3]\n",
      "[1, 2, 1, 2, 1, 2, 1, 2, 1, 2]\n"
     ]
    }
   ],
   "source": [
    "a = [1, 2, 3] * 5\n",
    "print(a)\n",
    "while 3 in a:\n",
    "    a.remove(3)  # удаление первой попавшейся тройки\n",
    "    print(a)\n"
   ]
  },
  {
   "cell_type": "code",
   "execution_count": 36,
   "metadata": {},
   "outputs": [
    {
     "name": "stdout",
     "output_type": "stream",
     "text": [
      "PrIVEt2 | удаляемая буква большая\n",
      "rIVEt2 | удаляемая буква маленькая\n",
      "IVEt2 | удаляемая буква большая\n",
      "VEt2 | удаляемая буква большая\n",
      "Et2 | удаляемая буква большая\n",
      "t2 | удаляемая буква маленькая\n",
      "2 | удаляем цифру\n"
     ]
    }
   ],
   "source": [
    "s = 'PrIVEt2'\n",
    "while len(s) > 0:\n",
    "    print(s, end='')\n",
    "    if s[0]>='a' and s[0] <='z':\n",
    "        print(' | удаляемая буква маленькая',end='')\n",
    "    elif s[0]>='A' and s[0] <='Z':\n",
    "        print(' | удаляемая буква большая',end='')\n",
    "    elif s[0].isdigit():\n",
    "        print(' | удаляем цифру',end='')\n",
    "    else:\n",
    "        print(' | Это какой то знак', end='')\n",
    "    print()\n",
    "    s = s[1:]\n",
    "    "
   ]
  },
  {
   "cell_type": "markdown",
   "metadata": {},
   "source": [
    "### Цикл `while` (Обход цифр)"
   ]
  },
  {
   "cell_type": "code",
   "execution_count": 39,
   "metadata": {},
   "outputs": [
    {
     "name": "stdout",
     "output_type": "stream",
     "text": [
      "7\n",
      "2\n",
      "3\n",
      "4\n"
     ]
    }
   ],
   "source": [
    "b = 4327\n",
    "while b!=0:\n",
    "    print(b%10)\n",
    "    # print(b//10)\n",
    "    b = int(b/10)"
   ]
  },
  {
   "cell_type": "code",
   "execution_count": 40,
   "metadata": {},
   "outputs": [
    {
     "name": "stdout",
     "output_type": "stream",
     "text": [
      "1\n",
      "1\n",
      "1\n",
      "0\n",
      "1\n"
     ]
    }
   ],
   "source": [
    "# Перевод в двоичную запись\n",
    "\n",
    "x = int(input())\n",
    "\n",
    "while x>0:\n",
    "    last=x%2\n",
    "    print(last)\n",
    "    x//=2"
   ]
  },
  {
   "cell_type": "markdown",
   "metadata": {},
   "source": [
    "### `while` Алгорим Евклида"
   ]
  },
  {
   "cell_type": "markdown",
   "metadata": {},
   "source": [
    "Алгорим Евклида - нахождение наибольшего общего делителя"
   ]
  },
  {
   "cell_type": "code",
   "execution_count": 44,
   "metadata": {},
   "outputs": [
    {
     "name": "stdout",
     "output_type": "stream",
     "text": [
      "6\n"
     ]
    }
   ],
   "source": [
    "a,b = map(int, input().split())\n",
    "max(a,b)\n",
    "while a!=b:\n",
    "    if a>b:\n",
    "        a=a-b\n",
    "    else:\n",
    "        b=b-a\n",
    "print(a)"
   ]
  },
  {
   "cell_type": "code",
   "execution_count": 59,
   "metadata": {},
   "outputs": [
    {
     "name": "stdout",
     "output_type": "stream",
     "text": [
      "6\n"
     ]
    }
   ],
   "source": [
    "a, b = map(int, input().split())\n",
    "\n",
    "# Мой вариант реализации\n",
    "while max(a,b) % min(a,b) != 0:\n",
    "    if a > b:\n",
    "        c = a % b\n",
    "        a = b\n",
    "        b = c\n",
    "    else:\n",
    "        c = b % a\n",
    "        b = a\n",
    "        a = c\n",
    "print(min(a,b))\n"
   ]
  },
  {
   "cell_type": "code",
   "execution_count": 61,
   "metadata": {},
   "outputs": [
    {
     "name": "stdout",
     "output_type": "stream",
     "text": [
      "6\n"
     ]
    }
   ],
   "source": [
    "# Вариант реализации по видео\n",
    "a, b = map(int, input().split())\n",
    "if a < b:\n",
    "    a, b = b, a\n",
    "while b > 0:\n",
    "    a, b = b, a % b\n",
    "print(a)\n"
   ]
  },
  {
   "cell_type": "markdown",
   "metadata": {},
   "source": [
    "### Поиск делителей числа `while`"
   ]
  },
  {
   "cell_type": "code",
   "execution_count": 77,
   "metadata": {},
   "outputs": [
    {
     "name": "stdout",
     "output_type": "stream",
     "text": [
      "[1, 2, 3, 4, 6, 9, 12, 18, 36]\n"
     ]
    }
   ],
   "source": [
    "n = int(input())\n",
    "i = 1\n",
    "a = []\n",
    "while i**2 <= n:  # Также можно записать i <= n**0.5\n",
    "    if n % i == 0:\n",
    "        a.append(i)\n",
    "        if i != n//i:\n",
    "            a.append(n//i)\n",
    "    i += 1\n",
    "a.sort()\n",
    "print(a)\n"
   ]
  },
  {
   "cell_type": "code",
   "execution_count": 79,
   "metadata": {},
   "outputs": [
    {
     "data": {
      "text/plain": [
       "13"
      ]
     },
     "execution_count": 79,
     "metadata": {},
     "output_type": "execute_result"
    }
   ],
   "source": [
    "# Просто поглядел задачки по ЕГЭ\n",
    "def F(n):\n",
    "    if n > 2:\n",
    "        return F(n-1) + F(n-2)\n",
    "    else:\n",
    "        return 1\n",
    "\n",
    "F(7)"
   ]
  },
  {
   "cell_type": "markdown",
   "metadata": {},
   "source": [
    "### `While` бесконечный цикл break, continue, else"
   ]
  },
  {
   "cell_type": "code",
   "execution_count": null,
   "metadata": {},
   "outputs": [],
   "source": [
    "# Чтоб остановить жми кнтрл+с\n",
    "i = 1\n",
    "while i > 0:\n",
    "    print('парампарам:', i)\n",
    "    i += 1  # А может инет кнтрлс+с"
   ]
  },
  {
   "cell_type": "code",
   "execution_count": 87,
   "metadata": {},
   "outputs": [
    {
     "name": "stdout",
     "output_type": "stream",
     "text": [
      "парампарам: 2\n",
      "парампарам: 3\n",
      "парампарам: 4\n",
      "парампарам: 5\n",
      "тут заканчивается программа\n"
     ]
    }
   ],
   "source": [
    "i = 1\n",
    "while isinstance(i, int):\n",
    "    if i == 15:\n",
    "        break  # Прерывание\n",
    "    i += 1\n",
    "    if i > 5:\n",
    "        continue\n",
    "    print('парампарам:', i)\n",
    "else:\n",
    "    print('не инт')\n",
    "print('тут заканчивается программа')\n"
   ]
  },
  {
   "cell_type": "code",
   "execution_count": 94,
   "metadata": {},
   "outputs": [
    {
     "name": "stdout",
     "output_type": "stream",
     "text": [
      "No 2352\n"
     ]
    }
   ],
   "source": [
    "a = [53, 82, 223, 2352, 333, 1]\n",
    "\n",
    "while len(a)!=0:\n",
    "    last = a.pop()\n",
    "    if last % 2 == 0:\n",
    "        print('No', last)\n",
    "        break\n",
    "else:\n",
    "    print('Yes')"
   ]
  },
  {
   "cell_type": "markdown",
   "metadata": {},
   "source": [
    "### Метод подсчета, сортировка подсчетом"
   ]
  },
  {
   "cell_type": "code",
   "execution_count": 105,
   "metadata": {},
   "outputs": [
    {
     "name": "stdout",
     "output_type": "stream",
     "text": [
      "a  |  9\n",
      "b  |  0\n",
      "c  |  0\n",
      "d  |  16\n",
      "e  |  0\n",
      "f  |  16\n",
      "g  |  4\n",
      "h  |  10\n",
      "i  |  2\n",
      "j  |  14\n",
      "k  |  17\n",
      "l  |  6\n",
      "m  |  3\n",
      "n  |  9\n",
      "o  |  1\n",
      "p  |  0\n",
      "q  |  1\n",
      "r  |  2\n",
      "s  |  11\n",
      "t  |  0\n",
      "u  |  1\n",
      "v  |  6\n",
      "w  |  0\n",
      "x  |  0\n",
      "y  |  0\n",
      "z  |  1\n"
     ]
    }
   ],
   "source": [
    "s = '''khsfdkjhsi r hjfds safd sadfhkjnz jd;lfkjdhqjfnvhurkjfs[dfgjl\n",
    "kmnfdsglkjhdfskgjhkans;okfdsja;fihsa;kjdnv;lkvdakhvafd;mkfdajng;lkjndflkvnma;kdfvn'''\n",
    "letters = [0]*26\n",
    "for i in s.lower():  # lower() - возвращает маленькие символы\n",
    "    if i <= 'z' and i >= 'a':\n",
    "        number_symbol = ord(i) - 97 # ord() возвращает в кодировке ASCII\n",
    "        letters[number_symbol] += 1\n",
    "\n",
    "\n",
    "for i, value in enumerate(letters):\n",
    "    print(chr(i+97), ' | ', value) # chr() наоборот берет число и возращает символ по ASCII\n"
   ]
  },
  {
   "cell_type": "code",
   "execution_count": 116,
   "metadata": {},
   "outputs": [
    {
     "name": "stdout",
     "output_type": "stream",
     "text": [
      "[0, 0, 2, 0, 1, 1, 0, 1, 0, 0, 3, 0, 1, 0, 0, 0, 0, 0, 1, 0, 0]\n",
      "-8  |  2\n",
      "-6  |  1\n",
      "-5  |  1\n",
      "-3  |  1\n",
      "0  |  3\n",
      "2  |  1\n",
      "8  |  1\n"
     ]
    }
   ],
   "source": [
    "import random as rd\n",
    "\n",
    "a = []\n",
    "for i in range(10):\n",
    "    a.append(rd.randint(-10,10))\n",
    "    \n",
    "count = [0]*21 # 10 отрицательных, 10 положительных и ноль\n",
    "\n",
    "for i in a:\n",
    "    count[i+10] += 1\n",
    "print(count)\n",
    "for i in range(21):\n",
    "    if count[i]>0:\n",
    "        print(i-10, ' | ', count[i])\n",
    "    "
   ]
  },
  {
   "cell_type": "markdown",
   "metadata": {},
   "source": [
    "### Треугольник Паскаля, методы Бинома Ньютона"
   ]
  },
  {
   "cell_type": "markdown",
   "metadata": {},
   "source": [
    "Треугольник Паскаля:\n",
    "-     1 (нулевой уровень) \n",
    "-    1-1 (первый уровень)\n",
    "-   1-2-1 (второй уровень) a2 + 2ab + b2\n",
    "-  1-3-3-1 (третий уровень) a3 + 3a2b + 3ab2 + b3\n",
    "- 1-4-6-4-1 (четвертый уровень)\n",
    "Значения получаемые в каждом ряду называются биноминальными коэфициентами  \n",
    "Используются в формуле Бинома Ньютона  \n",
    "Это формула позволяет возвести сумму чисел а и б возвести в любую степень n  "
   ]
  },
  {
   "cell_type": "code",
   "execution_count": 125,
   "metadata": {},
   "outputs": [
    {
     "name": "stdout",
     "output_type": "stream",
     "text": [
      "[1, 0, 0, 0, 0, 0]\n",
      "[1, 1, 0, 0, 0, 0]\n",
      "[1, 2, 1, 0, 0, 0]\n",
      "[1, 3, 3, 1, 0, 0]\n",
      "[1, 4, 6, 4, 1, 0]\n",
      "[1, 5, 10, 10, 5, 1]\n"
     ]
    }
   ],
   "source": [
    "# мое решение\n",
    "pascal = [  # так должна выглядеть матрица для четвертой степени (a+b)\n",
    "    [1, 0, 0, 0, 0],\n",
    "    [1, 1, 0, 0, 0],\n",
    "    [1, 2, 1, 0, 0],\n",
    "    [1, 3, 3, 1, 0],\n",
    "    [1, 4, 6, 4, 1]\n",
    "]\n",
    "degree = int(input())\n",
    "list_pascal = []\n",
    "for j in range(degree+1):\n",
    "    one_row = []\n",
    "    for i in range(degree+1):\n",
    "        if i == 0:\n",
    "            one_row.append(1)\n",
    "        elif j == 0:\n",
    "            one_row.append(0)\n",
    "        else:\n",
    "            one_row.append(list_pascal[j-1][i]+list_pascal[j-1][i-1])\n",
    "    print(one_row)\n",
    "    list_pascal.append(one_row)\n",
    "# print(list_pascal)\n"
   ]
  },
  {
   "cell_type": "code",
   "execution_count": 131,
   "metadata": {},
   "outputs": [
    {
     "name": "stdout",
     "output_type": "stream",
     "text": [
      "[1, 0, 0, 0, 0, 0, 0]\n",
      "[1, 1, 0, 0, 0, 0, 0]\n",
      "[1, 2, 1, 0, 0, 0, 0]\n",
      "[1, 3, 3, 1, 0, 0, 0]\n",
      "[1, 4, 6, 4, 1, 0, 0]\n",
      "[1, 5, 10, 10, 5, 1, 0]\n",
      "[1, 6, 15, 20, 15, 6, 1]\n"
     ]
    }
   ],
   "source": [
    "# Решение по видео\n",
    "\n",
    "n = int(input())\n",
    "triangle = []\n",
    "\n",
    "for i in range(n+1):\n",
    "    triangle.append([1]+[0]*n)\n",
    "\n",
    "for i in range(1,n+1):\n",
    "    for j in range(1,i+1):  # Интересно что здесь можно через i, чтоб идти по диагоноли и не перемножать нули\n",
    "        triangle[i][j] = triangle[i-1][j]+triangle[i-1][j-1]\n",
    "\n",
    "for i in triangle:\n",
    "    print(i)\n"
   ]
  },
  {
   "cell_type": "markdown",
   "metadata": {},
   "source": [
    "### Методы словарей"
   ]
  },
  {
   "cell_type": "code",
   "execution_count": 155,
   "metadata": {},
   "outputs": [
    {
     "name": "stdout",
     "output_type": "stream",
     "text": [
      "Первоначальный словарь:                           {1: 'one', 2: 'two', 3: 'three', 4: 'four'}\n",
      "Очистка методом clear():                          {}\n",
      "Обращение к несуществующему ключу get():          None\n",
      "Пример указания возвр. значения get():            то что указали\n",
      "Результат работы setdefault():                    None\n",
      "Видим что создал ключ setdefault():               {1: 'one', 2: 'two', 3: 'three', 4: 'four', 6: None}\n",
      "Добавляем пару ключ-значение setdefault():        seven\n",
      "Видим что подставил ключ setdefault():            {1: 'one', 2: 'two', 3: 'three', 4: 'four', 6: None, 7: 'seven'}\n",
      "Удаление значения методом pop() но и вернет его:  three\n",
      "Видим что pop() удалил пару ключ - значение       {1: 'one', 2: 'two', 4: 'four', 6: None, 7: 'seven'}\n",
      "Удаление и возврат случайной пары мет. popitem(): (7, 'seven')\n",
      "Видим что popitem() удалил пару ключ - значение   {1: 'one', 2: 'two', 4: 'four', 6: None}\n",
      "Получение всех ключей методом keys():             dict_keys([1, 2, 4, 6])\n",
      "Возврат всех пар ключ/значения методом items():   dict_items([(1, 'one'), (2, 'two'), (4, 'four'), (6, None)])\n"
     ]
    }
   ],
   "source": [
    "d = {\n",
    "    1: 'one',\n",
    "    2: 'two',\n",
    "    3: 'three',\n",
    "    4: 'four'\n",
    "}\n",
    "c = d.copy()  # Словарь изменяемый тип, поэтому через copy\n",
    "print('Первоначальный словарь:                          ', d)\n",
    "d.clear()  # Очистка словаря\n",
    "print('Очистка методом clear():                         ', d)\n",
    "# В отличие просто от обращения get() -то вернет None или то что укажем если такого значения нет\n",
    "print('Обращение к несуществующему ключу get():         ', c.get(6))\n",
    "print('Пример указания возвр. значения get():           ', c.get(6, 'то что указали'))\n",
    "# В отличие от get(), setdefault() еще и создает соответсвующий ключ\n",
    "print('Результат работы setdefault():                   ', c.setdefault(6))\n",
    "print('Видим что создал ключ setdefault():              ', c)\n",
    "print('Добавляем пару ключ-значение setdefault():       ', c.setdefault(7, 'seven'))\n",
    "print('Видим что подставил ключ setdefault():           ', c)\n",
    "print('Удаление значения методом pop() но и вернет его: ', c.pop(3))\n",
    "print('Видим что pop() удалил пару ключ - значение      ', c)\n",
    "print('Удаление и возврат случайной пары мет. popitem():', c.popitem())\n",
    "print('Видим что popitem() удалил пару ключ - значение  ', c)\n",
    "print('Получение всех ключей методом keys():            ', c.keys())\n",
    "print('Возврат всех пар ключ/значения методом items():  ', c.items())\n",
    "\n"
   ]
  },
  {
   "cell_type": "markdown",
   "metadata": {},
   "source": [
    "### 4 ситуации когда полезно использовать словари"
   ]
  },
  {
   "cell_type": "markdown",
   "metadata": {},
   "source": [
    "1. Подсчет количества объектов (ключ - объект, значение - количество)\n",
    "1. Замена разряженного списка(вместо списка в котором не все будет использоваться)\n",
    "1. Установка связи между объектами\n",
    "1. Хранения данных об объекте"
   ]
  },
  {
   "cell_type": "code",
   "execution_count": 165,
   "metadata": {},
   "outputs": [
    {
     "name": "stdout",
     "output_type": "stream",
     "text": [
      "a  |  3\n",
      "d  |  3\n",
      "f  |  3\n",
      "s  |  4\n"
     ]
    }
   ],
   "source": [
    "# Пример к первому типу задачи\n",
    "str = input()\n",
    "dictionary = {}\n",
    "for sumbol in str:\n",
    "    if sumbol.isalpha(): # Проверка на то что полученный символ: буква.\n",
    "        dictionary[sumbol] = dictionary.get(sumbol, 0) + 1 \n",
    "for key in sorted(dictionary):  # Вывести отсортированный словарь\n",
    "    print(key, ' | ', dictionary[key])\n"
   ]
  },
  {
   "cell_type": "code",
   "execution_count": 166,
   "metadata": {},
   "outputs": [],
   "source": [
    "# Пример 2 (см. тему сортировка подсчетом, методы подсчетом)\n",
    "# в том примере массив в котором много нулей, которые не используются"
   ]
  },
  {
   "cell_type": "code",
   "execution_count": 169,
   "metadata": {},
   "outputs": [],
   "source": [
    "# Пример 3 связь с объектами\n",
    "words = {}\n",
    "while True:\n",
    "    word = input()\n",
    "    if word == 'exit':\n",
    "        break\n",
    "    if word in words:\n",
    "        print(f'Слово {word} переоводится как {words[word]}')\n",
    "    else:\n",
    "        words[word] = input(f'Введите перевод слова {word}')"
   ]
  },
  {
   "cell_type": "code",
   "execution_count": 181,
   "metadata": {},
   "outputs": [
    {
     "name": "stdout",
     "output_type": "stream",
     "text": [
      "Petr | birthday  -  25may | phone  -  777-777 | city  -  moskow | \n",
      "Ivan | birthday  -  12may | phone  -  222-777 | city  -  Piter | \n",
      "Olga | birthday  -  25january | phone  -  333-777 | city  -  vartovck | \n"
     ]
    }
   ],
   "source": [
    "# Пример 4 (Связь с объектами)\n",
    "contacts = {\n",
    "    'Petr': {\n",
    "        'birthday': '25may',\n",
    "        'phone': '777-777',\n",
    "        'city': 'moskow'\n",
    "    },\n",
    "    'Ivan': {\n",
    "        'birthday': '12may',\n",
    "        'phone': '222-777',\n",
    "        'city': 'Piter'\n",
    "    },\n",
    "    'Olga': {\n",
    "        'birthday': '25january',\n",
    "        'phone': '333-777',\n",
    "        'city': 'vartovck'\n",
    "    }\n",
    "}\n",
    "\n",
    "persons = ['Petr', 'Ivan', 'Olga']\n",
    "for person in persons:\n",
    "    # Первый вариант получить значения из вложенного словаря\n",
    "    # print(person, contacts[person]['phone'])\n",
    "    print(person, end=' | ')\n",
    "    for data in contacts[person]:\n",
    "        print(data, ' - ', contacts[person][data], end=' | ')\n",
    "    print()\n"
   ]
  },
  {
   "cell_type": "markdown",
   "metadata": {},
   "source": [
    "### Сопостовление аргументов по имени и позиции"
   ]
  },
  {
   "cell_type": "code",
   "execution_count": 193,
   "metadata": {},
   "outputs": [
    {
     "name": "stdout",
     "output_type": "stream",
     "text": [
      "1687036193680 1687149403072 global\n",
      "1687036193680 1687149403072 local\n",
      "1687036384720 1687149403072 local after\n",
      "100 [1, 2345, 3, 4, 5, 6, 7, 100] local\n",
      "20 [1, 2345, 3, 4, 5, 6, 7, 100] global\n",
      "1687036193680 1687149403072 global2\n",
      "1687036193680 1687149969472 local\n",
      "1687036384720 1687149969472 local after\n",
      "100 [1, 2345, 3, 4, 5, 6, 7, 100, 100] local\n",
      "20 [1, 2345, 3, 4, 5, 6, 7, 100] global2\n"
     ]
    }
   ],
   "source": [
    "def function(a, b):\n",
    "    print(id(a), id(b), 'local')  # Возрат адреса объекта в памяти\n",
    "    a = 100\n",
    "    b.append(100) # т.к. ссылка на один и тот же объект, то ссылка меняется глобальный объект\n",
    "    b[1] = 2345\n",
    "    print(id(a), id(b), 'local after')  # Возрат адреса объекта в памяти\n",
    "    print(a, b, 'local')\n",
    "\n",
    "\n",
    "c = 20\n",
    "d = [1,2,3,4,5,6,7]\n",
    "print(id(c), id(d), 'global')\n",
    "function(c, d)\n",
    "print(c, d, 'global')\n",
    "print(id(c), id(d), 'global2')\n",
    "function(c, d[:]) # Передаем копию при помощи полного среза\n",
    "print(c, d, 'global2')\n"
   ]
  },
  {
   "cell_type": "code",
   "execution_count": 196,
   "metadata": {},
   "outputs": [
    {
     "name": "stdout",
     "output_type": "stream",
     "text": [
      "2 3 4\n",
      "3 4 2\n",
      "2 3 4\n"
     ]
    }
   ],
   "source": [
    "def function2(a, b, c):\n",
    "    print(a, b, c)\n",
    "    \n",
    "# Позиционная передача параметров\n",
    "function2(2,3,4)\n",
    "\n",
    "# Передача параметров по имени\n",
    "function2(c=2,b=4,a=3) \n",
    "\n",
    "# Комбинированный вариант\n",
    "function2(2, c=4, b=3)"
   ]
  },
  {
   "cell_type": "markdown",
   "metadata": {},
   "source": [
    "### Передача аргументов `*args` и `**kwargs`"
   ]
  },
  {
   "cell_type": "markdown",
   "metadata": {},
   "source": [
    "Произвольное количество аргументов"
   ]
  },
  {
   "cell_type": "code",
   "execution_count": 211,
   "metadata": {},
   "outputs": [
    {
     "name": "stdout",
     "output_type": "stream",
     "text": [
      "1 2 3\n",
      "True 2 hi\n",
      "first value [2, 5, 6, 'hi'] ni hi\n",
      "[] 2 3\n",
      "[4, 5, 6, 7, 8, 9]\n",
      "1 2 3 4\n",
      "hello True 78 [3, 4, 5]\n",
      "(('hello', True, 78, [3, 4, 5]),) <class 'tuple'>\n"
     ]
    }
   ],
   "source": [
    "# Важно что если значения не совпадут, то пиши-пропало\n",
    "a, b, c = 1, 2, 3  # Множественное присваивание\n",
    "print(a, b, c)\n",
    "a, b, c = [True, 2, 'hi']  # Вариант 2\n",
    "print(a, b, c)\n",
    "a, *b, c = ['first value', 2, 5, 6, 'hi', 'ni hi']  # О как можна!\n",
    "print(a, b, c)\n",
    "*a, b, c = 2, 3  # Если значений меньше, то просто будет пустым списком\n",
    "print(a, b, c)\n",
    "s = [4, 10]\n",
    "print(list(range(*s)))  # Звездочка распакует список!!!\n",
    "def f(a, b, c, d):\n",
    "    print(a,b,c,d)\n",
    "    \n",
    "f(1,2,3,4)\n",
    "a = ('hello',True,78,[3,4,5])\n",
    "f(*a) # Также распаковывает по нашим переменным\n",
    "\n",
    "def f2(*args):\n",
    "    print(args, type(args))\n",
    "f2(a)"
   ]
  },
  {
   "cell_type": "code",
   "execution_count": 218,
   "metadata": {},
   "outputs": [
    {
     "data": {
      "text/plain": [
       "10"
      ]
     },
     "execution_count": 218,
     "metadata": {},
     "output_type": "execute_result"
    }
   ],
   "source": [
    "def function3(*args):\n",
    "    s = 0 \n",
    "    for i in args:\n",
    "        s += i\n",
    "    return s\n",
    "\n",
    "\n",
    "function3(1,2,3,4)"
   ]
  },
  {
   "cell_type": "code",
   "execution_count": 223,
   "metadata": {},
   "outputs": [
    {
     "name": "stdout",
     "output_type": "stream",
     "text": [
      "{'а': 1, 'b': 2, 'c': 3}\n",
      "а 1\n",
      "b 2\n",
      "c 3\n",
      "[1, 2, 3, 4, 5, 5]\n",
      "1 2 3 4 5 5\n"
     ]
    }
   ],
   "source": [
    "# kwargs - передача именнованных аргументов в неограниченном количестве\n",
    "def function3(**kwargs):\n",
    "    print(kwargs)  # Выводит словарь\n",
    "    for k, v in kwargs.items():\n",
    "        print(k, v)\n",
    "\n",
    "\n",
    "function3(а=1, b=2, c=3)\n",
    "a = [1, 2, 3, 4, 5, 5]\n",
    "print(a)\n",
    "print(*a)  # Лафках как красиво вывести список принтом(по сути распаковываем список)\n"
   ]
  },
  {
   "cell_type": "code",
   "execution_count": null,
   "metadata": {},
   "outputs": [],
   "source": []
  }
 ],
 "metadata": {
  "interpreter": {
   "hash": "b1a8b63bdf27559490c16144d51d3a6902ecbd7b7872de05b273d065c9a99ab9"
  },
  "kernelspec": {
   "display_name": "Python 3.10.0 64-bit",
   "language": "python",
   "name": "python3"
  },
  "language_info": {
   "codemirror_mode": {
    "name": "ipython",
    "version": 3
   },
   "file_extension": ".py",
   "mimetype": "text/x-python",
   "name": "python",
   "nbconvert_exporter": "python",
   "pygments_lexer": "ipython3",
   "version": "3.9.7"
  },
  "orig_nbformat": 4
 },
 "nbformat": 4,
 "nbformat_minor": 2
}
