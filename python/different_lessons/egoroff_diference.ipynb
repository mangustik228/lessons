{
 "cells": [
  {
   "cell_type": "markdown",
   "metadata": {},
   "source": [
    "### Range и iter"
   ]
  },
  {
   "cell_type": "code",
   "execution_count": 9,
   "metadata": {},
   "outputs": [],
   "source": [
    "v = iter(range(5))"
   ]
  },
  {
   "cell_type": "code",
   "execution_count": 14,
   "metadata": {},
   "outputs": [
    {
     "data": {
      "text/plain": [
       "2"
      ]
     },
     "execution_count": 14,
     "metadata": {},
     "output_type": "execute_result"
    }
   ],
   "source": [
    "next(v)"
   ]
  },
  {
   "cell_type": "code",
   "execution_count": 15,
   "metadata": {},
   "outputs": [
    {
     "data": {
      "text/plain": [
       "<range_iterator at 0x251222ff1f0>"
      ]
     },
     "execution_count": 15,
     "metadata": {},
     "output_type": "execute_result"
    }
   ],
   "source": [
    "iter(range(5))"
   ]
  },
  {
   "cell_type": "code",
   "execution_count": 16,
   "metadata": {},
   "outputs": [
    {
     "data": {
      "text/plain": [
       "<range_iterator at 0x251222ff0d0>"
      ]
     },
     "execution_count": 16,
     "metadata": {},
     "output_type": "execute_result"
    }
   ],
   "source": [
    "v"
   ]
  },
  {
   "cell_type": "code",
   "execution_count": 3,
   "metadata": {},
   "outputs": [
    {
     "data": {
      "text/plain": [
       "range(0, 3)"
      ]
     },
     "execution_count": 3,
     "metadata": {},
     "output_type": "execute_result"
    }
   ],
   "source": [
    "range(3)"
   ]
  },
  {
   "cell_type": "code",
   "execution_count": 4,
   "metadata": {},
   "outputs": [
    {
     "data": {
      "text/plain": [
       "[0, 1, 2]"
      ]
     },
     "execution_count": 4,
     "metadata": {},
     "output_type": "execute_result"
    }
   ],
   "source": [
    "list(range(3))"
   ]
  },
  {
   "cell_type": "code",
   "execution_count": 6,
   "metadata": {},
   "outputs": [
    {
     "data": {
      "text/plain": [
       "[5, 4, 3, 2]"
      ]
     },
     "execution_count": 6,
     "metadata": {},
     "output_type": "execute_result"
    }
   ],
   "source": [
    "list(range(5,1,-1))"
   ]
  },
  {
   "cell_type": "code",
   "execution_count": 8,
   "metadata": {},
   "outputs": [
    {
     "data": {
      "text/plain": [
       "[1, 3, 5]"
      ]
     },
     "execution_count": 8,
     "metadata": {},
     "output_type": "execute_result"
    }
   ],
   "source": [
    "list(range(1,6,2))"
   ]
  },
  {
   "cell_type": "markdown",
   "metadata": {},
   "source": [
    "### JSON чтение, создание"
   ]
  },
  {
   "cell_type": "code",
   "execution_count": 2,
   "metadata": {},
   "outputs": [],
   "source": [
    "import json"
   ]
  },
  {
   "cell_type": "code",
   "execution_count": 5,
   "metadata": {},
   "outputs": [],
   "source": [
    "# Просто создали словарь для тестов\n",
    "python_dict = {\n",
    "    'response' : {\n",
    "        'count' : 1000,\n",
    "        'items' : [{\n",
    "            'first_name' : 'Vasiliy',\n",
    "            'second_name' : 'Ovchinnikov',\n",
    "            'id' : 12345\n",
    "        },{\n",
    "            'first_name' : 'Kristina',\n",
    "            'second_name' : 'Kochi',\n",
    "            'id' : 54321\n",
    "        }]\n",
    "    }\n",
    "}"
   ]
  },
  {
   "cell_type": "code",
   "execution_count": 14,
   "metadata": {},
   "outputs": [
    {
     "name": "stdout",
     "output_type": "stream",
     "text": [
      "first_name : Vasiliy\n",
      "second_name : Ovchinnikov\n",
      "id : 12345\n",
      "\n",
      "first_name : Kristina\n",
      "second_name : Kochi\n",
      "id : 54321\n",
      "\n"
     ]
    }
   ],
   "source": [
    "python_dict['response']['items'] # Проверяем работоспособность\n",
    "for dicts in python_dict['response']['items']:\n",
    "    for i in dicts:\n",
    "        print(f'{i} : {dicts[i]}')\n",
    "    print()"
   ]
  },
  {
   "cell_type": "markdown",
   "metadata": {},
   "source": [
    "#### Создание json-переменной"
   ]
  },
  {
   "cell_type": "code",
   "execution_count": 22,
   "metadata": {},
   "outputs": [
    {
     "name": "stdout",
     "output_type": "stream",
     "text": [
      "<class 'str'>\n",
      "{\n",
      "  \"response\": {\n",
      "    \"count\": 1000,\n",
      "    \"items\": [\n",
      "      {\n",
      "        \"first_name\": \"Vasiliy\",\n",
      "        \"second_name\": \"Ovchinnikov\",\n",
      "        \"id\": 12345\n",
      "      },\n",
      "      {\n",
      "        \"first_name\": \"Kristina\",\n",
      "        \"second_name\": \"Kochi\",\n",
      "        \"id\": 54321\n",
      "      }\n",
      "    ]\n",
      "  }\n",
      "}\n"
     ]
    }
   ],
   "source": [
    "# Непосредстенное создание из словаря\n",
    "# indent - отвечает за красивый вывод(2 - это кол-во отсупов)\n",
    "json_variable = json.dumps(python_dict, indent=2) \n",
    "print(type(json_variable))\n",
    "print(json_variable)\n"
   ]
  },
  {
   "cell_type": "markdown",
   "metadata": {},
   "source": [
    "#### Перевод json-переменной(строки) в словарь"
   ]
  },
  {
   "cell_type": "code",
   "execution_count": 23,
   "metadata": {},
   "outputs": [
    {
     "name": "stdout",
     "output_type": "stream",
     "text": [
      "<class 'dict'>\n",
      "{'response': {'count': 1000, 'items': [{'first_name': 'Vasiliy', 'second_name': 'Ovchinnikov', 'id': 12345}, {'first_name': 'Kristina', 'second_name': 'Kochi', 'id': 54321}]}}\n"
     ]
    }
   ],
   "source": [
    "dict_from_json = json.loads(json_variable)\n",
    "print(type(dict_from_json))\n",
    "print(dict_from_json)"
   ]
  },
  {
   "cell_type": "markdown",
   "metadata": {},
   "source": [
    "#### Сохранение переменной json в json-файл"
   ]
  },
  {
   "cell_type": "code",
   "execution_count": 27,
   "metadata": {},
   "outputs": [],
   "source": [
    "with open('example.json', 'w') as file:\n",
    "    json.dump(json_variable, file, indent=2)"
   ]
  },
  {
   "cell_type": "markdown",
   "metadata": {},
   "source": [
    "#### Вытаскивание json-переменной из json-файла"
   ]
  },
  {
   "cell_type": "code",
   "execution_count": 28,
   "metadata": {},
   "outputs": [
    {
     "name": "stdout",
     "output_type": "stream",
     "text": [
      "{\n",
      "  \"response\": {\n",
      "    \"count\": 1000,\n",
      "    \"items\": [\n",
      "      {\n",
      "        \"first_name\": \"Vasiliy\",\n",
      "        \"second_name\": \"Ovchinnikov\",\n",
      "        \"id\": 12345\n",
      "      },\n",
      "      {\n",
      "        \"first_name\": \"Kristina\",\n",
      "        \"second_name\": \"Kochi\",\n",
      "        \"id\": 54321\n",
      "      }\n",
      "    ]\n",
      "  }\n",
      "}\n"
     ]
    }
   ],
   "source": [
    "with open('example.json', 'r') as file:\n",
    "    dict_from_file = json.load(file)\n",
    "print(dict_from_file)"
   ]
  },
  {
   "cell_type": "markdown",
   "metadata": {},
   "source": [
    "### Чтение Excel. Библиотека openpyxl в Python"
   ]
  },
  {
   "cell_type": "code",
   "execution_count": 57,
   "metadata": {},
   "outputs": [
    {
     "name": "stdout",
     "output_type": "stream",
     "text": [
      "<ReadOnlyCell 'Лист1'.B2>\n",
      "Стихи для детей\n",
      "год\n"
     ]
    }
   ],
   "source": [
    "import openpyxl\n",
    "book = openpyxl.open('example.xlsx', read_only=True) # Только на чтение\n",
    "sheet = book.active # Указать активный лист\n",
    "print(sheet['B2']) # Обращение к нужной ячейки\n",
    "print(sheet['B2'].value) # Получение значения из ячейки\n",
    "print(sheet[1][2].value) # Обращение по индексу [строка, столбец], внимание строки с единицы! колонки с нуля!"
   ]
  },
  {
   "cell_type": "code",
   "execution_count": 58,
   "metadata": {},
   "outputs": [
    {
     "name": "stdout",
     "output_type": "stream",
     "text": [
      "Автор\n",
      "Агния Барто\n",
      "Александр Волков\n",
      "Александр Пушкин\n",
      "Александр Пушкин\n",
      "Алексей Толстой\n"
     ]
    }
   ],
   "source": [
    "for row in range(1,sheet.max_row + 1):\n",
    "    print(sheet[row][0].value)"
   ]
  },
  {
   "cell_type": "markdown",
   "metadata": {},
   "source": [
    "#### Работа с диапазоном"
   ]
  },
  {
   "cell_type": "code",
   "execution_count": 59,
   "metadata": {},
   "outputs": [
    {
     "name": "stdout",
     "output_type": "stream",
     "text": [
      "Название: Название | Год издания: год\n",
      "Название: Стихи для детей | Год издания: 1925\n",
      "Название: Волшебник изумрудного города | Год издания: 1928\n",
      "Название: Сказка о золотом Петушке | Год издания: 1834\n",
      "Название: Сказка о царе Султане | Год издания: 1830\n"
     ]
    }
   ],
   "source": [
    "cells = sheet['B1':'C5'] # Выбираем диапазон, по сути возвращает кортеж кортежей \n",
    "for name, year in cells:\n",
    "    print(f'Название: {name.value} | Год издания: {year.value}')"
   ]
  },
  {
   "cell_type": "code",
   "execution_count": 60,
   "metadata": {},
   "outputs": [
    {
     "name": "stdout",
     "output_type": "stream",
     "text": [
      "Агния Барто | Стихи для детей | 1925 | \n",
      "Александр Волков | Волшебник изумрудного города | 1928 | \n",
      "Александр Пушкин | Сказка о золотом Петушке | 1834 | \n",
      "Александр Пушкин | Сказка о царе Султане | 1830 | \n",
      "Алексей Толстой | Детство Никиты  | 1922 | \n"
     ]
    }
   ],
   "source": [
    "# Получаем ряды\n",
    "for row in sheet.iter_rows(min_row=2, max_row=sheet.max_row+1, min_col=1, max_col=3):\n",
    "    for cell in row:\n",
    "        print(cell.value, end=' | ')\n",
    "    print()"
   ]
  },
  {
   "cell_type": "code",
   "execution_count": 61,
   "metadata": {},
   "outputs": [
    {
     "name": "stdout",
     "output_type": "stream",
     "text": [
      "Автор | Название | год | Рейтинг | \n",
      "Агния Барто | Стихи для детей | 1925 | 97 | \n",
      "Александр Волков | Волшебник изумрудного города | 1928 | 75 | \n",
      "Александр Пушкин | Сказка о золотом Петушке | 1834 | 88 | \n",
      "Александр Пушкин | Сказка о царе Султане | 1830 | 92 | \n",
      "Алексей Толстой | Детство Никиты  | 1922 | 80 | \n"
     ]
    }
   ],
   "source": [
    "# Если ничего не передать то обойдет весь файл от max_row до max_column\n",
    "for row in sheet.iter_rows():\n",
    "    for cell in row:\n",
    "        print(cell.value, end=' | ')\n",
    "    print()"
   ]
  },
  {
   "cell_type": "markdown",
   "metadata": {},
   "source": [
    "#### Обращение к другому листу"
   ]
  },
  {
   "cell_type": "code",
   "execution_count": 65,
   "metadata": {},
   "outputs": [
    {
     "name": "stdout",
     "output_type": "stream",
     "text": [
      "[<openpyxl.worksheet._read_only.ReadOnlyWorksheet object at 0x000001C9BDB57220>]\n"
     ]
    }
   ],
   "source": [
    "sheets = book.worksheets\n",
    "print(sheets)"
   ]
  }
 ],
 "metadata": {
  "interpreter": {
   "hash": "b1a8b63bdf27559490c16144d51d3a6902ecbd7b7872de05b273d065c9a99ab9"
  },
  "kernelspec": {
   "display_name": "Python 3.10.0 64-bit",
   "language": "python",
   "name": "python3"
  },
  "language_info": {
   "codemirror_mode": {
    "name": "ipython",
    "version": 3
   },
   "file_extension": ".py",
   "mimetype": "text/x-python",
   "name": "python",
   "nbconvert_exporter": "python",
   "pygments_lexer": "ipython3",
   "version": "3.9.7"
  },
  "orig_nbformat": 4
 },
 "nbformat": 4,
 "nbformat_minor": 2
}
