{
 "cells": [
  {
   "cell_type": "code",
   "execution_count": 1,
   "metadata": {},
   "outputs": [],
   "source": [
    "import asyncio\n",
    "\n",
    "\n",
    "async def foo():\n",
    "    print(f'start foo')\n",
    "    await asyncio.sleep(3)\n",
    "    print(f'end foo')"
   ]
  },
  {
   "cell_type": "code",
   "execution_count": 1,
   "metadata": {},
   "outputs": [
    {
     "name": "stdout",
     "output_type": "stream",
     "text": [
      "Counter({45: 119, 40: 119, 83: 118, 2: 117, 86: 117, 48: 117, 7: 117, 85: 117, 16: 116, 11: 115, 57: 114, 9: 113, 88: 112, 65: 112, 38: 112, 94: 111, 54: 111, 1: 110, 6: 110, 41: 109, 24: 107, 80: 107, 47: 107, 19: 106, 28: 106, 0: 106, 60: 106, 5: 106, 50: 106, 92: 106, 10: 105, 87: 105, 74: 105, 49: 104, 91: 104, 79: 104, 66: 104, 68: 104, 70: 103, 76: 103, 30: 103, 29: 103, 46: 102, 59: 102, 39: 101, 64: 101, 72: 101, 15: 101, 95: 101, 35: 100, 27: 100, 97: 100, 36: 100, 8: 99, 17: 99, 43: 99, 26: 99, 61: 98, 82: 98, 14: 97, 44: 97, 4: 97, 81: 97, 32: 97, 96: 96, 56: 96, 63: 96, 42: 96, 37: 95, 98: 95, 90: 95, 51: 94, 13: 94, 21: 94, 84: 94, 55: 93, 34: 93, 62: 92, 33: 91, 25: 91, 75: 91, 99: 91, 73: 90, 12: 90, 20: 90, 77: 90, 52: 89, 23: 87, 58: 87, 3: 86, 18: 85, 78: 84, 67: 84, 31: 84, 53: 84, 69: 82, 71: 82, 93: 80, 22: 80, 89: 77})\n"
     ]
    }
   ],
   "source": [
    "from collections import Counter\n",
    "import random\n",
    "\n",
    "data = Counter()\n",
    "\n",
    "for _ in range(10000): \n",
    "    result = random.randint(0,99)\n",
    "    data[result] += 1 \n",
    "\n",
    "print(data)"
   ]
  },
  {
   "cell_type": "code",
   "execution_count": null,
   "metadata": {},
   "outputs": [],
   "source": []
  }
 ],
 "metadata": {
  "kernelspec": {
   "display_name": "Python 3",
   "language": "python",
   "name": "python3"
  },
  "language_info": {
   "codemirror_mode": {
    "name": "ipython",
    "version": 3
   },
   "file_extension": ".py",
   "mimetype": "text/x-python",
   "name": "python",
   "nbconvert_exporter": "python",
   "pygments_lexer": "ipython3",
   "version": "3.10.12"
  },
  "orig_nbformat": 4
 },
 "nbformat": 4,
 "nbformat_minor": 2
}
