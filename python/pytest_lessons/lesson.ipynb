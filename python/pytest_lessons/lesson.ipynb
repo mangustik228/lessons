{
 "cells": [
  {
   "attachments": {},
   "cell_type": "markdown",
   "metadata": {},
   "source": [
    "## PyTest"
   ]
  },
  {
   "attachments": {},
   "cell_type": "markdown",
   "metadata": {},
   "source": [
    "- мини-курс на ютуб [youtube](https://www.youtube.com/watch?v=MIHXRF6YMN4&list=PLlKID9PnOE5hCuNW8L-qxC12U7WPWG6YS&index=2)\n",
    "- также доп. курс [SolveMe](https://www.youtube.com/watch?v=cBt7DveuuS0&list=PLB2iiSfKWtvykq9s0plSVI_Du60i0iphU&index=2)"
   ]
  },
  {
   "attachments": {},
   "cell_type": "markdown",
   "metadata": {},
   "source": [
    "Установка\n",
    "\n",
    "```bash \n",
    "pip install pytest\n",
    "```\n"
   ]
  },
  {
   "attachments": {},
   "cell_type": "markdown",
   "metadata": {},
   "source": [
    "- Все файлы должны начинаться с `test_`\n",
    "- в папке с тестами обязательно создать `__init__.py` иначе будет проблема с импорт модулей"
   ]
  },
  {
   "attachments": {},
   "cell_type": "markdown",
   "metadata": {},
   "source": [
    "```python \n",
    "\n",
    "assert 1 == 1 # Всё ок\n",
    "assert 1 == 0 # Выкинет ошибку\n",
    "\n",
    "```"
   ]
  },
  {
   "attachments": {},
   "cell_type": "markdown",
   "metadata": {},
   "source": [
    "## Фикстура"
   ]
  },
  {
   "attachments": {},
   "cell_type": "markdown",
   "metadata": {},
   "source": [
    "Полезная фича, которая будет дополняться ко всем тестам в пакете\n",
    "\n",
    "```python\n",
    "@pytest.fixture(autouse=True)\n",
    "def start_testing()\n",
    "```"
   ]
  },
  {
   "attachments": {},
   "cell_type": "markdown",
   "metadata": {},
   "source": [
    "параметры `fixture`:\n",
    "\n",
    "```python \n",
    "# session\n",
    "@pytest.fixture(\n",
    "    scope=\"function\", # По умолчанию. Выполняеться на каждой функции\n",
    "    scope=\"session\", # Выполняеться единожды на пакет тестов\n",
    ")\n",
    "\n",
    "# autouse \n",
    "@pytest.fixture(\n",
    "    autouse=False, # По умолчанию. Используеться только если передать фикстуру\n",
    "    autouse=True # Используеться для всех тестов. ШТУКА ОПАСНАЯ\n",
    ")\n",
    "\n",
    "```"
   ]
  },
  {
   "cell_type": "code",
   "execution_count": 16,
   "metadata": {},
   "outputs": [
    {
     "data": {
      "text/plain": [
       "50"
      ]
     },
     "execution_count": 16,
     "metadata": {},
     "output_type": "execute_result"
    }
   ],
   "source": [
    "from random import randrange\n",
    "\n",
    "randrange(0,100,5)"
   ]
  },
  {
   "cell_type": "code",
   "execution_count": null,
   "metadata": {},
   "outputs": [],
   "source": []
  }
 ],
 "metadata": {
  "kernelspec": {
   "display_name": "Python 3",
   "language": "python",
   "name": "python3"
  },
  "language_info": {
   "codemirror_mode": {
    "name": "ipython",
    "version": 3
   },
   "file_extension": ".py",
   "mimetype": "text/x-python",
   "name": "python",
   "nbconvert_exporter": "python",
   "pygments_lexer": "ipython3",
   "version": "3.10.6"
  },
  "orig_nbformat": 4
 },
 "nbformat": 4,
 "nbformat_minor": 2
}
