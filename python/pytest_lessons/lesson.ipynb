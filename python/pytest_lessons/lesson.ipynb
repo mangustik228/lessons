{
 "cells": [
  {
   "attachments": {},
   "cell_type": "markdown",
   "metadata": {},
   "source": [
    "## PyTest"
   ]
  },
  {
   "attachments": {},
   "cell_type": "markdown",
   "metadata": {},
   "source": [
    "- мини-курс на ютуб [youtube](https://www.youtube.com/watch?v=MIHXRF6YMN4&list=PLlKID9PnOE5hCuNW8L-qxC12U7WPWG6YS&index=2)\n",
    "- также доп. курс [SolveMe](https://www.youtube.com/watch?v=cBt7DveuuS0&list=PLB2iiSfKWtvykq9s0plSVI_Du60i0iphU&index=2)"
   ]
  },
  {
   "attachments": {},
   "cell_type": "markdown",
   "metadata": {},
   "source": [
    "Установка\n",
    "\n",
    "```bash \n",
    "pip install pytest\n",
    "```\n"
   ]
  },
  {
   "attachments": {},
   "cell_type": "markdown",
   "metadata": {},
   "source": [
    "- Все файлы должны начинаться с `test_`\n",
    "- в папке с тестами обязательно создать `__init__.py` иначе будет проблема с импорт модулей"
   ]
  },
  {
   "attachments": {},
   "cell_type": "markdown",
   "metadata": {},
   "source": [
    "```python \n",
    "\n",
    "assert 1 == 1 # Всё ок\n",
    "assert 1 == 0 # Выкинет ошибку\n",
    "\n",
    "```"
   ]
  },
  {
   "attachments": {},
   "cell_type": "markdown",
   "metadata": {},
   "source": [
    "Для отладки тестов необходимо добавить в файл `.vscode/settings.json` - \"-s\" к запуску\n",
    "Кстати можно запускать `pytest tests\\ -s`"
   ]
  },
  {
   "attachments": {},
   "cell_type": "markdown",
   "metadata": {},
   "source": [
    "## Фикстура"
   ]
  },
  {
   "attachments": {},
   "cell_type": "markdown",
   "metadata": {},
   "source": [
    "Полезная фича, которая будет дополняться ко всем тестам в пакете\n",
    "\n",
    "```python\n",
    "@pytest.fixture(autouse=True)\n",
    "def start_testing()\n",
    "```"
   ]
  },
  {
   "attachments": {},
   "cell_type": "markdown",
   "metadata": {},
   "source": [
    "параметры `fixture`:\n",
    "\n",
    "```python \n",
    "# session\n",
    "@pytest.fixture(\n",
    "    scope=\"function\", # По умолчанию. Выполняеться на каждой функции\n",
    "    scope=\"session\", # Выполняеться единожды на пакет тестов\n",
    ")\n",
    "\n",
    "# autouse \n",
    "@pytest.fixture(\n",
    "    autouse=False, # По умолчанию. Фикстура будет выполняться только если передать функцию\n",
    "    autouse=True # Используеться для всех тестов. ШТУКА ОПАСНАЯ\n",
    ")\n",
    "\n",
    "@pytest.fixture\n",
    "def some_fixture():\n",
    "    return 14\n",
    "\n",
    "# Передать вручную определенной функции: \n",
    "def test_some_function(some_fixture):\n",
    "    logger.info(some_fixture) # 14\n",
    "\n",
    "```"
   ]
  },
  {
   "attachments": {},
   "cell_type": "markdown",
   "metadata": {},
   "source": [
    "Вызвать функцию из теста\n",
    "\n",
    "```python \n",
    "\n",
    "#conftest.py\n",
    "def _delete_file():\n",
    "    os.remove(file_path)\n",
    "\n",
    "@pytest.fixture\n",
    "def delete_file():\n",
    "    return _delete_file\n",
    " \n",
    "\n",
    "#test_some_module.py\n",
    "def test_some_function(delete_file):\n",
    "    ...\n",
    "    delete_file()\n",
    "```"
   ]
  },
  {
   "attachments": {},
   "cell_type": "markdown",
   "metadata": {},
   "source": [
    "Обернуть тест функционалом\n",
    "```python\n",
    "#conftest\n",
    "@pytest.fixture\n",
    "def some_fixture():\n",
    "    create_file()\n",
    "    yield 42\n",
    "    delete_file()\n",
    "\n",
    "    "
   ]
  },
  {
   "attachments": {},
   "cell_type": "markdown",
   "metadata": {},
   "source": [
    "Закомментировать тест! \n",
    "\n",
    "```python\n",
    "# Грубо говоря закомментировать\n",
    "@pytest.mark.skip('Тут было бы хорошо написать ошибку')"
   ]
  },
  {
   "attachments": {},
   "cell_type": "markdown",
   "metadata": {},
   "source": [
    "### `pytest.ini`\n",
    "```bash \n",
    "# pytest.ini\n",
    "markers = \n",
    "    devos: Запуск тестов только с декоратором @pytest.mark.devs\n",
    "    build: Запуск тестов только с декоратором @pytest.mark.build\n",
    "    some: Запуск тестов только с декоратором @pytest.mark.some\n",
    "\n",
    "\n",
    "# Запуск bash\n",
    "pytest tests/ -k build \n",
    "# Все кроме build\n",
    "pytest tests/ -k \"not build\" \n",
    "\n",
    "```"
   ]
  },
  {
   "attachments": {},
   "cell_type": "markdown",
   "metadata": {},
   "source": [
    "Проверка на время (простая)"
   ]
  },
  {
   "attachments": {},
   "cell_type": "markdown",
   "metadata": {},
   "source": [
    "```bash \n",
    "\n",
    "# Время в секундах, также можно указать вместо -v -> -vv\n",
    "pytest tests -v --durations=1 \n",
    "\n",
    "```"
   ]
  },
  {
   "cell_type": "code",
   "execution_count": 12,
   "metadata": {},
   "outputs": [
    {
     "name": "stdout",
     "output_type": "stream",
     "text": [
      "a = <__main__.User object at 0x7f3a3c12d4b0>\n"
     ]
    },
    {
     "ename": "TypeError",
     "evalue": "not correct type for name",
     "output_type": "error",
     "traceback": [
      "\u001b[0;31m---------------------------------------------------------------------------\u001b[0m",
      "\u001b[0;31mTypeError\u001b[0m                                 Traceback (most recent call last)",
      "Cell \u001b[0;32mIn[12], line 22\u001b[0m\n\u001b[1;32m     20\u001b[0m a \u001b[39m=\u001b[39m User(\u001b[39m'\u001b[39m\u001b[39mVasya\u001b[39m\u001b[39m'\u001b[39m)\n\u001b[1;32m     21\u001b[0m \u001b[39mprint\u001b[39m(\u001b[39mf\u001b[39m\u001b[39m'\u001b[39m\u001b[39m{\u001b[39;00ma\u001b[39m \u001b[39m\u001b[39m= }\u001b[39;00m\u001b[39m'\u001b[39m)\n\u001b[0;32m---> 22\u001b[0m b \u001b[39m=\u001b[39m User(\u001b[39m1\u001b[39;49m)\n",
      "Cell \u001b[0;32mIn[12], line 3\u001b[0m, in \u001b[0;36mUser.__init__\u001b[0;34m(self, name)\u001b[0m\n\u001b[1;32m      2\u001b[0m \u001b[39mdef\u001b[39;00m \u001b[39m__init__\u001b[39m(\u001b[39mself\u001b[39m, name: \u001b[39mstr\u001b[39m):\n\u001b[0;32m----> 3\u001b[0m     \u001b[39mself\u001b[39;49m\u001b[39m.\u001b[39;49mname \u001b[39m=\u001b[39m name\n",
      "Cell \u001b[0;32mIn[12], line 14\u001b[0m, in \u001b[0;36mUser.name\u001b[0;34m(self, other)\u001b[0m\n\u001b[1;32m     12\u001b[0m     \u001b[39mself\u001b[39m\u001b[39m.\u001b[39m_name \u001b[39m=\u001b[39m other\n\u001b[1;32m     13\u001b[0m \u001b[39melse\u001b[39;00m: \n\u001b[0;32m---> 14\u001b[0m     \u001b[39mraise\u001b[39;00m \u001b[39mTypeError\u001b[39;00m(\u001b[39m'\u001b[39m\u001b[39mnot correct type for name\u001b[39m\u001b[39m'\u001b[39m)\n",
      "\u001b[0;31mTypeError\u001b[0m: not correct type for name"
     ]
    }
   ],
   "source": [
    "class User:\n",
    "    def __init__(self, name: str):\n",
    "        self.name = name \n",
    "        \n",
    "    @property\n",
    "    def name(self): \n",
    "        ... \n",
    "\n",
    "    @name.setter\n",
    "    def name(self, other):\n",
    "        if isinstance(other, str):\n",
    "            self._name = other\n",
    "        else: \n",
    "            raise TypeError('not correct type for name')\n",
    "    \n",
    "    def __str__(self):\n",
    "        return f'class User with name {self._name}'\n",
    "    \n",
    "\n",
    "a = User('Vasya')\n",
    "print(f'{a = }')\n",
    "b = User(1)\n",
    "        "
   ]
  },
  {
   "cell_type": "code",
   "execution_count": null,
   "metadata": {},
   "outputs": [],
   "source": []
  }
 ],
 "metadata": {
  "kernelspec": {
   "display_name": "Python 3",
   "language": "python",
   "name": "python3"
  },
  "language_info": {
   "codemirror_mode": {
    "name": "ipython",
    "version": 3
   },
   "file_extension": ".py",
   "mimetype": "text/x-python",
   "name": "python",
   "nbconvert_exporter": "python",
   "pygments_lexer": "ipython3",
   "version": "3.10.6"
  },
  "orig_nbformat": 4
 },
 "nbformat": 4,
 "nbformat_minor": 2
}
