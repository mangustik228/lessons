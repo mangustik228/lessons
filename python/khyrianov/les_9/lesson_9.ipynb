{
 "cells": [
  {
   "cell_type": "markdown",
   "metadata": {},
   "source": [
    "# Принципы ООП"
   ]
  },
  {
   "cell_type": "markdown",
   "metadata": {},
   "source": [
    "## Solid"
   ]
  },
  {
   "cell_type": "markdown",
   "metadata": {},
   "source": [
    "S.o.l.i.d:  \n",
    "Solid - sigle  responsibility principal (Принцип единственной ответственности)  \n",
    "O  \n",
    "L - Liskov Substition principal (Принцип подстановочной Бабрбары Лисков)  \n",
    "I  \n",
    "D  "
   ]
  },
  {
   "cell_type": "markdown",
   "metadata": {},
   "source": [
    "Класс - `Cannon`  \n",
    "Поля -  \n",
    "`__init__`()\n",
    "`aim()`\n",
    "`shoot`\n",
    "Методы -   "
   ]
  },
  {
   "cell_type": "markdown",
   "metadata": {},
   "source": [
    "Существует божественный ANTI_pattern  \n",
    "Когда все делают одним классом... Так делать не правильно..."
   ]
  },
  {
   "cell_type": "markdown",
   "metadata": {},
   "source": [
    "GameObject:\n",
    "- x, y : position (int)\n",
    "- is_alive: boolean\n",
    "- move(): - абстракция (так как у каждого класса будет свое поведение)\n",
    "- draw(): - абстракция\n",
    "- destroy():  "
   ]
  },
  {
   "cell_type": "markdown",
   "metadata": {},
   "source": [
    "You can make subclass: `Cannon`"
   ]
  },
  {
   "cell_type": "markdown",
   "metadata": {},
   "source": [
    "class Cannon:\n",
    "- shoot\n",
    "- aim \n",
    "- health  \n",
    "- (lx, ly)"
   ]
  },
  {
   "cell_type": "markdown",
   "metadata": {},
   "source": [
    "Мы можем унаследовать функциональность автоматически... `Наследование`"
   ]
  },
  {
   "cell_type": "markdown",
   "metadata": {},
   "source": [
    "In this examle : class `Cannon` is subclass of `GameObject`"
   ]
  },
  {
   "cell_type": "markdown",
   "metadata": {},
   "source": [
    "Это и есть принцип наследования Барбары Лискит"
   ]
  },
  {
   "cell_type": "markdown",
   "metadata": {},
   "source": [
    "Могут быть еще классы которые также наследуют класс `GameObject`:  \n",
    "class Target:\n",
    "- vx vy\n",
    "- make_bomb()  \n",
    "class Shell:\n",
    "- vx vy  \n",
    "and another..."
   ]
  },
  {
   "cell_type": "markdown",
   "metadata": {},
   "source": [
    "Допустим move() - у каждого класса своя"
   ]
  },
  {
   "cell_type": "markdown",
   "metadata": {},
   "source": [
    "![картинка](./pics/screen-9.png)"
   ]
  },
  {
   "cell_type": "markdown",
   "metadata": {},
   "source": [
    "Допустим есть `Gameobject` не абстрактный...  \n",
    "class Electric\n",
    "- parametr 1\n",
    "- parametr 2\n",
    "\n",
    "class SunElectric\n",
    "- parametr ... "
   ]
  },
  {
   "cell_type": "code",
   "execution_count": 24,
   "metadata": {},
   "outputs": [
    {
     "name": "stdout",
     "output_type": "stream",
     "text": [
      "Base 20\n",
      "Base 2\n"
     ]
    }
   ],
   "source": [
    "class Base:\n",
    "    def __init__(self, x):\n",
    "        self.x = x\n",
    "    def show(self):\n",
    "        print('Base', self.x)\n",
    "    \n",
    "class Deritvative(Base):  #  указание Base - унаследование класса. \n",
    "    def __init__(self):\n",
    "        # Base.__init__(self, 10) передача х из родительского класса... но так не есть правильно. \n",
    "        super().__init__(20)  # метод для передачи х из Base(правильный). Явный вызов конструктора... \n",
    "        self.name = ''\n",
    "        \n",
    "b = Base(2)\n",
    "a = Deritvative() \n",
    "\n",
    "a.show()\n",
    "b.show()"
   ]
  },
  {
   "cell_type": "markdown",
   "metadata": {},
   "source": [
    "Если родительских классов несколько то надо явно указывать что из какого класса береться"
   ]
  },
  {
   "cell_type": "markdown",
   "metadata": {},
   "source": []
  }
 ],
 "metadata": {
  "interpreter": {
   "hash": "b1a8b63bdf27559490c16144d51d3a6902ecbd7b7872de05b273d065c9a99ab9"
  },
  "kernelspec": {
   "display_name": "Python 3.10.0 64-bit",
   "language": "python",
   "name": "python3"
  },
  "language_info": {
   "codemirror_mode": {
    "name": "ipython",
    "version": 3
   },
   "file_extension": ".py",
   "mimetype": "text/x-python",
   "name": "python",
   "nbconvert_exporter": "python",
   "pygments_lexer": "ipython3",
   "version": "3.10.0"
  },
  "orig_nbformat": 4
 },
 "nbformat": 4,
 "nbformat_minor": 2
}
