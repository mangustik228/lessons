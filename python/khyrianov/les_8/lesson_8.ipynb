{
 "cells": [
  {
   "cell_type": "markdown",
   "metadata": {},
   "source": [
    "# Лекция по видео (ООП)"
   ]
  },
  {
   "cell_type": "markdown",
   "metadata": {},
   "source": [
    "Ресурс программиста - концентрация внимания  \n",
    "Помощь:  \n",
    "- Структурирование и ограничение области видимости(чтоб не нужно было работать со всей программой целиком)  \n",
    "- Сузить решаемую задачу\n",
    "- Документация решаемой задачи\n",
    "Это дает 3 порадигмы:  \n",
    "- Функции\n",
    "- Модули\n",
    "- Классы"
   ]
  },
  {
   "cell_type": "markdown",
   "metadata": {},
   "source": [
    "Объект содержит:\n",
    "- Свойство\n",
    "- Поведение  \n",
    "Объект имеет:  \n",
    "- Свойство\n",
    "- Закрепление к классу (типу объектов)  \n",
    "И уже Класс определяет:\n",
    "- поведение объекта\n",
    "- свойства объектов\n",
    "- конструирование\n",
    "`Объект` это экземпляр `класса` "
   ]
  },
  {
   "cell_type": "markdown",
   "metadata": {},
   "source": [
    "Объектно-ориентировонное программирование сочетается со структурным программированием.  \n",
    "UML - диаграмма классов"
   ]
  },
  {
   "cell_type": "markdown",
   "metadata": {},
   "source": [
    "   "
   ]
  },
  {
   "cell_type": "markdown",
   "metadata": {},
   "source": [
    "## Синтаксис"
   ]
  },
  {
   "cell_type": "markdown",
   "metadata": {},
   "source": [
    "Пример без использования классов, с глобальной переменной(уебищное решение)"
   ]
  },
  {
   "cell_type": "code",
   "execution_count": 7,
   "metadata": {},
   "outputs": [
    {
     "name": "stdout",
     "output_type": "stream",
     "text": [
      "my health 100 hit me\n",
      "my health 50 hit me\n",
      "my health 35 hit me\n",
      "my health 29 hit me\n",
      "my health 23 hit me\n",
      "you win!\n"
     ]
    }
   ],
   "source": [
    "def dragon_create():\n",
    "    global health\n",
    "    health = 100\n",
    "    \n",
    "def dragon_is_alive():\n",
    "    return health > 0\n",
    "    \n",
    "def dragon_get_damage(damage):\n",
    "    global health\n",
    "    health -= damage\n",
    "    if health < 0:\n",
    "        health = 0\n",
    "        \n",
    "def dragon_talk():\n",
    "    print('my health', health, 'hit me')\n",
    "\n",
    "def main():\n",
    "    dragon_create()\n",
    "    finish = False\n",
    "    while not finish:\n",
    "        dragon_talk()\n",
    "        damage = int(input())\n",
    "        dragon_get_damage(damage)\n",
    "        if not dragon_is_alive():\n",
    "            print('you win!')\n",
    "            finish = True\n",
    "        \n",
    "main()"
   ]
  },
  {
   "cell_type": "code",
   "execution_count": 9,
   "metadata": {},
   "outputs": [
    {
     "name": "stdout",
     "output_type": "stream",
     "text": [
      "my health 100 hit me\n",
      "you win!\n"
     ]
    }
   ],
   "source": [
    "class Dragon:\n",
    "    def create(self):\n",
    "        self.health = 100\n",
    "        \n",
    "    def is_alive(self):\n",
    "        return self.health > 0\n",
    "        \n",
    "    def get_damage(self, damage):\n",
    "        self.health -= damage\n",
    "        if self.health < 0:\n",
    "            self.health = 0\n",
    "            \n",
    "    def talk(self):\n",
    "        print('my health', self.health, 'hit me')\n",
    "\n",
    "def main():\n",
    "    dragon = Dragon()  # Может быть не dragon, а например enemy\n",
    "    dragon.create()\n",
    "    finish = False\n",
    "    while not finish:\n",
    "        dragon.talk()\n",
    "        damage = int(input())\n",
    "        dragon.get_damage(damage)\n",
    "        if not dragon.is_alive():\n",
    "            print('you win!')\n",
    "            finish = True\n",
    "        \n",
    "main()"
   ]
  },
  {
   "cell_type": "code",
   "execution_count": null,
   "metadata": {},
   "outputs": [],
   "source": [
    "Вариант с созданием хп 100 "
   ]
  },
  {
   "cell_type": "code",
   "execution_count": 12,
   "metadata": {},
   "outputs": [
    {
     "name": "stdout",
     "output_type": "stream",
     "text": [
      "My name Smog! my health 100, hit me\n",
      "My name Smog! my health 89, hit me\n",
      "My name Smog! my health 8, hit me\n",
      "My name Smog! my health 7, hit me\n",
      "you win!\n"
     ]
    }
   ],
   "source": [
    "class Dragon:\n",
    "    def __init__(self, name):  # Задать универсальное свойство дракону\n",
    "        self.health = 100\n",
    "        self.name = name\n",
    "        \n",
    "    def is_alive(self):\n",
    "        return self.health > 0\n",
    "        \n",
    "    def get_damage(self, damage):\n",
    "        self.health -= damage\n",
    "        if self.health < 0:\n",
    "            self.health = 0\n",
    "            \n",
    "    def talk(self):\n",
    "        print(f'My name {self.name}! my health {self.health}, hit me')\n",
    "\n",
    "def main():\n",
    "    dragon = Dragon('Smog')  # Добавлено имя \n",
    "    finish = False\n",
    "    while not finish:\n",
    "        dragon.talk()\n",
    "        damage = int(input())\n",
    "        dragon.get_damage(damage)\n",
    "        if not dragon.is_alive():\n",
    "            print('you win!')\n",
    "            finish = True\n",
    "        \n",
    "main()"
   ]
  },
  {
   "cell_type": "code",
   "execution_count": 16,
   "metadata": {},
   "outputs": [
    {
     "name": "stdout",
     "output_type": "stream",
     "text": [
      "My name Smog! my health 100, hit me\n",
      "A-A-A-A!\n",
      "you win!\n",
      "My name Lyalya! my health 100, hit me\n",
      "My name Lyalya! my health 95, hit me\n",
      "My name Lyalya! my health 94, hit me\n",
      "A-A-A-A!\n",
      "you win!\n",
      "My name Pidor! my health 100, hit me\n",
      "My name Pidor! my health 95, hit me\n",
      "A-A-A-A!\n",
      "you win!\n",
      "you win!\n"
     ]
    }
   ],
   "source": [
    "class Dragon:\n",
    "    def __init__(self, name):  # Задать универсальное свойство дракону\n",
    "        self.health = 100\n",
    "        self.name = name\n",
    "        \n",
    "    def is_alive(self):\n",
    "        return self.health > 0\n",
    "        \n",
    "    def get_damage(self, damage):\n",
    "        self.health -= damage\n",
    "        if self.health < 0:\n",
    "            self.health = 0\n",
    "            \n",
    "    def talk(self):\n",
    "        print(f'My name {self.name}! my health {self.health}, hit me')\n",
    "\n",
    "    def final_cry(self):\n",
    "        print('A-A-A-A!')\n",
    "        \n",
    "        \n",
    "def main():\n",
    "    enemy_list = [Dragon('Smog'), Dragon('Lyalya'), Dragon('Pidor') ]\n",
    "    finish = False\n",
    "    while not finish:\n",
    "        dragon = enemy_list[0]\n",
    "        dragon.talk()\n",
    "        damage = int(input())\n",
    "        dragon.get_damage(damage)\n",
    "        if not dragon.is_alive(): # удалить из списка мертвого врага\n",
    "            enemy_list.pop(0)\n",
    "            dragon.final_cry()\n",
    "        if not enemy_list:  # Проверить список, не пуст ли?\n",
    "            print('you win!')\n",
    "            finish = True\n",
    "        \n",
    "main()"
   ]
  },
  {
   "cell_type": "markdown",
   "metadata": {},
   "source": [
    "Пример использования класса, для сохранения значений:"
   ]
  },
  {
   "cell_type": "code",
   "execution_count": 18,
   "metadata": {},
   "outputs": [
    {
     "name": "stdout",
     "output_type": "stream",
     "text": [
      "Was set 0\n",
      "0\n",
      "Was set 1\n",
      "10\n",
      "Wrong parametr\n",
      "Was set 2\n",
      "10\n"
     ]
    }
   ],
   "source": [
    "class PositiveInt():\n",
    "    __a = 0\n",
    "    __counter = 0\n",
    "    \n",
    "    def set_a(self, a):\n",
    "        self.__counter += 1\n",
    "        if a >= 0:\n",
    "            self.__a = int(a)\n",
    "        else:\n",
    "            print('Wrong parametr')\n",
    "    def get_a(self):\n",
    "        print('Was set', self.__counter)\n",
    "        return self.__a\n",
    "\n",
    "\n",
    "if __name__ == \"__main__\":\n",
    "    value = PositiveInt()\n",
    "    \n",
    "    print(value.get_a())\n",
    "    \n",
    "    value.set_a(10)\n",
    "    print(value.get_a())\n",
    " \n",
    "    value.set_a(-10)\n",
    "    \n",
    "    print(value.get_a())"
   ]
  },
  {
   "cell_type": "code",
   "execution_count": null,
   "metadata": {},
   "outputs": [],
   "source": []
  }
 ],
 "metadata": {
  "interpreter": {
   "hash": "b1a8b63bdf27559490c16144d51d3a6902ecbd7b7872de05b273d065c9a99ab9"
  },
  "kernelspec": {
   "display_name": "Python 3.10.0 64-bit",
   "language": "python",
   "name": "python3"
  },
  "language_info": {
   "codemirror_mode": {
    "name": "ipython",
    "version": 3
   },
   "file_extension": ".py",
   "mimetype": "text/x-python",
   "name": "python",
   "nbconvert_exporter": "python",
   "pygments_lexer": "ipython3",
   "version": "3.9.7"
  },
  "orig_nbformat": 4
 },
 "nbformat": 4,
 "nbformat_minor": 2
}
