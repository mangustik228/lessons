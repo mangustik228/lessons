{
 "cells": [
  {
   "cell_type": "markdown",
   "metadata": {},
   "source": [
    "# Лекция по видео"
   ]
  },
  {
   "cell_type": "markdown",
   "metadata": {},
   "source": [
    "## Система контроля версий"
   ]
  },
  {
   "cell_type": "markdown",
   "metadata": {},
   "source": [
    "### Историческая справка"
   ]
  },
  {
   "cell_type": "markdown",
   "metadata": {},
   "source": [
    "До появляние систем контроля, программисты сохраняли zip файлы.  \n",
    "`abc.zip` -> `abc.1.2.3.zip`, где 1- Major_version 2 - Minor_version 3 - Micro_version    \n",
    "Главная проблема: что именно поломалось (не содержалось метоинформации об изменениях)  \n",
    "Для понимания изменения придумана утилита `diff(1.txt, 2.txt)` -> сейчас diff -u 1.txt 2.txt  \n",
    "Порция изменений которые вытаскивает `diff` называется `patch`"
   ]
  },
  {
   "cell_type": "markdown",
   "metadata": {},
   "source": [
    "В такой системе возникает проблема `merge` - проблема слияние кода когда пишут сразу несколько программистов"
   ]
  },
  {
   "cell_type": "markdown",
   "metadata": {},
   "source": [
    "CVS/SVN - система контроля версий(центральный репозиторий). Устаревшие(но 15 лет назад было)  \n",
    "SVN - посвежее. преполагает, что если делается commit, то сразу уходит в репозиторий.  \n",
    "Репотозиторий предполагает папку с информацией.  \n",
    "Программист -> repository (commit+message)  \n",
    "Представим ситуацию, что программист хочет вытянуть файл(называется `check-out`):  \n",
    "/т.е. подтянуть все изменения которые произошли."
   ]
  },
  {
   "cell_type": "markdown",
   "metadata": {},
   "source": [
    "Допустим хотим откатить какую то версию, не затрагивая нынешних переделок: `reverse commit`"
   ]
  },
  {
   "cell_type": "markdown",
   "metadata": {},
   "source": [
    "### GIT основные понятия и команды"
   ]
  },
  {
   "cell_type": "markdown",
   "metadata": {},
   "source": [
    "`GIT` - децентрелизованная система контроля версий  \n",
    "Каждый программист хранит commit у себя.  \n",
    "![картинка](./pics/screen-3.png)"
   ]
  },
  {
   "cell_type": "markdown",
   "metadata": {},
   "source": [
    "Команды с сервером (сервер является `origin` repository):  \n",
    "- `clone` склонировать\n",
    "- `status` - проверить статус, подскажет что в оригинальном репозитории появились новые коммиты\n",
    "- `add` - добавить файлы к подготавливаемым изменениям\n",
    "- `push` закинуть коммиты в репозиторий (рекомендуется предварительно сделать git `pull`)\n",
    "- `pull` подтянуть \n",
    "- `diff` посмотреть изменения\n",
    "- `commit` зафиксировать изменения\n",
    "- `log` посмотреть в какой ветке работаем\n",
    "- `branch` Таинственная функция, которую было бы круто освоить но пока рано\n",
    "- `stash` Положить изменения в \"кармашек\", делается перед git `pull`\n",
    "- `git stash pop` Пристыковать изменения из \"кармашка\" к сделанным коммитым\n",
    "- `git revert *****` ***** - 5 символов commit'a на который откатываем"
   ]
  },
  {
   "cell_type": "markdown",
   "metadata": {},
   "source": [
    "## Событийное программирование"
   ]
  },
  {
   "cell_type": "markdown",
   "metadata": {},
   "source": [
    "**Структорное программирование** учит нас группированить програмный код, делать понятным, вычлинять подалгоритм, прописывать функцию  \n",
    "**Событийное программирование** про логику работы программы:  \n",
    "start -> end - классический алгоритм, который обычно пытаются ускорить  \n",
    "start(инициализация) -> сон (sleep) -> событие(мышка, клавиатура) -> - суть событийного программирования  \n",
    "Процесс вытаскивания событий из очереди и выбор \"как их обработать - называется `диспетчеризация`  \n",
    "В многих системах с виджетами: это происходит автоматически, в `pygame` это происходит не автоматически  \n",
    "`event` - событие  \n",
    "зачастую диспетчерезация спрятанна, выполняется библиотекой, которой это поручаем  \n",
    "Графики - см. тетрадь\n"
   ]
  },
  {
   "cell_type": "markdown",
   "metadata": {},
   "source": []
  },
  {
   "cell_type": "markdown",
   "metadata": {},
   "source": [
    "# Лекция по практической части"
   ]
  },
  {
   "cell_type": "markdown",
   "metadata": {},
   "source": [
    "## Пользовательский интерфейс"
   ]
  },
  {
   "cell_type": "markdown",
   "metadata": {},
   "source": [
    "Классические алгоритмы и все программы, которые ученики пишут в общеобразовательной школе - это линейные, ветвящиеся, циклические программы, которые стремятся как можно быстрее выполнить поставленную задачу и закончить выполнение. Приложения с графическим интерфейсом пользователя ведут себя иначе. Запустившись один раз, они ждут событий от пользователя программы, чтобы заняться их обработкой. То есть та или иная часть программного кода начинает выполняться лишь тогда, когда случается то или иное событие. Такие программы называются `событийно-ориентированными`."
   ]
  },
  {
   "cell_type": "markdown",
   "metadata": {},
   "source": [
    "События бывают разными. Сработал временной фактор, кто-то кликнул мышкой или нажал Enter, начал вводить текст, переключил радиокнопки, прокрутил страницу вниз и т. д. Когда случается что-то подобное, то, если был создан соответствующий обработчик, происходит срабатывание определенной части программы."
   ]
  },
  {
   "cell_type": "markdown",
   "metadata": {},
   "source": [
    "Событийно-ориентированное программирование прекрасно сочетается со структурным программированием (структурированием кода через декомпозицию). Код обработчиков событий удобно оформлять в отдельные функции (такие функции по-английски ещё называют `event handler`, `callback`, `slot`)."
   ]
  },
  {
   "cell_type": "markdown",
   "metadata": {},
   "source": [
    "Выбор того как именно обрабатывать событие (какой из обработчиков вызывать) называется `диспетчеризация событий`. В библиотеке PyGame это делается вами вручную, например при помощи разветвлённых конструкций `if` `elif` `else`."
   ]
  },
  {
   "cell_type": "markdown",
   "metadata": {},
   "source": [
    "`Pygame` обрабатывает события с помощью `очереди событий`. В неё записываются все происходящие события. Вспомним код, который использовался в прошлых лабораторных для рисования картины:"
   ]
  },
  {
   "cell_type": "code",
   "execution_count": 1,
   "metadata": {},
   "outputs": [
    {
     "name": "stdout",
     "output_type": "stream",
     "text": [
      "pygame 2.1.0 (SDL 2.0.16, Python 3.9.7)\n",
      "Hello from the pygame community. https://www.pygame.org/contribute.html\n"
     ]
    }
   ],
   "source": [
    "import pygame\n",
    "from pygame.draw import *\n",
    "\n",
    "pygame.init()\n",
    "\n",
    "FPS = 30\n",
    "screen = pygame.display.set_mode((400, 400))\n",
    "\n",
    "pygame.display.update()\n",
    "clock = pygame.time.Clock()\n",
    "finished = False\n",
    "\n",
    "while not finished:\n",
    "    clock.tick(FPS)\n",
    "    for event in pygame.event.get():\n",
    "        if event.type == pygame.QUIT:\n",
    "            finished = True\n",
    "\n",
    "pygame.quit()"
   ]
  },
  {
   "cell_type": "markdown",
   "metadata": {},
   "source": [
    "В цикле используется функция `get()` модуля `event` библиотеки `pygame` — `pygame.event.get()`. Она забирает список событий из очереди. Основные события — это закрытие окна, нажатие и отпускание кнопки мыши, перемещение мыши, нажатие и отпускание клавиши. Узнать, что за событие произошло, позволяет сравнение типа события `event.type` с `константой из pygame`:"
   ]
  },
  {
   "cell_type": "markdown",
   "metadata": {},
   "source": [
    "- `Константа` |\tСобытие  \n",
    "- `QUIT` |\tзакрытие окна  \n",
    "- `KEYDOWN` |\tнажатие клавиши  \n",
    "- `KEYUP` |\tподнятие клавиши  \n",
    "- `MOUSEMOTION` |\tдвижение мыши  \n",
    "- `MOUSEBUTTONUP` |\tотпускание кнопки мыши  \n",
    "- `MOUSEBUTTONDOWN` |\tнажатие кнопки мыши  "
   ]
  },
  {
   "cell_type": "markdown",
   "metadata": {},
   "source": [
    "## События мыши"
   ]
  },
  {
   "cell_type": "markdown",
   "metadata": {},
   "source": [
    "В pygame обрабатываются три события мыши: нажатие кнопки, отпускание кнопки, перемещение мыши. Какая именно кнопка была нажата, записывается в другое свойство события – `button`. Для левой кнопки это число 1, для средней – 2, для правой – 3, для прокручивания вперед – 4, для прокручивания назад – 5. У событий `MOUSEMOTION` (перемещение мыши) вместо `button` используется свойство `buttons`, в которое записывается состояние трех кнопок мыши (кортеж из трех элементов)."
   ]
  },
  {
   "cell_type": "markdown",
   "metadata": {},
   "source": [
    "Координаты мыши записываются в атрибут `pos`. Таким образом, если вы нажали правую кнопку мыши точно в середине окна размером 200x200, то будет создан объект типа `Event` с полями `event.type = pygame.MOUSEBUTTONDOWN`, `event.button = 3`, `event.pos = (100, 100).`"
   ]
  },
  {
   "cell_type": "markdown",
   "metadata": {},
   "source": [
    "У событий `MOUSEMOTION` есть еще один атрибут – `rel`. Он показывает относительное смещение по обоим осям. С помощью него, например, можно отслеживать скорость движения мыши.\n",
    "\n",
    "Код ниже создаёт круги в местах клика мыши: красные при клике левой кнопкой, синие при клике правой кнопкой."
   ]
  },
  {
   "cell_type": "code",
   "execution_count": 2,
   "metadata": {},
   "outputs": [],
   "source": [
    "import pygame\n",
    "from pygame.draw import *\n",
    "pygame.init()\n",
    "\n",
    "FPS = 30\n",
    "screen = pygame.display.set_mode((400, 400))\n",
    "\n",
    "RED = (255, 0, 0)\n",
    "BLUE = (0, 0, 255)\n",
    "\n",
    "pygame.display.update()\n",
    "clock = pygame.time.Clock()\n",
    "finished = False\n",
    "\n",
    "while not finished:\n",
    "    clock.tick(FPS)\n",
    "    for event in pygame.event.get():\n",
    "        if event.type == pygame.QUIT:\n",
    "            finished = True\n",
    "        elif event.type == pygame.MOUSEBUTTONDOWN:\n",
    "            if event.button == 1:\n",
    "                circle(screen, RED, event.pos, 50)\n",
    "                pygame.display.update()\n",
    "            elif event.button == 3:\n",
    "                circle(screen,  BLUE, event.pos, 50)\n",
    "                pygame.display.update()\n",
    "\n",
    "pygame.quit()"
   ]
  },
  {
   "cell_type": "markdown",
   "metadata": {},
   "source": [
    "## Заготовка игры \"Поймай шарик\""
   ]
  },
  {
   "cell_type": "markdown",
   "metadata": {},
   "source": [
    "Суть игры проста: в случайном месте появляется на короткое время шарик, и мы должны успеть щелкнуть по нему мышкой.  \n",
    "\n",
    "Вначале создадим появляющиеся шарики:"
   ]
  },
  {
   "cell_type": "code",
   "execution_count": 1,
   "metadata": {},
   "outputs": [
    {
     "name": "stdout",
     "output_type": "stream",
     "text": [
      "pygame 2.1.0 (SDL 2.0.16, Python 3.9.7)\n",
      "Hello from the pygame community. https://www.pygame.org/contribute.html\n"
     ]
    },
    {
     "ename": "KeyboardInterrupt",
     "evalue": "",
     "output_type": "error",
     "traceback": [
      "\u001b[1;31m---------------------------------------------------------------------------\u001b[0m",
      "\u001b[1;31mKeyboardInterrupt\u001b[0m                         Traceback (most recent call last)",
      "\u001b[1;32m~\\AppData\\Local\\Temp/ipykernel_12744/977619330.py\u001b[0m in \u001b[0;36m<module>\u001b[1;34m\u001b[0m\n\u001b[0;32m     29\u001b[0m \u001b[1;33m\u001b[0m\u001b[0m\n\u001b[0;32m     30\u001b[0m \u001b[1;32mwhile\u001b[0m \u001b[1;32mnot\u001b[0m \u001b[0mfinished\u001b[0m\u001b[1;33m:\u001b[0m\u001b[1;33m\u001b[0m\u001b[1;33m\u001b[0m\u001b[0m\n\u001b[1;32m---> 31\u001b[1;33m     \u001b[0mclock\u001b[0m\u001b[1;33m.\u001b[0m\u001b[0mtick\u001b[0m\u001b[1;33m(\u001b[0m\u001b[0mFPS\u001b[0m\u001b[1;33m)\u001b[0m\u001b[1;33m\u001b[0m\u001b[1;33m\u001b[0m\u001b[0m\n\u001b[0m\u001b[0;32m     32\u001b[0m     \u001b[1;32mfor\u001b[0m \u001b[0mevent\u001b[0m \u001b[1;32min\u001b[0m \u001b[0mpygame\u001b[0m\u001b[1;33m.\u001b[0m\u001b[0mevent\u001b[0m\u001b[1;33m.\u001b[0m\u001b[0mget\u001b[0m\u001b[1;33m(\u001b[0m\u001b[1;33m)\u001b[0m\u001b[1;33m:\u001b[0m\u001b[1;33m\u001b[0m\u001b[1;33m\u001b[0m\u001b[0m\n\u001b[0;32m     33\u001b[0m         \u001b[1;32mif\u001b[0m \u001b[0mevent\u001b[0m\u001b[1;33m.\u001b[0m\u001b[0mtype\u001b[0m \u001b[1;33m==\u001b[0m \u001b[0mpygame\u001b[0m\u001b[1;33m.\u001b[0m\u001b[0mQUIT\u001b[0m\u001b[1;33m:\u001b[0m\u001b[1;33m\u001b[0m\u001b[1;33m\u001b[0m\u001b[0m\n",
      "\u001b[1;31mKeyboardInterrupt\u001b[0m: "
     ]
    }
   ],
   "source": [
    "import pygame\n",
    "from pygame.draw import *\n",
    "from random import randint\n",
    "pygame.init()\n",
    "\n",
    "FPS = 2\n",
    "screen = pygame.display.set_mode((1200, 900))\n",
    "\n",
    "RED = (255, 0, 0)\n",
    "BLUE = (0, 0, 255)\n",
    "YELLOW = (255, 255, 0)\n",
    "GREEN = (0, 255, 0)\n",
    "MAGENTA = (255, 0, 255)\n",
    "CYAN = (0, 255, 255)\n",
    "BLACK = (0, 0, 0)\n",
    "COLORS = [RED, BLUE, YELLOW, GREEN, MAGENTA, CYAN]\n",
    "\n",
    "def new_ball():\n",
    "    '''рисует новый шарик '''\n",
    "    x = randint(100, 1100)\n",
    "    y = randint(100, 900)\n",
    "    r = randint(10, 100)\n",
    "    color = COLORS[randint(0, 5)]\n",
    "    circle(screen, color, (x, y), r)\n",
    "\n",
    "pygame.display.update()\n",
    "clock = pygame.time.Clock()\n",
    "finished = False\n",
    "\n",
    "while not finished:\n",
    "    clock.tick(FPS)\n",
    "    for event in pygame.event.get():\n",
    "        if event.type == pygame.QUIT:\n",
    "            finished = True\n",
    "\n",
    "    new_ball()\n",
    "    pygame.display.update()\n",
    "    screen.fill(BLACK)\n",
    "\n",
    "pygame.quit()"
   ]
  },
  {
   "cell_type": "markdown",
   "metadata": {},
   "source": [
    "Теперь добавим обработку щелчка мыши. Для начала выведем что-нибудь в консоль:"
   ]
  },
  {
   "cell_type": "code",
   "execution_count": 5,
   "metadata": {},
   "outputs": [
    {
     "name": "stdout",
     "output_type": "stream",
     "text": [
      "Click!\n",
      "Click!\n"
     ]
    }
   ],
   "source": [
    "import pygame\n",
    "from pygame.draw import *\n",
    "from random import randint\n",
    "pygame.init()\n",
    "\n",
    "FPS = 2\n",
    "screen = pygame.display.set_mode((1200, 900))\n",
    "\n",
    "RED = (255, 0, 0)\n",
    "BLUE = (0, 0, 255)\n",
    "YELLOW = (255, 255, 0)\n",
    "GREEN = (0, 255, 0)\n",
    "MAGENTA = (255, 0, 255)\n",
    "CYAN = (0, 255, 255)\n",
    "BLACK = (0, 0, 0)\n",
    "COLORS = [RED, BLUE, YELLOW, GREEN, MAGENTA, CYAN]\n",
    "\n",
    "def new_ball():\n",
    "    '''рисует новый шарик '''\n",
    "    x = randint(100, 1100)\n",
    "    y = randint(100, 900)\n",
    "    r = randint(10, 100)\n",
    "    color = COLORS[randint(0, 5)]\n",
    "    circle(screen, color, (x, y), r)\n",
    "\n",
    "pygame.display.update()\n",
    "clock = pygame.time.Clock()\n",
    "finished = False\n",
    "\n",
    "while not finished:\n",
    "    clock.tick(FPS)\n",
    "    for event in pygame.event.get():\n",
    "        if event.type == pygame.QUIT:\n",
    "            finished = True\n",
    "        elif event.type == pygame.MOUSEBUTTONDOWN:\n",
    "            print('Click!')\n",
    "    new_ball()\n",
    "    pygame.display.update()\n",
    "    screen.fill(BLACK)\n",
    "\n",
    "pygame.quit()"
   ]
  },
  {
   "cell_type": "markdown",
   "metadata": {},
   "source": [
    "При каждом щелчке в консоли будет появляться надпись `«click»`.\n",
    "\n",
    "Чтобы определить, попали ли мы в круг, нужно знать его координаты, радиус круга и координаты мыши в момент щелчка. Координаты мыши легко получить через `event.pos`. Попробуем получить координаты круга:"
   ]
  },
  {
   "cell_type": "code",
   "execution_count": 6,
   "metadata": {},
   "outputs": [],
   "source": [
    "def click(event):\n",
    "    print(x, y, r)"
   ]
  },
  {
   "cell_type": "markdown",
   "metadata": {},
   "source": [
    "Не забудьте вставить вызов этой функции click(event) в место диспетчеризации!\n",
    "\n",
    "И всё равно такой способ не прошел. Почему? В чем суть появившегося сообщения об ошибке, что оно означает?\n",
    "\n",
    "Исправим ситуацию:"
   ]
  },
  {
   "cell_type": "code",
   "execution_count": 9,
   "metadata": {},
   "outputs": [],
   "source": [
    "def new_ball():\n",
    "    global x, y, r\n",
    "    x = randint(100,700)\n",
    "    y = randint(100,500)\n",
    "    r = randint(30,50)\n",
    "    color = COLORS[randint(0, 5)]\n",
    "    circle(screen, color, (x, y), r)\n",
    "\n",
    "def click(event):\n",
    "    print(x, y, r)"
   ]
  },
  {
   "cell_type": "markdown",
   "metadata": {},
   "source": [
    "Использование `global` – это не самое лучшее решение. Для данной задачи больше подходит использование `ООП` (объектно-ориентированного подхода), но об этом позже. А пока – будем использовать `global`.\n",
    "\n",
    "`global` означает, что переменные будут считаться глобальными (а не локальными), т.е. их значение сохранится и после завершения работы функции, а не будет уничтожено, как это произойдет со всеми локальными переменными.\n",
    "\n",
    "Осталось проверить, не лежит ли точка (`event.x, event.y`) дальше, чем `r` от точки (`x,y`). Для этого, с помощью теоремы Пифагора мы найдем расстояние между двумя точками и сравним с радиусом круга."
   ]
  },
  {
   "cell_type": "markdown",
   "metadata": {},
   "source": [
    "## Задание"
   ]
  },
  {
   "cell_type": "markdown",
   "metadata": {},
   "source": [
    "- Сделать код читабельным и документированным.\n",
    "- Реализовать подсчёт очков.\n",
    "- Сделать шарики двигающимися со случайным отражением от стен.\n",
    "- Реализовать одновременное присутствие нескольких шариков на экране.\n",
    "  - Добавить второй тип мишени со своей формой и своим специфическим харктером движения.\n",
    "  - Выдавать за эти мишени другое количество очков.\n",
    "  - Сделать таблицу лучших игроков, автоматически сохраняющуюся в файл"
   ]
  },
  {
   "cell_type": "markdown",
   "metadata": {},
   "source": [
    "См. отдельный файл `exercise_from 6_lesson`"
   ]
  }
 ],
 "metadata": {
  "interpreter": {
   "hash": "b1a8b63bdf27559490c16144d51d3a6902ecbd7b7872de05b273d065c9a99ab9"
  },
  "kernelspec": {
   "display_name": "Python 3.10.0 64-bit",
   "language": "python",
   "name": "python3"
  },
  "language_info": {
   "codemirror_mode": {
    "name": "ipython",
    "version": 3
   },
   "file_extension": ".py",
   "mimetype": "text/x-python",
   "name": "python",
   "nbconvert_exporter": "python",
   "pygments_lexer": "ipython3",
   "version": "3.9.7"
  },
  "orig_nbformat": 4
 },
 "nbformat": 4,
 "nbformat_minor": 2
}
