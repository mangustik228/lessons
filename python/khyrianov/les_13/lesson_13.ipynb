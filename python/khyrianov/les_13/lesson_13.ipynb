{
 "cells": [
  {
   "cell_type": "markdown",
   "metadata": {},
   "source": [
    "## Контроль качества разработки программного обеспечения"
   ]
  },
  {
   "cell_type": "markdown",
   "metadata": {},
   "source": [
    "### Про модель водопада"
   ]
  },
  {
   "cell_type": "markdown",
   "metadata": {},
   "source": [
    "waterfall - модель разработки(водопад)  \n",
    "до этого было хаотичная разработка   \n",
    "waterfull vs Agile  \n",
    "модель водопада: (см zen-mind)  "
   ]
  },
  {
   "cell_type": "markdown",
   "metadata": {},
   "source": [
    "### Обратная положительно-отрицательная связь"
   ]
  },
  {
   "cell_type": "markdown",
   "metadata": {},
   "source": [
    "Положительная связь:\n",
    "- положительный отзывы конечных пользователей\n",
    "- запросы пользователей на новую функциональность\n",
    "- увеличение объема продаж  \n",
    "  \n",
    "Отрицательная связь:\n",
    "- негативные отзывы конечных пользователей\n",
    "- отсутствие интереса к программному продукту\n",
    "- падение объема продаж."
   ]
  },
  {
   "cell_type": "markdown",
   "metadata": {},
   "source": [
    "### Тестирование: контроль качества **(Quality control)**"
   ]
  },
  {
   "cell_type": "markdown",
   "metadata": {},
   "source": [
    "- проверка соответствия между реальным поведением программы и ее ожидаемым поведением \n",
    "- проверка на конечном наборе тестов\n",
    "- проверка выбранным определенным способом  \n",
    "\n",
    "Тестирощик дает участникам проекта по разработке ПО отрицательную обратную связь о качестве программного продукта на самой ранней стадии, когда еще не поздно все исправить"
   ]
  },
  {
   "cell_type": "markdown",
   "metadata": {},
   "source": [
    "### Обязанности тестирощика:"
   ]
  },
  {
   "cell_type": "markdown",
   "metadata": {},
   "source": [
    "- находить дефекты, баги\n",
    "- вносить описания найденного дефекта в `Bag-tracking`\n",
    "- описать способ воспроизведения ошибки (steps to reproduce)\n",
    "- создать отчет о тестировании\n",
    "- исправлять документацию к программному продукту\n",
    "- анализировать и уточнять требования к программе (тестировщик - первый пользователь)\n",
    "- создавать ПО для автоматизации процесса тестирования  "
   ]
  },
  {
   "cell_type": "markdown",
   "metadata": {},
   "source": [
    "### Результат работы тестировщика"
   ]
  },
  {
   "cell_type": "markdown",
   "metadata": {},
   "source": [
    "Повышение качества программного продукта  \n",
    "  \n",
    "Issue(ticket) about some bag - \n",
    "1. Name of bag\n",
    "1. Точная версия ПО на которой случился баг\n",
    "1. Disscription\n",
    "1. Steps to reproduce\n",
    "1. logs - техническая информация(хотя бы скриншоты/детали происходящего)"
   ]
  },
  {
   "cell_type": "markdown",
   "metadata": {},
   "source": [
    "### Аспекты качества программы:"
   ]
  },
  {
   "cell_type": "markdown",
   "metadata": {},
   "source": [
    "Аспекты качества программы:  \n",
    "- функциональность\n",
    "    - пригодность к использованию\n",
    "    - правильность выполнения задач\n",
    "    - поддержка стандартов\n",
    "    - защищенность (security)  \n",
    "- Надежность\n",
    "    - низкая частота отказов\n",
    "    - отказоустойчивость (при отказе все таки как то вырулить)\n",
    "    - способность к восстановлению (если мы разбились, есть ли возможность что то изменить)  \n",
    "- Практичность\n",
    "    - понятность в использовании\n",
    "    - управляемость\n",
    "    - привлекательность  \n",
    "- Эффективность  \n",
    "    - время отклика программы  \n",
    "    - объем использования ресурсов ПК  \n",
    "- сопровождаемость\n",
    "- переносимость "
   ]
  },
  {
   "cell_type": "markdown",
   "metadata": {},
   "source": [
    "### Классификация тестируемости по масштабу"
   ]
  },
  {
   "cell_type": "markdown",
   "metadata": {},
   "source": [
    "- Модульное тестирование\n",
    "  - тестирование отдельных операций, методов, функций\n",
    "- Интеграционное тестирование\n",
    "  - проверка что модули взаимодействуют друг с другом корректно\n",
    "- Системное тестирование\n",
    "  - тестирование на уровне пользовательского интерфейса"
   ]
  },
  {
   "cell_type": "markdown",
   "metadata": {},
   "source": [
    "### Совместимость ролей"
   ]
  },
  {
   "cell_type": "markdown",
   "metadata": {},
   "source": [
    "Кто может быть тестировщиком:\n",
    "- Программист - **нет**\n",
    "- Старший программист - нет\n",
    "- Менеджер проекта - да\n",
    "- Технический писатель - да\n",
    "- Эксперт предметной области - да\n",
    "- Представитель заказчика - да  \n",
    "\n",
    "Методика `TDD` позволяет программисту быть самому себе эффективным тестирощиком"
   ]
  },
  {
   "cell_type": "markdown",
   "metadata": {},
   "source": [
    "### Отладка программы"
   ]
  },
  {
   "cell_type": "markdown",
   "metadata": {},
   "source": [
    "- уяснить суть ошибки\n",
    "- локализовать ошибку ее в исходном тексте(logs)\n",
    "- устранить ошибку  \n",
    "  \n",
    "Два пути отладки:\n",
    "- использование отладчиков (\"использование дебаггеров\")\n",
    "- логирование (вывод отладочных сведений в файл)  \n",
    "  \n",
    "Типичные задачи отладки:\n",
    "- узнавать текущие значения переменных\n",
    "- выяснить, по какому пути выполнялась программа"
   ]
  },
  {
   "cell_type": "markdown",
   "metadata": {},
   "source": [
    "### Модульное тестирование (unit testing)(примеры)"
   ]
  },
  {
   "cell_type": "markdown",
   "metadata": {},
   "source": [
    "то самое тестирование которое делает сам программист!!!"
   ]
  },
  {
   "cell_type": "code",
   "execution_count": 19,
   "metadata": {},
   "outputs": [],
   "source": [
    "def fibonacci(n):\n",
    "    '''function to find fibonacci variable\n",
    "\n",
    "    Args:\n",
    "        n (int): int\n",
    "\n",
    "    Returns:\n",
    "        int: fibonacci numbers\n",
    "    '''\n",
    "    if n < 2:\n",
    "        return n\n",
    "    else:\n",
    "        return fibonacci(n-1) + fibonacci(n-2)"
   ]
  },
  {
   "cell_type": "code",
   "execution_count": 36,
   "metadata": {},
   "outputs": [
    {
     "name": "stdout",
     "output_type": "stream",
     "text": [
      "ваше число фибоначи:  55\n"
     ]
    }
   ],
   "source": [
    "def main():\n",
    "    n = int(input('введите номер числа фибоначчи: '))\n",
    "    print('ваше число фибоначи: ', fibonacci(n))\n",
    "    \n",
    "if __name__ == '__main__':\n",
    "    main()"
   ]
  },
  {
   "cell_type": "code",
   "execution_count": 45,
   "metadata": {},
   "outputs": [
    {
     "name": "stdout",
     "output_type": "stream",
     "text": [
      "Test failed n= -1 answer =  0\n",
      "testing fibonacci passed: Failed\n"
     ]
    }
   ],
   "source": [
    "final_result = True\n",
    "\n",
    "\n",
    "for n, answer in [(0, 0), (1, 1), (2, 1), (5, 5), (10, 55), (-1, 0)]:\n",
    "    result = fibonacci(n) == answer\n",
    "    if not result:\n",
    "        print('Test failed n=', n, 'answer = ', answer)\n",
    "    final_result &= result  # Интересная запись логическое и... читается как ф_р = р and ф_р\n",
    "\n",
    "\n",
    "if final_result == True:\n",
    "    print('testing fibonacci passed: OK')\n",
    "else:\n",
    "    print('testing fibonacci passed: Failed')\n",
    "    "
   ]
  },
  {
   "cell_type": "markdown",
   "metadata": {},
   "source": [
    "### Библиотеки предназначенные для тестированияь"
   ]
  },
  {
   "cell_type": "markdown",
   "metadata": {},
   "source": [
    "самая простая библиотека - `doctest`"
   ]
  }
 ],
 "metadata": {
  "interpreter": {
   "hash": "19cd9e144062e1d74c30cc190641decf8dc4a282609cf1d935fcd87d48aceed2"
  },
  "kernelspec": {
   "display_name": "Python 3.9.7 64-bit ('base': conda)",
   "language": "python",
   "name": "python3"
  },
  "language_info": {
   "codemirror_mode": {
    "name": "ipython",
    "version": 3
   },
   "file_extension": ".py",
   "mimetype": "text/x-python",
   "name": "python",
   "nbconvert_exporter": "python",
   "pygments_lexer": "ipython3",
   "version": "3.9.7"
  },
  "orig_nbformat": 4
 },
 "nbformat": 4,
 "nbformat_minor": 2
}
