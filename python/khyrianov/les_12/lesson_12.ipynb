{
 "cells": [
  {
   "cell_type": "markdown",
   "metadata": {},
   "source": [
    "## Документация проекта"
   ]
  },
  {
   "cell_type": "markdown",
   "metadata": {},
   "source": [
    "Документация двух видов: \n",
    "- пользовательская (мануал по использованию)\n",
    "- внутреняя документация проекта \n",
    "  - лежит отдельно (исходный код/ wiki)\n",
    "    - при измении возникает не полнота\n",
    "    - устаревание документации (хуже не полноты)\n",
    "  - правильнее внедрять документацию в программный код\n",
    "    1. не писать никакой документации (самодокументирующийся код)(см. пример ниже)\n",
    "    1. комментарии `#` (также подвержены устареванию)\n",
    "    1. автоматическая домументация (документстроки) + аннотации типов (утилита сама компанует документы)(rst - разметка)\n",
    "    1. механизм вставки проверяемых утверждений. с помощью `assert`\n",
    "    1. контрактное программирование -> проектирование (контрактное проектирование)\n",
    "\n",
    "Спецификация интерфейса должна быть:\n",
    "- формальная\n",
    "- точная\n",
    "- верифицируемая (должен быть способ ее проверить)"
   ]
  },
  {
   "cell_type": "code",
   "execution_count": 7,
   "metadata": {},
   "outputs": [
    {
     "name": "stdout",
     "output_type": "stream",
     "text": [
      "высокосный год\n",
      "высокосный год\n"
     ]
    }
   ],
   "source": [
    "# Примеры по самодокументации\n",
    "def gypot(x, y):  # Плохой код, не самодокументирующийся\n",
    "    return (x*x + y*y)**0.5\n",
    "\n",
    "def hypotenuse(leg_1, leg_2):  # самодокументированный код\n",
    "    return (leg_1**2 + leg_2**2)**0.5\n",
    "\n",
    "year = 1976\n",
    "if year % 400 == 0 or year % 4 == 0 and year % 100 != 0:\n",
    "    print('высокосный год')\n",
    "    \n",
    "def is_leap_year(year):   \n",
    "    return (year % 400 == 0 or year % 4 == 0 and year % 100 != 0)\n",
    "\n",
    "if is_leap_year(year):  # Пример вынесения условий в функцию(самодокументация)\n",
    "    print('высокосный год')    "
   ]
  },
  {
   "cell_type": "code",
   "execution_count": 1,
   "metadata": {},
   "outputs": [
    {
     "data": {
      "text/plain": [
       "9"
      ]
     },
     "execution_count": 1,
     "metadata": {},
     "output_type": "execute_result"
    }
   ],
   "source": [
    "# Пример по комментариям (пишется над фунцией/ начинается с большой буквы после пробела от решетки)\n",
    "def hypotenuse(leg_1, leg_2):    \n",
    "    # Square root from sum of squares of triangle legs\n",
    "    # Look Pifagor. Geometry of Evklid.\n",
    "    return (leg_1**2 + leg_2**2)**0.5  "
   ]
  },
  {
   "cell_type": "code",
   "execution_count": 25,
   "metadata": {},
   "outputs": [
    {
     "name": "stdout",
     "output_type": "stream",
     "text": [
      "Hypotenuse is:  5.0\n",
      "return sum of squares of triangle legs\n",
      "    Look here: Pifagor. =Geometry of Evklid=\n",
      "\n",
      "    Args:\n",
      "        leg_1 (float): length of the first leg\n",
      "        leg_2 (float): length of the second leg\n",
      "\n",
      "    Returns:\n",
      "        float: len of hypotenuse\n",
      "    \n"
     ]
    }
   ],
   "source": [
    "# Пример документ-строки\n",
    "# Можно использовать язык разметки RST(попробовал - не разобрался)\n",
    "def hypotenuse(leg_1: float, leg_2: float) -> float:    \n",
    "    '''return sum of squares of triangle legs\n",
    "    Look here: Pifagor. Geometry of Evklid\n",
    "\n",
    "    Args:\n",
    "        leg_1 (float): length of the first leg\n",
    "        leg_2 (float): length of the second leg\n",
    "\n",
    "    Returns:\n",
    "        float: len of hypotenuse\n",
    "    '''\n",
    "    return (leg_1**2 + leg_2**2)**0.5  \n",
    "\n",
    "def main():\n",
    "    x, y = [float(a) for a in input().split()]\n",
    "    print('Hypotenuse is: ', hypotenuse(x, y))\n",
    "    print(hypotenuse.__doc__)  # посмотреть документацию к строке.\n",
    "\n",
    "if __name__ == '__main__':\n",
    "    main()\n"
   ]
  },
  {
   "cell_type": "code",
   "execution_count": 24,
   "metadata": {},
   "outputs": [
    {
     "name": "stdout",
     "output_type": "stream",
     "text": [
      "Hypotenuse is:  5.0\n"
     ]
    }
   ],
   "source": [
    "# Пример документации с assert\n",
    "# При запуске с консоли можно прописать -О тогда assert будет игнорироваться\n",
    "def hypotenuse4(leg_1, leg_2):    \n",
    "    lenght_of_hypotenuse = (leg_1**2 + leg_2**2)**0.5\n",
    "    assert lenght_of_hypotenuse**2 == (leg_1**2 + leg_2**2), \"ouch!!! Pifagor doesn't work\"\n",
    "    return lenght_of_hypotenuse\n",
    "\n",
    "x, y = [float(a) for a in input().split()]\n",
    "print('Hypotenuse is: ', hypotenuse4(x, y))"
   ]
  },
  {
   "cell_type": "code",
   "execution_count": null,
   "metadata": {},
   "outputs": [],
   "source": [
    "# Библиотека PyContracts\n",
    "# Пример записи:\n",
    "@contract(a='int, >0', b='list[N], N>0', return='list[N]')"
   ]
  }
 ],
 "metadata": {
  "interpreter": {
   "hash": "19cd9e144062e1d74c30cc190641decf8dc4a282609cf1d935fcd87d48aceed2"
  },
  "kernelspec": {
   "display_name": "Python 3.9.7 64-bit ('base': conda)",
   "language": "python",
   "name": "python3"
  },
  "language_info": {
   "codemirror_mode": {
    "name": "ipython",
    "version": 3
   },
   "file_extension": ".py",
   "mimetype": "text/x-python",
   "name": "python",
   "nbconvert_exporter": "python",
   "pygments_lexer": "ipython3",
   "version": "3.9.7"
  },
  "orig_nbformat": 4
 },
 "nbformat": 4,
 "nbformat_minor": 2
}
