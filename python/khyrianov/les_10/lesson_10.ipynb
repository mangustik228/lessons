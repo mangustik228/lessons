{
 "cells": [
  {
   "cell_type": "markdown",
   "metadata": {},
   "source": [
    "## Работа в команде"
   ]
  },
  {
   "cell_type": "markdown",
   "metadata": {},
   "source": [
    "минусы работы в одиночку:  \n",
    "- мотивация\n",
    "- отсутсвие социума\n",
    "- проблема с организованностью"
   ]
  },
  {
   "cell_type": "markdown",
   "metadata": {},
   "source": [
    "Женщина - это хорошо  \n",
    "Режимы организации: парное программирование"
   ]
  },
  {
   "cell_type": "markdown",
   "metadata": {},
   "source": [
    "Manager() -> Developers(team_leader(TL)) -> developers(senior/middle/junior)*4  - так работает команда над проектом\n",
    "- manager - главное мотивация\n",
    "- team leader - главное знание и умение\n",
    "- developers - основная рабочая сила"
   ]
  },
  {
   "cell_type": "markdown",
   "metadata": {},
   "source": [
    "Quality_assurance(QA)(тестировщики/testers)  \n",
    "Главное поломать программу  \n",
    "могут также делиться на team leaders/ middle/ juniors ... и т.п.\n",
    "\n",
    "Bag_tracker - отслеживатель ошибок (пример bag_zila)  \n",
    "оформление ошибка как bag... или как запрос фичи\n",
    "\n",
    "Bag tracker:  \n",
    "ticket(open)(открывается тестировщиком) -> ticket(fixed)(чинится developer) -> ticket(closed)(закрывается тестировщиком)  \n",
    "может быть после open -> resolved(когда программист скажет что это не бага а фича)  \n",
    "могут скопиться много тикетов, тогда может придти менеджер"
   ]
  },
  {
   "cell_type": "markdown",
   "metadata": {},
   "source": [
    "Technical writers - отдел технических писателей (люди которые пишут/описывает техническую документацию)\n",
    "- Описывает интерфейсы и компоненты\n",
    "- Пользовательский мануал"
   ]
  },
  {
   "cell_type": "markdown",
   "metadata": {},
   "source": [
    "Грубо говоря - девочка дизайнер с художественным вкусом, также с пониманием эргономики.\n",
    "- UI/UX \n",
    "- UI - User Interface\n",
    "- UX - User Experience "
   ]
  },
  {
   "cell_type": "markdown",
   "metadata": {},
   "source": [
    "Architector - может быть или не быть  \n",
    "человек который знает принципиальные решения, который знает как все оганизовать по ТЗ менеджера и отдела UI\n",
    "разрисовывает как сделать схематично. Полное понимание проекта... "
   ]
  },
  {
   "cell_type": "markdown",
   "metadata": {},
   "source": [
    "Gourse - штука для визуализации работы участников  \n",
    "Курим мануал - устойчивый фразеолагизм"
   ]
  },
  {
   "cell_type": "markdown",
   "metadata": {},
   "source": [
    "## Git ветки"
   ]
  },
  {
   "cell_type": "markdown",
   "metadata": {},
   "source": [
    "`branch` - ответвление  \n",
    "может оказаться что ветки совсем не совместимы... Нельзя чтоб ветки долго существовали. \n",
    "Если ветки долго существует, то в итоге никак не поженить обратно...  \n",
    "Смысл git -> `ветвление` и `слияние`(merge commit)"
   ]
  },
  {
   "cell_type": "markdown",
   "metadata": {},
   "source": [
    "Команды git:\n",
    "- `git branch` посмотреть в какой ветке сейчас работается, и какие ветки сейчас есть \n",
    "- `git branch name_new _branch` - создание новой ветки\n",
    "- `git checkout name_new_branch` - перейти в новую ветку\n",
    "- `git checkout -b name_new_branch` - создать и сразу перейти в другую ветку\n",
    "- `git status` - также покажет что мы находимся в другой ветке\n",
    "- `git add` - добавить изменения\n",
    "- `git commit -m \"lala\"` - сохраним изменения... cохраним изменения уже в новой ветке\n",
    "- `git push` - поругается и скажет что эту ветку никто не создавал в гите\n",
    "- `git push --set-upstream origin name_new_branch` - добавит ветку в репозиторий\n",
    "- `git checkout master` - пересаживаемся на мастера\n",
    "- `git merge name_new_branch` - подтянул изменения из созданной ветки\n",
    "- `git log` - поссмотреть коммиты.\n",
    "- `git help branch` - поссмотреть синтаксис фукции branch\n",
    "- `git branch -d name_new_branch` - удаляем ветку. если удаляем то удаляем со всеми коммитами. так что либо предварительно смерджить либо быть уверенныи в действиях своих\n",
    "- `git branch -d -r origin/name_new_branch` - удаляем ветку в удаленном репозитории"
   ]
  },
  {
   "cell_type": "markdown",
   "metadata": {},
   "source": [
    "Pull request - механизм на github, где один программист запрашивает у другого внести изменения\n",
    "\"сделаем еще замечания\"... внести изменения"
   ]
  }
 ],
 "metadata": {
  "language_info": {
   "name": "python"
  },
  "orig_nbformat": 4
 },
 "nbformat": 4,
 "nbformat_minor": 2
}
