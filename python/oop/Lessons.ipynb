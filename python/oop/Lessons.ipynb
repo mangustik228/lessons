{
 "cells": [
  {
   "cell_type": "markdown",
   "metadata": {},
   "source": [
    "### Лекции по ООП"
   ]
  },
  {
   "cell_type": "markdown",
   "metadata": {},
   "source": [
    "### Видео 1 (основа-основ) `isinstance` / `type`"
   ]
  },
  {
   "cell_type": "markdown",
   "metadata": {},
   "source": [
    "[ссылка на видео](https://www.youtube.com/watch?v=jtIq61A1LLw&list=PLQAt0m1f9OHvyjJNjZK_unnLwMOXPTja8)"
   ]
  },
  {
   "cell_type": "markdown",
   "metadata": {},
   "source": [
    "что такое объект в программирование:  \n",
    "В Питоне любое значение представляет собой объект  \n",
    "Объект - контейнер, состоящий из данных и поведения:\n",
    "- данные и их состояние (атрибуты)\n",
    "- поведение (методы)"
   ]
  },
  {
   "cell_type": "code",
   "execution_count": 4,
   "metadata": {},
   "outputs": [],
   "source": [
    "class Car():\n",
    "    model = 'BMV'\n",
    "    engine = 1.6"
   ]
  },
  {
   "cell_type": "code",
   "execution_count": 5,
   "metadata": {},
   "outputs": [
    {
     "data": {
      "text/plain": [
       "__main__.Car"
      ]
     },
     "execution_count": 5,
     "metadata": {},
     "output_type": "execute_result"
    }
   ],
   "source": [
    "a = Car()\n",
    "type(a)"
   ]
  },
  {
   "cell_type": "code",
   "execution_count": 6,
   "metadata": {},
   "outputs": [
    {
     "data": {
      "text/plain": [
       "True"
      ]
     },
     "execution_count": 6,
     "metadata": {},
     "output_type": "execute_result"
    }
   ],
   "source": [
    "isinstance(a, Car)"
   ]
  },
  {
   "cell_type": "code",
   "execution_count": 7,
   "metadata": {},
   "outputs": [
    {
     "name": "stdout",
     "output_type": "stream",
     "text": [
      "BMV\n"
     ]
    }
   ],
   "source": [
    "c = Car()\n",
    "print(c.model)"
   ]
  },
  {
   "cell_type": "markdown",
   "metadata": {},
   "source": [
    "### Видео 2 (Атрибуты **класса**) (изменение/удаление/доступ)"
   ]
  },
  {
   "cell_type": "code",
   "execution_count": 8,
   "metadata": {},
   "outputs": [],
   "source": [
    "class Person:\n",
    "    name = 'Ivan'  # Переменные - атрибуты класса\n",
    "    age = 30"
   ]
  },
  {
   "cell_type": "code",
   "execution_count": 9,
   "metadata": {},
   "outputs": [
    {
     "data": {
      "text/plain": [
       "30"
      ]
     },
     "execution_count": 9,
     "metadata": {},
     "output_type": "execute_result"
    }
   ],
   "source": [
    "Person.age"
   ]
  },
  {
   "cell_type": "code",
   "execution_count": 11,
   "metadata": {},
   "outputs": [
    {
     "name": "stdout",
     "output_type": "stream",
     "text": [
      "{'__module__': '__main__', 'name': 'Ivan', 'age': 30, '__dict__': <attribute '__dict__' of 'Person' objects>, '__weakref__': <attribute '__weakref__' of 'Person' objects>, '__doc__': None}\n"
     ]
    },
    {
     "data": {
      "text/plain": [
       "'Ivan'"
      ]
     },
     "execution_count": 11,
     "metadata": {},
     "output_type": "execute_result"
    }
   ],
   "source": [
    "print(Person.__dict__) # Посмотреть все атрибуты классы (такая структура называется mappingproxy)\n",
    "getattr(Person, 'name') # Посмотреть определенный атрибут"
   ]
  },
  {
   "cell_type": "code",
   "execution_count": 13,
   "metadata": {},
   "outputs": [
    {
     "data": {
      "text/plain": [
       "100"
      ]
     },
     "execution_count": 13,
     "metadata": {},
     "output_type": "execute_result"
    }
   ],
   "source": [
    "getattr(Person, 'x', 100)  # Вернуть 100 если нет атрибута x, если бы атрибут был: вернул бы его значения"
   ]
  },
  {
   "cell_type": "code",
   "execution_count": 15,
   "metadata": {},
   "outputs": [
    {
     "data": {
      "text/plain": [
       "'misha'"
      ]
     },
     "execution_count": 15,
     "metadata": {},
     "output_type": "execute_result"
    }
   ],
   "source": [
    "Person.name = 'misha'  # Передать атрибуту новое значения\n",
    "Person.name"
   ]
  },
  {
   "cell_type": "code",
   "execution_count": 17,
   "metadata": {},
   "outputs": [
    {
     "data": {
      "text/plain": [
       "'vot eto povorot'"
      ]
     },
     "execution_count": 17,
     "metadata": {},
     "output_type": "execute_result"
    }
   ],
   "source": [
    "Person.new_valiable = 'vot eto povorot'  # Динамически создать новый атрибут\n",
    "Person.new_valiable"
   ]
  },
  {
   "cell_type": "code",
   "execution_count": 20,
   "metadata": {},
   "outputs": [
    {
     "data": {
      "text/plain": [
       "200"
      ]
     },
     "execution_count": 20,
     "metadata": {},
     "output_type": "execute_result"
    }
   ],
   "source": [
    "setattr(Person, 'new_valiable2', 200)  # Установить новый атрибут со значением 200\n",
    "Person.new_valiable2"
   ]
  },
  {
   "cell_type": "code",
   "execution_count": 21,
   "metadata": {},
   "outputs": [],
   "source": [
    "del Person.age  # Удалить атрибут из класса"
   ]
  },
  {
   "cell_type": "code",
   "execution_count": 23,
   "metadata": {},
   "outputs": [],
   "source": [
    "delattr(Person, 'new_valiable2')  # Удалить атрибут класса (второй вариант)"
   ]
  },
  {
   "cell_type": "code",
   "execution_count": 24,
   "metadata": {},
   "outputs": [
    {
     "data": {
      "text/plain": [
       "mappingproxy({'__module__': '__main__',\n",
       "              'name': 'misha',\n",
       "              '__dict__': <attribute '__dict__' of 'Person' objects>,\n",
       "              '__weakref__': <attribute '__weakref__' of 'Person' objects>,\n",
       "              '__doc__': None,\n",
       "              'new_valiable': 'vot eto povorot'})"
      ]
     },
     "execution_count": 24,
     "metadata": {},
     "output_type": "execute_result"
    }
   ],
   "source": [
    "Person.__dict__  "
   ]
  },
  {
   "cell_type": "code",
   "execution_count": 27,
   "metadata": {},
   "outputs": [
    {
     "data": {
      "text/plain": [
       "100"
      ]
     },
     "execution_count": 27,
     "metadata": {},
     "output_type": "execute_result"
    }
   ],
   "source": [
    "a = Person()\n",
    "b = Person()\n",
    "Person.z = 100  # Добавив в класс : добавили и во все экземпляры\n",
    "a.b = 200  # Добавив атрибут в экземпляр : добавили только в этот экземпляр"
   ]
  },
  {
   "cell_type": "markdown",
   "metadata": {},
   "source": [
    "### Видео 3 (Атрибуты экземпляра класса)"
   ]
  },
  {
   "cell_type": "code",
   "execution_count": 1,
   "metadata": {},
   "outputs": [],
   "source": [
    "class Car:\n",
    "    model = 'bmv'\n",
    "    engine = 1.7"
   ]
  },
  {
   "cell_type": "code",
   "execution_count": 2,
   "metadata": {},
   "outputs": [],
   "source": [
    "a1 = Car()\n",
    "a2 = Car()"
   ]
  },
  {
   "cell_type": "code",
   "execution_count": 6,
   "metadata": {},
   "outputs": [
    {
     "data": {
      "text/plain": [
       "{}"
      ]
     },
     "execution_count": 6,
     "metadata": {},
     "output_type": "execute_result"
    }
   ],
   "source": [
    "Car.__dict__\n",
    "a1.model\n",
    "a1.__dict__  # Обрати внимание, что атртибутов объекта нет!"
   ]
  },
  {
   "cell_type": "code",
   "execution_count": 9,
   "metadata": {},
   "outputs": [
    {
     "data": {
      "text/plain": [
       "{'sit': 4}"
      ]
     },
     "execution_count": 9,
     "metadata": {},
     "output_type": "execute_result"
    }
   ],
   "source": [
    "a1.sit = 4\n",
    "a1.__dict__  # А теперь появился атрибут в экземпляре класса"
   ]
  },
  {
   "cell_type": "code",
   "execution_count": 10,
   "metadata": {},
   "outputs": [
    {
     "data": {
      "text/plain": [
       "{'sit': 4, 'model': 'Lada'}"
      ]
     },
     "execution_count": 10,
     "metadata": {},
     "output_type": "execute_result"
    }
   ],
   "source": [
    "a1.model = 'Lada'  # А теперь отображается старый атрибут\n",
    "a1.__dict__  # Т.к. как это атрибут экземпляра не равен атрибуту класса "
   ]
  },
  {
   "cell_type": "markdown",
   "metadata": {},
   "source": [
    "Каждый экземпляр класса представляет собой пространство имен  \n",
    "При обращение к атрибуту, сначало ищет его в пространстве имен объекта, потом класса\n"
   ]
  },
  {
   "cell_type": "markdown",
   "metadata": {},
   "source": [
    "### Видео 4 (Функция как атрибут класса)"
   ]
  },
  {
   "cell_type": "code",
   "execution_count": 9,
   "metadata": {},
   "outputs": [
    {
     "name": "stdout",
     "output_type": "stream",
     "text": [
      "let's go\n"
     ]
    }
   ],
   "source": [
    "class Car:\n",
    "    model = 'bmv'\n",
    "    engine = 1.3\n",
    "    \n",
    "    @staticmethod # без нее нельзя будет вызвать метод для экземпляра\n",
    "    def drive():\n",
    "        print(\"let's go\")\n",
    "        \n",
    "Car.drive()  # Вызов функции drive "
   ]
  },
  {
   "cell_type": "code",
   "execution_count": 4,
   "metadata": {},
   "outputs": [
    {
     "data": {
      "text/plain": [
       "mappingproxy({'__module__': '__main__',\n",
       "              'model': 'bmv',\n",
       "              'engine': 1.3,\n",
       "              'drive': <function __main__.Car.drive()>,\n",
       "              '__dict__': <attribute '__dict__' of 'Car' objects>,\n",
       "              '__weakref__': <attribute '__weakref__' of 'Car' objects>,\n",
       "              '__doc__': None})"
      ]
     },
     "execution_count": 4,
     "metadata": {},
     "output_type": "execute_result"
    }
   ],
   "source": [
    "Car.__dict__  # Поглядеть что есть в этом классе"
   ]
  },
  {
   "cell_type": "code",
   "execution_count": 5,
   "metadata": {},
   "outputs": [
    {
     "data": {
      "text/plain": [
       "<function __main__.Car.drive()>"
      ]
     },
     "execution_count": 5,
     "metadata": {},
     "output_type": "execute_result"
    }
   ],
   "source": [
    "getattr(Car, 'drive')  # Обратится к функции, просто выведет инфо по ней\n",
    "Car.drive  # Аналогично"
   ]
  },
  {
   "cell_type": "code",
   "execution_count": 10,
   "metadata": {},
   "outputs": [
    {
     "data": {
      "text/plain": [
       "<function __main__.Car.drive()>"
      ]
     },
     "execution_count": 10,
     "metadata": {},
     "output_type": "execute_result"
    }
   ],
   "source": [
    "a = Car()\n",
    "a.drive  # Здесь выдает, что это уже не функция, а метод. т.е. метод для экземпляра класса, а ф-ция для класса"
   ]
  },
  {
   "cell_type": "code",
   "execution_count": 11,
   "metadata": {},
   "outputs": [
    {
     "name": "stdout",
     "output_type": "stream",
     "text": [
      "let's go\n"
     ]
    }
   ],
   "source": [
    "a.drive()  # При таком вызову ошибка, надо объявлять по другому"
   ]
  },
  {
   "cell_type": "markdown",
   "metadata": {},
   "source": [
    "### Видео 5 (Методы экземпяра, атрибут `self`)"
   ]
  },
  {
   "cell_type": "code",
   "execution_count": 45,
   "metadata": {},
   "outputs": [],
   "source": [
    "class Cat:\n",
    "    breed = 'pers'\n",
    "    def hello(*args):\n",
    "        print('hello world', args)\n",
    "    \n",
    "    def show_breed(instance):\n",
    "        print(f'my bread is {instance.breed}')\n",
    "\n",
    "    def show_name(instance):\n",
    "        if hasattr(instance, 'name'):  # Проверяет есть ли такой атрибут(методом hassattr)\n",
    "            print(f'my name is {instance.name}')\n",
    "        else:\n",
    "            print('Nothing')\n",
    "    \n",
    "    def set_value(koshka, name, age=0):  # Первый аргумент - это передаваемый объект, второй значение\n",
    "        koshka.name = name\n",
    "        koshka.age = age  # age присвоется по умолчанию ноль кошке которой вызовем метод set_value\n",
    "        \n",
    "    \n",
    "bob = Cat()"
   ]
  },
  {
   "cell_type": "code",
   "execution_count": 48,
   "metadata": {},
   "outputs": [
    {
     "name": "stdout",
     "output_type": "stream",
     "text": [
      "False\n",
      "True\n"
     ]
    }
   ],
   "source": [
    "print(hasattr(bob, 'name'))  # Проверка на наличие атрибута\n",
    "print(hasattr(bob, 'breed'))  # Проверка на наличие атрибута"
   ]
  },
  {
   "cell_type": "code",
   "execution_count": 38,
   "metadata": {},
   "outputs": [
    {
     "name": "stdout",
     "output_type": "stream",
     "text": [
      "hello world (<__main__.Cat object at 0x0000022483FF53D0>,)\n",
      "my bread is pers\n",
      "my bread is siam\n",
      "Nothing\n",
      "my name is Mary\n"
     ]
    }
   ],
   "source": [
    "bob.hello()  # Видим, что передали в метод hello (передали объект bob)\n",
    "Cat.hello, bob.hello  # Получим функцию и метод\n",
    "walt = Cat()\n",
    "walt.show_breed()  # Показывает первончальный атрибут\n",
    "walt.breed = 'siam'  # Переназначили атрибут\n",
    "walt.show_breed()  # Проверили\n",
    "mary = Cat()\n",
    "mary.show_name()  # Запускаем метод\n",
    "mary.name = 'Mary'  # Назначаем новый атрибут\n",
    "mary.show_name()  # Запускаем новый атрибут по новой"
   ]
  },
  {
   "cell_type": "code",
   "execution_count": 41,
   "metadata": {},
   "outputs": [
    {
     "name": "stdout",
     "output_type": "stream",
     "text": [
      "Nothing\n",
      "my name is tom\n"
     ]
    }
   ],
   "source": [
    "tom = Cat()\n",
    "tom.show_name()\n",
    "tom.set_value('tom')  # Вызываем метод для создания имени\n",
    "tom.show_name() "
   ]
  },
  {
   "cell_type": "code",
   "execution_count": 44,
   "metadata": {},
   "outputs": [
    {
     "data": {
      "text/plain": [
       "0"
      ]
     },
     "execution_count": 44,
     "metadata": {},
     "output_type": "execute_result"
    }
   ],
   "source": [
    "jerry = Cat()\n",
    "jerry.set_value('Jerry')\n",
    "jerry.age"
   ]
  },
  {
   "cell_type": "code",
   "execution_count": 49,
   "metadata": {},
   "outputs": [],
   "source": [
    "class Cat_type_2:\n",
    "    breed = 'pers'\n",
    "    def hello(*args):\n",
    "        print('hello world', args)\n",
    "    \n",
    "    def show_breed(self):\n",
    "        print(f'my bread is {self.breed}')\n",
    "\n",
    "    def show_name(self):\n",
    "        if hasattr(self, 'name'):  # Проверяет есть ли такой атрибут(методом hassattr)\n",
    "            print(f'my name is {self.name}')\n",
    "        else:\n",
    "            print('Nothing')\n",
    "    \n",
    "    def set_value(self, name, age=0):  # Первый аргумент - это передаваемый объект, второй значение\n",
    "        self.name = name\n",
    "        self.age = age  # age присвоется по умолчанию ноль кошке которой вызовем метод set_value\n",
    "        \n",
    "    \n",
    "bob = Cat()"
   ]
  },
  {
   "cell_type": "code",
   "execution_count": 52,
   "metadata": {},
   "outputs": [
    {
     "name": "stdout",
     "output_type": "stream",
     "text": [
      "my name is Bob\n"
     ]
    },
    {
     "data": {
      "text/plain": [
       "0"
      ]
     },
     "execution_count": 52,
     "metadata": {},
     "output_type": "execute_result"
    }
   ],
   "source": [
    "bob.set_value('Bob')\n",
    "bob.show_name()\n",
    "bob.age"
   ]
  },
  {
   "cell_type": "markdown",
   "metadata": {},
   "source": [
    "### Видео 6 (Инициализация объекта `init`)"
   ]
  },
  {
   "cell_type": "markdown",
   "metadata": {},
   "source": [
    "Магические методы : который начинаются с `__` и заканчиваются `__`  \n",
    "Каждый магический метод срабатывает в определленый момент. Конкретно init будет срабатываеть после создания объекта  \n",
    "Важно что создание объекта - это магический метод `__new__`, `__init__` происходит после создания пространства имен."
   ]
  },
  {
   "cell_type": "code",
   "execution_count": 66,
   "metadata": {},
   "outputs": [
    {
     "name": "stdout",
     "output_type": "stream",
     "text": [
      "hello <__main__.Cat object at 0x00000224840109A0> siam tom 1 white\n"
     ]
    }
   ],
   "source": [
    "class Cat:\n",
    "    breed = 'pers'\n",
    "    \n",
    "    def set_value(self, name, age=0):\n",
    "        self.name = name\n",
    "        self.age = age\n",
    "\n",
    "    def __init__(self, name, breed='perse', age=1, color='white') -> None:\n",
    "        print('hello', self, breed, name, age, color)\n",
    "        self.name = name  # Без self.name - можно, просто не сохранится переменная.\n",
    "        self.age = age       \n",
    "        self.age = breed       \n",
    "        self.age = color       \n",
    "        \n",
    "bob = Cat('tom', 'siam')"
   ]
  },
  {
   "cell_type": "code",
   "execution_count": 67,
   "metadata": {},
   "outputs": [
    {
     "name": "stdout",
     "output_type": "stream",
     "text": [
      "hello <__main__.Cat object at 0x0000022483FEBE80> perse Kelly 3 white\n"
     ]
    }
   ],
   "source": [
    "kelly = Cat('Kelly', age=3)"
   ]
  },
  {
   "cell_type": "markdown",
   "metadata": {},
   "source": [
    "### Видео 7 (Создание класса и методов. класс `Point`) создание списка объекта"
   ]
  },
  {
   "cell_type": "code",
   "execution_count": 71,
   "metadata": {},
   "outputs": [],
   "source": [
    "class Point:\n",
    "\n",
    "    def __init__(self, coord_x, coord_y) -> None:\n",
    "        self.x = coord_x\n",
    "        self.y = coord_y\n",
    "\n",
    "    def move_to(self, new_x, new_y):\n",
    "        self.x = new_x\n",
    "        self.y = new_y\n",
    "\n",
    "    def go_home(self):\n",
    "        self.x = 0\n",
    "        self.y = 0\n"
   ]
  },
  {
   "cell_type": "code",
   "execution_count": 86,
   "metadata": {},
   "outputs": [],
   "source": [
    "from math import sqrt"
   ]
  },
  {
   "cell_type": "code",
   "execution_count": 95,
   "metadata": {},
   "outputs": [],
   "source": [
    "# Принцип DRY - don't repeat yourself\n",
    "class Point_type2:\n",
    "\n",
    "    def __init__(self, coord_x, coord_y) -> None:\n",
    "        self.move_to(coord_x, coord_y)\n",
    "\n",
    "    def move_to(self, new_x, new_y):  # Получается что основной функционал в этом методе\n",
    "        self.x = new_x\n",
    "        self.y = new_y\n",
    "\n",
    "    def go_home(self):\n",
    "        self.move_to(0, 0)\n",
    "\n",
    "    def print_point(self):\n",
    "        print(f'Координата x: {self.x} | Координата y: {self.y}')\n",
    "        \n",
    "    def calc_distance(self, another_point):\n",
    "        if not isinstance(another_point, Point_type2):\n",
    "            raise ValueError('Аргумент не принадлежит классу точка_тип2')\n",
    "        distance = ((self.x - another_point.x)**2 + (self.y - another_point.y)**2)**0.5\n",
    "        return distance"
   ]
  },
  {
   "cell_type": "code",
   "execution_count": 96,
   "metadata": {},
   "outputs": [
    {
     "name": "stdout",
     "output_type": "stream",
     "text": [
      "Координата x: 24 | Координата y: 32\n",
      "Координата x: 5 | Координата y: 2\n",
      "Координата x: 0 | Координата y: 0\n",
      "10.0\n"
     ]
    },
    {
     "ename": "ValueError",
     "evalue": "Аргумент не принадлежит классу точка_тип2",
     "output_type": "error",
     "traceback": [
      "\u001b[1;31m---------------------------------------------------------------------------\u001b[0m",
      "\u001b[1;31mValueError\u001b[0m                                Traceback (most recent call last)",
      "\u001b[1;32m~\\AppData\\Local\\Temp/ipykernel_7348/2824663820.py\u001b[0m in \u001b[0;36m<module>\u001b[1;34m\u001b[0m\n\u001b[0;32m     12\u001b[0m \u001b[0mp6\u001b[0m \u001b[1;33m=\u001b[0m \u001b[0mPoint_type2\u001b[0m\u001b[1;33m(\u001b[0m\u001b[1;36m0\u001b[0m\u001b[1;33m,\u001b[0m \u001b[1;36m8\u001b[0m\u001b[1;33m)\u001b[0m\u001b[1;33m\u001b[0m\u001b[1;33m\u001b[0m\u001b[0m\n\u001b[0;32m     13\u001b[0m \u001b[0mprint\u001b[0m\u001b[1;33m(\u001b[0m\u001b[0mp5\u001b[0m\u001b[1;33m.\u001b[0m\u001b[0mcalc_distance\u001b[0m\u001b[1;33m(\u001b[0m\u001b[0mp6\u001b[0m\u001b[1;33m)\u001b[0m\u001b[1;33m)\u001b[0m\u001b[1;33m\u001b[0m\u001b[1;33m\u001b[0m\u001b[0m\n\u001b[1;32m---> 14\u001b[1;33m \u001b[0mp5\u001b[0m\u001b[1;33m.\u001b[0m\u001b[0mcalc_distance\u001b[0m\u001b[1;33m(\u001b[0m\u001b[0mp1\u001b[0m\u001b[1;33m)\u001b[0m  \u001b[1;31m# Выдает ошибку, т.к. р1 не относится к классу Point_type2\u001b[0m\u001b[1;33m\u001b[0m\u001b[1;33m\u001b[0m\u001b[0m\n\u001b[0m\u001b[0;32m     15\u001b[0m \u001b[1;33m\u001b[0m\u001b[0m\n",
      "\u001b[1;32m~\\AppData\\Local\\Temp/ipykernel_7348/1166354887.py\u001b[0m in \u001b[0;36mcalc_distance\u001b[1;34m(self, another_point)\u001b[0m\n\u001b[0;32m     17\u001b[0m     \u001b[1;32mdef\u001b[0m \u001b[0mcalc_distance\u001b[0m\u001b[1;33m(\u001b[0m\u001b[0mself\u001b[0m\u001b[1;33m,\u001b[0m \u001b[0manother_point\u001b[0m\u001b[1;33m)\u001b[0m\u001b[1;33m:\u001b[0m\u001b[1;33m\u001b[0m\u001b[1;33m\u001b[0m\u001b[0m\n\u001b[0;32m     18\u001b[0m         \u001b[1;32mif\u001b[0m \u001b[1;32mnot\u001b[0m \u001b[0misinstance\u001b[0m\u001b[1;33m(\u001b[0m\u001b[0manother_point\u001b[0m\u001b[1;33m,\u001b[0m \u001b[0mPoint_type2\u001b[0m\u001b[1;33m)\u001b[0m\u001b[1;33m:\u001b[0m\u001b[1;33m\u001b[0m\u001b[1;33m\u001b[0m\u001b[0m\n\u001b[1;32m---> 19\u001b[1;33m             \u001b[1;32mraise\u001b[0m \u001b[0mValueError\u001b[0m\u001b[1;33m(\u001b[0m\u001b[1;34m'Аргумент не принадлежит классу точка_тип2'\u001b[0m\u001b[1;33m)\u001b[0m\u001b[1;33m\u001b[0m\u001b[1;33m\u001b[0m\u001b[0m\n\u001b[0m\u001b[0;32m     20\u001b[0m         \u001b[0mdistance\u001b[0m \u001b[1;33m=\u001b[0m \u001b[1;33m(\u001b[0m\u001b[1;33m(\u001b[0m\u001b[0mself\u001b[0m\u001b[1;33m.\u001b[0m\u001b[0mx\u001b[0m \u001b[1;33m-\u001b[0m \u001b[0manother_point\u001b[0m\u001b[1;33m.\u001b[0m\u001b[0mx\u001b[0m\u001b[1;33m)\u001b[0m\u001b[1;33m**\u001b[0m\u001b[1;36m2\u001b[0m \u001b[1;33m+\u001b[0m \u001b[1;33m(\u001b[0m\u001b[0mself\u001b[0m\u001b[1;33m.\u001b[0m\u001b[0my\u001b[0m \u001b[1;33m-\u001b[0m \u001b[0manother_point\u001b[0m\u001b[1;33m.\u001b[0m\u001b[0my\u001b[0m\u001b[1;33m)\u001b[0m\u001b[1;33m**\u001b[0m\u001b[1;36m2\u001b[0m\u001b[1;33m)\u001b[0m\u001b[1;33m**\u001b[0m\u001b[1;36m0.5\u001b[0m\u001b[1;33m\u001b[0m\u001b[1;33m\u001b[0m\u001b[0m\n\u001b[0;32m     21\u001b[0m         \u001b[1;32mreturn\u001b[0m \u001b[0mdistance\u001b[0m\u001b[1;33m\u001b[0m\u001b[1;33m\u001b[0m\u001b[0m\n",
      "\u001b[1;31mValueError\u001b[0m: Аргумент не принадлежит классу точка_тип2"
     ]
    }
   ],
   "source": [
    "p1 = Point(3, 5)\n",
    "p2 = Point(1, -4)\n",
    "p3 = Point(0, 0)\n",
    "p3.x\n",
    "p4 = Point_type2(24, 32)\n",
    "p4.print_point()\n",
    "p4.move_to(5, 2)\n",
    "p4.print_point()\n",
    "p4.go_home()\n",
    "p4.print_point()\n",
    "p5 = Point_type2(6, 0)\n",
    "p6 = Point_type2(0, 8)\n",
    "print(p5.calc_distance(p6))\n",
    "p5.calc_distance(p1)  # Выдает ошибку, т.к. р1 не относится к классу Point_type2\n",
    "\n"
   ]
  },
  {
   "cell_type": "code",
   "execution_count": 102,
   "metadata": {},
   "outputs": [],
   "source": [
    "# Принцип DRY - don't repeat yourself\n",
    "class Point_type3:\n",
    "    \n",
    "    list_points = []\n",
    "\n",
    "    def __init__(self, coord_x, coord_y) -> None:\n",
    "        self.move_to(coord_x, coord_y)\n",
    "        Point_type3.list_points.append(self) \n",
    "\n",
    "    def move_to(self, new_x, new_y):  # Получается что основной функционал в этом методе\n",
    "        self.x = new_x\n",
    "        self.y = new_y\n",
    "\n",
    "    def go_home(self):\n",
    "        self.move_to(0, 0)\n",
    "\n",
    "    def print_point(self):\n",
    "        print(f'Координата x: {self.x} | Координата y: {self.y}')\n",
    "        \n",
    "    def calc_distance(self, another_point):\n",
    "        if not isinstance(another_point, Point_type2):\n",
    "            raise ValueError('Аргумент не принадлежит классу точка_тип2')\n",
    "        distance = ((self.x - another_point.x)**2 + (self.y - another_point.y)**2)**0.5\n",
    "        return distance"
   ]
  },
  {
   "cell_type": "code",
   "execution_count": 104,
   "metadata": {},
   "outputs": [
    {
     "data": {
      "text/plain": [
       "[<__main__.Point_type3 at 0x2248409de80>,\n",
       " <__main__.Point_type3 at 0x2248409d760>,\n",
       " <__main__.Point_type3 at 0x224840ce730>,\n",
       " <__main__.Point_type3 at 0x224840ce820>,\n",
       " <__main__.Point_type3 at 0x224840ce460>,\n",
       " <__main__.Point_type3 at 0x224840ce370>,\n",
       " <__main__.Point_type3 at 0x224840ceeb0>,\n",
       " <__main__.Point_type3 at 0x224840ce910>]"
      ]
     },
     "execution_count": 104,
     "metadata": {},
     "output_type": "execute_result"
    }
   ],
   "source": [
    "p1 = Point_type3(5, 3)\n",
    "p2 = Point_type3(2, 5)\n",
    "p3 = Point_type3(1, 7)\n",
    "p4 = Point_type3(12, 5)\n",
    "\n",
    "Point_type3.list_points\n"
   ]
  },
  {
   "cell_type": "markdown",
   "metadata": {},
   "source": [
    "### Видео 8 (Моносостояние)(паттерн моносостояние)"
   ]
  },
  {
   "cell_type": "code",
   "execution_count": 106,
   "metadata": {},
   "outputs": [],
   "source": [
    "class Cat:\n",
    "    breed = 'siam'"
   ]
  },
  {
   "cell_type": "code",
   "execution_count": 108,
   "metadata": {},
   "outputs": [],
   "source": [
    "a = Cat()\n",
    "b = Cat()\n",
    "a.breed = 'pers'  # Данное изменение не влияет на экземпляр b\n",
    "b.color = 'black'  # Данное изменение также отображется только на 1 экземпляр"
   ]
  },
  {
   "cell_type": "code",
   "execution_count": 114,
   "metadata": {},
   "outputs": [],
   "source": [
    "class Cat:\n",
    "    __shared_attr = {   # Создаем словарь со значениями\n",
    "        'breed' : 'pers',\n",
    "        'color' : 'yellow',\n",
    "    }\n",
    "    \n",
    "    def __init__(self) -> None:\n",
    "        self.__dict__ = Cat.__shared_attr  # У всех кошек атрибуты хранятся в словаре"
   ]
  },
  {
   "cell_type": "code",
   "execution_count": 113,
   "metadata": {},
   "outputs": [
    {
     "data": {
      "text/plain": [
       "'Bob'"
      ]
     },
     "execution_count": 113,
     "metadata": {},
     "output_type": "execute_result"
    }
   ],
   "source": [
    "d = Cat()\n",
    "j = Cat()\n",
    "d.breed = 'siam' # Все становятся сиамами\n",
    "print(j.breed)\n",
    "g = Cat()\n",
    "g.name = 'Bob' # Бобы становятся везде\n",
    "print(j.name)\n",
    "\n",
    "# Это происходит т.к. как у всех объектов класса хранится ссылка на один и тот же словарь"
   ]
  },
  {
   "cell_type": "markdown",
   "metadata": {},
   "source": [
    "### Видео 9 (Публичные, приватные, защищенные атрибуты и методы)"
   ]
  },
  {
   "cell_type": "markdown",
   "metadata": {},
   "source": [
    "По сути `защищенные переменные`(одно подчеркивание в начале): указание на то что атрибут лучше не использовать вне класса  \n",
    "По факту ни на что не влияет (это просто согласовано между разработчиками)  \n",
    "  \n",
    "Приватные переменные(два подчеркивание в начале) - доступа нет вне класса\n",
    "\n",
    "Инкапсуляция - сокрытие обработки защищенные атрибутов (короче выносят защищенные атрибуты (наверно))\n",
    "\n",
    "**Методы** также могут быть защищенными\n",
    "\n",
    "Если когда надо будить защитить данные внутри класса - существует модуль `accessify` с декораторами protected & private"
   ]
  },
  {
   "cell_type": "code",
   "execution_count": 124,
   "metadata": {},
   "outputs": [],
   "source": [
    "class BankAccount:\n",
    "    \n",
    "    def __init__(self, name, balance, passport) -> None:\n",
    "        self.name = name\n",
    "        self._balance = balance  # Добавления одного нижнего подчеркивая и атрибут защищен\n",
    "        self.__passport = passport\n",
    "        \n",
    "    # def print_public_data(self):  тут все атрибуты экземпляра публичные\n",
    "    #     print(self.name, '|', self.balance, '|', self.passport)\n",
    "        \n",
    "    # def print_protected_data(self): # тут баланс и паспорт пуличны\n",
    "    #     print(self.name, '|', self._balance, '|', self._passport)\n",
    "    \n",
    "    def print_privat_data(self): # тут баланс и паспорт пуличны\n",
    "        print(self.name, '|', self._balance, '|', self.__passport)\n",
    "        \n",
    "account1 = BankAccount('Bob', 100000, 9743292743)"
   ]
  },
  {
   "cell_type": "code",
   "execution_count": null,
   "metadata": {},
   "outputs": [],
   "source": [
    "# Вариант работы который данные публичны\n",
    "account1.print_data()\n",
    "print(account1.balance)\n",
    "print(account1.name)\n",
    "print(account1.passport)"
   ]
  },
  {
   "cell_type": "code",
   "execution_count": 122,
   "metadata": {},
   "outputs": [
    {
     "name": "stdout",
     "output_type": "stream",
     "text": [
      "Bob | 100000 | 9743292743\n",
      "Bob\n",
      "100000\n"
     ]
    }
   ],
   "source": [
    "account1.print_protected_data()\n",
    "print(account1.name)\n",
    "print(account1._balance)\n"
   ]
  },
  {
   "cell_type": "code",
   "execution_count": 126,
   "metadata": {},
   "outputs": [
    {
     "name": "stdout",
     "output_type": "stream",
     "text": [
      "Bob | 100000 | 9743292743\n",
      "Bob\n"
     ]
    }
   ],
   "source": [
    "account1.print_privat_data()\n",
    "print(account1.name)\n",
    "# print(account1.__passport) Не выдает защищенный атрибут\n"
   ]
  },
  {
   "cell_type": "code",
   "execution_count": 128,
   "metadata": {},
   "outputs": [
    {
     "name": "stdout",
     "output_type": "stream",
     "text": [
      "['_BankAccount__passport', '__class__', '__delattr__', '__dict__', '__dir__', '__doc__', '__eq__', '__format__', '__ge__', '__getattribute__', '__gt__', '__hash__', '__init__', '__init_subclass__', '__le__', '__lt__', '__module__', '__ne__', '__new__', '__reduce__', '__reduce_ex__', '__repr__', '__setattr__', '__sizeof__', '__str__', '__subclasshook__', '__weakref__', '_balance', 'name', 'print_privat_data']\n"
     ]
    }
   ],
   "source": [
    "print(dir(account1))  # Смотрим аттрибуты у объекта ассount1"
   ]
  },
  {
   "cell_type": "code",
   "execution_count": 130,
   "metadata": {},
   "outputs": [
    {
     "data": {
      "text/plain": [
       "9743292743"
      ]
     },
     "execution_count": 130,
     "metadata": {},
     "output_type": "execute_result"
    }
   ],
   "source": [
    "account1._BankAccount__passport  # Таким кривым методом можно обратится к защищенному атрибуту"
   ]
  },
  {
   "cell_type": "markdown",
   "metadata": {},
   "source": [
    "### Видео 10 (Геттер и сеттер / знакомство с `property`)"
   ]
  },
  {
   "cell_type": "markdown",
   "metadata": {},
   "source": [
    "`getter` - получает значения  \n",
    "`setter` - устанавливает значение  \n",
    "  \n",
    "`Property` - вызов свойства"
   ]
  },
  {
   "cell_type": "code",
   "execution_count": 131,
   "metadata": {},
   "outputs": [],
   "source": [
    "class BankAccount:\n",
    "    \n",
    "    def __init__(self, name, balance) -> None:\n",
    "        self.name = name\n",
    "        self.balance = balance\n",
    "        \n",
    "ivan = BankAccount('Ivan', 100)\n",
    "ivan.balance = 'hello'  # Две проблемы: 1. можно обратиться, 2. можно вставиться строку"
   ]
  },
  {
   "cell_type": "code",
   "execution_count": 137,
   "metadata": {},
   "outputs": [],
   "source": [
    "class BankAccount:\n",
    "    \n",
    "    def __init__(self, name, balance) -> None:\n",
    "        self.name = name\n",
    "        self.__balance = balance \n",
    "        \n",
    "    def get_balance(self):\n",
    "        return self.__balance\n",
    "    \n",
    "    def set_balance(self, balance):\n",
    "        if isinstance(balance, (int, float)):\n",
    "            self.__balance = balance\n",
    "        else:\n",
    "            raise ValueError('Баланс должен быть числом')"
   ]
  },
  {
   "cell_type": "code",
   "execution_count": 134,
   "metadata": {},
   "outputs": [],
   "source": [
    "petr = BankAccount('Petr', 200)"
   ]
  },
  {
   "cell_type": "code",
   "execution_count": 135,
   "metadata": {},
   "outputs": [
    {
     "data": {
      "text/plain": [
       "200"
      ]
     },
     "execution_count": 135,
     "metadata": {},
     "output_type": "execute_result"
    }
   ],
   "source": [
    "petr.get_balance()"
   ]
  },
  {
   "cell_type": "code",
   "execution_count": 136,
   "metadata": {},
   "outputs": [
    {
     "data": {
      "text/plain": [
       "300"
      ]
     },
     "execution_count": 136,
     "metadata": {},
     "output_type": "execute_result"
    }
   ],
   "source": [
    "petr.set_balance(300)\n",
    "petr.get_balance()"
   ]
  },
  {
   "cell_type": "code",
   "execution_count": 138,
   "metadata": {},
   "outputs": [
    {
     "ename": "ValueError",
     "evalue": "Баланс должен быть числом",
     "output_type": "error",
     "traceback": [
      "\u001b[1;31m---------------------------------------------------------------------------\u001b[0m",
      "\u001b[1;31mValueError\u001b[0m                                Traceback (most recent call last)",
      "\u001b[1;32m~\\AppData\\Local\\Temp/ipykernel_7348/520968313.py\u001b[0m in \u001b[0;36m<module>\u001b[1;34m\u001b[0m\n\u001b[0;32m      1\u001b[0m \u001b[0mtanya\u001b[0m \u001b[1;33m=\u001b[0m \u001b[0mBankAccount\u001b[0m\u001b[1;33m(\u001b[0m\u001b[1;34m'Tanya'\u001b[0m\u001b[1;33m,\u001b[0m \u001b[1;36m400\u001b[0m\u001b[1;33m)\u001b[0m\u001b[1;33m\u001b[0m\u001b[1;33m\u001b[0m\u001b[0m\n\u001b[1;32m----> 2\u001b[1;33m \u001b[0mtanya\u001b[0m\u001b[1;33m.\u001b[0m\u001b[0mset_balance\u001b[0m\u001b[1;33m(\u001b[0m\u001b[1;34m'sdf'\u001b[0m\u001b[1;33m)\u001b[0m\u001b[1;33m\u001b[0m\u001b[1;33m\u001b[0m\u001b[0m\n\u001b[0m",
      "\u001b[1;32m~\\AppData\\Local\\Temp/ipykernel_7348/1519251356.py\u001b[0m in \u001b[0;36mset_balance\u001b[1;34m(self, balance)\u001b[0m\n\u001b[0;32m     12\u001b[0m             \u001b[0mself\u001b[0m\u001b[1;33m.\u001b[0m\u001b[0m__balance\u001b[0m \u001b[1;33m=\u001b[0m \u001b[0mbalance\u001b[0m\u001b[1;33m\u001b[0m\u001b[1;33m\u001b[0m\u001b[0m\n\u001b[0;32m     13\u001b[0m         \u001b[1;32melse\u001b[0m\u001b[1;33m:\u001b[0m\u001b[1;33m\u001b[0m\u001b[1;33m\u001b[0m\u001b[0m\n\u001b[1;32m---> 14\u001b[1;33m             \u001b[1;32mraise\u001b[0m \u001b[0mValueError\u001b[0m\u001b[1;33m(\u001b[0m\u001b[1;34m'Баланс должен быть числом'\u001b[0m\u001b[1;33m)\u001b[0m\u001b[1;33m\u001b[0m\u001b[1;33m\u001b[0m\u001b[0m\n\u001b[0m",
      "\u001b[1;31mValueError\u001b[0m: Баланс должен быть числом"
     ]
    }
   ],
   "source": [
    "tanya = BankAccount('Tanya', 400)\n",
    "tanya.set_balance('sdf')  # такая схема нужна для того чтоб просто так не обращаться и делать проверки"
   ]
  },
  {
   "cell_type": "code",
   "execution_count": 147,
   "metadata": {},
   "outputs": [],
   "source": [
    "class BankAccount:\n",
    "\n",
    "    def __init__(self, name, balance) -> None:\n",
    "        self.name = name\n",
    "        self.__balance = balance\n",
    "\n",
    "    def get_balance(self):\n",
    "        return self.__balance\n",
    "\n",
    "    def set_balance(self, balance):\n",
    "        if isinstance(balance, (int, float)):\n",
    "            self.__balance = balance\n",
    "            print(f'поставлено новое значение баланса: {self.__balance}')\n",
    "        else:\n",
    "            raise ValueError('Баланс должен быть числом')\n",
    "\n",
    "    def del_balance(self):\n",
    "        print('delite balance')\n",
    "        del self.__balance\n",
    "\n",
    "    # Суперштука! после этого можно по человечески обращаться, а использоваться будут методы\n",
    "    # После этого balance - будет не атрибутом, а свойством объекта\n",
    "    balance = property(fget=get_balance, fset=set_balance, fdel=del_balance)\n"
   ]
  },
  {
   "cell_type": "code",
   "execution_count": 148,
   "metadata": {},
   "outputs": [
    {
     "name": "stdout",
     "output_type": "stream",
     "text": [
      "поставлено новое значение баланса: 300\n",
      "delite balance\n"
     ]
    }
   ],
   "source": [
    "Lesha = BankAccount('Lesha', 500)\n",
    "Lesha.balance\n",
    "Lesha.balance = 300  # Тут срабатывает get_balance\n",
    "Lesha.balance  # Тут срабатывает set_balance\n",
    "del Lesha.balance  # Тут срабатывает удаление баланса\n"
   ]
  },
  {
   "cell_type": "markdown",
   "metadata": {},
   "source": [
    "### Видео 11 (Декоратор `property`) (переключился на замыкания. не досмотрел)"
   ]
  },
  {
   "cell_type": "code",
   "execution_count": 162,
   "metadata": {},
   "outputs": [],
   "source": [
    "class BankAccount:\n",
    "\n",
    "    def __init__(self, name, balance) -> None:\n",
    "        self.name = name\n",
    "        self.__balance = balance\n",
    "\n",
    "    def get_balance(self):\n",
    "        print(f'Запрошен баланс {self.name} / баланс равен: {self.__balance}')\n",
    "        return self.__balance\n",
    "\n",
    "    def set_balance(self, balance):\n",
    "        if isinstance(balance, (int, float)):\n",
    "            self.__balance = balance\n",
    "            print(f'поставлено новое значение баланса: {self.__balance}')\n",
    "        else:\n",
    "            raise ValueError('Баланс должен быть числом')\n",
    "\n",
    "    def del_balance(self):\n",
    "        print('Баланс удален')\n",
    "        del self.__balance\n",
    "\n",
    "    # Получаем не много другой функционал, только переписанный\n",
    "    my_balance = property()\n",
    "    my_balance = my_balance.getter(get_balance)\n",
    "    my_balance = my_balance.setter(set_balance)\n",
    "    my_balance = my_balance.deleter(del_balance)\n"
   ]
  },
  {
   "cell_type": "code",
   "execution_count": 163,
   "metadata": {},
   "outputs": [
    {
     "name": "stdout",
     "output_type": "stream",
     "text": [
      "Запрошен баланс Ivan / баланс равен: 100\n",
      "поставлено новое значение баланса: 100.34\n",
      "Запрошен баланс Ivan / баланс равен: 100.34\n",
      "Баланс удален\n"
     ]
    }
   ],
   "source": [
    "ivan = BankAccount('Ivan', 100)\n",
    "ivan.my_balance\n",
    "ivan.my_balance = 100.34\n",
    "ivan.my_balance\n",
    "del ivan.my_balance"
   ]
  },
  {
   "cell_type": "code",
   "execution_count": 10,
   "metadata": {},
   "outputs": [
    {
     "name": "stdout",
     "output_type": "stream",
     "text": [
      "Баланс = 200\n",
      "Устновлен новый баланс 100\n",
      "Баланс = 100\n",
      "данные о балансе обновлены\n",
      "Устновлен новый баланс 333\n",
      "Баланс = 333\n"
     ]
    },
    {
     "data": {
      "text/plain": [
       "333"
      ]
     },
     "execution_count": 10,
     "metadata": {},
     "output_type": "execute_result"
    }
   ],
   "source": [
    "class Bank_account():\n",
    "    def __init__(self, name, age, balance):\n",
    "        self.name = name\n",
    "        self.__balance = balance\n",
    "        self.age = age\n",
    "        \n",
    "    @property  # Делаем из метода свойство  \n",
    "    def my_balance(self):\n",
    "        print(f'Баланс = {self.__balance}')\n",
    "        return self.__balance\n",
    "    \n",
    "    # my_property_balance = my_balance # создаем свойство, чтоб setter не перезатер его\n",
    "    @my_balance.setter # Добавить свойству my_balance - getter\n",
    "    def my_balance(self, value): # Первоначально setter, который становится свойством\n",
    "        print(f'Устновлен новый баланс {value}')\n",
    "        self.__balance = value\n",
    "        \n",
    "    @my_balance.deleter\n",
    "    def my_balance(self):\n",
    "        print('данные о балансе обновлены')\n",
    "        del self.__balance\n",
    "    # добавляем к геттеру сеттер    \n",
    "    # my_balance = my_property_balance.setter(my_balance)\n",
    "    \n",
    "lena = Bank_account('Lena', 33, 200)\n",
    "lena.my_balance \n",
    "lena.my_balance = 100\n",
    "lena.my_balance\n",
    "del lena.my_balance\n",
    "lena.my_balance = 333\n",
    "lena.my_balance"
   ]
  },
  {
   "cell_type": "markdown",
   "metadata": {},
   "source": [
    "### Видео 12/1 Практика по методом и свойствам"
   ]
  },
  {
   "cell_type": "code",
   "execution_count": 21,
   "metadata": {},
   "outputs": [
    {
     "data": {
      "text/plain": [
       "'qwer1'"
      ]
     },
     "execution_count": 21,
     "metadata": {},
     "output_type": "execute_result"
    }
   ],
   "source": [
    "from string import digits\n",
    "\n",
    "\n",
    "class User():\n",
    "    def __init__(self, login, password):\n",
    "        self.login = login\n",
    "        self.password = password  # Тут мы вызывает setter, а не создаем переменную. ВАЖНО!\n",
    "\n",
    "    @property\n",
    "    def password(self):\n",
    "        return self.__password\n",
    "\n",
    "    @staticmethod \n",
    "    def is_include_number(password):\n",
    "        for digit in digits:\n",
    "            if digit in password:\n",
    "                return True\n",
    "        return False\n",
    "\n",
    "    @password.setter\n",
    "    def password(self, value):\n",
    "        if not isinstance(value, str):\n",
    "            raise TypeError('Пароль не строка')\n",
    "        if len(value) < 4:\n",
    "            raise ValueError('Длина пароля слишком мала')\n",
    "        if not User.is_include_number(value):\n",
    "            raise ValueError('Должна быть цифра в пароле')\n",
    "        self.__password = value\n",
    "\n",
    "\n",
    "a = User('Ivan', '12345')\n",
    "a.password = 'qwer1'\n",
    "a.password\n"
   ]
  },
  {
   "cell_type": "markdown",
   "metadata": {},
   "source": [
    "### Видео 13 `classmethod` & `staticmethod`\n"
   ]
  },
  {
   "cell_type": "code",
   "execution_count": 1,
   "metadata": {},
   "outputs": [
    {
     "name": "stdout",
     "output_type": "stream",
     "text": [
      "hello\n",
      "<bound method Example.hello of <__main__.Example object at 0x00000171A57BCAC0>>\n",
      "hello <__main__.Example object at 0x00000171A57BCAC0>\n"
     ]
    }
   ],
   "source": [
    "class Example():\n",
    "    def hello():\n",
    "        print('hello')\n",
    "    \n",
    "    def instance_hello(self):\n",
    "        print(f'hello {self}')\n",
    "        \n",
    "Example.hello()\n",
    "\n",
    "p = Example()\n",
    "print(p.hello) # при вызове в качестве функции будет ошибка, можем вызывать только от класса\n",
    "p.instance_hello() # <__main__.Example object at 0x000001E1BBBE8D30> - объект от которого вызывали метод\n",
    "\n",
    "# Однако если будем вызывать от класса: произойдет ошибка\n",
    "# Example.instance_hello()"
   ]
  },
  {
   "cell_type": "code",
   "execution_count": 40,
   "metadata": {},
   "outputs": [
    {
     "name": "stdout",
     "output_type": "stream",
     "text": [
      "static_hello\n",
      "static_hello\n",
      "class_hell <class '__main__.Example'>\n",
      "class_hell <class '__main__.Example'>\n",
      "<class '__main__.Example'>\n",
      "<class 'int'>\n"
     ]
    }
   ],
   "source": [
    "# Решение проблемы добавлением декоратора @staticmethod\n",
    "class Example():\n",
    "    @staticmethod\n",
    "    def instance_hello():\n",
    "        print(f'static_hello')\n",
    "        \n",
    "    @classmethod # Нужно использовать, чтобы делать обработку класса\n",
    "    def class_hello(cls): # В качестве аргумента функции: класс\n",
    "        print(f'class_hell {cls}')\n",
    "        \n",
    "        \n",
    "b = Example()\n",
    "b.instance_hello()\n",
    "Example.instance_hello()\n",
    "Example.class_hello()\n",
    "b.class_hello()\n",
    "print(b.__class__)\n",
    "a = 3\n",
    "print(a.__class__)"
   ]
  },
  {
   "cell_type": "markdown",
   "metadata": {},
   "source": [
    "### Видео 14 Пространство имён класса"
   ]
  },
  {
   "cell_type": "code",
   "execution_count": 44,
   "metadata": {},
   "outputs": [
    {
     "name": "stdout",
     "output_type": "stream",
     "text": [
      "1 1 1\n"
     ]
    }
   ],
   "source": [
    "python_devolepers = 1\n",
    "go_developers = 1\n",
    "react_developers = 1\n",
    "class DepartIT():\n",
    "    python_devolepers = 3\n",
    "    go_developers = 3\n",
    "    react_developers = 2\n",
    "        \n",
    "    def info(self):\n",
    "        print(python_devolepers, go_developers, react_developers)\n",
    "        \n",
    "it_1 = DepartIT()\n",
    "# Ищет переменные в глобальной зоне видимости, не ищет переменные класса\n",
    "it_1.info()"
   ]
  },
  {
   "cell_type": "code",
   "execution_count": 50,
   "metadata": {},
   "outputs": [
    {
     "name": "stdout",
     "output_type": "stream",
     "text": [
      "4 3 2\n",
      "4\n",
      "3\n"
     ]
    }
   ],
   "source": [
    "# Варианты решения проблемы:\n",
    "class DepartIT():\n",
    "    python_devolepers = 4\n",
    "    go_developers = 3\n",
    "    react_developers = 2\n",
    "        \n",
    "    def info(self):\n",
    "        print(self.python_devolepers, self.go_developers, self.react_developers)\n",
    "        \n",
    "    def info2(self):\n",
    "        print(DepartIT.python_devolepers)\n",
    "        \n",
    "    @property\n",
    "    def info3(self):\n",
    "        print(self.go_developers)\n",
    "        \n",
    "it_1 = DepartIT()\n",
    "it_1.info() # Найдет переменные, т.к. таковы не указаны в экземпляре, поэтому поищет в классе.\n",
    "it_1.info2() # Вариант 2, сослаться не на переменные экземпляра класса а сразу на переменные класса\n",
    "it_1.info3"
   ]
  },
  {
   "cell_type": "markdown",
   "metadata": {},
   "source": [
    "Класс создает своё собственное пространство имён"
   ]
  },
  {
   "cell_type": "markdown",
   "metadata": {},
   "source": [
    "### Видео 15. Магические методы `__repr__` и `__str__`"
   ]
  },
  {
   "cell_type": "markdown",
   "metadata": {},
   "source": [
    "(double underscore - двойное нижн. подчеркивание)  \n",
    "`__repr__` & `__str__` оба метода отвечают за текстовое отображение в системы"
   ]
  },
  {
   "cell_type": "code",
   "execution_count": 52,
   "metadata": {},
   "outputs": [
    {
     "name": "stdout",
     "output_type": "stream",
     "text": [
      "<__main__.Lion object at 0x000001E1BBBEB340>\n",
      "<__main__.Lion object at 0x000001E1BBBEB340>\n"
     ]
    }
   ],
   "source": [
    "class Lion():\n",
    "    def __init__(self, name):\n",
    "        self.name = name\n",
    "\n",
    "bob = Lion('Bob')\n",
    "print(bob)\n",
    "print(str(bob))"
   ]
  },
  {
   "cell_type": "code",
   "execution_count": 63,
   "metadata": {},
   "outputs": [
    {
     "name": "stdout",
     "output_type": "stream",
     "text": [
      "Лев по имени Bob\n"
     ]
    },
    {
     "data": {
      "text/plain": [
       "Лев по имени Bob"
      ]
     },
     "execution_count": 63,
     "metadata": {},
     "output_type": "execute_result"
    }
   ],
   "source": [
    "class Lion():\n",
    "    def __init__(self, name):\n",
    "        self. name = name\n",
    "    \n",
    "    def __repr__(self):\n",
    "        return f'Лев по имени {self.name}'\n",
    "    \n",
    "bob = Lion('Bob')\n",
    "print(bob)\n",
    "bob"
   ]
  },
  {
   "cell_type": "code",
   "execution_count": 64,
   "metadata": {},
   "outputs": [
    {
     "name": "stdout",
     "output_type": "stream",
     "text": [
      "Просто лев Bob\n"
     ]
    },
    {
     "data": {
      "text/plain": [
       "<__main__.Lion at 0x1e1bbbe8280>"
      ]
     },
     "execution_count": 64,
     "metadata": {},
     "output_type": "execute_result"
    }
   ],
   "source": [
    "class Lion():\n",
    "    def __init__(self, name):\n",
    "        self. name = name\n",
    "        \n",
    "    def __str__(self):\n",
    "        return f'Просто лев {self.name}'\n",
    "    \n",
    "bob = Lion('Bob')\n",
    "print(bob)\n",
    "bob"
   ]
  },
  {
   "cell_type": "markdown",
   "metadata": {},
   "source": [
    "### Видео 16. Магические методы `__len__` и `__abs__`"
   ]
  },
  {
   "cell_type": "code",
   "execution_count": 67,
   "metadata": {},
   "outputs": [
    {
     "name": "stdout",
     "output_type": "stream",
     "text": [
      "5\n",
      "2.5\n"
     ]
    }
   ],
   "source": [
    "class Person():\n",
    "    def __init__(self, name, age):\n",
    "        self.name = name\n",
    "        self.age = age\n",
    "        \n",
    "    def __len__(self):\n",
    "        return len(self.name)\n",
    "\n",
    "    def __abs__(self):\n",
    "        return abs(self.age)\n",
    "\n",
    "a = Person('Vasya', 2.5)\n",
    "print(len(a))\n",
    "print(abs(a))\n"
   ]
  },
  {
   "cell_type": "markdown",
   "metadata": {},
   "source": [
    "### Видео 17 Магические методы `__add__`, `__mul__`, `__sub__`, `__truediv__`"
   ]
  },
  {
   "cell_type": "markdown",
   "metadata": {},
   "source": [
    "- `__add__` - Маг. метод отвечает за сложение (пара `__radd__`)\n",
    "- `__mul__` - Маг. матод отвечает за умножение ()\n",
    "- `__sub__` - Маг. метод отвечает за вычитание  \n",
    "- `__truedib__` - Маг. метод отвечает за деление"
   ]
  },
  {
   "cell_type": "markdown",
   "metadata": {},
   "source": [
    "#### Метод `__add__`"
   ]
  },
  {
   "cell_type": "code",
   "execution_count": 88,
   "metadata": {},
   "outputs": [
    {
     "name": "stdout",
     "output_type": "stream",
     "text": [
      "Первончальный баланс \"a.balance\" :                100\n",
      "Проверяем, что запись \"a.balance += 5\" работает   105\n",
      "Добавили денег с помощью \"a + 10\" :               115\n",
      "Сложили два аккаунта \"a + b\" :                    415\n",
      "Здесь был вызыван магический метод __radd__   :"
     ]
    },
    {
     "data": {
      "text/plain": [
       "127"
      ]
     },
     "execution_count": 88,
     "metadata": {},
     "output_type": "execute_result"
    }
   ],
   "source": [
    "# Магическая переменная __add__\n",
    "class Bank_account():\n",
    "    def __init__(self, name, balance):\n",
    "        self.name = name\n",
    "        self.balance = balance\n",
    "        \n",
    "    def __add__(self, other): # Нужен второй параметр\n",
    "        if isinstance(other, Bank_account):\n",
    "            return self.balance + other.balance\n",
    "        if isinstance(other, (int, float)):\n",
    "            self.balance += other\n",
    "            return self.balance\n",
    "        raise NotImplemented('Данная операция для полученных типов не поддерживается')\n",
    "    \n",
    "    def __radd__(self, other):\n",
    "        print('Здесь был вызыван магический метод __radd__   :', end='')\n",
    "        return self + other # Фактически вызываем __add__\n",
    "    \n",
    "        \n",
    "        \n",
    "a = Bank_account('Ivan', 100)\n",
    "b = Bank_account('Lenf', 300)\n",
    "print(f'Первончальный баланс \"a.balance\" :                {a.balance}')\n",
    "a.balance += 5\n",
    "print(f'Проверяем, что запись \"a.balance += 5\" работает   {a.balance}')\n",
    "# a + 5 Выдаст ошибку если нет маг.метода __add__ \n",
    "print(f'Добавили денег с помощью \"a + 10\" :               {a + 10}')\n",
    "print(f'Сложили два аккаунта \"a + b\" :                    {a + b}')  \n",
    "12 + a"
   ]
  },
  {
   "cell_type": "markdown",
   "metadata": {},
   "source": [
    "\"Под капотом\":  \n",
    "`a + 2` -> вызывает `a.__add__(2)`, если все ок то возвращает то что нужно  \n",
    "`2 + a` -> вызывает `(2).__add__(a)`, т.к. у int нет сложения с нашим классом, то пытается вызвать ->  \n",
    "`(a).__radd__(2)`, r - фактически означает, что аргумент справа. "
   ]
  },
  {
   "cell_type": "markdown",
   "metadata": {},
   "source": [
    "#### Пример создания еще одного экземпляра класса с помощью `__add__`"
   ]
  },
  {
   "cell_type": "code",
   "execution_count": 95,
   "metadata": {},
   "outputs": [
    {
     "name": "stdout",
     "output_type": "stream",
     "text": [
      "Создан новый объект Олень - Лёша (возраст 34)\n",
      "id a = 2069028908544\n",
      "Срабатывает метод __add__\n",
      "Создан новый объект Олень - Лёша (возраст 35)\n",
      "id b = 2069060435104\n"
     ]
    }
   ],
   "source": [
    "class Animal():\n",
    "    def __init__(self, species, name, age):\n",
    "        print(f'Создан новый объект {species} - {name} (возраст {age})')\n",
    "        self.species = species\n",
    "        self.name = name\n",
    "        self.age = age\n",
    "    \n",
    "    def __repr__(self):\n",
    "        return f'Животное {self.species} - {self.name} (возраст {self.age})'\n",
    "        \n",
    "    def __add__(self, value):\n",
    "        print('Срабатывает метод __add__')\n",
    "        return Animal(self.species, self.name, self.age + value)\n",
    "    \n",
    "a = Animal('Олень', 'Лёша', 34)\n",
    "print(f'id a = {id(a)}')\n",
    "b = a + 1\n",
    "b\n",
    "print(f'id b = {id(b)}')"
   ]
  },
  {
   "cell_type": "markdown",
   "metadata": {},
   "source": [
    "### Видео 18. Магические методы сравнения"
   ]
  },
  {
   "cell_type": "markdown",
   "metadata": {},
   "source": [
    "- `__eq__` - отвечает за ==  (от английского `equal` - равный)\n",
    "- `__ne__` -  отвечает за != (`no equal`)\n",
    "- `__lt__` -  отвечает за <\n",
    "- `__le__` -  отвечает за <=\n",
    "- `__gt__` -  отвечает за >\n",
    "- `__ge__` -  отвечает за >= "
   ]
  },
  {
   "cell_type": "code",
   "execution_count": 42,
   "metadata": {},
   "outputs": [
    {
     "name": "stdout",
     "output_type": "stream",
     "text": [
      "__eq__(==)\n",
      "a == b   :   False\n",
      "\n",
      "__lt__(<)\n",
      "a < b    :   False\n",
      "\n",
      "__lt__(<)\n",
      "14 > a   :   False\n",
      "\n",
      "__eq__(==)\n",
      "a != 14  :   True\n",
      "\n",
      "__le__(<=)\n",
      "__eq__(==)\n",
      "__lt__(<)\n",
      "a >= b   :   True\n",
      "\n",
      "__lt__(<)\n",
      "a > b    :   True\n",
      "\n"
     ]
    }
   ],
   "source": [
    "class Rectangle():\n",
    "    def __init__(self, a, b):\n",
    "        '''a - ширина\n",
    "        b - высота\n",
    "        '''\n",
    "        self.a = a \n",
    "        self.b = b \n",
    "        \n",
    "    @property\n",
    "    def area(self):\n",
    "        return self.a * self.b\n",
    "    \n",
    "    def __eq__(self, other): # ==\n",
    "        print('__eq__(==)')\n",
    "        if isinstance(other, Rectangle):\n",
    "            return self.area == other.area\n",
    "        elif isinstance(other, int):\n",
    "            return self.area == other\n",
    "        raise TypeError(f'Не могу сравнить {type(self.area)} и {type(other)}')\n",
    "\n",
    "    def __lt__(self, other): # <\n",
    "        print('__lt__(<)')\n",
    "        if isinstance(other, Rectangle):       \n",
    "            return self.area < other.area\n",
    "        if isinstance(other, (int, float)):\n",
    "            return self.area < other\n",
    "        raise TypeError(f'Не поддерживаемый тип данных')\n",
    "    \n",
    "    def __le__(self, other): # <=\n",
    "        print('__le__(<=)')\n",
    "        return self == other or self < other \n",
    "        \n",
    "a = Rectangle(5, 5)\n",
    "b = Rectangle(5, 2)\n",
    "print(f'a == b   :   {a==b}\\n')\n",
    "print(f'a < b    :   {a<b}\\n')\n",
    "# print(f'a < b    :   {a>b}')\n",
    "print(f'14 > a   :   {14>a}\\n') # Такая запись проверит a > 14\n",
    "print(f'a != 14  :   {a!=14}\\n') # Вернет противоположное значение от __eq__\n",
    "print(f'a >= b   :   {a>=b}\\n') # Проверит a < b\n",
    "print(f'a > b    :   {a>b}\\n')\n",
    "# a == 'str' Выведет ли ошибку\n",
    "# 15 > a - такая запись проверит a < 15"
   ]
  },
  {
   "cell_type": "code",
   "execution_count": 47,
   "metadata": {},
   "outputs": [
    {
     "name": "stdout",
     "output_type": "stream",
     "text": [
      "False\n"
     ]
    }
   ],
   "source": [
    "class Test():\n",
    "    def __init__(self, a):\n",
    "        self.a = a\n",
    "    \n",
    "    def __eq__(self, other): # ==\n",
    "        return self.a == other\n",
    "    \n",
    "    def __lt__(self, other): # < \n",
    "        return self.a < other\n",
    "    \n",
    "    def __le__(self, other): # <=\n",
    "        return self.a <= other\n",
    "    \n",
    "    \n",
    "b = Test(2)\n",
    "print(b < 1)\n",
    "# print(b > 1)\n",
    "# print(b >= 1) Не хочет работать с int"
   ]
  },
  {
   "cell_type": "markdown",
   "metadata": {},
   "source": [
    "### Видео 19 Магические методы `__eq__` и `__hash__`"
   ]
  },
  {
   "cell_type": "markdown",
   "metadata": {},
   "source": [
    "- `__eq__`  \n",
    "- `__hash__` Только если используем `__eq__` и чтоб сохранять в качестве ключей словаря\n",
    "Hash - некая математическая функция, которая делает одностороннее преобразование, т.е. на вход принимает объект и преобразует его в числовое значение. Обратно получить объект из числового значения нельзя."
   ]
  },
  {
   "cell_type": "code",
   "execution_count": 56,
   "metadata": {},
   "outputs": [
    {
     "name": "stdout",
     "output_type": "stream",
     "text": [
      "repr = <__main__.Point object at 0x000002463F0C18A0>\n",
      "Сравнение == False\n",
      "id(p1) = 2500728723616 и id(p2) = 2500728727120\n",
      "p1.__hash__() = 156295545226 и p2.__hash__() = 156295545445\n"
     ]
    }
   ],
   "source": [
    "class Point():\n",
    "    pass\n",
    "\n",
    "p1 = Point()\n",
    "isinstance(p1, object)\n",
    "print(f'repr = {p1.__repr__()}') # При создании все равно задается какое поведение\n",
    "p2 =  Point()\n",
    "print(f'Сравнение == {p1 == p2}') # Изначально сравнение идет по id\n",
    "print(f'id(p1) = {id(p1)} и id(p2) = {id(p2)}')\n",
    "print(f'p1.__hash__() = {p1.__hash__()} и p2.__hash__() = {p2.__hash__()}')"
   ]
  },
  {
   "cell_type": "code",
   "execution_count": 59,
   "metadata": {},
   "outputs": [
    {
     "name": "stdout",
     "output_type": "stream",
     "text": [
      "True\n"
     ]
    }
   ],
   "source": [
    "class Point():\n",
    "    def __init__(self, x, y):\n",
    "      self.x = x\n",
    "      self.y = y\n",
    "      \n",
    "    def __eq__(self, other):\n",
    "      return isinstance(other, Point) and \\\n",
    "        self.x == other.x and self.y == other.y\n",
    "      \n",
    "a1 = Point(1,2)\n",
    "a2 = Point(1,2)\n",
    "a3 = Point(1,3)\n",
    "print(a1 == a2)\n",
    "\n",
    "# Получаем ошибку, потому что переопределили метод __eq__()\n",
    "# Ранее сравнение шло по id, но после определения слетел __hash__()\n",
    "# print(a3.__hash__()) "
   ]
  },
  {
   "cell_type": "markdown",
   "metadata": {},
   "source": [
    "Операция хэширования можно найти только у неизменяемых объектов. Хэш нельзя найти у изменяемых объектов\n",
    "</div>\n",
    "\n",
    "```python\n",
    "hash(1) # Выдаст хэш\n",
    "hash([4.34, 5.15]) # Unhashable (выдаст ошибку)\n",
    "```\n",
    "hashable - используются в словарях и множествах в качестве ключей "
   ]
  },
  {
   "cell_type": "code",
   "execution_count": 64,
   "metadata": {},
   "outputs": [],
   "source": [
    "d = {}\n",
    "d[1] = 900\n",
    "# d[[3.43, 2.2]] = 3 # Получаем ошибку \"unhashable type 'list'\"\n",
    "# d[a1] = 1 # Соответственно не могут быть ключами словаря"
   ]
  },
  {
   "cell_type": "code",
   "execution_count": 73,
   "metadata": {},
   "outputs": [
    {
     "name": "stdout",
     "output_type": "stream",
     "text": [
      "{lena: 50, olya: 30}\n",
      "True\n",
      "Hash olya -8744261812515792662\n",
      "Hash ol_a -8744261812515792662\n"
     ]
    }
   ],
   "source": [
    "class Persona():\n",
    "    def __init__(self, name, age):\n",
    "        self.name = name\n",
    "        self.age = age\n",
    "      \n",
    "    def __eq__(self, other):\n",
    "        if isinstance(other, Persona):\n",
    "            return self.name == other.name and self.age == other.age\n",
    "        \n",
    "    def __hash__(self):\n",
    "        return hash((self.name, self.age))\n",
    "    \n",
    "    def __repr__(self):\n",
    "        return f'{self.name}'\n",
    "\n",
    "lena = Persona('lena', 33)\n",
    "olya = Persona('olya', 35)\n",
    "olya_again = Persona('olya', 35)\n",
    "lena == olya\n",
    "some_dict = {}\n",
    "some_dict[lena] = 50\n",
    "some_dict[olya] = 30\n",
    "print(some_dict)\n",
    "print(olya == olya_again)\n",
    "print(f'Hash olya {hash(olya)}')\n",
    "print(f'Hash ol_a {hash(olya_again)}')"
   ]
  },
  {
   "cell_type": "markdown",
   "metadata": {},
   "source": [
    "### Видео 20. Магический метод `__bool__`"
   ]
  },
  {
   "cell_type": "code",
   "execution_count": 10,
   "metadata": {},
   "outputs": [
    {
     "name": "stdout",
     "output_type": "stream",
     "text": [
      "call len\n",
      "False\n",
      "call len\n"
     ]
    },
    {
     "data": {
      "text/plain": [
       "0"
      ]
     },
     "execution_count": 10,
     "metadata": {},
     "output_type": "execute_result"
    }
   ],
   "source": [
    "class Point():\n",
    "    def __init__(self, x, y):\n",
    "      self.x = x\n",
    "      self.y = y\n",
    "      \n",
    "    def __len__(self):\n",
    "      print('call len')\n",
    "      return abs(self.x - self.y)\n",
    "    \n",
    "p1 = Point(32, 32)\n",
    "print(bool(p1)) # без __bool__ всегда True , будет смотреть на метод __len__\n",
    "len(p1)"
   ]
  },
  {
   "cell_type": "code",
   "execution_count": 15,
   "metadata": {},
   "outputs": [
    {
     "name": "stdout",
     "output_type": "stream",
     "text": [
      "True\n",
      "True\n",
      "True\n",
      "False\n",
      "0 & 1 - True\n",
      "А этот должен\n"
     ]
    }
   ],
   "source": [
    "class Point():\n",
    "    def __init__(self, x, y):\n",
    "        self.x = x\n",
    "        self.y = y\n",
    "      \n",
    "    def __len__(self):\n",
    "        print('call len')\n",
    "        return abs(self.x - self.y)\n",
    "    \n",
    "    def __bool__(self):\n",
    "        # return 5 Вызовет ошибку, должно возвращаться либо True либо False\n",
    "        return self.x != 0 or self.y != 0\n",
    "    \n",
    "print(bool(Point(3,3)))    \n",
    "print(bool(Point(1,3)))    \n",
    "print(bool(Point(0,3)))    \n",
    "print(bool(Point(0,0)))\n",
    "\n",
    "if Point(0,1):\n",
    "    print('0 & 1 - True')\n",
    "if Point(0, 0):\n",
    "    print('Этот текст не должен напечаться')\n",
    "if not Point(0, 0):\n",
    "    print('А этот должен')"
   ]
  },
  {
   "cell_type": "markdown",
   "metadata": {},
   "source": [
    "### Видео 21. Магический метод `__call__`"
   ]
  },
  {
   "cell_type": "markdown",
   "metadata": {},
   "source": [
    "Вызываемые объекты: \n",
    "- Встроенные функции / `int()` / `len()` и т.п\n",
    "- Встроенные методы объектов, например а - список : `a.sort()`\n",
    "- Самописные функции `foo()` / `lambda` в эту же песочницу\n",
    "- Класс, при вызове a = Cat(), возвращает экземпляр класса\n",
    "- Экземпляры классов, тоже могут быть вызываемыми (метод `__call__`)\n",
    "- Методы класса \n",
    "- Функции-генераторы \n",
    "\n",
    "\n",
    "Проверить на вызываемость, можно при помощи функции `callable()`"
   ]
  },
  {
   "cell_type": "code",
   "execution_count": 17,
   "metadata": {},
   "outputs": [
    {
     "data": {
      "text/plain": [
       "True"
      ]
     },
     "execution_count": 17,
     "metadata": {},
     "output_type": "execute_result"
    }
   ],
   "source": [
    "callable(len) # Проверка на вызываемость"
   ]
  },
  {
   "cell_type": "code",
   "execution_count": 39,
   "metadata": {},
   "outputs": [
    {
     "name": "stdout",
     "output_type": "stream",
     "text": [
      "Счетчик вызывался 1 раз...\n",
      "Счетчик вызывался 2 раз...\n",
      "Сумма = 22 | Кол-во 4 | mean 5.50\n",
      "Счетчик вызывался 3 раз...\n",
      "Сумма = 40 | Кол-во 6 | mean 6.67\n"
     ]
    }
   ],
   "source": [
    "class Counter():\n",
    "    def __init__(self):\n",
    "      self.counter = 0\n",
    "      self.summa = 0\n",
    "      self.len = 0\n",
    "      \n",
    "    def __call__(self, *args, **kwargs):\n",
    "        self.counter += 1\n",
    "        if len(args):\n",
    "            self.summa += sum(args)\n",
    "            self.len += len(args)\n",
    "        print(f'Счетчик вызывался {self.counter} раз...')\n",
    "        if self.len:\n",
    "            print(f'Сумма = {self.summa} | Кол-во {self.len} | mean {self.summa/self.len:.2f}')\n",
    "        \n",
    "    # @property\n",
    "    # def count(self):\n",
    "    #     return self.counter \n",
    "        \n",
    "a = Counter()\n",
    "a()\n",
    "a(2,5,6,9)\n",
    "a(10,8)"
   ]
  },
  {
   "cell_type": "code",
   "execution_count": 64,
   "metadata": {},
   "outputs": [
    {
     "name": "stdout",
     "output_type": "stream",
     "text": [
      "Вызывалась функция fact\n",
      "Функция отработала за 0.0003297 сек\n",
      "result = 1307674368000\n",
      "Вызывалась функция fib\n",
      "Функция отработала за 0.0000531 сек\n",
      "result = 55\n"
     ]
    },
    {
     "data": {
      "text/plain": [
       "'Вроде все посчиталось'"
      ]
     },
     "execution_count": 64,
     "metadata": {},
     "output_type": "execute_result"
    }
   ],
   "source": [
    "from time import perf_counter\n",
    "class Timer():\n",
    "    def __init__(self, func):\n",
    "      self.func = func\n",
    "      \n",
    "    def __call__(self, *args, **kwargs):\n",
    "        start = perf_counter()\n",
    "        print(f'Вызывалась функция {self.func.__name__}')\n",
    "        result = self.func(*args, **kwargs)\n",
    "        finish = perf_counter()\n",
    "        print(f'Функция отработала за {finish-start:.7f} сек')\n",
    "        print(f'result = {result}')\n",
    "        return 'Вроде все посчиталось'\n",
    "\n",
    "@Timer    \n",
    "def fact(n):\n",
    "    res = 1\n",
    "    for i in range(1, n+1):\n",
    "        res *= i\n",
    "    return res\n",
    "\n",
    "\n",
    "def fib(n):\n",
    "    if n <= 2:\n",
    "        return 1\n",
    "    else:\n",
    "        return fib(n-1) + fib(n-2)\n",
    "    \n",
    "# fact = Timer(fact) # по сути задекорируем классом\n",
    "fact(15)\n",
    "Timer(fib)(10) # Таким образом задекорируем только первый вызов!"
   ]
  },
  {
   "cell_type": "markdown",
   "metadata": {},
   "source": [
    "### Видео 22. Полиморфизм в python"
   ]
  },
  {
   "cell_type": "markdown",
   "metadata": {},
   "source": [
    "Базовое понятие в ООП (одно из трех):"
   ]
  },
  {
   "cell_type": "code",
   "execution_count": 68,
   "metadata": {},
   "outputs": [
    {
     "name": "stdout",
     "output_type": "stream",
     "text": [
      "2\n",
      "330\n",
      "4\n",
      "9\n"
     ]
    }
   ],
   "source": [
    "class Rectangle:\n",
    "    def __init__(self, a, b):\n",
    "        self.a = a\n",
    "        self.b = b\n",
    "    \n",
    "    def get_rect_area(self):\n",
    "        return self.a * self.b\n",
    "\n",
    "\n",
    "# Представим что из другого файла через import Rectangle from Lessons \n",
    "rect1 = Rectangle(1,2)\n",
    "rect2 = Rectangle(15,22)\n",
    "print(rect1.get_rect_area())\n",
    "print(rect2.get_rect_area())\n",
    "\n",
    "class Square():\n",
    "    def __init__(self, a):\n",
    "        self.a = a\n",
    "    \n",
    "    def get_sq_area(self):\n",
    "        return self.a**2\n",
    "    \n",
    "sq1 = Square(2)\n",
    "sq2 = Square(3)\n",
    "\n",
    "print(sq1.get_sq_area())\n",
    "print(sq2.get_sq_area())\n",
    "\n",
    "figures = [rect1, rect2, sq1, sq2] # Создаем коллекцию\n",
    "for figure in figures:\n",
    "    # print(figure.get_sq_area) Естевственно выведет ошибку(т.к. такого метода нет у прямоугольников)\n",
    "    # В связи с этим надо было везде называть метод get_area() или как то иначе, но одинаково"
   ]
  },
  {
   "cell_type": "markdown",
   "metadata": {},
   "source": [
    "### Видео 23 Магический метод `__getitem__`, `__setitem__`, `__delitem__`"
   ]
  },
  {
   "cell_type": "code",
   "execution_count": 78,
   "metadata": {},
   "outputs": [
    {
     "data": {
      "text/plain": [
       "1"
      ]
     },
     "execution_count": 78,
     "metadata": {},
     "output_type": "execute_result"
    }
   ],
   "source": [
    "a = [1,2,3]\n",
    "a.__getitem__(0)"
   ]
  },
  {
   "cell_type": "code",
   "execution_count": 100,
   "metadata": {},
   "outputs": [
    {
     "name": "stdout",
     "output_type": "stream",
     "text": [
      "[1, 2, 3, 4, 5]\n",
      "2\n",
      "15\n",
      "4\n",
      "[1, 15, 4, 5]\n",
      "[1, 15, 4, 5, 0, 0, 0, 0, 100]\n"
     ]
    }
   ],
   "source": [
    "class Vector:\n",
    "    def __init__(self, *args):\n",
    "        self.values = list(args)\n",
    "        \n",
    "    def __repr__(self):\n",
    "        return str(self.values)\n",
    "                   \n",
    "    def __getitem__(self, item): # По сути значение item - индекс\n",
    "        if 0 <= item < len(self.values): # Проверка лежит ли индекс от 0 до длины выдаваемое коллекции\n",
    "            return self.values[item]\n",
    "        else:\n",
    "            raise IndexError('Индекс за границами коллекции')\n",
    "        \n",
    "    def __setitem__(self, key, value):\n",
    "        if not isinstance(key, int):\n",
    "            raise TypeError('Индекс должен быть типом int')\n",
    "        if key < 0:\n",
    "            raise IndexError('Индекс должен быть положительным')\n",
    "        elif key < len(self.values):\n",
    "            self.values[key] = value\n",
    "        else:\n",
    "            self.values.extend([0] * (key - len(self.values)))\n",
    "            # for _ in range(key - len(self.values)): # Мой вариант реализации разряженного списка\n",
    "            #     self.values.append(0)\n",
    "            self.values.append(value)\n",
    "        \n",
    "    def __delitem__(self, key):\n",
    "        if 0 <= key < len(self.values):\n",
    "            del self.values[key]\n",
    "        else:\n",
    "            raise IndexError('Такого индекса нема')\n",
    "\n",
    "            \n",
    "v1 = Vector(1,2,3,4,5)\n",
    "print(v1)\n",
    "print(v1[1]) # Выдаст ошибку без __getitem__. а теперь все ок\n",
    "v1[2] = 15 # Выдаст ошибку без __setitem__\n",
    "print(v1[2])\n",
    "del v1[1] # Выдаст ошибку без __delitem__\n",
    "print(len(v1.values))\n",
    "print(v1)\n",
    "v1[8] = 100\n",
    "print(v1)"
   ]
  },
  {
   "cell_type": "markdown",
   "metadata": {},
   "source": [
    "Можно сделать, чтоб `item` - был ключом к словарю"
   ]
  },
  {
   "cell_type": "markdown",
   "metadata": {},
   "source": [
    "### Магические методы `__iter__` и `__next__`"
   ]
  },
  {
   "cell_type": "markdown",
   "metadata": {},
   "source": [
    "Методы для итерации (позволяет обходить с помощью `for` экземпляры класса)"
   ]
  },
  {
   "cell_type": "code",
   "execution_count": 102,
   "metadata": {},
   "outputs": [
    {
     "name": "stdout",
     "output_type": "stream",
     "text": [
      "0\n",
      "1\n",
      "2\n"
     ]
    },
    {
     "data": {
      "text/plain": [
       "3"
      ]
     },
     "execution_count": 102,
     "metadata": {},
     "output_type": "execute_result"
    }
   ],
   "source": [
    "v = iter(range(5))\n",
    "print(v.__next__())\n",
    "print(v.__next__())\n",
    "print(v.__next__())\n",
    "next(v)"
   ]
  },
  {
   "cell_type": "code",
   "execution_count": 103,
   "metadata": {},
   "outputs": [
    {
     "data": {
      "text/plain": [
       "range_iterator"
      ]
     },
     "execution_count": 103,
     "metadata": {},
     "output_type": "execute_result"
    }
   ],
   "source": [
    "type(iter(range(5)))"
   ]
  },
  {
   "cell_type": "code",
   "execution_count": 104,
   "metadata": {},
   "outputs": [
    {
     "data": {
      "text/plain": [
       "list_iterator"
      ]
     },
     "execution_count": 104,
     "metadata": {},
     "output_type": "execute_result"
    }
   ],
   "source": [
    "type(iter([1,2,3,4]))"
   ]
  },
  {
   "cell_type": "code",
   "execution_count": 106,
   "metadata": {},
   "outputs": [
    {
     "data": {
      "text/plain": [
       "list_iterator"
      ]
     },
     "execution_count": 106,
     "metadata": {},
     "output_type": "execute_result"
    }
   ],
   "source": [
    "a = [1,2,3]\n",
    "c = a.__iter__()\n",
    "type(c)"
   ]
  },
  {
   "cell_type": "code",
   "execution_count": 109,
   "metadata": {},
   "outputs": [
    {
     "name": "stdout",
     "output_type": "stream",
     "text": [
      "4 | 5 | 4 | 4 | 4 | 3 | 3 | 5 | "
     ]
    }
   ],
   "source": [
    "class Student():\n",
    "    def __init__(self, name, surname, marks):\n",
    "      self.name = name\n",
    "      self.surname = surname\n",
    "      self.marks = marks\n",
    "      \n",
    "    def __getitem__(self, item):\n",
    "        return self.marks[item]\n",
    "      \n",
    "igor = Student('Игорь', 'Николаев', [4,5,4,4,4,3,3,5])\n",
    "for i in igor: # Вариант итерации по __getitem__()\n",
    "    print(i, end=' | ')\n"
   ]
  },
  {
   "cell_type": "code",
   "execution_count": 113,
   "metadata": {},
   "outputs": [
    {
     "name": "stdout",
     "output_type": "stream",
     "text": [
      "call_iter\n",
      "V | a | n | y | a | "
     ]
    }
   ],
   "source": [
    "class Student():\n",
    "    def __init__(self, name, surname, marks):\n",
    "        self.name = name\n",
    "        self.surname = surname\n",
    "        self.marks = marks\n",
    "        \n",
    "    def __iter__(self):\n",
    "        print('call_iter')    \n",
    "        return iter(self.name)\n",
    "    \n",
    "vanya = Student('Vanya', 'Ivanov', [1,2,3,4,5])\n",
    "for i in vanya:\n",
    "    print(i, end=' | ')"
   ]
  },
  {
   "cell_type": "code",
   "execution_count": 122,
   "metadata": {},
   "outputs": [
    {
     "name": "stdout",
     "output_type": "stream",
     "text": [
      "call_iter\n",
      " next marks 1 |  next marks 2 |  next marks 3 |  next marks 4 |  next marks 5 | "
     ]
    }
   ],
   "source": [
    "class Student():\n",
    "    def __init__(self, name, surname, marks):\n",
    "        self.name = name\n",
    "        self.surname = surname\n",
    "        self.marks = marks\n",
    "        \n",
    "    def __iter__(self):\n",
    "        print('call_iter')\n",
    "        self.index = 0 # Создаем нулевой индекс  \n",
    "        return iter(self.marks)\n",
    "    \n",
    "    def __next__(self):\n",
    "        if self.index >= len(self.name):\n",
    "            raise StopIteration # Необходимо запустить исключение StopIteration\n",
    "        letter = self.name[self.index]\n",
    "        print(' next name ', end='')\n",
    "        self.index += 1 # смещаем индекс\n",
    "        return letter\n",
    "    \n",
    "    \n",
    "class Marks():\n",
    "    def __init__(self, marks):\n",
    "        self.marks = marks\n",
    "        self.index = 0\n",
    "        \n",
    "    def __iter__(self):\n",
    "        return self\n",
    "    \n",
    "    def __next__(self):\n",
    "        if self.index >= len(self.marks):\n",
    "            self.index = 0 # Обнуляем счетчик\n",
    "            raise StopIteration # Необходимо запустить исключение StopIteration\n",
    "        letter = self.marks[self.index]\n",
    "        print(' next marks ', end='')\n",
    "        self.index += 1 # смещаем индекс\n",
    "        return letter   \n",
    "     \n",
    "\n",
    "m = Marks([1,2,3,4,5])\n",
    "vanya = Student('Vanya', 'Ivanov', m)\n",
    "for i in vanya:\n",
    "    print(i, end=' | ')\n"
   ]
  },
  {
   "cell_type": "markdown",
   "metadata": {},
   "source": [
    "### Видео 25. Наследование"
   ]
  },
  {
   "cell_type": "code",
   "execution_count": 129,
   "metadata": {},
   "outputs": [
    {
     "name": "stdout",
     "output_type": "stream",
     "text": [
      "могу дышать\n",
      "могу лечить\n",
      "Является ли Doctor подклассом Person: True\n",
      "Является ли Person подклассом Doctor: False\n",
      "Явлется ли olya классом Doctor: True\n",
      "Явлется ли olya классом Person: True\n"
     ]
    }
   ],
   "source": [
    "class Person(): # parent\n",
    "    def can_breath(self):\n",
    "        print('могу дышать')\n",
    "        \n",
    "    def can_eat(self):\n",
    "        print('могу есть')\n",
    "        \n",
    "class Doctor(Person): # subclass\n",
    "    def can_heal(self):\n",
    "        print('могу лечить')\n",
    "        \n",
    "olya = Doctor()\n",
    "olya.can_breath()\n",
    "olya.can_heal()\n",
    "print('Является ли Doctor подклассом Person:', issubclass(Doctor, Person))\n",
    "print('Является ли Person подклассом Doctor:', issubclass(Person, Doctor))\n",
    "print('Явлется ли olya классом Doctor:', isinstance(olya, Doctor))\n",
    "print('Явлется ли olya классом Person:', isinstance(olya, Person))"
   ]
  },
  {
   "cell_type": "markdown",
   "metadata": {},
   "source": [
    "### Видео 26 Наследование от object и от других встроенных типов. object parent class Python\n"
   ]
  },
  {
   "cell_type": "code",
   "execution_count": 135,
   "metadata": {},
   "outputs": [
    {
     "name": "stdout",
     "output_type": "stream",
     "text": [
      "34  -  True\n",
      "int  -  True\n",
      "Любой объект является подклассом объекта -  True\n",
      "Является класс Person подклассом объекта True\n"
     ]
    }
   ],
   "source": [
    "# Проверяем, что любое значение представляет собой объект\n",
    "print(34, ' - ', isinstance(34, object))\n",
    "# При этом любой объект является классом\n",
    "print('int', ' - ', isinstance(int, object))\n",
    "# Проверяем что любой объект является подклассом объекта\n",
    "print('Любой объект является подклассом объекта - ', issubclass(dict, object))\n",
    "# Соответственно любой создаваемый объект наследуется от объекта\n",
    "print('Является класс Person подклассом объекта', issubclass(Person, object))\n",
    "# Соответственно запись создания класса примерно такая Person(object) "
   ]
  },
  {
   "cell_type": "code",
   "execution_count": 139,
   "metadata": {},
   "outputs": [
    {
     "name": "stdout",
     "output_type": "stream",
     "text": [
      "Захочешь посмотреть - закоментируй меня\n"
     ]
    }
   ],
   "source": [
    "# Для чего нам это великое знание... Смотрим методы object\n",
    "dir(object)\n",
    "dir(Person) # Смотрим что все тоже самое, кроме двух методов, которые назначили\n",
    "print('Захочешь посмотреть - закоментируй меня')"
   ]
  },
  {
   "cell_type": "code",
   "execution_count": 144,
   "metadata": {},
   "outputs": [
    {
     "name": "stdout",
     "output_type": "stream",
     "text": [
      "[]\n"
     ]
    },
    {
     "data": {
      "text/plain": [
       "False"
      ]
     },
     "execution_count": 144,
     "metadata": {},
     "output_type": "execute_result"
    }
   ],
   "source": [
    "class Mylistik(list):\n",
    "    pass\n",
    "\n",
    "# Наследуем list в своем классе\n",
    "t = Mylistik()\n",
    "print(t)\n",
    "issubclass(Mylistik, list)\n",
    "isinstance(Mylistik, list)"
   ]
  },
  {
   "cell_type": "markdown",
   "metadata": {},
   "source": [
    "### Видео 27 Наследование. Переопределение методов в Python. Method overriding in Python\n"
   ]
  },
  {
   "cell_type": "code",
   "execution_count": 185,
   "metadata": {},
   "outputs": [
    {
     "name": "stdout",
     "output_type": "stream",
     "text": [
      "Тут показана инициализация из одного и того же места:\n",
      "__init__ person\n",
      "__init__ person\n",
      "\n",
      " Метод один(walk), а из-за overridding'a(переназначения) результаты разные\n",
      "Гуляю\n",
      "Доктор гуляет\n",
      "\n",
      " Разное отображение из за метода __str__ у Doctor'a и его отсутствия у Person\n",
      "Person -  <__main__.Person object at 0x0000025A01223A00>\n",
      "Doctor -  Доктор - Иван\n",
      "\n",
      " Пример того что метод подменяется, даже если он вызывается родительским методом\n",
      "Доктор гуляет\n",
      "Zzz...\n"
     ]
    }
   ],
   "source": [
    "class Person(): # parent\n",
    "    def __init__(self, name):\n",
    "        print('__init__ person')\n",
    "        self.name = name\n",
    "        \n",
    "    def walk(self):\n",
    "        print('Гуляю')\n",
    "        \n",
    "    def sleep(self):\n",
    "        print('Zzz...')\n",
    "        \n",
    "    def combo(self):\n",
    "        self.walk()\n",
    "        self.sleep()\n",
    "        \n",
    "        \n",
    "class Doctor(Person): # subclass\n",
    "    name = 'ivan'\n",
    "    def walk(self):\n",
    "        print('Доктор гуляет')\n",
    "\n",
    "    def __repr__(self):\n",
    "        return f'Доктор - {self.name}'\n",
    "\n",
    "print('Тут показана инициализация из одного и того же места:')\n",
    "d = Doctor('Иван') \n",
    "p = Person('Петр') # Наследует __init__ у Doctor'a, т.к. своего нет\n",
    "print(\"\\n Метод один(walk), а из-за overridding'a(переназначения) результаты разные\")\n",
    "p.walk()\n",
    "d.walk()\n",
    "print(\"\\nРазное отображение из за метода __str__ у Doctor'a и его отсутствия у Person\")\n",
    "print('Person - ', p)\n",
    "print('Doctor - ', d)\n",
    "print('\\nПример того что метод подменяется, даже если он вызывается родительским методом')\n",
    "d.combo()"
   ]
  },
  {
   "cell_type": "markdown",
   "metadata": {},
   "source": [
    "### Видео 28. Наследование. Расширение класса в Python. Extending python class in Python"
   ]
  },
  {
   "cell_type": "code",
   "execution_count": 13,
   "metadata": {},
   "outputs": [
    {
     "name": "stdout",
     "output_type": "stream",
     "text": [
      "Доктор спит\n",
      "Док идет\n",
      "30\n"
     ]
    }
   ],
   "source": [
    "class Person():\n",
    "    def combo(self):\n",
    "        if hasattr(self, 'walk'): # Офигительная проверка, на наличие атрибута\n",
    "            self.walk()\n",
    "        if hasattr(self, 'age'):\n",
    "            print(self.age)\n",
    "        \n",
    "        \n",
    "class Doctor(Person):\n",
    "    def __init__(self):\n",
    "        self.age = 30\n",
    "\n",
    "    def sleep(self):\n",
    "        print('Доктор спит')\n",
    "    \n",
    "    def walk(self):\n",
    "        print('Док идет')\n",
    "        \n",
    "person = Person()\n",
    "doctor = Doctor()\n",
    "doctor.sleep()\n",
    "doctor.combo()\n",
    "# person.sleep() Ошибка т.к. его нет у Person"
   ]
  },
  {
   "cell_type": "markdown",
   "metadata": {},
   "source": [
    "### Видео 29. Делегирование. Функция super(). Delegating methods in Python"
   ]
  },
  {
   "cell_type": "code",
   "execution_count": 24,
   "metadata": {},
   "outputs": [
    {
     "name": "stdout",
     "output_type": "stream",
     "text": [
      "Кристина Кочи - 32 лет\n",
      "type - <class '__main__.Doctor'>\n"
     ]
    }
   ],
   "source": [
    "# Мы хоти чтоб при breath() у доктора, вызывался сначала метод Doctor(), потом метод Person()\n",
    "class Person():\n",
    "    def __init__(self, name, surname):\n",
    "        self.name = name\n",
    "        self.surname = surname\n",
    "      \n",
    "    def __str__(self):\n",
    "        return f'type - {type(self)}'\n",
    "    \n",
    "    def breath(self):\n",
    "        print('человек дышит')\n",
    "        \n",
    "class Doctor(Person):\n",
    "    def __init__(self, name, surname, age):\n",
    "        super().__init__(name, surname)\n",
    "        self.age = age\n",
    "      \n",
    "    # def __str__(self):\n",
    "    #     return f'Person - {self.name} | {self.surname}'\n",
    "    \n",
    "    def breath(self): # overriding (переопределнный метод)\n",
    "        print('доктор дышит')\n",
    "        super().breath() # обращаемся к родительскому классу\n",
    "        \n",
    "    @property\n",
    "    def info(self):\n",
    "        return f'{self.name} {self.surname} - {self.age} лет'\n",
    "        \n",
    "per = Person('Василий', 'Овчинников')\n",
    "doc = Doctor('Кристина', 'Кочи', 32)\n",
    "print(doc.info)\n",
    "print(doc)"
   ]
  },
  {
   "cell_type": "markdown",
   "metadata": {},
   "source": [
    "### Множественное наследование. Multiple inheritance"
   ]
  },
  {
   "cell_type": "code",
   "execution_count": 33,
   "metadata": {},
   "outputs": [
    {
     "name": "stdout",
     "output_type": "stream",
     "text": [
      "Могу лечить\n",
      "Могу строить но не очень (доктор)\n"
     ]
    }
   ],
   "source": [
    "class Doctor():\n",
    "    def can_heal(self):\n",
    "        print('Могу лечить')\n",
    "        \n",
    "    def can_build(self):\n",
    "        print('Могу строить но не очень (доктор)')\n",
    "        \n",
    "class Builder():\n",
    "    def can_build(self):\n",
    "        print('Могу строить')\n",
    "\n",
    "class Megomuzhik(Doctor, Builder): # Важно что в первую очедь возьмет из Doctor()\n",
    "    pass\n",
    "    # def can_build(self):\n",
    "    #     print('Человек тоже строит')\n",
    "\n",
    "mego = Megomuzhik()\n",
    "mego.can_heal()\n",
    "mego.can_build()"
   ]
  },
  {
   "cell_type": "markdown",
   "metadata": {},
   "source": [
    "`MRO` - Method resolution oder (Метод поиска методов в python)"
   ]
  },
  {
   "cell_type": "code",
   "execution_count": 35,
   "metadata": {},
   "outputs": [
    {
     "name": "stdout",
     "output_type": "stream",
     "text": [
      "(<class '__main__.Megomuzhik'>, <class '__main__.Doctor'>, <class '__main__.Builder'>, <class 'object'>)\n"
     ]
    }
   ],
   "source": [
    "print(Megomuzhik.__mro__) # Выведет на экран в каком порядке будет искать"
   ]
  },
  {
   "cell_type": "markdown",
   "metadata": {},
   "source": [
    "#### Делегирование при множественном наследовании"
   ]
  },
  {
   "cell_type": "code",
   "execution_count": 42,
   "metadata": {},
   "outputs": [
    {
     "name": "stdout",
     "output_type": "stream",
     "text": [
      "Посмотрим кем я стал\n",
      "Ура, я отучился на доктора\n",
      "Я отучился на строителя\n",
      "Научная степень - Гений | Ранг - 2\n"
     ]
    }
   ],
   "source": [
    "class Doctor():\n",
    "    def __init__(self, degree):\n",
    "        self.degree = degree # Ученая степень\n",
    "        \n",
    "    def graduate(self):\n",
    "        print('Ура, я отучился на доктора')\n",
    "        \n",
    "    def can_build(self):\n",
    "        print('Я доктор, я тоже умею строить')\n",
    "        \n",
    "class Builder():\n",
    "    def __init__(self, rank):\n",
    "        self.rank = rank\n",
    "        \n",
    "    def graduate(self):\n",
    "        print('Я отучился на строителя')\n",
    "    \n",
    "    def can_build(self):\n",
    "        print('Строитель, умею строить')\n",
    "        \n",
    "class Person(Doctor, Builder):\n",
    "    def __init__(self, degree, rank):\n",
    "        super().__init__(degree)\n",
    "        Builder.__init__(self, rank)\n",
    "        \n",
    "    def graduate(self):\n",
    "        print('Посмотрим кем я стал')\n",
    "        super().graduate() # Рандомно вызывем Doctor(т.к. первый родитель(см __mro__))\n",
    "        Builder.graduate(self) # Для вызова graduate у Builder\n",
    "        \n",
    "    def __str__(self):\n",
    "        return f'Научная степень - {self.degree} | Ранг - {self.rank}'\n",
    "        \n",
    "        \n",
    "example = Person('Гений', 2)\n",
    "example.graduate()\n",
    "Person.__mro__\n",
    "print(example)        \n",
    "\n",
    "\n"
   ]
  },
  {
   "cell_type": "markdown",
   "metadata": {},
   "source": [
    "### Видео 32 Slots. `__slots__`. Ограничение атрибутов\n"
   ]
  },
  {
   "cell_type": "code",
   "execution_count": 63,
   "metadata": {},
   "outputs": [
    {
     "name": "stdout",
     "output_type": "stream",
     "text": [
      "{'x': 1, 'y': 2}\n",
      "2\n"
     ]
    }
   ],
   "source": [
    "class Point():\n",
    "    def __init__(self, x, y):\n",
    "        self.x = x\n",
    "        self.y = y\n",
    "     \n",
    "p1 = Point(1,2)\n",
    "print(p1.__dict__)\n",
    "p1.jopa = 2 # Создаем атрибут с бухты барахты\n",
    "print(p1.jopa) # Он реально создался...\n",
    "p1.__dict__\n",
    "del p1.jopa"
   ]
  },
  {
   "cell_type": "code",
   "execution_count": 65,
   "metadata": {},
   "outputs": [],
   "source": [
    "class PointSlats():\n",
    "    __slots__ = ('x', 'y') # Пишем коллекцию с допустимыми названиями атрибутов\n",
    "    def __init__(self, x, y):\n",
    "        self.x = x\n",
    "        self.y = y\n",
    "        \n",
    "p2 = PointSlats(5,6)\n",
    "# p2.jopa = 3 # Теперь выдаст ошибку...\n",
    "# p2.__dict__ # Теперь выдает ошибку на маг. переменную __dict__\n",
    "      "
   ]
  },
  {
   "cell_type": "markdown",
   "metadata": {},
   "source": [
    "Зачем нам `__slots__` нужен:\n",
    "- Ограничение на создание атрибутов\n",
    "- При использовании наши объекты занимают меньше памяти\n",
    "- Объекты у которых есть `__slots__` выполняются гораздо быстрее"
   ]
  },
  {
   "cell_type": "code",
   "execution_count": 74,
   "metadata": {},
   "outputs": [
    {
     "name": "stdout",
     "output_type": "stream",
     "text": [
      "размер <class '__main__.Point'> - 32, размер словаря - 216\n",
      "размер <class '__main__.PointSlats'> - 32, размер __slots__ - 40\n"
     ]
    }
   ],
   "source": [
    "# Проверка по памяти\n",
    "p1 = Point(1,2)\n",
    "p2 = PointSlats(1,2)\n",
    "print(f'размер {type(p1)} - {p1.__sizeof__()}, размер словаря - {p1.__dict__.__sizeof__()}')\n",
    "print(f'размер {type(p2)} - {p2.__sizeof__()}, размер __slots__ - {p2.__slots__.__sizeof__()}')\n"
   ]
  },
  {
   "cell_type": "code",
   "execution_count": 87,
   "metadata": {},
   "outputs": [
    {
     "name": "stdout",
     "output_type": "stream",
     "text": [
      "0.9321985999122262\n",
      "0.5708970000268891\n"
     ]
    }
   ],
   "source": [
    "# Проверка по скорости\n",
    "from timeit import timeit\n",
    "\n",
    "def make_point_without():\n",
    "    a = Point(1,1)\n",
    "    a.x = 100\n",
    "    a.x\n",
    "    del a.x\n",
    "\n",
    "def make_point_with_slats():\n",
    "    a = PointSlats(1,1)\n",
    "    a.x = 100\n",
    "    a.x\n",
    "    del a.x\n",
    "    \n",
    "\n",
    "print(timeit(make_point_without))\n",
    "print(timeit(make_point_with_slats))"
   ]
  },
  {
   "cell_type": "markdown",
   "metadata": {},
   "source": [
    "### Видео 33. `__slots__` свойства и наследование в Python. Slots Property Inheritance"
   ]
  },
  {
   "cell_type": "code",
   "execution_count": 25,
   "metadata": {},
   "outputs": [
    {
     "name": "stdout",
     "output_type": "stream",
     "text": [
      "setter called\n",
      "setter called\n"
     ]
    },
    {
     "data": {
      "text/plain": [
       "15"
      ]
     },
     "execution_count": 25,
     "metadata": {},
     "output_type": "execute_result"
    }
   ],
   "source": [
    "class Rectangle():\n",
    "    __slots__ = ('__width', 'height')\n",
    "    \n",
    "    def __init__(self, __width, height):\n",
    "        self.width = __width # Без защиты(здесь вызываем сеттер)!!!\n",
    "        self.height = height\n",
    "\n",
    "    @property\n",
    "    def perimetr(self):\n",
    "        return (self.__width + self.height)*2\n",
    "\n",
    "    @property\n",
    "    def width(self):\n",
    "        return self.__width\n",
    "    \n",
    "    @width.setter\n",
    "    def width(self, new_value):\n",
    "        print('setter called') \n",
    "        self.__width = new_value\n",
    "    \n",
    "\n",
    "rect = Rectangle(3,2)\n",
    "rect.width = 15\n",
    "rect.width\n",
    "rect._Rectangle__width # Способ достучаться до защищенной переменной"
   ]
  },
  {
   "cell_type": "code",
   "execution_count": 26,
   "metadata": {},
   "outputs": [
    {
     "name": "stdout",
     "output_type": "stream",
     "text": [
      "setter called\n"
     ]
    },
    {
     "data": {
      "text/plain": [
       "{}"
      ]
     },
     "execution_count": 26,
     "metadata": {},
     "output_type": "execute_result"
    }
   ],
   "source": [
    "# Наследование __slots__\n",
    "class Square(Rectangle):\n",
    "    pass\n",
    "\n",
    "sqr = Square(5,2)\n",
    "sqr.__dict__ # Внимание! Есть!"
   ]
  },
  {
   "cell_type": "code",
   "execution_count": 27,
   "metadata": {},
   "outputs": [
    {
     "name": "stdout",
     "output_type": "stream",
     "text": [
      "setter called\n"
     ]
    }
   ],
   "source": [
    "class Square(Rectangle):\n",
    "    __slots__ = 'color' # Вообщем допустимо сделать пустым.\n",
    "    def __init__(self, size, color):\n",
    "        super().__init__(size,size)\n",
    "        self.color = color\n",
    "\n",
    "    # @property\n",
    "    # def size(self):\n",
    "    #     return self.size\n",
    "    \n",
    "sqr = Square(5, 'blue')\n",
    "# sqr.new_val = 1 # Теперь нельзя использовать, __clots__ расширился. "
   ]
  },
  {
   "cell_type": "markdown",
   "metadata": {},
   "source": [
    "### Видео 34. Исключения"
   ]
  },
  {
   "cell_type": "code",
   "execution_count": 34,
   "metadata": {},
   "outputs": [
    {
     "name": "stdout",
     "output_type": "stream",
     "text": [
      "неправильное преобразование\n"
     ]
    }
   ],
   "source": [
    "try:\n",
    "    int('hello')\n",
    "except ValueError: # Говорим какое исключение долбавляем.\n",
    "    print('неправильное преобразование')"
   ]
  },
  {
   "cell_type": "markdown",
   "metadata": {},
   "source": [
    "### Видео 35. Распространение исключений"
   ]
  },
  {
   "cell_type": "code",
   "execution_count": 40,
   "metadata": {},
   "outputs": [
    {
     "name": "stdout",
     "output_type": "stream",
     "text": [
      "hello\n",
      "Start foo\n",
      "start bar\n"
     ]
    },
    {
     "ename": "ZeroDivisionError",
     "evalue": "division by zero",
     "output_type": "error",
     "traceback": [
      "\u001b[1;31m---------------------------------------------------------------------------\u001b[0m",
      "\u001b[1;31mZeroDivisionError\u001b[0m                         Traceback (most recent call last)",
      "\u001b[1;32m~\\AppData\\Local\\Temp/ipykernel_948/3549550085.py\u001b[0m in \u001b[0;36m<module>\u001b[1;34m\u001b[0m\n\u001b[0;32m     10\u001b[0m \u001b[1;33m\u001b[0m\u001b[0m\n\u001b[0;32m     11\u001b[0m \u001b[0mprint\u001b[0m\u001b[1;33m(\u001b[0m\u001b[1;34m'hello'\u001b[0m\u001b[1;33m)\u001b[0m\u001b[1;33m\u001b[0m\u001b[1;33m\u001b[0m\u001b[0m\n\u001b[1;32m---> 12\u001b[1;33m \u001b[0mfoo\u001b[0m\u001b[1;33m(\u001b[0m\u001b[1;33m)\u001b[0m\u001b[1;33m\u001b[0m\u001b[1;33m\u001b[0m\u001b[0m\n\u001b[0m\u001b[0;32m     13\u001b[0m \u001b[1;31m### ошибка возвращается по маршруту 1/0 -> bar() -> foo() -> main. По всему стэку.\u001b[0m\u001b[1;33m\u001b[0m\u001b[1;33m\u001b[0m\u001b[0m\n",
      "\u001b[1;32m~\\AppData\\Local\\Temp/ipykernel_948/3549550085.py\u001b[0m in \u001b[0;36mfoo\u001b[1;34m()\u001b[0m\n\u001b[0;32m      6\u001b[0m \u001b[1;32mdef\u001b[0m \u001b[0mfoo\u001b[0m\u001b[1;33m(\u001b[0m\u001b[1;33m)\u001b[0m\u001b[1;33m:\u001b[0m\u001b[1;33m\u001b[0m\u001b[1;33m\u001b[0m\u001b[0m\n\u001b[0;32m      7\u001b[0m     \u001b[0mprint\u001b[0m\u001b[1;33m(\u001b[0m\u001b[1;34m'Start foo'\u001b[0m\u001b[1;33m)\u001b[0m\u001b[1;33m\u001b[0m\u001b[1;33m\u001b[0m\u001b[0m\n\u001b[1;32m----> 8\u001b[1;33m     \u001b[0mbar\u001b[0m\u001b[1;33m(\u001b[0m\u001b[1;33m)\u001b[0m\u001b[1;33m\u001b[0m\u001b[1;33m\u001b[0m\u001b[0m\n\u001b[0m\u001b[0;32m      9\u001b[0m     \u001b[0mprint\u001b[0m\u001b[1;33m(\u001b[0m\u001b[1;34m'Finish foo'\u001b[0m\u001b[1;33m)\u001b[0m\u001b[1;33m\u001b[0m\u001b[1;33m\u001b[0m\u001b[0m\n\u001b[0;32m     10\u001b[0m \u001b[1;33m\u001b[0m\u001b[0m\n",
      "\u001b[1;32m~\\AppData\\Local\\Temp/ipykernel_948/3549550085.py\u001b[0m in \u001b[0;36mbar\u001b[1;34m()\u001b[0m\n\u001b[0;32m      1\u001b[0m \u001b[1;32mdef\u001b[0m \u001b[0mbar\u001b[0m\u001b[1;33m(\u001b[0m\u001b[1;33m)\u001b[0m\u001b[1;33m:\u001b[0m\u001b[1;33m\u001b[0m\u001b[1;33m\u001b[0m\u001b[0m\n\u001b[0;32m      2\u001b[0m     \u001b[0mprint\u001b[0m\u001b[1;33m(\u001b[0m\u001b[1;34m'start bar'\u001b[0m\u001b[1;33m)\u001b[0m\u001b[1;33m\u001b[0m\u001b[1;33m\u001b[0m\u001b[0m\n\u001b[1;32m----> 3\u001b[1;33m     \u001b[1;36m1\u001b[0m\u001b[1;33m/\u001b[0m\u001b[1;36m0\u001b[0m\u001b[1;33m\u001b[0m\u001b[1;33m\u001b[0m\u001b[0m\n\u001b[0m\u001b[0;32m      4\u001b[0m     \u001b[0mprint\u001b[0m\u001b[1;33m(\u001b[0m\u001b[1;34m'finish bar'\u001b[0m\u001b[1;33m)\u001b[0m\u001b[1;33m\u001b[0m\u001b[1;33m\u001b[0m\u001b[0m\n\u001b[0;32m      5\u001b[0m \u001b[1;33m\u001b[0m\u001b[0m\n",
      "\u001b[1;31mZeroDivisionError\u001b[0m: division by zero"
     ]
    }
   ],
   "source": [
    "def bar():\n",
    "    print('start bar')\n",
    "    1/0\n",
    "    print('finish bar')\n",
    "\n",
    "def foo():\n",
    "    print('Start foo')\n",
    "    bar()\n",
    "    print('Finish foo')\n",
    "    \n",
    "print('hello')\n",
    "foo()\n",
    "### ошибка возвращается по маршруту 1/0 -> bar() -> foo() -> main. По всему стэку."
   ]
  },
  {
   "cell_type": "markdown",
   "metadata": {},
   "source": [
    "### Видео 36. Обработка исключений `Try Except Finally`"
   ]
  },
  {
   "cell_type": "markdown",
   "metadata": {},
   "source": [
    "`finally` использовать при при открытие файла, чтоб в любом случае закрылся f.close()  \n",
    "`else` нельзя использовать без `except`\n",
    "Пример записи с несколькими вариантом ошибок:\n",
    "</div>\n",
    "\n",
    "```python\n",
    "try: \n",
    "    1/0\n",
    "except (KeyError, ValueError) as e:\n",
    "    print(f'ошибка {repr(e)}')\n",
    "except ZeroDivisionError: # except может быть сколько угодно и указывать разные ошибки\n",
    "    print('Была попытка поделить на ноль')\n",
    "else: \n",
    "    print('Ошибок не было') # Отработает если в try нет исключений\n",
    "finally:\n",
    "    file.close()\n",
    "    print('After try-except block') # Отработает после вывода ошибки\n",
    "```"
   ]
  },
  {
   "cell_type": "code",
   "execution_count": 46,
   "metadata": {},
   "outputs": [
    {
     "name": "stdout",
     "output_type": "stream",
     "text": [
      "ошибка имени\n"
     ]
    }
   ],
   "source": [
    "try:\n",
    "    o+n\n",
    "    1/0\n",
    "    int('hello')\n",
    "except ValueError:\n",
    "    print('hello обработан')\n",
    "except ZeroDivisionError: # можно несколько нулей на разные типы ошибок...\n",
    "    print('ноль обработан')\n",
    "except NameError:\n",
    "    print('ошибка имени')\n",
    "        \n"
   ]
  },
  {
   "cell_type": "code",
   "execution_count": 54,
   "metadata": {},
   "outputs": [
    {
     "name": "stdout",
     "output_type": "stream",
     "text": [
      "отловили ошибку IndexError\n",
      "отловили родительскую ошибку LookupError\n",
      "Любую ошибку отловили\n",
      "Любую ошибку отловили, через Exception\n",
      "IndexError('string index out of range')\n",
      "string index out of range\n",
      "Опять обработали\n",
      "end after finally\n"
     ]
    }
   ],
   "source": [
    "s = 'hello'\n",
    "try:\n",
    "    s[6]\n",
    "except IndexError:\n",
    "    print('отловили ошибку IndexError')\n",
    "    \n",
    "try:\n",
    "    s[6]\n",
    "except LookupError: # Но теперь будут и попадать ошибки dict[key]\n",
    "    print('отловили родительскую ошибку LookupError')\n",
    "    \n",
    "try:\n",
    "    s[6]\n",
    "except: # Теперь ловим все исключения без разбора\n",
    "    print('Любую ошибку отловили')\n",
    "\n",
    "try:\n",
    "    s[6]\n",
    "except Exception as e: # Теперь ловим все исключения без разбора\n",
    "    print('Любую ошибку отловили, через Exception')\n",
    "    print(repr(e)) # Заодно вывели что за ошибка\n",
    "    print(e)\n",
    "try:\n",
    "    s[6]\n",
    "except Exception:\n",
    "    print('Опять обработали')\n",
    "finally: \n",
    "    print('end after finally')\n"
   ]
  },
  {
   "cell_type": "markdown",
   "metadata": {},
   "source": [
    "### Видео 37. Инструкция `raise`. Вызов исключений."
   ]
  },
  {
   "cell_type": "markdown",
   "metadata": {},
   "source": [
    "Все ошибки должны быть наследованы от класса `Exception`"
   ]
  },
  {
   "cell_type": "code",
   "execution_count": 59,
   "metadata": {},
   "outputs": [],
   "source": [
    "# raise Exception('Ну вот мы сделали просто ошибку')"
   ]
  },
  {
   "cell_type": "code",
   "execution_count": 62,
   "metadata": {},
   "outputs": [],
   "source": [
    "# raise TypeError('Ошибка типа', 1,2,3,4)"
   ]
  },
  {
   "cell_type": "code",
   "execution_count": 73,
   "metadata": {},
   "outputs": [
    {
     "name": "stdout",
     "output_type": "stream",
     "text": [
      "Logging error : ZeroDivisionError('division by zero')\n",
      "\n",
      "Обрати внимание на следующий текст:\n",
      "**During handling of the above exception, another exception occurred:**!!!!!!!!!!\n",
      "перевод: В момент обработки исключения произошло еще одно исключение\n"
     ]
    },
    {
     "ename": "TypeError",
     "evalue": "Ошибка типа",
     "output_type": "error",
     "traceback": [
      "\u001b[1;31m---------------------------------------------------------------------------\u001b[0m",
      "\u001b[1;31mZeroDivisionError\u001b[0m                         Traceback (most recent call last)",
      "\u001b[1;32m~\\AppData\\Local\\Temp/ipykernel_948/2219849580.py\u001b[0m in \u001b[0;36m<module>\u001b[1;34m\u001b[0m\n\u001b[0;32m      3\u001b[0m \u001b[1;32mtry\u001b[0m\u001b[1;33m:\u001b[0m\u001b[1;33m\u001b[0m\u001b[1;33m\u001b[0m\u001b[0m\n\u001b[1;32m----> 4\u001b[1;33m     \u001b[1;36m1\u001b[0m\u001b[1;33m/\u001b[0m\u001b[1;36m0\u001b[0m\u001b[1;33m\u001b[0m\u001b[1;33m\u001b[0m\u001b[0m\n\u001b[0m\u001b[0;32m      5\u001b[0m \u001b[1;32mexcept\u001b[0m \u001b[0mZeroDivisionError\u001b[0m \u001b[1;32mas\u001b[0m \u001b[0merror\u001b[0m\u001b[1;33m:\u001b[0m\u001b[1;33m\u001b[0m\u001b[1;33m\u001b[0m\u001b[0m\n",
      "\u001b[1;31mZeroDivisionError\u001b[0m: division by zero",
      "\nDuring handling of the above exception, another exception occurred:\n",
      "\u001b[1;31mTypeError\u001b[0m                                 Traceback (most recent call last)",
      "\u001b[1;32m~\\AppData\\Local\\Temp/ipykernel_948/2219849580.py\u001b[0m in \u001b[0;36m<module>\u001b[1;34m\u001b[0m\n\u001b[0;32m      5\u001b[0m \u001b[1;32mexcept\u001b[0m \u001b[0mZeroDivisionError\u001b[0m \u001b[1;32mas\u001b[0m \u001b[0merror\u001b[0m\u001b[1;33m:\u001b[0m\u001b[1;33m\u001b[0m\u001b[1;33m\u001b[0m\u001b[0m\n\u001b[0;32m      6\u001b[0m     \u001b[0mprint\u001b[0m\u001b[1;33m(\u001b[0m\u001b[1;34mf'Logging error : {repr(error)}'\u001b[0m\u001b[1;33m)\u001b[0m\u001b[1;33m\u001b[0m\u001b[1;33m\u001b[0m\u001b[0m\n\u001b[1;32m----> 7\u001b[1;33m     \u001b[1;32mraise\u001b[0m \u001b[0mTypeError\u001b[0m\u001b[1;33m(\u001b[0m\u001b[1;34m'Ошибка типа'\u001b[0m\u001b[1;33m)\u001b[0m\u001b[1;33m\u001b[0m\u001b[1;33m\u001b[0m\u001b[0m\n\u001b[0m\u001b[0;32m      8\u001b[0m \u001b[1;32mfinally\u001b[0m\u001b[1;33m:\u001b[0m\u001b[1;33m\u001b[0m\u001b[1;33m\u001b[0m\u001b[0m\n\u001b[0;32m      9\u001b[0m     print('''\\nОбрати внимание на следующий текст:\n",
      "\u001b[1;31mTypeError\u001b[0m: Ошибка типа"
     ]
    }
   ],
   "source": [
    "# При такой констукции выводится весь стэк ошибок... Не смотря на то что ZeroDivisionError обрабатывается, все равно \n",
    "# после raise TypeError, он выводит и TypeError и ZeroDivisoinError\n",
    "try:\n",
    "    1/0\n",
    "except ZeroDivisionError as error:\n",
    "    print(f'Logging error : {repr(error)}')\n",
    "    raise TypeError('Ошибка типа') # можно дописать from None чтоб не выводить сообщение про обработку ZeroDivision\n",
    "finally:\n",
    "    print('''\\nОбрати внимание на следующий текст:\n",
    "**During handling of the above exception, another exception occurred:**!!!!!!!!!!\n",
    "перевод: В момент обработки исключения произошло еще одно исключение''')"
   ]
  },
  {
   "cell_type": "code",
   "execution_count": 80,
   "metadata": {},
   "outputs": [
    {
     "name": "stdout",
     "output_type": "stream",
     "text": [
      "ok\n",
      "finally\n"
     ]
    }
   ],
   "source": [
    "try:\n",
    "    # raise ValueError('ошибка типа')\n",
    "    print('ok') # Закомментил raise, иначе дальше все серое\n",
    "except ValueError as first_error:\n",
    "    try:\n",
    "        raise TypeError\n",
    "    except TypeError as second_error:\n",
    "        raise Exception('большое исключение') from first_error\n",
    "finally:\n",
    "    print('finally')\n",
    "        "
   ]
  },
  {
   "cell_type": "markdown",
   "metadata": {},
   "source": [
    "###  Пользовательские исключения"
   ]
  },
  {
   "cell_type": "code",
   "execution_count": 94,
   "metadata": {},
   "outputs": [
    {
     "name": "stdout",
     "output_type": "stream",
     "text": [
      "done\n",
      "__str__ called\n"
     ]
    },
    {
     "ename": "MyException",
     "evalue": "MyException - empty",
     "output_type": "error",
     "traceback": [
      "\u001b[1;31m---------------------------------------------------------------------------\u001b[0m",
      "\u001b[1;31mMyException\u001b[0m                               Traceback (most recent call last)",
      "\u001b[1;32m~\\AppData\\Local\\Temp/ipykernel_948/1064175649.py\u001b[0m in \u001b[0;36m<module>\u001b[1;34m\u001b[0m\n\u001b[0;32m     21\u001b[0m \u001b[1;33m\u001b[0m\u001b[0m\n\u001b[0;32m     22\u001b[0m \u001b[0mMyException\u001b[0m\u001b[1;33m.\u001b[0m\u001b[0m__mro__\u001b[0m \u001b[1;31m# Смотрю ветку насследования\u001b[0m\u001b[1;33m\u001b[0m\u001b[1;33m\u001b[0m\u001b[0m\n\u001b[1;32m---> 23\u001b[1;33m \u001b[1;32mraise\u001b[0m \u001b[0mMyException\u001b[0m\u001b[1;33m\u001b[0m\u001b[1;33m\u001b[0m\u001b[0m\n\u001b[0m",
      "\u001b[1;31mMyException\u001b[0m: MyException - empty"
     ]
    },
    {
     "name": "stdout",
     "output_type": "stream",
     "text": [
      "__str__ called\n",
      "__str__ called\n"
     ]
    }
   ],
   "source": [
    "class MyException(Exception):\n",
    "    '''This is my first Exception'''\n",
    "    def __init__(self, *args):\n",
    "        if args:\n",
    "            self.message = args[0]\n",
    "        else:\n",
    "            self.message = None\n",
    "            \n",
    "    def __str__(self):\n",
    "        print('__str__ called')\n",
    "        if self.message:\n",
    "            return f'MyException - {self.message}'\n",
    "        return 'MyException - empty'\n",
    "\n",
    "\n",
    "# raise MyException('hello') # Выдаст свою ошибку\n",
    "try:\n",
    "    raise MyException('hello', 1,2,3)\n",
    "except MyException:\n",
    "    print('done')\n",
    "\n",
    "MyException.__mro__ # Смотрю ветку насследования\n",
    "raise MyException\n"
   ]
  },
  {
   "cell_type": "code",
   "execution_count": null,
   "metadata": {},
   "outputs": [],
   "source": []
  }
 ],
 "metadata": {
  "interpreter": {
   "hash": "b1a8b63bdf27559490c16144d51d3a6902ecbd7b7872de05b273d065c9a99ab9"
  },
  "kernelspec": {
   "display_name": "Python 3.10.0 64-bit",
   "language": "python",
   "name": "python3"
  },
  "language_info": {
   "codemirror_mode": {
    "name": "ipython",
    "version": 3
   },
   "file_extension": ".py",
   "mimetype": "text/x-python",
   "name": "python",
   "nbconvert_exporter": "python",
   "pygments_lexer": "ipython3",
   "version": "3.10.4"
  },
  "orig_nbformat": 4
 },
 "nbformat": 4,
 "nbformat_minor": 2
}
