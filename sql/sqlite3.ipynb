{
 "cells": [
  {
   "cell_type": "markdown",
   "metadata": {},
   "source": [
    "## SQLite3"
   ]
  },
  {
   "cell_type": "markdown",
   "metadata": {},
   "source": [
    "`rowid` - создается автоматически!"
   ]
  },
  {
   "cell_type": "code",
   "execution_count": null,
   "metadata": {},
   "outputs": [],
   "source": [
    "import sqlite3\n",
    "# Первым делом подключаемся(если бд нет - создасться)\n",
    "db = sqlite3.connect('test.db')\n",
    "\n",
    "# Создаем курсор\n",
    "cursor = db.cursor()\n",
    "\n",
    "# С помощью .execute() выполняются основные команды \n",
    "cursor.execute('''CREATE TABLE IF NOT EXISTS hello_world(\n",
    "    name TEXT(50),\n",
    "    description TEXT(50) '''))\n",
    "\n",
    "# Вставка значений\n",
    "cursor.execute('''INSERT INTO hello_world(name, descripiton) \n",
    "               VALUES ('название', 'описание)''')\n",
    "\n",
    "# Получение значений\n",
    "cursor.execute('''SELECT * FROM hello_world''')\n",
    "\n",
    "# Запись полученных значений\n",
    "values = cursor.fetchall()\n",
    "# >> [('название', 'описание')]\n",
    "\n",
    "# fetchmany - выбирает только столько записей, сколько передано(в данном случае - 3)\n",
    "values = cursor.fetchmany(3)\n",
    "\n",
    "# fetchone - выбирает только одну запись\n",
    "value = cursor.fetchone()\n"
   ]
  },
  {
   "cell_type": "markdown",
   "metadata": {},
   "source": [
    "### Удаление данных"
   ]
  },
  {
   "cell_type": "code",
   "execution_count": null,
   "metadata": {},
   "outputs": [],
   "source": [
    "# Удаление всех записей\n",
    "cursor.execute(''' DELETE FROM articles''')\n",
    "\n",
    "# Удаление по условию\n",
    "cursor.execute(''' DELETE FROM articles WHERE rowid=1''')\n"
   ]
  },
  {
   "cell_type": "markdown",
   "metadata": {},
   "source": [
    "### Изменение данных"
   ]
  },
  {
   "cell_type": "code",
   "execution_count": null,
   "metadata": {},
   "outputs": [],
   "source": [
    "cursor.execute('''UPDATE table SET (\n",
    "    name = 'hello_2',\n",
    "    description = 'hello_3')\n",
    "    WHERE rowid = 5''')\n"
   ]
  },
  {
   "cell_type": "markdown",
   "metadata": {},
   "source": [
    "### Связь таблиц"
   ]
  },
  {
   "cell_type": "code",
   "execution_count": null,
   "metadata": {},
   "outputs": [],
   "source": [
    "# Первоначально внешние ключи отключены в бд, надо их включить\n",
    "cursor.execute('''PRAGMA foreign_keys=on;''')\n",
    "\n",
    "# Создаем родительскую таблицу\n",
    "cursor.execute('''\n",
    "               CREATE TABLE product(\n",
    "                   name TEXT,\n",
    "                   price INTEGER CHECK (price > 0),\n",
    "                   category_id INTEGER,\n",
    "                   FOREIGN KEY (category_id) REFERENCES category(rowid),)\n",
    "               ''')\n",
    "# Создаем дочернию таблицу\n",
    "cursor.execute('''\n",
    "               CREATE TABLE category(\n",
    "                   name TEXT NOT NULL,\n",
    "               ''')\n"
   ]
  },
  {
   "cell_type": "code",
   "execution_count": null,
   "metadata": {},
   "outputs": [],
   "source": [
    "\n"
   ]
  },
  {
   "cell_type": "markdown",
   "metadata": {},
   "source": [
    "### Возвращение значения"
   ]
  },
  {
   "cell_type": "markdown",
   "metadata": {},
   "source": [
    "```SQL\n",
    "insert into t(a, b) values('x', 'y') returning id\n",
    "update t set a = a * 2 where b < 10 returning a, b as c\n"
   ]
  },
  {
   "cell_type": "markdown",
   "metadata": {},
   "source": [
    "### Переименование и удаление колонки"
   ]
  },
  {
   "cell_type": "markdown",
   "metadata": {},
   "source": [
    "```SQL\n",
    "-- переименовать\n",
    "alter table tbl1 rename column a to b;\n",
    "-- удалить \n",
    "alter table tbl1 drop column a;"
   ]
  },
  {
   "cell_type": "markdown",
   "metadata": {},
   "source": [
    "### Добавление столбца"
   ]
  },
  {
   "cell_type": "markdown",
   "metadata": {},
   "source": [
    "```SQL\n",
    "ALTER TABLE table_name ADD COLUMN column_name TYPE;\n"
   ]
  },
  {
   "cell_type": "markdown",
   "metadata": {},
   "source": []
  },
  {
   "cell_type": "markdown",
   "metadata": {},
   "source": [
    "## MySQL"
   ]
  },
  {
   "cell_type": "markdown",
   "metadata": {},
   "source": [
    "Команды для командной строки\n",
    "```bash\n",
    "# Запуск бд\n",
    "sudo service mysql start\n",
    "# Проверка включена ли бд\n",
    "sudo systemctl status mysql\n",
    "# \n",
    "sudo service ssh start\n",
    "```"
   ]
  },
  {
   "cell_type": "markdown",
   "metadata": {},
   "source": []
  }
 ],
 "metadata": {
  "interpreter": {
   "hash": "97cc609b13305c559618ec78a438abc56230b9381f827f22d070313b9a1f3777"
  },
  "kernelspec": {
   "display_name": "Python 3.10.4 64-bit",
   "language": "python",
   "name": "python3"
  },
  "language_info": {
   "codemirror_mode": {
    "name": "ipython",
    "version": 3
   },
   "file_extension": ".py",
   "mimetype": "text/x-python",
   "name": "python",
   "nbconvert_exporter": "python",
   "pygments_lexer": "ipython3",
   "version": "3.10.4"
  },
  "orig_nbformat": 4
 },
 "nbformat": 4,
 "nbformat_minor": 2
}
